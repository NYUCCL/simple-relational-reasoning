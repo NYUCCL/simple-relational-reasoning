{
 "cells": [
  {
   "cell_type": "code",
   "execution_count": 1,
   "metadata": {},
   "outputs": [],
   "source": [
    "%load_ext autoreload\n",
    "%autoreload 2\n",
    "%matplotlib inline"
   ]
  },
  {
   "cell_type": "code",
   "execution_count": 2,
   "metadata": {},
   "outputs": [
    {
     "name": "stdout",
     "output_type": "stream",
     "text": [
      "\u001b[34m\u001b[1mwandb\u001b[0m: Appending key for api.wandb.ai to your netrc file: /Users/guydavidson/.netrc\r\n",
      "\u001b[32mSuccessfully logged in to Weights & Biases!\u001b[0m\r\n"
     ]
    }
   ],
   "source": [
    "!wandb login 9676e3cc95066e4865586082971f2653245f09b4"
   ]
  },
  {
   "cell_type": "code",
   "execution_count": 3,
   "metadata": {},
   "outputs": [],
   "source": [
    "import copy\n",
    "from collections import defaultdict, namedtuple\n",
    "from datetime import datetime\n",
    "import itertools\n",
    "import os\n",
    "from pathlib import Path\n",
    "import pickle\n",
    "\n",
    "import numpy as np\n",
    "import pandas as pd\n",
    "import scipy\n",
    "from scipy import stats\n",
    "from scipy.special import factorial\n",
    "\n",
    "from mpl_toolkits.mplot3d import Axes3D\n",
    "import matplotlib\n",
    "import matplotlib.pyplot as plt\n",
    "from matplotlib import patches\n",
    "from matplotlib import path as mpath\n",
    "import matplotlib.gridspec as gridspec\n",
    "\n",
    "import tabulate\n",
    "import wandb\n",
    "from tqdm.notebook import tqdm"
   ]
  },
  {
   "cell_type": "code",
   "execution_count": 4,
   "metadata": {},
   "outputs": [],
   "source": [
    "api = wandb.Api()"
   ]
  },
  {
   "cell_type": "code",
   "execution_count": 5,
   "metadata": {},
   "outputs": [],
   "source": [
    "FIGURE_TEMPLATE = r'''\\begin{{figure}}[!htb]\n",
    "% \\vspace{{-0.225in}}\n",
    "\\centering\n",
    "\\includegraphics[width=\\linewidth]{{figures/{save_path}}}\n",
    "\\caption{{ {{\\bf FIGURE TITLE.}} FIGURE DESCRIPTION.}}\n",
    "\\label{{fig:{label_name}}}\n",
    "% \\vspace{{-0.2in}}\n",
    "\\end{{figure}}\n",
    "'''\n",
    "WRAPFIGURE_TEMPLATE = r'''\\begin{{wrapfigure}}{{r}}{{0.5\\linewidth}}\n",
    "\\vspace{{-.3in}}\n",
    "\\begin{{spacing}}{{1.0}}\n",
    "\\centering\n",
    "\\includegraphics[width=0.95\\linewidth]{{figures/{save_path}}}\n",
    "\\caption{{ {{\\bf FIGURE TITLE.}} FIGURE DESCRIPTION.}}\n",
    "\\label{{fig:{label_name}}}\n",
    "\\end{{spacing}}\n",
    "% \\vspace{{-.25in}}\n",
    "\\end{{wrapfigure}}'''\n",
    "\n",
    "SAVE_PATH_PREFIX = 'figures'\n",
    "\n",
    "\n",
    "def save_plot(save_path, bbox_inches='tight', should_print=False):\n",
    "    if save_path is not None:\n",
    "        save_path_no_ext = os.path.splitext(save_path)[0]\n",
    "        if should_print:\n",
    "            print('Figure:\\n')\n",
    "            print(FIGURE_TEMPLATE.format(save_path=save_path, label_name=save_path_no_ext.replace('/', '-').replace('_', '-')))\n",
    "            print('\\nWrapfigure:\\n')\n",
    "            print(WRAPFIGURE_TEMPLATE.format(save_path=save_path, label_name=save_path_no_ext.replace('/', '-').replace('_', '-')))\n",
    "            print('')\n",
    "        \n",
    "        if not save_path.startswith(SAVE_PATH_PREFIX):\n",
    "            save_path = os.path.join(SAVE_PATH_PREFIX, save_path)\n",
    "        \n",
    "        folder, filename = os.path.split(save_path)\n",
    "        os.makedirs(folder, exist_ok=True)\n",
    "        plt.savefig(save_path, bbox_inches=bbox_inches, facecolor=plt.gcf().get_facecolor(), edgecolor='none')"
   ]
  },
  {
   "cell_type": "code",
   "execution_count": 6,
   "metadata": {},
   "outputs": [],
   "source": [
    "Condition = namedtuple('Condition', ('relation', 'model_config', 'num_objects', 'dataset_size', 'dataset_power'))\n",
    "\n",
    "\n",
    "def name_to_condition(name):\n",
    "    relation, model_config, num_objects, dataset_size = name.split('-')[::2]\n",
    "    num_objects = int(num_objects)\n",
    "    dataset_size = int(dataset_size)\n",
    "    return Condition(relation=relation, model_config=model_config, num_objects=num_objects, \n",
    "                     dataset_size=dataset_size, dataset_power=int(np.log2(dataset_size)))\n"
   ]
  },
  {
   "cell_type": "code",
   "execution_count": 7,
   "metadata": {},
   "outputs": [],
   "source": [
    "CACHE_PATH = './results_cache.pickle'\n",
    "BACKUP_CACHE_PATH = './results_cache_{date}.pickle'\n",
    "\n",
    "\n",
    "def refresh_cache(new_values_dict=None, cache_path=CACHE_PATH):\n",
    "    if new_values_dict is None:\n",
    "        new_values_dict = {}\n",
    "    \n",
    "    if os.path.exists(cache_path):\n",
    "        with open(cache_path, 'rb') as cache_file:\n",
    "            cache = pickle.load(cache_file)\n",
    "    \n",
    "    else:\n",
    "        cache = {}\n",
    "    \n",
    "    cache.update(new_values_dict)\n",
    "    \n",
    "    if os.path.exists(cache_path):\n",
    "        os.rename(CACHE_PATH, BACKUP_CACHE_PATH.format(date=datetime.now().strftime('%Y-%m-%d_%H-%M-%S')))\n",
    "\n",
    "    with open(cache_path, 'wb') as cache_file:\n",
    "        pickle.dump(cache, cache_file)\n",
    "\n",
    "    return cache\n",
    " \n",
    "\n",
    "cache = refresh_cache()"
   ]
  },
  {
   "cell_type": "code",
   "execution_count": 8,
   "metadata": {},
   "outputs": [
    {
     "name": "stdout",
     "output_type": "stream",
     "text": [
      "dict_keys(['all_results', 'all_results_df', 'all_results_fixed_checkpoints', 'all_results_fixed_checkpoints_df'])\n"
     ]
    }
   ],
   "source": [
    "print(cache.keys())"
   ]
  },
  {
   "cell_type": "markdown",
   "metadata": {},
   "source": [
    "# Game plan\n",
    "* Iterate through projects \n",
    "* Parse each project conditions from its name\n",
    "* Aggregate each of the following statistics by model:\n",
    "    * Peak accuracy\n",
    "    * Epoch in which peak accuracy takes place\n",
    "    * Epoch above some accuracy threshold\n",
    "    * Did the model overfit (delta between train and val?)\n",
    "* Start examining the effects of different manipulations:\n",
    "    * Choice of relation\n",
    "    * Number of objects\n",
    "    * Size of the training set\n",
    "    * Size of the model (in that one condition I ran larger)\n",
    "* Probably more bar charts tables than anything else, unless we need learning curves\n",
    "\n"
   ]
  },
  {
   "cell_type": "code",
   "execution_count": 17,
   "metadata": {},
   "outputs": [],
   "source": [
    "def get_model_name(run):\n",
    "    return run.name.rsplit('-', 1)[0]\n",
    "\n",
    "\n",
    "def get_run_seed(run):\n",
    "    return int(run.name.rsplit('-', 1)[1])\n",
    "\n",
    "\n",
    "def fix_project_configs(project):\n",
    "    uri = f'{project.entity}/{project.name}'\n",
    "    print(f'\\tIn project {project.name}:')\n",
    "    runs = api.runs(uri)\n",
    "    configs_by_model = {}\n",
    "    runs_to_fix = defaultdict(list)\n",
    "    \n",
    "#     for run in tqdm(runs, desc='Runs'):\n",
    "    for run in runs:\n",
    "        model_name = get_model_name(run)\n",
    "        if run.config is None or len(run.config) == 0:\n",
    "            runs_to_fix[model_name].append(run)\n",
    "\n",
    "        elif model_name not in configs_by_model:\n",
    "            configs_by_model[model_name] = copy.deepcopy(run.config)\n",
    "    \n",
    "    for model_name in runs_to_fix:\n",
    "        if model_name not in configs_by_model:\n",
    "            raise ValueError(f'In URI {uri}, could not find a config to fix model name {model_name}')\n",
    "            \n",
    "        sample_config = configs_by_model[model_name]\n",
    "        \n",
    "        for run in runs_to_fix[model_name]:\n",
    "            config_copy = copy.deepcopy(sample_config)\n",
    "            config_copy['seed'] = get_run_seed(run)\n",
    "            config_copy['wandb_run_name'] = run.name\n",
    "            run.config = config_copy\n",
    "            run.update()\n",
    "            print(f'\\t\\t{run.name}')\n",
    "            \n",
    "    return runs_to_fix\n",
    "\n",
    "\n",
    "def print_missing_data(project, num_samples=50000):\n",
    "    uri = f'{project.entity}/{project.name}'\n",
    "    print(f'\\tIn project {project.name}:')\n",
    "    runs = api.runs(uri)\n",
    "    configs_by_model = {}\n",
    "    runs_to_fix = defaultdict(list)\n",
    "    \n",
    "#     for run in tqdm(runs, desc='Runs'):\n",
    "    for run in runs:\n",
    "        model_name = get_model_name(run)\n",
    "        history_df = run.history(samples=num_samples)\n",
    "        if 'num_objects_gen_test_acc' not in history_df:\n",
    "            runs_to_fix[model_name].append(run)\n",
    "            print(f'\\t\\t{run.name}')\n",
    "            \n",
    "    return runs_to_fix\n",
    "\n",
    "\n",
    "def fix_all_projects(entity='simple-relational-reasoning-fixed-checkpoints', \n",
    "                     fix_func=fix_project_configs):\n",
    "    projects = api.projects(entity)\n",
    "    results = {}\n",
    "    \n",
    "    print(projects)\n",
    "    for proj in tqdm([p for p in projects], desc='Projects'):\n",
    "        condition = name_to_condition(proj.name)\n",
    "#         print(proj.name)\n",
    "#         print(condition)\n",
    "        results[condition] = fix_func(proj)\n",
    "        \n",
    "    return results\n"
   ]
  },
  {
   "cell_type": "code",
   "execution_count": 10,
   "metadata": {
    "scrolled": false
   },
   "outputs": [
    {
     "name": "stdout",
     "output_type": "stream",
     "text": [
      "<Projects simple-relational-reasoning-fixed-checkpoints>\n"
     ]
    },
    {
     "data": {
      "application/vnd.jupyter.widget-view+json": {
       "model_id": "8cc435abd9f84b86874f11457926d706",
       "version_major": 2,
       "version_minor": 0
      },
      "text/plain": [
       "HBox(children=(FloatProgress(value=0.0, description='Projects', max=32.0, style=ProgressStyle(description_widt…"
      ]
     },
     "metadata": {},
     "output_type": "display_data"
    },
    {
     "name": "stdout",
     "output_type": "stream",
     "text": [
      "\tIn project between-relation-larger-models-10-objects-65536-dataset:\n",
      "\tIn project count-relation-larger-models-10-objects-65536-dataset:\n",
      "\tIn project above-relation-larger-models-10-objects-65536-dataset:\n",
      "\tIn project adjacent-relation-larger-models-10-objects-65536-dataset:\n",
      "\tIn project between-relation-larger-models-5-objects-65536-dataset:\n",
      "\tIn project count-relation-larger-models-5-objects-65536-dataset:\n",
      "\tIn project above-relation-larger-models-5-objects-65536-dataset:\n",
      "\tIn project adjacent-relation-larger-models-5-objects-65536-dataset:\n",
      "\tIn project between-relation-default-models-10-objects-65536-dataset:\n",
      "\tIn project count-relation-default-models-10-objects-65536-dataset:\n",
      "\tIn project above-relation-default-models-10-objects-65536-dataset:\n",
      "\tIn project adjacent-relation-default-models-10-objects-65536-dataset:\n",
      "\tIn project between-relation-default-models-5-objects-65536-dataset:\n",
      "\tIn project count-relation-default-models-5-objects-65536-dataset:\n",
      "\tIn project above-relation-default-models-5-objects-65536-dataset:\n",
      "\tIn project adjacent-relation-default-models-5-objects-65536-dataset:\n",
      "\tIn project between-relation-default-models-10-objects-16384-dataset:\n",
      "\tIn project count-relation-default-models-10-objects-16384-dataset:\n",
      "\tIn project above-relation-default-models-10-objects-16384-dataset:\n",
      "\tIn project adjacent-relation-default-models-10-objects-16384-dataset:\n",
      "\tIn project between-relation-default-models-5-objects-16384-dataset:\n",
      "\tIn project count-relation-default-models-5-objects-16384-dataset:\n",
      "\tIn project above-relation-default-models-5-objects-16384-dataset:\n",
      "\tIn project adjacent-relation-default-models-5-objects-16384-dataset:\n",
      "\tIn project between-relation-default-models-10-objects-4096-dataset:\n",
      "\tIn project count-relation-default-models-10-objects-4096-dataset:\n",
      "\tIn project above-relation-default-models-10-objects-4096-dataset:\n",
      "\tIn project adjacent-relation-default-models-10-objects-4096-dataset:\n",
      "\tIn project between-relation-default-models-5-objects-4096-dataset:\n",
      "\tIn project count-relation-default-models-5-objects-4096-dataset:\n",
      "\tIn project above-relation-default-models-5-objects-4096-dataset:\n",
      "\tIn project adjacent-relation-default-models-5-objects-4096-dataset:\n",
      "\n"
     ]
    }
   ],
   "source": [
    "fix_results = fix_all_projects(fix_func=print_missing_data)"
   ]
  },
  {
   "cell_type": "code",
   "execution_count": null,
   "metadata": {},
   "outputs": [],
   "source": [
    "fix_results = fix_all_projects()"
   ]
  },
  {
   "cell_type": "code",
   "execution_count": 11,
   "metadata": {},
   "outputs": [],
   "source": [
    "def parse_run(run, num_samples=50000, accuracy_threshold=0.95):\n",
    "    history_df = run.history(samples=num_samples)\n",
    "    run_results = {}\n",
    "    \n",
    "    max_accuracy_index = history_df.val_acc.idxmax()\n",
    "    run_results['max_val_acc'] = history_df.val_acc[max_accuracy_index]\n",
    "    run_results['max_val_acc_step'] = history_df.global_step[max_accuracy_index]\n",
    "    \n",
    "    accuracy_above_treshold_index = (history_df.val_acc >= accuracy_threshold).idxmax()\n",
    "    if accuracy_above_treshold_index == 0:  # Never went above treshold\n",
    "        run_results['acc_threshold_step'] = None\n",
    "    else:\n",
    "        run_results['acc_threshold_step'] = history_df.global_step[accuracy_above_treshold_index]\n",
    "        \n",
    "    run_results['acc_diff'] = history_df.train_acc.max() - history_df.val_acc.max()\n",
    "    \n",
    "    if 'num_objects_gen_test_acc' in history_df:\n",
    "        run_results['num_objects_gen_test_acc'] = history_df.num_objects_gen_test_acc.max()\n",
    "        run_results['num_objects_gen_test_acc_diff'] = run_results['max_val_acc'] - run_results['num_objects_gen_test_acc']\n",
    "        \n",
    "    else:\n",
    "        print(f'Run {run.name} ({\"/\".join(run.path)}) has no generalization test accuracy')\n",
    "    \n",
    "    return run_results\n",
    "    \n",
    "    \n",
    "def parse_project(project):\n",
    "    uri = f'{project.entity}/{project.name}'\n",
    "    runs = api.runs(uri)\n",
    "    results_by_model = defaultdict(list)\n",
    "    \n",
    "    for run in tqdm(runs, desc='Runs'):\n",
    "        try:\n",
    "            seed_split_index = run.name.rindex('-')\n",
    "            model_name = run.name[:seed_split_index]\n",
    "            seed = int(run.name[seed_split_index + 1:])\n",
    "\n",
    "            run_results = parse_run(run)\n",
    "            run_results['seed'] = seed\n",
    "            run_results['total_params'] = run.config['total_params']\n",
    "            results_by_model[model_name].append(run_results)\n",
    "            \n",
    "        except Exception as e:\n",
    "            print(e)\n",
    "            print(run)\n",
    "            print(run.name)\n",
    "            print(run.config)\n",
    "        \n",
    "    return results_by_model\n",
    "        \n",
    "        \n",
    "def parse_all_projects(entity='simple-relational-reasoning'):\n",
    "    projects = api.projects(entity)\n",
    "    results = {}\n",
    "    \n",
    "    print(projects)\n",
    "    for proj in tqdm([p for p in projects], desc='Projects'):\n",
    "        condition = name_to_condition(proj.name)\n",
    "#         print(proj.name)\n",
    "#         print(condition)\n",
    "        results[condition] = parse_project(proj)\n",
    "        \n",
    "    return results\n",
    "\n",
    "\n",
    "if 'all_results' not in cache:\n",
    "    cache['all_results'] = parse_all_projects()\n",
    "    cache = refresh_cache(cache)\n",
    "    \n",
    "all_results = cache['all_results']"
   ]
  },
  {
   "cell_type": "code",
   "execution_count": null,
   "metadata": {
    "scrolled": false
   },
   "outputs": [],
   "source": [
    "if 'all_results_fixed_checkpoints' not in cache:\n",
    "    cache['all_results_fixed_checkpoints'] = parse_all_projects(entity='simple-relational-reasoning-fixed-checkpoints')\n",
    "    cache = refresh_cache(cache)\n",
    "    \n",
    "all_results_fixed_checkpoints = cache['all_results_fixed_checkpoints']"
   ]
  },
  {
   "cell_type": "code",
   "execution_count": 12,
   "metadata": {},
   "outputs": [
    {
     "name": "stdout",
     "output_type": "stream",
     "text": [
      "<Projects simple-relational-reasoning-fixed-checkpoints>\n"
     ]
    },
    {
     "data": {
      "application/vnd.jupyter.widget-view+json": {
       "model_id": "47b28e2f6d254e5fa7ee7a8cc3efd13b",
       "version_major": 2,
       "version_minor": 0
      },
      "text/plain": [
       "HBox(children=(FloatProgress(value=0.0, description='Projects', max=32.0, style=ProgressStyle(description_widt…"
      ]
     },
     "metadata": {},
     "output_type": "display_data"
    },
    {
     "data": {
      "application/vnd.jupyter.widget-view+json": {
       "model_id": "6a04adc913714918843d813f95438cd3",
       "version_major": 2,
       "version_minor": 0
      },
      "text/plain": [
       "HBox(children=(FloatProgress(value=0.0, description='Runs', max=50.0, style=ProgressStyle(description_width='i…"
      ]
     },
     "metadata": {},
     "output_type": "display_data"
    },
    {
     "name": "stderr",
     "output_type": "stream",
     "text": [
      "\u001b[34m\u001b[1mwandb\u001b[0m: Network error resolved after 0:00:13.098809, resuming normal operation.\n"
     ]
    },
    {
     "name": "stdout",
     "output_type": "stream",
     "text": [
      "\n"
     ]
    },
    {
     "data": {
      "application/vnd.jupyter.widget-view+json": {
       "model_id": "8f5fc022a7a64b1aaed381a07d209eb8",
       "version_major": 2,
       "version_minor": 0
      },
      "text/plain": [
       "HBox(children=(FloatProgress(value=0.0, description='Runs', max=50.0, style=ProgressStyle(description_width='i…"
      ]
     },
     "metadata": {},
     "output_type": "display_data"
    },
    {
     "name": "stdout",
     "output_type": "stream",
     "text": [
      "\n"
     ]
    },
    {
     "data": {
      "application/vnd.jupyter.widget-view+json": {
       "model_id": "cbfb121729d04116ae8092e5b6bf828e",
       "version_major": 2,
       "version_minor": 0
      },
      "text/plain": [
       "HBox(children=(FloatProgress(value=0.0, description='Runs', max=50.0, style=ProgressStyle(description_width='i…"
      ]
     },
     "metadata": {},
     "output_type": "display_data"
    },
    {
     "name": "stdout",
     "output_type": "stream",
     "text": [
      "\n"
     ]
    },
    {
     "data": {
      "application/vnd.jupyter.widget-view+json": {
       "model_id": "dbddb3a7984d4e3c940d8076207bcc75",
       "version_major": 2,
       "version_minor": 0
      },
      "text/plain": [
       "HBox(children=(FloatProgress(value=0.0, description='Runs', max=50.0, style=ProgressStyle(description_width='i…"
      ]
     },
     "metadata": {},
     "output_type": "display_data"
    },
    {
     "name": "stdout",
     "output_type": "stream",
     "text": [
      "\n"
     ]
    },
    {
     "data": {
      "application/vnd.jupyter.widget-view+json": {
       "model_id": "78c0b9e8806d41dda5d4f433c338d188",
       "version_major": 2,
       "version_minor": 0
      },
      "text/plain": [
       "HBox(children=(FloatProgress(value=0.0, description='Runs', max=50.0, style=ProgressStyle(description_width='i…"
      ]
     },
     "metadata": {},
     "output_type": "display_data"
    },
    {
     "name": "stdout",
     "output_type": "stream",
     "text": [
      "\n"
     ]
    },
    {
     "data": {
      "application/vnd.jupyter.widget-view+json": {
       "model_id": "ad8ef2ea0c844ecab79493f9f75a7b5e",
       "version_major": 2,
       "version_minor": 0
      },
      "text/plain": [
       "HBox(children=(FloatProgress(value=0.0, description='Runs', max=50.0, style=ProgressStyle(description_width='i…"
      ]
     },
     "metadata": {},
     "output_type": "display_data"
    },
    {
     "name": "stdout",
     "output_type": "stream",
     "text": [
      "\n"
     ]
    },
    {
     "data": {
      "application/vnd.jupyter.widget-view+json": {
       "model_id": "f93b397341b94b0cb9aa2ab33b4e1da3",
       "version_major": 2,
       "version_minor": 0
      },
      "text/plain": [
       "HBox(children=(FloatProgress(value=0.0, description='Runs', max=50.0, style=ProgressStyle(description_width='i…"
      ]
     },
     "metadata": {},
     "output_type": "display_data"
    },
    {
     "name": "stdout",
     "output_type": "stream",
     "text": [
      "\n"
     ]
    },
    {
     "data": {
      "application/vnd.jupyter.widget-view+json": {
       "model_id": "1c4794a23a2c4063800e266b1c2df88f",
       "version_major": 2,
       "version_minor": 0
      },
      "text/plain": [
       "HBox(children=(FloatProgress(value=0.0, description='Runs', max=50.0, style=ProgressStyle(description_width='i…"
      ]
     },
     "metadata": {},
     "output_type": "display_data"
    },
    {
     "name": "stdout",
     "output_type": "stream",
     "text": [
      "\n"
     ]
    },
    {
     "data": {
      "application/vnd.jupyter.widget-view+json": {
       "model_id": "38ebb54764be42108ea0af8d915e1724",
       "version_major": 2,
       "version_minor": 0
      },
      "text/plain": [
       "HBox(children=(FloatProgress(value=0.0, description='Runs', max=50.0, style=ProgressStyle(description_width='i…"
      ]
     },
     "metadata": {},
     "output_type": "display_data"
    },
    {
     "name": "stdout",
     "output_type": "stream",
     "text": [
      "\n"
     ]
    },
    {
     "data": {
      "application/vnd.jupyter.widget-view+json": {
       "model_id": "01b034177b504b21a0d91f525bd76956",
       "version_major": 2,
       "version_minor": 0
      },
      "text/plain": [
       "HBox(children=(FloatProgress(value=0.0, description='Runs', max=50.0, style=ProgressStyle(description_width='i…"
      ]
     },
     "metadata": {},
     "output_type": "display_data"
    },
    {
     "name": "stdout",
     "output_type": "stream",
     "text": [
      "\n"
     ]
    },
    {
     "data": {
      "application/vnd.jupyter.widget-view+json": {
       "model_id": "55732fbd9b9f4602acc4d296642c69b1",
       "version_major": 2,
       "version_minor": 0
      },
      "text/plain": [
       "HBox(children=(FloatProgress(value=0.0, description='Runs', max=50.0, style=ProgressStyle(description_width='i…"
      ]
     },
     "metadata": {},
     "output_type": "display_data"
    },
    {
     "name": "stdout",
     "output_type": "stream",
     "text": [
      "\n"
     ]
    },
    {
     "data": {
      "application/vnd.jupyter.widget-view+json": {
       "model_id": "b9dc318569564df3bc0711d6e90e9833",
       "version_major": 2,
       "version_minor": 0
      },
      "text/plain": [
       "HBox(children=(FloatProgress(value=0.0, description='Runs', max=50.0, style=ProgressStyle(description_width='i…"
      ]
     },
     "metadata": {},
     "output_type": "display_data"
    },
    {
     "name": "stdout",
     "output_type": "stream",
     "text": [
      "\n"
     ]
    },
    {
     "data": {
      "application/vnd.jupyter.widget-view+json": {
       "model_id": "aed924e418d84b428fc248024aa4d425",
       "version_major": 2,
       "version_minor": 0
      },
      "text/plain": [
       "HBox(children=(FloatProgress(value=0.0, description='Runs', max=50.0, style=ProgressStyle(description_width='i…"
      ]
     },
     "metadata": {},
     "output_type": "display_data"
    },
    {
     "name": "stdout",
     "output_type": "stream",
     "text": [
      "\n"
     ]
    },
    {
     "data": {
      "application/vnd.jupyter.widget-view+json": {
       "model_id": "37e8cfa58bcb41bc81beab7297e2429e",
       "version_major": 2,
       "version_minor": 0
      },
      "text/plain": [
       "HBox(children=(FloatProgress(value=0.0, description='Runs', max=50.0, style=ProgressStyle(description_width='i…"
      ]
     },
     "metadata": {},
     "output_type": "display_data"
    },
    {
     "name": "stdout",
     "output_type": "stream",
     "text": [
      "\n"
     ]
    },
    {
     "data": {
      "application/vnd.jupyter.widget-view+json": {
       "model_id": "b94fa2516b4042d5a7dcc9a4ca691dd5",
       "version_major": 2,
       "version_minor": 0
      },
      "text/plain": [
       "HBox(children=(FloatProgress(value=0.0, description='Runs', max=50.0, style=ProgressStyle(description_width='i…"
      ]
     },
     "metadata": {},
     "output_type": "display_data"
    },
    {
     "name": "stdout",
     "output_type": "stream",
     "text": [
      "\n"
     ]
    },
    {
     "data": {
      "application/vnd.jupyter.widget-view+json": {
       "model_id": "ac42e8cb037346bb9621ff594c9a7558",
       "version_major": 2,
       "version_minor": 0
      },
      "text/plain": [
       "HBox(children=(FloatProgress(value=0.0, description='Runs', max=50.0, style=ProgressStyle(description_width='i…"
      ]
     },
     "metadata": {},
     "output_type": "display_data"
    },
    {
     "name": "stdout",
     "output_type": "stream",
     "text": [
      "\n"
     ]
    },
    {
     "data": {
      "application/vnd.jupyter.widget-view+json": {
       "model_id": "ae3851fae4144754b00b633395d3cfa1",
       "version_major": 2,
       "version_minor": 0
      },
      "text/plain": [
       "HBox(children=(FloatProgress(value=0.0, description='Runs', max=50.0, style=ProgressStyle(description_width='i…"
      ]
     },
     "metadata": {},
     "output_type": "display_data"
    },
    {
     "name": "stdout",
     "output_type": "stream",
     "text": [
      "\n"
     ]
    },
    {
     "data": {
      "application/vnd.jupyter.widget-view+json": {
       "model_id": "feda7a83e9554440a150d03516d0dd1d",
       "version_major": 2,
       "version_minor": 0
      },
      "text/plain": [
       "HBox(children=(FloatProgress(value=0.0, description='Runs', max=50.0, style=ProgressStyle(description_width='i…"
      ]
     },
     "metadata": {},
     "output_type": "display_data"
    },
    {
     "name": "stdout",
     "output_type": "stream",
     "text": [
      "\n"
     ]
    },
    {
     "data": {
      "application/vnd.jupyter.widget-view+json": {
       "model_id": "51c8455d30ee4caa97b27e17e11de6de",
       "version_major": 2,
       "version_minor": 0
      },
      "text/plain": [
       "HBox(children=(FloatProgress(value=0.0, description='Runs', max=50.0, style=ProgressStyle(description_width='i…"
      ]
     },
     "metadata": {},
     "output_type": "display_data"
    },
    {
     "name": "stdout",
     "output_type": "stream",
     "text": [
      "\n"
     ]
    },
    {
     "data": {
      "application/vnd.jupyter.widget-view+json": {
       "model_id": "36fd98f021aa436a8b30be8cc271365f",
       "version_major": 2,
       "version_minor": 0
      },
      "text/plain": [
       "HBox(children=(FloatProgress(value=0.0, description='Runs', max=50.0, style=ProgressStyle(description_width='i…"
      ]
     },
     "metadata": {},
     "output_type": "display_data"
    },
    {
     "name": "stdout",
     "output_type": "stream",
     "text": [
      "\n"
     ]
    },
    {
     "data": {
      "application/vnd.jupyter.widget-view+json": {
       "model_id": "aa6efea09ba54440a179def4e65a9ba1",
       "version_major": 2,
       "version_minor": 0
      },
      "text/plain": [
       "HBox(children=(FloatProgress(value=0.0, description='Runs', max=50.0, style=ProgressStyle(description_width='i…"
      ]
     },
     "metadata": {},
     "output_type": "display_data"
    },
    {
     "name": "stdout",
     "output_type": "stream",
     "text": [
      "\n"
     ]
    },
    {
     "data": {
      "application/vnd.jupyter.widget-view+json": {
       "model_id": "f6535afdf10341d9a3fbe63210163142",
       "version_major": 2,
       "version_minor": 0
      },
      "text/plain": [
       "HBox(children=(FloatProgress(value=0.0, description='Runs', max=50.0, style=ProgressStyle(description_width='i…"
      ]
     },
     "metadata": {},
     "output_type": "display_data"
    },
    {
     "name": "stdout",
     "output_type": "stream",
     "text": [
      "\n"
     ]
    },
    {
     "data": {
      "application/vnd.jupyter.widget-view+json": {
       "model_id": "4f51c07c141447a5b5b363dc1e9b3748",
       "version_major": 2,
       "version_minor": 0
      },
      "text/plain": [
       "HBox(children=(FloatProgress(value=0.0, description='Runs', max=50.0, style=ProgressStyle(description_width='i…"
      ]
     },
     "metadata": {},
     "output_type": "display_data"
    },
    {
     "name": "stdout",
     "output_type": "stream",
     "text": [
      "\n"
     ]
    },
    {
     "data": {
      "application/vnd.jupyter.widget-view+json": {
       "model_id": "fce49ec5aff846e392730ab54e92eb95",
       "version_major": 2,
       "version_minor": 0
      },
      "text/plain": [
       "HBox(children=(FloatProgress(value=0.0, description='Runs', max=50.0, style=ProgressStyle(description_width='i…"
      ]
     },
     "metadata": {},
     "output_type": "display_data"
    },
    {
     "name": "stdout",
     "output_type": "stream",
     "text": [
      "\n"
     ]
    },
    {
     "data": {
      "application/vnd.jupyter.widget-view+json": {
       "model_id": "3738b5ecd7dc4e5eb1e3bd77ca1784bd",
       "version_major": 2,
       "version_minor": 0
      },
      "text/plain": [
       "HBox(children=(FloatProgress(value=0.0, description='Runs', max=50.0, style=ProgressStyle(description_width='i…"
      ]
     },
     "metadata": {},
     "output_type": "display_data"
    },
    {
     "name": "stdout",
     "output_type": "stream",
     "text": [
      "\n"
     ]
    },
    {
     "data": {
      "application/vnd.jupyter.widget-view+json": {
       "model_id": "4146c94411a14e0eab1cf968d0550083",
       "version_major": 2,
       "version_minor": 0
      },
      "text/plain": [
       "HBox(children=(FloatProgress(value=0.0, description='Runs', max=50.0, style=ProgressStyle(description_width='i…"
      ]
     },
     "metadata": {},
     "output_type": "display_data"
    },
    {
     "name": "stdout",
     "output_type": "stream",
     "text": [
      "\n"
     ]
    },
    {
     "data": {
      "application/vnd.jupyter.widget-view+json": {
       "model_id": "82d199f13d6f49368d2666b19edf8714",
       "version_major": 2,
       "version_minor": 0
      },
      "text/plain": [
       "HBox(children=(FloatProgress(value=0.0, description='Runs', max=50.0, style=ProgressStyle(description_width='i…"
      ]
     },
     "metadata": {},
     "output_type": "display_data"
    },
    {
     "name": "stdout",
     "output_type": "stream",
     "text": [
      "\n"
     ]
    },
    {
     "data": {
      "application/vnd.jupyter.widget-view+json": {
       "model_id": "1e4973a6cba94bbc9ce5039e1f8e52d9",
       "version_major": 2,
       "version_minor": 0
      },
      "text/plain": [
       "HBox(children=(FloatProgress(value=0.0, description='Runs', max=50.0, style=ProgressStyle(description_width='i…"
      ]
     },
     "metadata": {},
     "output_type": "display_data"
    },
    {
     "name": "stdout",
     "output_type": "stream",
     "text": [
      "\n"
     ]
    },
    {
     "data": {
      "application/vnd.jupyter.widget-view+json": {
       "model_id": "755c3129b52340c7be9163a645ae165c",
       "version_major": 2,
       "version_minor": 0
      },
      "text/plain": [
       "HBox(children=(FloatProgress(value=0.0, description='Runs', max=50.0, style=ProgressStyle(description_width='i…"
      ]
     },
     "metadata": {},
     "output_type": "display_data"
    },
    {
     "name": "stdout",
     "output_type": "stream",
     "text": [
      "\n"
     ]
    },
    {
     "data": {
      "application/vnd.jupyter.widget-view+json": {
       "model_id": "433716b662ae44aaae7a80381f6ef01e",
       "version_major": 2,
       "version_minor": 0
      },
      "text/plain": [
       "HBox(children=(FloatProgress(value=0.0, description='Runs', max=50.0, style=ProgressStyle(description_width='i…"
      ]
     },
     "metadata": {},
     "output_type": "display_data"
    },
    {
     "name": "stderr",
     "output_type": "stream",
     "text": [
      "\u001b[34m\u001b[1mwandb\u001b[0m: Network error resolved after 0:00:13.507224, resuming normal operation.\n",
      "\u001b[34m\u001b[1mwandb\u001b[0m: Network error resolved after 0:00:14.119885, resuming normal operation.\n",
      "\u001b[34m\u001b[1mwandb\u001b[0m: Network error resolved after 0:00:19.009356, resuming normal operation.\n"
     ]
    },
    {
     "name": "stdout",
     "output_type": "stream",
     "text": [
      "\n"
     ]
    },
    {
     "data": {
      "application/vnd.jupyter.widget-view+json": {
       "model_id": "44a9665746604789969ea957f13f73a8",
       "version_major": 2,
       "version_minor": 0
      },
      "text/plain": [
       "HBox(children=(FloatProgress(value=0.0, description='Runs', max=50.0, style=ProgressStyle(description_width='i…"
      ]
     },
     "metadata": {},
     "output_type": "display_data"
    },
    {
     "name": "stdout",
     "output_type": "stream",
     "text": [
      "\n"
     ]
    },
    {
     "data": {
      "application/vnd.jupyter.widget-view+json": {
       "model_id": "be0663e6c1fd4641854ce606643a772f",
       "version_major": 2,
       "version_minor": 0
      },
      "text/plain": [
       "HBox(children=(FloatProgress(value=0.0, description='Runs', max=50.0, style=ProgressStyle(description_width='i…"
      ]
     },
     "metadata": {},
     "output_type": "display_data"
    },
    {
     "name": "stdout",
     "output_type": "stream",
     "text": [
      "\n",
      "\n"
     ]
    }
   ],
   "source": [
    "if 'all_results_fixed_cnn' not in cache:\n",
    "    cache['all_results_fixed_cnn'] = parse_all_projects(entity='simple-relational-reasoning-fixed-checkpoints')\n",
    "    cache = refresh_cache(cache)\n",
    "    \n",
    "all_results_fixed_cnn = cache['all_results_fixed_cnn']"
   ]
  },
  {
   "cell_type": "code",
   "execution_count": 13,
   "metadata": {},
   "outputs": [],
   "source": [
    "CONDITION_FIELDS = list(Condition._fields)\n",
    "RUN_RESULTS_FIELDS = ['seed', 'total_params', 'max_val_acc', 'max_val_acc_step', \n",
    "                      'acc_threshold_step', 'acc_diff', 'num_objects_gen_test_acc', \n",
    "                      'num_objects_gen_test_acc_diff']\n",
    "COLUMNS = CONDITION_FIELDS + ['model_name'] + RUN_RESULTS_FIELDS\n",
    "\n",
    "\n",
    "def results_dict_to_df(results_dict):\n",
    "    rows = []\n",
    "    for condition, results_by_model in tqdm(results_dict.items(), desc='Condition'):\n",
    "        condition_row_prefix = list(condition)\n",
    "#         print(condition_row_prefix)\n",
    "        for model_name, results_by_seed in tqdm(results_by_model.items(), desc='Result'):\n",
    "            for run_results in results_by_seed:\n",
    "                run_result_list = [run_results[field] for field in RUN_RESULTS_FIELDS]\n",
    "                rows.append(condition_row_prefix + [model_name] + run_result_list)\n",
    "                \n",
    "    return pd.DataFrame(rows, columns=COLUMNS)\n",
    "\n",
    "\n",
    "if 'all_results_df' not in cache:\n",
    "    cache['all_results_df'] = results_dict_to_df(all_results)\n",
    "    cache = refresh_cache(cache)\n",
    "    \n",
    "all_results_df = cache['all_results_df']"
   ]
  },
  {
   "cell_type": "code",
   "execution_count": null,
   "metadata": {
    "scrolled": false
   },
   "outputs": [],
   "source": [
    "if 'all_results_fixed_checkpoints_df' not in cache:\n",
    "    cache['all_results_fixed_checkpoints_df'] = results_dict_to_df(all_results_fixed_checkpoints)\n",
    "    cache = refresh_cache(cache)\n",
    "    \n",
    "all_results_fixed_checkpoints_df = cache['all_results_fixed_checkpoints_df']"
   ]
  },
  {
   "cell_type": "code",
   "execution_count": 14,
   "metadata": {},
   "outputs": [
    {
     "data": {
      "application/vnd.jupyter.widget-view+json": {
       "model_id": "45c745f565dc4d9086e0861621cf3742",
       "version_major": 2,
       "version_minor": 0
      },
      "text/plain": [
       "HBox(children=(FloatProgress(value=0.0, description='Condition', max=32.0, style=ProgressStyle(description_wid…"
      ]
     },
     "metadata": {},
     "output_type": "display_data"
    },
    {
     "data": {
      "application/vnd.jupyter.widget-view+json": {
       "model_id": "d2c0c2a8452a42b88bc0e567cf3346b8",
       "version_major": 2,
       "version_minor": 0
      },
      "text/plain": [
       "HBox(children=(FloatProgress(value=0.0, description='Result', max=5.0, style=ProgressStyle(description_width='…"
      ]
     },
     "metadata": {},
     "output_type": "display_data"
    },
    {
     "name": "stdout",
     "output_type": "stream",
     "text": [
      "\n"
     ]
    },
    {
     "data": {
      "application/vnd.jupyter.widget-view+json": {
       "model_id": "7d994a47956d4018b393fc5a6e7f6ae1",
       "version_major": 2,
       "version_minor": 0
      },
      "text/plain": [
       "HBox(children=(FloatProgress(value=0.0, description='Result', max=5.0, style=ProgressStyle(description_width='…"
      ]
     },
     "metadata": {},
     "output_type": "display_data"
    },
    {
     "name": "stdout",
     "output_type": "stream",
     "text": [
      "\n"
     ]
    },
    {
     "data": {
      "application/vnd.jupyter.widget-view+json": {
       "model_id": "3a5a005bc7ea40a8b49d18a85423f631",
       "version_major": 2,
       "version_minor": 0
      },
      "text/plain": [
       "HBox(children=(FloatProgress(value=0.0, description='Result', max=5.0, style=ProgressStyle(description_width='…"
      ]
     },
     "metadata": {},
     "output_type": "display_data"
    },
    {
     "name": "stdout",
     "output_type": "stream",
     "text": [
      "\n"
     ]
    },
    {
     "data": {
      "application/vnd.jupyter.widget-view+json": {
       "model_id": "49eda7efa5854f559e01b56b9cb42d6c",
       "version_major": 2,
       "version_minor": 0
      },
      "text/plain": [
       "HBox(children=(FloatProgress(value=0.0, description='Result', max=5.0, style=ProgressStyle(description_width='…"
      ]
     },
     "metadata": {},
     "output_type": "display_data"
    },
    {
     "name": "stdout",
     "output_type": "stream",
     "text": [
      "\n"
     ]
    },
    {
     "data": {
      "application/vnd.jupyter.widget-view+json": {
       "model_id": "0e8fa1413cd74dd4889cacd980477be0",
       "version_major": 2,
       "version_minor": 0
      },
      "text/plain": [
       "HBox(children=(FloatProgress(value=0.0, description='Result', max=5.0, style=ProgressStyle(description_width='…"
      ]
     },
     "metadata": {},
     "output_type": "display_data"
    },
    {
     "name": "stdout",
     "output_type": "stream",
     "text": [
      "\n"
     ]
    },
    {
     "data": {
      "application/vnd.jupyter.widget-view+json": {
       "model_id": "2a64efba24d14e48988ed167e8a53b4e",
       "version_major": 2,
       "version_minor": 0
      },
      "text/plain": [
       "HBox(children=(FloatProgress(value=0.0, description='Result', max=5.0, style=ProgressStyle(description_width='…"
      ]
     },
     "metadata": {},
     "output_type": "display_data"
    },
    {
     "name": "stdout",
     "output_type": "stream",
     "text": [
      "\n"
     ]
    },
    {
     "data": {
      "application/vnd.jupyter.widget-view+json": {
       "model_id": "cf15932f7fcf4b01b880c1e53b940312",
       "version_major": 2,
       "version_minor": 0
      },
      "text/plain": [
       "HBox(children=(FloatProgress(value=0.0, description='Result', max=5.0, style=ProgressStyle(description_width='…"
      ]
     },
     "metadata": {},
     "output_type": "display_data"
    },
    {
     "name": "stdout",
     "output_type": "stream",
     "text": [
      "\n"
     ]
    },
    {
     "data": {
      "application/vnd.jupyter.widget-view+json": {
       "model_id": "dc03c6869d8a4bd1a26e27825dd899f1",
       "version_major": 2,
       "version_minor": 0
      },
      "text/plain": [
       "HBox(children=(FloatProgress(value=0.0, description='Result', max=5.0, style=ProgressStyle(description_width='…"
      ]
     },
     "metadata": {},
     "output_type": "display_data"
    },
    {
     "name": "stdout",
     "output_type": "stream",
     "text": [
      "\n"
     ]
    },
    {
     "data": {
      "application/vnd.jupyter.widget-view+json": {
       "model_id": "f6e2e4a13f1e4eca981d349be1b38660",
       "version_major": 2,
       "version_minor": 0
      },
      "text/plain": [
       "HBox(children=(FloatProgress(value=0.0, description='Result', max=5.0, style=ProgressStyle(description_width='…"
      ]
     },
     "metadata": {},
     "output_type": "display_data"
    },
    {
     "name": "stdout",
     "output_type": "stream",
     "text": [
      "\n"
     ]
    },
    {
     "data": {
      "application/vnd.jupyter.widget-view+json": {
       "model_id": "23d49593abeb46c795335b4f17a4aba8",
       "version_major": 2,
       "version_minor": 0
      },
      "text/plain": [
       "HBox(children=(FloatProgress(value=0.0, description='Result', max=5.0, style=ProgressStyle(description_width='…"
      ]
     },
     "metadata": {},
     "output_type": "display_data"
    },
    {
     "name": "stdout",
     "output_type": "stream",
     "text": [
      "\n"
     ]
    },
    {
     "data": {
      "application/vnd.jupyter.widget-view+json": {
       "model_id": "0fddefaa002e4cebbbe9a46d8b83a335",
       "version_major": 2,
       "version_minor": 0
      },
      "text/plain": [
       "HBox(children=(FloatProgress(value=0.0, description='Result', max=5.0, style=ProgressStyle(description_width='…"
      ]
     },
     "metadata": {},
     "output_type": "display_data"
    },
    {
     "name": "stdout",
     "output_type": "stream",
     "text": [
      "\n"
     ]
    },
    {
     "data": {
      "application/vnd.jupyter.widget-view+json": {
       "model_id": "69490117086942b491eabfcac8454ef9",
       "version_major": 2,
       "version_minor": 0
      },
      "text/plain": [
       "HBox(children=(FloatProgress(value=0.0, description='Result', max=5.0, style=ProgressStyle(description_width='…"
      ]
     },
     "metadata": {},
     "output_type": "display_data"
    },
    {
     "name": "stdout",
     "output_type": "stream",
     "text": [
      "\n"
     ]
    },
    {
     "data": {
      "application/vnd.jupyter.widget-view+json": {
       "model_id": "16a2135167d842838915588df593aa8d",
       "version_major": 2,
       "version_minor": 0
      },
      "text/plain": [
       "HBox(children=(FloatProgress(value=0.0, description='Result', max=5.0, style=ProgressStyle(description_width='…"
      ]
     },
     "metadata": {},
     "output_type": "display_data"
    },
    {
     "name": "stdout",
     "output_type": "stream",
     "text": [
      "\n"
     ]
    },
    {
     "data": {
      "application/vnd.jupyter.widget-view+json": {
       "model_id": "deaf517899864ab4868113df62075dac",
       "version_major": 2,
       "version_minor": 0
      },
      "text/plain": [
       "HBox(children=(FloatProgress(value=0.0, description='Result', max=5.0, style=ProgressStyle(description_width='…"
      ]
     },
     "metadata": {},
     "output_type": "display_data"
    },
    {
     "name": "stdout",
     "output_type": "stream",
     "text": [
      "\n"
     ]
    },
    {
     "data": {
      "application/vnd.jupyter.widget-view+json": {
       "model_id": "273bf7949542406981a1387f0a73d4b3",
       "version_major": 2,
       "version_minor": 0
      },
      "text/plain": [
       "HBox(children=(FloatProgress(value=0.0, description='Result', max=5.0, style=ProgressStyle(description_width='…"
      ]
     },
     "metadata": {},
     "output_type": "display_data"
    },
    {
     "name": "stdout",
     "output_type": "stream",
     "text": [
      "\n"
     ]
    },
    {
     "data": {
      "application/vnd.jupyter.widget-view+json": {
       "model_id": "3db0b6e9968449708ee33f387715b2df",
       "version_major": 2,
       "version_minor": 0
      },
      "text/plain": [
       "HBox(children=(FloatProgress(value=0.0, description='Result', max=5.0, style=ProgressStyle(description_width='…"
      ]
     },
     "metadata": {},
     "output_type": "display_data"
    },
    {
     "name": "stdout",
     "output_type": "stream",
     "text": [
      "\n"
     ]
    },
    {
     "data": {
      "application/vnd.jupyter.widget-view+json": {
       "model_id": "0ed6e493c81b430aa15c95170a46eb93",
       "version_major": 2,
       "version_minor": 0
      },
      "text/plain": [
       "HBox(children=(FloatProgress(value=0.0, description='Result', max=5.0, style=ProgressStyle(description_width='…"
      ]
     },
     "metadata": {},
     "output_type": "display_data"
    },
    {
     "name": "stdout",
     "output_type": "stream",
     "text": [
      "\n"
     ]
    },
    {
     "data": {
      "application/vnd.jupyter.widget-view+json": {
       "model_id": "e67ec7e1ce834ab7b7ffcf7bfe00c425",
       "version_major": 2,
       "version_minor": 0
      },
      "text/plain": [
       "HBox(children=(FloatProgress(value=0.0, description='Result', max=5.0, style=ProgressStyle(description_width='…"
      ]
     },
     "metadata": {},
     "output_type": "display_data"
    },
    {
     "name": "stdout",
     "output_type": "stream",
     "text": [
      "\n"
     ]
    },
    {
     "data": {
      "application/vnd.jupyter.widget-view+json": {
       "model_id": "1704f90b0a9347c29b75c27cc5491e0d",
       "version_major": 2,
       "version_minor": 0
      },
      "text/plain": [
       "HBox(children=(FloatProgress(value=0.0, description='Result', max=5.0, style=ProgressStyle(description_width='…"
      ]
     },
     "metadata": {},
     "output_type": "display_data"
    },
    {
     "name": "stdout",
     "output_type": "stream",
     "text": [
      "\n"
     ]
    },
    {
     "data": {
      "application/vnd.jupyter.widget-view+json": {
       "model_id": "fd9d2185abff49f4b25683ff4f29ae06",
       "version_major": 2,
       "version_minor": 0
      },
      "text/plain": [
       "HBox(children=(FloatProgress(value=0.0, description='Result', max=5.0, style=ProgressStyle(description_width='…"
      ]
     },
     "metadata": {},
     "output_type": "display_data"
    },
    {
     "name": "stdout",
     "output_type": "stream",
     "text": [
      "\n"
     ]
    },
    {
     "data": {
      "application/vnd.jupyter.widget-view+json": {
       "model_id": "8a64c7be8a88470d93d08d9edf489e09",
       "version_major": 2,
       "version_minor": 0
      },
      "text/plain": [
       "HBox(children=(FloatProgress(value=0.0, description='Result', max=5.0, style=ProgressStyle(description_width='…"
      ]
     },
     "metadata": {},
     "output_type": "display_data"
    },
    {
     "name": "stdout",
     "output_type": "stream",
     "text": [
      "\n"
     ]
    },
    {
     "data": {
      "application/vnd.jupyter.widget-view+json": {
       "model_id": "3f292b640cee4f65b54b02dbc6a9cddc",
       "version_major": 2,
       "version_minor": 0
      },
      "text/plain": [
       "HBox(children=(FloatProgress(value=0.0, description='Result', max=5.0, style=ProgressStyle(description_width='…"
      ]
     },
     "metadata": {},
     "output_type": "display_data"
    },
    {
     "name": "stdout",
     "output_type": "stream",
     "text": [
      "\n"
     ]
    },
    {
     "data": {
      "application/vnd.jupyter.widget-view+json": {
       "model_id": "f3a0e9348a924c529c249a7244549d53",
       "version_major": 2,
       "version_minor": 0
      },
      "text/plain": [
       "HBox(children=(FloatProgress(value=0.0, description='Result', max=5.0, style=ProgressStyle(description_width='…"
      ]
     },
     "metadata": {},
     "output_type": "display_data"
    },
    {
     "name": "stdout",
     "output_type": "stream",
     "text": [
      "\n"
     ]
    },
    {
     "data": {
      "application/vnd.jupyter.widget-view+json": {
       "model_id": "57fe299421be489bb7a112444b7e9019",
       "version_major": 2,
       "version_minor": 0
      },
      "text/plain": [
       "HBox(children=(FloatProgress(value=0.0, description='Result', max=5.0, style=ProgressStyle(description_width='…"
      ]
     },
     "metadata": {},
     "output_type": "display_data"
    },
    {
     "name": "stdout",
     "output_type": "stream",
     "text": [
      "\n"
     ]
    },
    {
     "data": {
      "application/vnd.jupyter.widget-view+json": {
       "model_id": "b72d4bbcc9d7426ba287716ea2bcbc8a",
       "version_major": 2,
       "version_minor": 0
      },
      "text/plain": [
       "HBox(children=(FloatProgress(value=0.0, description='Result', max=5.0, style=ProgressStyle(description_width='…"
      ]
     },
     "metadata": {},
     "output_type": "display_data"
    },
    {
     "name": "stdout",
     "output_type": "stream",
     "text": [
      "\n"
     ]
    },
    {
     "data": {
      "application/vnd.jupyter.widget-view+json": {
       "model_id": "fc5c2e6ed2b94978ab4b55b59562d5cd",
       "version_major": 2,
       "version_minor": 0
      },
      "text/plain": [
       "HBox(children=(FloatProgress(value=0.0, description='Result', max=5.0, style=ProgressStyle(description_width='…"
      ]
     },
     "metadata": {},
     "output_type": "display_data"
    },
    {
     "name": "stdout",
     "output_type": "stream",
     "text": [
      "\n"
     ]
    },
    {
     "data": {
      "application/vnd.jupyter.widget-view+json": {
       "model_id": "7ce3c90a12764a0b9f3691d0afe5425a",
       "version_major": 2,
       "version_minor": 0
      },
      "text/plain": [
       "HBox(children=(FloatProgress(value=0.0, description='Result', max=5.0, style=ProgressStyle(description_width='…"
      ]
     },
     "metadata": {},
     "output_type": "display_data"
    },
    {
     "name": "stdout",
     "output_type": "stream",
     "text": [
      "\n"
     ]
    },
    {
     "data": {
      "application/vnd.jupyter.widget-view+json": {
       "model_id": "0eec9f238cff4c728267cedaa2406a14",
       "version_major": 2,
       "version_minor": 0
      },
      "text/plain": [
       "HBox(children=(FloatProgress(value=0.0, description='Result', max=5.0, style=ProgressStyle(description_width='…"
      ]
     },
     "metadata": {},
     "output_type": "display_data"
    },
    {
     "name": "stdout",
     "output_type": "stream",
     "text": [
      "\n"
     ]
    },
    {
     "data": {
      "application/vnd.jupyter.widget-view+json": {
       "model_id": "0b2b6aeac48349239a6d5b53e8da1bd5",
       "version_major": 2,
       "version_minor": 0
      },
      "text/plain": [
       "HBox(children=(FloatProgress(value=0.0, description='Result', max=5.0, style=ProgressStyle(description_width='…"
      ]
     },
     "metadata": {},
     "output_type": "display_data"
    },
    {
     "name": "stdout",
     "output_type": "stream",
     "text": [
      "\n"
     ]
    },
    {
     "data": {
      "application/vnd.jupyter.widget-view+json": {
       "model_id": "7e1a26dfa1634155b56898d5923aa9d3",
       "version_major": 2,
       "version_minor": 0
      },
      "text/plain": [
       "HBox(children=(FloatProgress(value=0.0, description='Result', max=5.0, style=ProgressStyle(description_width='…"
      ]
     },
     "metadata": {},
     "output_type": "display_data"
    },
    {
     "name": "stdout",
     "output_type": "stream",
     "text": [
      "\n"
     ]
    },
    {
     "data": {
      "application/vnd.jupyter.widget-view+json": {
       "model_id": "cd3384c7b3c74cb580050cdd4e4dbf9f",
       "version_major": 2,
       "version_minor": 0
      },
      "text/plain": [
       "HBox(children=(FloatProgress(value=0.0, description='Result', max=5.0, style=ProgressStyle(description_width='…"
      ]
     },
     "metadata": {},
     "output_type": "display_data"
    },
    {
     "name": "stdout",
     "output_type": "stream",
     "text": [
      "\n"
     ]
    },
    {
     "data": {
      "application/vnd.jupyter.widget-view+json": {
       "model_id": "b9a234a1fa16430387d52a6de7c72da0",
       "version_major": 2,
       "version_minor": 0
      },
      "text/plain": [
       "HBox(children=(FloatProgress(value=0.0, description='Result', max=5.0, style=ProgressStyle(description_width='…"
      ]
     },
     "metadata": {},
     "output_type": "display_data"
    },
    {
     "name": "stdout",
     "output_type": "stream",
     "text": [
      "\n",
      "\n"
     ]
    }
   ],
   "source": [
    "if 'all_results_fixed_cnn_df' not in cache:\n",
    "    cache['all_results_fixed_cnn_df'] = results_dict_to_df(all_results_fixed_cnn)\n",
    "    cache = refresh_cache(cache)\n",
    "    \n",
    "all_results_fixed_cnn_df = cache['all_results_fixed_cnn_df']"
   ]
  },
  {
   "cell_type": "code",
   "execution_count": 15,
   "metadata": {},
   "outputs": [
    {
     "data": {
      "text/html": [
       "<div>\n",
       "<style scoped>\n",
       "    .dataframe tbody tr th:only-of-type {\n",
       "        vertical-align: middle;\n",
       "    }\n",
       "\n",
       "    .dataframe tbody tr th {\n",
       "        vertical-align: top;\n",
       "    }\n",
       "\n",
       "    .dataframe thead th {\n",
       "        text-align: right;\n",
       "    }\n",
       "</style>\n",
       "<table border=\"1\" class=\"dataframe\">\n",
       "  <thead>\n",
       "    <tr style=\"text-align: right;\">\n",
       "      <th></th>\n",
       "      <th>relation</th>\n",
       "      <th>model_config</th>\n",
       "      <th>num_objects</th>\n",
       "      <th>dataset_size</th>\n",
       "      <th>dataset_power</th>\n",
       "      <th>model_name</th>\n",
       "      <th>seed</th>\n",
       "      <th>total_params</th>\n",
       "      <th>max_val_acc</th>\n",
       "      <th>max_val_acc_step</th>\n",
       "      <th>acc_threshold_step</th>\n",
       "      <th>acc_diff</th>\n",
       "      <th>num_objects_gen_test_acc</th>\n",
       "      <th>num_objects_gen_test_acc_diff</th>\n",
       "    </tr>\n",
       "  </thead>\n",
       "  <tbody>\n",
       "    <tr>\n",
       "      <th>0</th>\n",
       "      <td>between</td>\n",
       "      <td>larger</td>\n",
       "      <td>10</td>\n",
       "      <td>65536</td>\n",
       "      <td>16</td>\n",
       "      <td>fixed-cnn</td>\n",
       "      <td>109</td>\n",
       "      <td>2518</td>\n",
       "      <td>0.998596</td>\n",
       "      <td>6591</td>\n",
       "      <td>383.0</td>\n",
       "      <td>0.001404</td>\n",
       "      <td>0.999146</td>\n",
       "      <td>-0.000549</td>\n",
       "    </tr>\n",
       "    <tr>\n",
       "      <th>1</th>\n",
       "      <td>between</td>\n",
       "      <td>larger</td>\n",
       "      <td>10</td>\n",
       "      <td>65536</td>\n",
       "      <td>16</td>\n",
       "      <td>fixed-cnn</td>\n",
       "      <td>108</td>\n",
       "      <td>2518</td>\n",
       "      <td>0.999207</td>\n",
       "      <td>7999</td>\n",
       "      <td>319.0</td>\n",
       "      <td>0.000793</td>\n",
       "      <td>0.999451</td>\n",
       "      <td>-0.000244</td>\n",
       "    </tr>\n",
       "    <tr>\n",
       "      <th>2</th>\n",
       "      <td>between</td>\n",
       "      <td>larger</td>\n",
       "      <td>10</td>\n",
       "      <td>65536</td>\n",
       "      <td>16</td>\n",
       "      <td>fixed-cnn</td>\n",
       "      <td>104</td>\n",
       "      <td>2518</td>\n",
       "      <td>0.999023</td>\n",
       "      <td>4991</td>\n",
       "      <td>191.0</td>\n",
       "      <td>0.000977</td>\n",
       "      <td>0.999939</td>\n",
       "      <td>-0.000916</td>\n",
       "    </tr>\n",
       "    <tr>\n",
       "      <th>3</th>\n",
       "      <td>between</td>\n",
       "      <td>larger</td>\n",
       "      <td>10</td>\n",
       "      <td>65536</td>\n",
       "      <td>16</td>\n",
       "      <td>fixed-cnn</td>\n",
       "      <td>101</td>\n",
       "      <td>2518</td>\n",
       "      <td>0.999207</td>\n",
       "      <td>7935</td>\n",
       "      <td>319.0</td>\n",
       "      <td>0.000793</td>\n",
       "      <td>0.999878</td>\n",
       "      <td>-0.000671</td>\n",
       "    </tr>\n",
       "    <tr>\n",
       "      <th>4</th>\n",
       "      <td>between</td>\n",
       "      <td>larger</td>\n",
       "      <td>10</td>\n",
       "      <td>65536</td>\n",
       "      <td>16</td>\n",
       "      <td>fixed-cnn</td>\n",
       "      <td>103</td>\n",
       "      <td>2518</td>\n",
       "      <td>0.999084</td>\n",
       "      <td>7103</td>\n",
       "      <td>255.0</td>\n",
       "      <td>0.000916</td>\n",
       "      <td>0.999695</td>\n",
       "      <td>-0.000610</td>\n",
       "    </tr>\n",
       "  </tbody>\n",
       "</table>\n",
       "</div>"
      ],
      "text/plain": [
       "  relation model_config  num_objects  dataset_size  dataset_power model_name  \\\n",
       "0  between       larger           10         65536             16  fixed-cnn   \n",
       "1  between       larger           10         65536             16  fixed-cnn   \n",
       "2  between       larger           10         65536             16  fixed-cnn   \n",
       "3  between       larger           10         65536             16  fixed-cnn   \n",
       "4  between       larger           10         65536             16  fixed-cnn   \n",
       "\n",
       "   seed  total_params  max_val_acc  max_val_acc_step  acc_threshold_step  \\\n",
       "0   109          2518     0.998596              6591               383.0   \n",
       "1   108          2518     0.999207              7999               319.0   \n",
       "2   104          2518     0.999023              4991               191.0   \n",
       "3   101          2518     0.999207              7935               319.0   \n",
       "4   103          2518     0.999084              7103               255.0   \n",
       "\n",
       "   acc_diff  num_objects_gen_test_acc  num_objects_gen_test_acc_diff  \n",
       "0  0.001404                  0.999146                      -0.000549  \n",
       "1  0.000793                  0.999451                      -0.000244  \n",
       "2  0.000977                  0.999939                      -0.000916  \n",
       "3  0.000793                  0.999878                      -0.000671  \n",
       "4  0.000916                  0.999695                      -0.000610  "
      ]
     },
     "execution_count": 15,
     "metadata": {},
     "output_type": "execute_result"
    }
   ],
   "source": [
    "all_results_fixed_cnn_df.head()"
   ]
  },
  {
   "cell_type": "code",
   "execution_count": 16,
   "metadata": {},
   "outputs": [
    {
     "data": {
      "text/plain": [
       "(1600, 14)"
      ]
     },
     "execution_count": 16,
     "metadata": {},
     "output_type": "execute_result"
    }
   ],
   "source": [
    "all_results_fixed_cnn_df.shape"
   ]
  },
  {
   "cell_type": "markdown",
   "metadata": {},
   "source": [
    "# Plotting thoughts\n",
    "* I want a single plotting function that will generate a group of bar charts\n",
    "* Steps:\n",
    "    1. Filter out particular parts of the dataframe.\n",
    "    2. Group by one or more fields.\n",
    "    3. Aggregate (mean, sd) the metric of choice.\n",
    "    4. Group the bars by one of the group-by fields. \n",
    "* I probably want some way to specify formatting by the individual groups left (for example, a color for each model, a striping for each relation, ...)\n",
    "\n",
    "**TODO:** \n",
    "* Pretitfy names\n",
    "* Model (or other field orders)"
   ]
  },
  {
   "cell_type": "code",
   "execution_count": 114,
   "metadata": {},
   "outputs": [],
   "source": [
    "DEFAULT_ORDERS = dict(\n",
    "    model_name=['combined-object-mlp', 'fixed-cnn', 'relation-net', 'transformer'],\n",
    "    relation=['adjacent', 'between', 'above', 'count']\n",
    ")\n",
    "DEFAULT_COLORMAP = plt.get_cmap('Dark2')\n",
    "DEFAULT_BAR_KWARGS_BY_FIELD = defaultdict(lambda: defaultdict(dict))\n",
    "DEFAULT_BAR_KWARGS_BY_FIELD['model_name'] = {name: dict(color=DEFAULT_COLORMAP(i))\n",
    "                                             for i, name in enumerate(DEFAULT_ORDERS['model_name'])}\n",
    "DEFAULT_BAR_KWARGS_BY_FIELD['num_objects'] = {5: {'hatch': ''}, 10: {'hatch': '/'}}\n",
    "\n",
    "DEFAULT_BAR_KWARGS = dict(edgecolor='black')\n",
    "\n",
    "SHADE_BAR_KWARGS = dict(alpha=0.25)\n",
    "\n",
    "DEFAULT_TEXT_KWARGS = dict(fontsize=16)\n",
    "\n",
    "DEFAULT_YLIM = (0, 1.05)\n",
    "\n",
    "PRETTY_NAMES = {\n",
    "    'fixed-cnn': 'CNN',\n",
    "    'combined-object-mlp': 'MLP',\n",
    "    'relation-net': 'RelationNet',\n",
    "    'transformer': 'Transformer',\n",
    "    'max_val_acc': 'Validation Accuracy',\n",
    "    'model_config': 'Model Configuration Set',\n",
    "    'num_objects_gen_test_acc': 'Generalization Test Accuracy',\n",
    "    '5': '5 Objects',\n",
    "    '10': '10 Objects'\n",
    "}\n",
    "\n",
    "\n",
    "def prettify(text):\n",
    "    if isinstance(text, int) and text > 1000:\n",
    "        return f'{text // 1000}k ($2^{{ {int(np.log2(text))} }}$)'\n",
    "    \n",
    "    text = str(text)\n",
    "    \n",
    "    if text in PRETTY_NAMES:\n",
    "        return PRETTY_NAMES[text]\n",
    "\n",
    "    return text.lower().replace('_', ' ').title()\n",
    "\n",
    "\n",
    "def filter_and_group(df, filter_dict, group_by_fields, \n",
    "                     orders=DEFAULT_ORDERS):\n",
    "    filtered_df = df.copy(deep=True)\n",
    "    \n",
    "    if filter_dict is not None:\n",
    "        for filter_name, filter_value in filter_dict.items():\n",
    "            if isinstance(filter_value, (list, tuple)):\n",
    "                filtered_df = filtered_df[filtered_df[filter_name].isin(filter_value)]\n",
    "                if filter_name in orders:\n",
    "                    orders[filter_name] = list(filter(lambda v: v in filter_value, orders[filter_name]))\n",
    "            else:\n",
    "                filtered_df = filtered_df[filtered_df[filter_name].eq(filter_value)]\n",
    "            \n",
    "    return filtered_df.groupby(group_by_fields)\n",
    "\n",
    "\n",
    "def create_bar_chart(df, filter_dict, group_by_fields, metric,\n",
    "                     orders=DEFAULT_ORDERS, sem=False, title=None,\n",
    "                     bar_kwargs_by_field=DEFAULT_BAR_KWARGS_BY_FIELD,\n",
    "                     bar_width=0.2, bar_spacing=0.5, default_bar_kwargs=DEFAULT_BAR_KWARGS,\n",
    "                     text_kwargs=DEFAULT_TEXT_KWARGS, shade_metric=None, \n",
    "                     shade_bar_kwargs=SHADE_BAR_KWARGS, plot_shade_std=False,\n",
    "                     add_chance_hline=True, ylim=DEFAULT_YLIM, legend_loc='best',\n",
    "                     save_path=None, save_should_print=False):\n",
    "    orders = copy.deepcopy(orders)\n",
    "    major_group_by = group_by_fields[0]\n",
    "    minor_group_by = group_by_fields[1:]\n",
    "    \n",
    "    if default_bar_kwargs is None:\n",
    "        default_bar_kwargs = dict()\n",
    "    \n",
    "    if shade_bar_kwargs is None:\n",
    "        shade_bar_kwargs = dict()\n",
    "    \n",
    "    shade_bar_kwargs_temp = copy.deepcopy(default_bar_kwargs)\n",
    "    shade_bar_kwargs_temp.update(shade_bar_kwargs)\n",
    "    shade_bar_kwargs = shade_bar_kwargs_temp\n",
    "    \n",
    "    grouped_df = filter_and_group(df, filter_dict, group_by_fields, orders)\n",
    "    mean = grouped_df[metric].mean()\n",
    "    std = grouped_df[metric].std()    \n",
    "    if sem:\n",
    "        std /= np.sqrt(grouped_df[metric].count())\n",
    "        \n",
    "    if shade_metric is not None:\n",
    "        shade_mean = grouped_df[shade_metric].mean()\n",
    "        shade_std = grouped_df[shade_metric].std()    \n",
    "        if sem:\n",
    "            shade_std /= np.sqrt(grouped_df[shade_metric].count())\n",
    "\n",
    "    if major_group_by in orders:\n",
    "        major_group_values = orders[major_group_by]\n",
    "    else:\n",
    "        major_group_values = mean.index.unique(level=major_group_by)\n",
    "        \n",
    "    minor_group_values_list = []\n",
    "    \n",
    "    for minor_field_name in minor_group_by:\n",
    "        if minor_field_name in orders:\n",
    "            minor_group_values_list.append(orders[minor_field_name])\n",
    "        else:\n",
    "            minor_group_values_list.append(mean.index.unique(level=minor_field_name))\n",
    "    \n",
    "    major_kwargs = bar_kwargs_by_field[major_group_by]\n",
    "    minor_kwargs_list = [bar_kwargs_by_field[minor_field_name] for minor_field_name in minor_group_by]\n",
    "    \n",
    "    figure = plt.figure(figsize=(8, 6))\n",
    "    x = 0\n",
    "    \n",
    "    for major_level_value in major_group_values:\n",
    "        major_level_kwargs = major_kwargs[major_level_value]\n",
    "        \n",
    "        for minor_level_value_combination in itertools.product(*minor_group_values_list):\n",
    "            combined_minor_kwargs = {}\n",
    "            for i, value in enumerate(minor_level_value_combination):\\\n",
    "                combined_minor_kwargs.update(minor_kwargs_list[i][value])\n",
    "                \n",
    "            major_and_minor_key = (major_level_value, *minor_level_value_combination)\n",
    "            \n",
    "            if shade_metric:  # intentionally shade before the real bars\n",
    "                shade_m = shade_mean.loc[major_and_minor_key]\n",
    "                if plot_shade_std:\n",
    "                    shade_s = shade_std.loc[major_and_minor_key]\n",
    "                else:\n",
    "                    shade_s = 0\n",
    "                plt.bar(x, shade_m, yerr=shade_s, width=bar_width, **major_level_kwargs, \n",
    "                        **combined_minor_kwargs, **shade_bar_kwargs)\n",
    "            \n",
    "            m = mean.loc[major_and_minor_key]\n",
    "            s = std.loc[major_and_minor_key]\n",
    "            plt.bar(x, m, yerr=s, width=bar_width, **major_level_kwargs, \n",
    "                    **combined_minor_kwargs, **default_bar_kwargs)\n",
    "            \n",
    "            \n",
    "            \n",
    "            x += bar_width\n",
    "        \n",
    "        x += bar_spacing\n",
    "        \n",
    "    minor_group_length = np.product([len(values) for values in minor_group_values_list])\n",
    "    x_tick_locations = np.arange(len(major_group_values)) * (bar_spacing + bar_width * minor_group_length) +\\\n",
    "                        bar_width * (minor_group_length / 2 - 0.5)\n",
    "    plt.xticks(x_tick_locations, [prettify(val) for val in major_group_values], **text_kwargs)\n",
    "    plt.gca().tick_params(axis='both', which='major', labelsize=12)\n",
    "    \n",
    "    if add_chance_hline:\n",
    "        xlim = plt.xlim()\n",
    "        plt.hlines(0.5, *xlim, linestyle='--', alpha=0.5)\n",
    "        plt.xlim(*xlim)\n",
    "        \n",
    "    if ylim is not None:\n",
    "        plt.ylim(*ylim)\n",
    "\n",
    "    plt.xlabel(prettify(major_group_by), **text_kwargs)\n",
    "    plt.ylabel(prettify(metric), **text_kwargs)\n",
    "    plt.title(title, fontsize=20)\n",
    "    \n",
    "    patches = []\n",
    "    ncol = 0\n",
    "    for kwarg_set, field_name in zip([major_kwargs] + minor_kwargs_list, group_by_fields):\n",
    "        if any([len(val) > 0 for val in kwarg_set.values()]):\n",
    "            ncol += 1\n",
    "            for field_value in kwarg_set:\n",
    "                if field_name in filter_dict and field_value not in filter_dict[field_name]:\n",
    "                    continue\n",
    "                \n",
    "                patch_kwargs = dict(facecolor='none', edgecolor='black')\n",
    "                patch_kwargs.update(kwarg_set[field_value])\n",
    "                patches.append(matplotlib.patches.Patch(**patch_kwargs, label=prettify(field_value)))\n",
    "    \n",
    "    if len(patches) > 0: \n",
    "        plt.legend(handles=patches, loc=legend_loc, ncol=ncol, fontsize=12)\n",
    "    \n",
    "    if save_path is not None:\n",
    "        save_plot(save_path, should_print=save_should_print)\n",
    "    \n",
    "    plt.show()\n",
    "    \n",
    "\n",
    "DEFUALT_OUTCOME_FIELDS = ('max_val_acc', 'num_objects_gen_test_acc') \n",
    "\n",
    "\n",
    "def generalization_test_table(df, filter_dict, group_by_fields, \n",
    "                              outcome_fields=DEFUALT_OUTCOME_FIELDS,\n",
    "                              orders=DEFAULT_ORDERS, baseline=False):\n",
    "    if 'num_objects' not in group_by_fields:\n",
    "        group_by_fields = (*group_by_fields, 'num_objects')\n",
    "        \n",
    "    grouped = filter_and_group(df, filter_dict, group_by_fields, orders=orders)\n",
    "    means = grouped[outcome_fields].mean()\n",
    "    variances = grouped[outcome_fields].var()\n",
    "    counts = grouped[outcome_fields].count()\n",
    "    \n",
    "    results_dict = defaultdict(dict)\n",
    "    \n",
    "    for key in means.index:\n",
    "        key_without_num_objects = key[:-1] \n",
    "        num_objects = key[-1]\n",
    "        \n",
    "        if baseline:\n",
    "            baseline_col_name = f'Train \\\\& Test {num_objects}'\n",
    "            results_dict[key_without_num_objects][baseline_col_name] = f'${means.loc[key][outcome_fields[0]]:.3f}$'\n",
    "            \n",
    "        \n",
    "        mean_diff = means.loc[key][outcome_fields[0]] - means.loc[key][outcome_fields[1]] \n",
    "        diff_sd = np.sqrt((variances.loc[key][outcome_fields[0]] / counts.loc[key][outcome_fields[0]]) +\n",
    "                          (variances.loc[key][outcome_fields[1]] / counts.loc[key][outcome_fields[1]]))\n",
    "        \n",
    "        col_name = f'Train {num_objects} $\\\\rightarrow$ Test {15 - num_objects}'\n",
    "        results_dict[key_without_num_objects][col_name] = f'${mean_diff:.3f} \\\\pm {diff_sd:.3f}$'\n",
    "        \n",
    "    \n",
    "    results_df = pd.DataFrame.from_dict(results_dict, orient='index')  \n",
    "    results_df = results_df.rename(index=PRETTY_NAMES)\n",
    "    return results_df\n"
   ]
  },
  {
   "cell_type": "code",
   "execution_count": 104,
   "metadata": {},
   "outputs": [
    {
     "name": "stderr",
     "output_type": "stream",
     "text": [
      "/Users/guydavidson/opt/anaconda3/lib/python3.6/site-packages/ipykernel_launcher.py:56: FutureWarning: Interpreting tuple 'by' as a list of keys, rather than a single key. Use 'by=[...]' instead of 'by=(...)'. In the future, a tuple will always mean a single key.\n"
     ]
    },
    {
     "data": {
      "text/html": [
       "<div>\n",
       "<style scoped>\n",
       "    .dataframe tbody tr th:only-of-type {\n",
       "        vertical-align: middle;\n",
       "    }\n",
       "\n",
       "    .dataframe tbody tr th {\n",
       "        vertical-align: top;\n",
       "    }\n",
       "\n",
       "    .dataframe thead th {\n",
       "        text-align: right;\n",
       "    }\n",
       "</style>\n",
       "<table border=\"1\" class=\"dataframe\">\n",
       "  <thead>\n",
       "    <tr style=\"text-align: right;\">\n",
       "      <th></th>\n",
       "      <th></th>\n",
       "      <th>Train 5 $\\rightarrow$ Test 10</th>\n",
       "      <th>Train 10 $\\rightarrow$ Test 5</th>\n",
       "    </tr>\n",
       "  </thead>\n",
       "  <tbody>\n",
       "    <tr>\n",
       "      <th rowspan=\"4\" valign=\"top\">above</th>\n",
       "      <th>MLP</th>\n",
       "      <td>$0.1125 \\pm 0.0052$</td>\n",
       "      <td>$0.0161 \\pm 0.0159$</td>\n",
       "    </tr>\n",
       "    <tr>\n",
       "      <th>CNN</th>\n",
       "      <td>$0.0214 \\pm 0.0035$</td>\n",
       "      <td>$0.0147 \\pm 0.0028$</td>\n",
       "    </tr>\n",
       "    <tr>\n",
       "      <th>RelationNet</th>\n",
       "      <td>$0.1024 \\pm 0.0082$</td>\n",
       "      <td>$0.0192 \\pm 0.0034$</td>\n",
       "    </tr>\n",
       "    <tr>\n",
       "      <th>transformer</th>\n",
       "      <td>$0.0287 \\pm 0.0144$</td>\n",
       "      <td>$0.0107 \\pm 0.0082$</td>\n",
       "    </tr>\n",
       "    <tr>\n",
       "      <th rowspan=\"4\" valign=\"top\">adjacent</th>\n",
       "      <th>MLP</th>\n",
       "      <td>$0.1264 \\pm 0.0036$</td>\n",
       "      <td>$0.0250 \\pm 0.0034$</td>\n",
       "    </tr>\n",
       "    <tr>\n",
       "      <th>CNN</th>\n",
       "      <td>$0.2549 \\pm 0.0539$</td>\n",
       "      <td>$0.1665 \\pm 0.0744$</td>\n",
       "    </tr>\n",
       "    <tr>\n",
       "      <th>RelationNet</th>\n",
       "      <td>$0.4148 \\pm 0.0062$</td>\n",
       "      <td>$0.1876 \\pm 0.0054$</td>\n",
       "    </tr>\n",
       "    <tr>\n",
       "      <th>transformer</th>\n",
       "      <td>$0.1887 \\pm 0.0075$</td>\n",
       "      <td>$0.0657 \\pm 0.0098$</td>\n",
       "    </tr>\n",
       "    <tr>\n",
       "      <th rowspan=\"2\" valign=\"top\">between</th>\n",
       "      <th>MLP</th>\n",
       "      <td>$0.3036 \\pm 0.0070$</td>\n",
       "      <td>$-0.0187 \\pm 0.0069$</td>\n",
       "    </tr>\n",
       "    <tr>\n",
       "      <th>CNN</th>\n",
       "      <td>$0.4531 \\pm 0.0147$</td>\n",
       "      <td>$-0.0007 \\pm 0.0002$</td>\n",
       "    </tr>\n",
       "  </tbody>\n",
       "</table>\n",
       "</div>"
      ],
      "text/plain": [
       "                     Train 5 $\\rightarrow$ Test 10  \\\n",
       "above    MLP                   $0.1125 \\pm 0.0052$   \n",
       "         CNN                   $0.0214 \\pm 0.0035$   \n",
       "         RelationNet           $0.1024 \\pm 0.0082$   \n",
       "         transformer           $0.0287 \\pm 0.0144$   \n",
       "adjacent MLP                   $0.1264 \\pm 0.0036$   \n",
       "         CNN                   $0.2549 \\pm 0.0539$   \n",
       "         RelationNet           $0.4148 \\pm 0.0062$   \n",
       "         transformer           $0.1887 \\pm 0.0075$   \n",
       "between  MLP                   $0.3036 \\pm 0.0070$   \n",
       "         CNN                   $0.4531 \\pm 0.0147$   \n",
       "\n",
       "                     Train 10 $\\rightarrow$ Test 5  \n",
       "above    MLP                   $0.0161 \\pm 0.0159$  \n",
       "         CNN                   $0.0147 \\pm 0.0028$  \n",
       "         RelationNet           $0.0192 \\pm 0.0034$  \n",
       "         transformer           $0.0107 \\pm 0.0082$  \n",
       "adjacent MLP                   $0.0250 \\pm 0.0034$  \n",
       "         CNN                   $0.1665 \\pm 0.0744$  \n",
       "         RelationNet           $0.1876 \\pm 0.0054$  \n",
       "         transformer           $0.0657 \\pm 0.0098$  \n",
       "between  MLP                  $-0.0187 \\pm 0.0069$  \n",
       "         CNN                  $-0.0007 \\pm 0.0002$  "
      ]
     },
     "execution_count": 104,
     "metadata": {},
     "output_type": "execute_result"
    }
   ],
   "source": [
    "generalization_test_table(all_results_fixed_cnn_df, \n",
    "                 filter_dict=dict(model_config='default', dataset_size=65536,\n",
    "                                  model_name=['combined-object-mlp', 'fixed-cnn',\n",
    "                                              'relation-net', 'transformer']\n",
    "                                 ), \n",
    "                 group_by_fields=('relation', 'model_name', 'num_objects')).head(10)"
   ]
  },
  {
   "cell_type": "code",
   "execution_count": 119,
   "metadata": {},
   "outputs": [
    {
     "name": "stderr",
     "output_type": "stream",
     "text": [
      "/Users/guydavidson/opt/anaconda3/lib/python3.6/site-packages/ipykernel_launcher.py:57: FutureWarning: Interpreting tuple 'by' as a list of keys, rather than a single key. Use 'by=[...]' instead of 'by=(...)'. In the future, a tuple will always mean a single key.\n"
     ]
    },
    {
     "data": {
      "image/png": "[encoded data removed]",
      "text/plain": [
       "<Figure size 576x432 with 1 Axes>"
      ]
     },
     "metadata": {
      "needs_background": "light"
     },
     "output_type": "display_data"
    }
   ],
   "source": [
    "create_bar_chart(all_results_fixed_cnn_df, \n",
    "                 filter_dict=dict(model_config='default', num_objects=5, dataset_power=14), \n",
    "                 group_by_fields=('relation', 'model_name'),\n",
    "                 metric='max_val_acc', legend_loc='lower right',\n",
    "                 save_path='default_5_16k_group_by_relation.pdf',\n",
    "#                  title='Default settings (5 objects, 16k examples) by relation and model size'\n",
    "                )\n"
   ]
  },
  {
   "cell_type": "code",
   "execution_count": 92,
   "metadata": {},
   "outputs": [
    {
     "name": "stderr",
     "output_type": "stream",
     "text": [
      "/Users/guydavidson/opt/anaconda3/lib/python3.6/site-packages/ipykernel_launcher.py:54: FutureWarning: Interpreting tuple 'by' as a list of keys, rather than a single key. Use 'by=[...]' instead of 'by=(...)'. In the future, a tuple will always mean a single key.\n"
     ]
    },
    {
     "data": {
      "image/png": "[encoded data removed]",
      "text/plain": [
       "<Figure size 576x432 with 1 Axes>"
      ]
     },
     "metadata": {
      "needs_background": "light"
     },
     "output_type": "display_data"
    }
   ],
   "source": [
    "create_bar_chart(all_results_fixed_cnn_df, \n",
    "                 filter_dict=dict(model_config='default', num_objects=10, dataset_power=14), \n",
    "                 group_by_fields=('relation', 'model_name'),\n",
    "                 metric='max_val_acc',\n",
    "                 save_path='default_10_16k_group_by_relation.pdf',\n",
    "#                  title='Default settings (10 objects, 16k examples) by relation and model size'\n",
    "                )\n"
   ]
  },
  {
   "cell_type": "code",
   "execution_count": 27,
   "metadata": {},
   "outputs": [
    {
     "name": "stderr",
     "output_type": "stream",
     "text": [
      "/Users/guydavidson/opt/anaconda3/lib/python3.6/site-packages/ipykernel_launcher.py:74: FutureWarning: Interpreting tuple 'by' as a list of keys, rather than a single key. Use 'by=[...]' instead of 'by=(...)'. In the future, a tuple will always mean a single key.\n"
     ]
    },
    {
     "data": {
      "image/png": "[encoded data removed]",
      "text/plain": [
       "<Figure size 576x432 with 1 Axes>"
      ]
     },
     "metadata": {
      "needs_background": "light"
     },
     "output_type": "display_data"
    },
    {
     "data": {
      "image/png": "[encoded data removed]",
      "text/plain": [
       "<Figure size 576x432 with 1 Axes>"
      ]
     },
     "metadata": {
      "needs_background": "light"
     },
     "output_type": "display_data"
    }
   ],
   "source": [
    "df = create_bar_chart(all_results_fixed_cnn_df, \n",
    "                 filter_dict=dict(model_config='default', num_objects=10, relation='adjacent'), \n",
    "                 group_by_fields=('dataset_size', 'model_name'),\n",
    "                 metric='max_val_acc',\n",
    "#                  save_path='default_5_adjacent_group_by_dataset_size.pdf',\n",
    "#                  title='Dataset size effect, adjacent relation'\n",
    "                     )\n",
    "\n",
    "\n",
    "create_bar_chart(all_results_fixed_cnn_df, \n",
    "                 filter_dict=dict(model_config='default', num_objects=10, relation='between'), \n",
    "                 group_by_fields=('dataset_size', 'model_name'),\n",
    "                 metric='max_val_acc',\n",
    "                 save_path='default_10_between_group_by_dataset_size.pdf',\n",
    "#                  title='Dataset size effect, between relation'\n",
    "                )\n"
   ]
  },
  {
   "cell_type": "code",
   "execution_count": 112,
   "metadata": {},
   "outputs": [
    {
     "data": {
      "image/png": "[encoded data removed]",
      "text/plain": [
       "<Figure size 576x432 with 1 Axes>"
      ]
     },
     "metadata": {
      "needs_background": "light"
     },
     "output_type": "display_data"
    },
    {
     "data": {
      "image/png": "[encoded data removed]",
      "text/plain": [
       "<Figure size 576x432 with 1 Axes>"
      ]
     },
     "metadata": {
      "needs_background": "light"
     },
     "output_type": "display_data"
    }
   ],
   "source": [
    "create_bar_chart(all_results_fixed_cnn_df, \n",
    "                 filter_dict=dict(model_config='default', relation='adjacent',\n",
    "                                  model_name=['fixed-cnn', 'relation-net', 'transformer']), \n",
    "                 group_by_fields=['dataset_size', 'model_name', 'num_objects'],\n",
    "                 metric='max_val_acc', legend_loc='lower right',\n",
    "                 save_path='default_adjacent_group_by_dataset_size_and_num_objects.pdf'\n",
    "                )\n",
    "\n",
    "\n",
    "create_bar_chart(all_results_fixed_cnn_df, \n",
    "                 filter_dict=dict(model_config='default', relation='between',\n",
    "                                  model_name=['fixed-cnn', 'relation-net', 'transformer']), \n",
    "                 group_by_fields=['dataset_size', 'model_name', 'num_objects'],\n",
    "                 metric='max_val_acc', legend_loc='lower right',\n",
    "                 save_path='default_between_group_by_dataset_size_and_num_objects.pdf'\n",
    "                )\n",
    "\n"
   ]
  },
  {
   "cell_type": "code",
   "execution_count": 96,
   "metadata": {},
   "outputs": [
    {
     "data": {
      "image/png": "[encoded data removed]",
      "text/plain": [
       "<Figure size 576x432 with 1 Axes>"
      ]
     },
     "metadata": {
      "needs_background": "light"
     },
     "output_type": "display_data"
    },
    {
     "data": {
      "image/png": "[encoded data removed]",
      "text/plain": [
       "<Figure size 576x432 with 1 Axes>"
      ]
     },
     "metadata": {
      "needs_background": "light"
     },
     "output_type": "display_data"
    }
   ],
   "source": [
    "create_bar_chart(all_results_fixed_cnn_df, \n",
    "                 filter_dict=dict(relation='adjacent', dataset_power=16,\n",
    "#                                   model_name=['relation-net', 'transformer']\n",
    "                                 ), \n",
    "                 group_by_fields=['model_config', 'model_name', 'num_objects'],\n",
    "                 metric='max_val_acc', legend_loc='lower right',\n",
    "                 save_path='adjacent_group_by_model_config_and_num_objects.pdf'\n",
    "                )\n",
    "\n",
    "\n",
    "create_bar_chart(all_results_fixed_cnn_df, \n",
    "                 filter_dict=dict(relation='between', dataset_power=16,\n",
    "#                                   model_name=['relation-net', 'transformer']\n",
    "                                 ), \n",
    "                 group_by_fields=['model_config', 'model_name', 'num_objects'],\n",
    "                 metric='max_val_acc', legend_loc='lower right',\n",
    "                 save_path='between_group_by_model_config_and_num_objects.pdf'\n",
    "                )\n",
    "\n"
   ]
  },
  {
   "cell_type": "code",
   "execution_count": 31,
   "metadata": {},
   "outputs": [
    {
     "data": {
      "image/png": "[encoded data removed]",
      "text/plain": [
       "<Figure size 576x432 with 1 Axes>"
      ]
     },
     "metadata": {
      "needs_background": "light"
     },
     "output_type": "display_data"
    },
    {
     "data": {
      "image/png": "[encoded data removed]",
      "text/plain": [
       "<Figure size 576x432 with 1 Axes>"
      ]
     },
     "metadata": {
      "needs_background": "light"
     },
     "output_type": "display_data"
    }
   ],
   "source": [
    "create_bar_chart(all_results_fixed_cnn_df, \n",
    "                 filter_dict=dict(model_config='default', # relation=['adjacent', 'between'],\n",
    "                                  dataset_power=16, model_name=['fixed-cnn', 'relation-net', 'transformer']\n",
    "                                 ), \n",
    "                 group_by_fields=['relation', 'model_name', 'num_objects'],\n",
    "                 metric='num_objects_gen_test_acc', shade_metric='max_val_acc', legend_loc='lower right',\n",
    "                 save_path='generalization_test_default_models.pdf'\n",
    "                )\n",
    "\n",
    "\n",
    "create_bar_chart(all_results_fixed_cnn_df, \n",
    "                 filter_dict=dict(model_config='larger', # relation=['adjacent', 'between'],\n",
    "                                  dataset_power=16, model_name=['fixed-cnn', 'relation-net', 'transformer']\n",
    "                                 ), \n",
    "                 group_by_fields=['relation', 'model_name', 'num_objects'],\n",
    "                 metric='num_objects_gen_test_acc', shade_metric='max_val_acc', legend_loc='lower right',\n",
    "                 save_path='generalization_test_larger_models.pdf'\n",
    "                )\n"
   ]
  },
  {
   "cell_type": "code",
   "execution_count": 109,
   "metadata": {},
   "outputs": [
    {
     "name": "stderr",
     "output_type": "stream",
     "text": [
      "/Users/guydavidson/opt/anaconda3/lib/python3.6/site-packages/ipykernel_launcher.py:57: FutureWarning: Interpreting tuple 'by' as a list of keys, rather than a single key. Use 'by=[...]' instead of 'by=(...)'. In the future, a tuple will always mean a single key.\n"
     ]
    },
    {
     "data": {
      "text/html": [
       "<div>\n",
       "<style scoped>\n",
       "    .dataframe tbody tr th:only-of-type {\n",
       "        vertical-align: middle;\n",
       "    }\n",
       "\n",
       "    .dataframe tbody tr th {\n",
       "        vertical-align: top;\n",
       "    }\n",
       "\n",
       "    .dataframe thead th {\n",
       "        text-align: right;\n",
       "    }\n",
       "</style>\n",
       "<table border=\"1\" class=\"dataframe\">\n",
       "  <thead>\n",
       "    <tr style=\"text-align: right;\">\n",
       "      <th></th>\n",
       "      <th></th>\n",
       "      <th>Train 5 $\\rightarrow$ Test 10</th>\n",
       "      <th>Train 10 $\\rightarrow$ Test 5</th>\n",
       "    </tr>\n",
       "  </thead>\n",
       "  <tbody>\n",
       "    <tr>\n",
       "      <th rowspan=\"4\" valign=\"top\">above</th>\n",
       "      <th>MLP</th>\n",
       "      <td>$0.112 \\pm 0.005$</td>\n",
       "      <td>$0.016 \\pm 0.016$</td>\n",
       "    </tr>\n",
       "    <tr>\n",
       "      <th>CNN</th>\n",
       "      <td>$0.021 \\pm 0.004$</td>\n",
       "      <td>$0.015 \\pm 0.003$</td>\n",
       "    </tr>\n",
       "    <tr>\n",
       "      <th>RelationNet</th>\n",
       "      <td>$0.102 \\pm 0.008$</td>\n",
       "      <td>$0.019 \\pm 0.003$</td>\n",
       "    </tr>\n",
       "    <tr>\n",
       "      <th>Transformer</th>\n",
       "      <td>$0.029 \\pm 0.014$</td>\n",
       "      <td>$0.011 \\pm 0.008$</td>\n",
       "    </tr>\n",
       "    <tr>\n",
       "      <th rowspan=\"4\" valign=\"top\">adjacent</th>\n",
       "      <th>MLP</th>\n",
       "      <td>$0.126 \\pm 0.004$</td>\n",
       "      <td>$0.025 \\pm 0.003$</td>\n",
       "    </tr>\n",
       "    <tr>\n",
       "      <th>CNN</th>\n",
       "      <td>$0.255 \\pm 0.054$</td>\n",
       "      <td>$0.167 \\pm 0.074$</td>\n",
       "    </tr>\n",
       "    <tr>\n",
       "      <th>RelationNet</th>\n",
       "      <td>$0.415 \\pm 0.006$</td>\n",
       "      <td>$0.188 \\pm 0.005$</td>\n",
       "    </tr>\n",
       "    <tr>\n",
       "      <th>Transformer</th>\n",
       "      <td>$0.189 \\pm 0.007$</td>\n",
       "      <td>$0.066 \\pm 0.010$</td>\n",
       "    </tr>\n",
       "    <tr>\n",
       "      <th rowspan=\"2\" valign=\"top\">between</th>\n",
       "      <th>MLP</th>\n",
       "      <td>$0.304 \\pm 0.007$</td>\n",
       "      <td>$-0.019 \\pm 0.007$</td>\n",
       "    </tr>\n",
       "    <tr>\n",
       "      <th>CNN</th>\n",
       "      <td>$0.453 \\pm 0.015$</td>\n",
       "      <td>$-0.001 \\pm 0.000$</td>\n",
       "    </tr>\n",
       "  </tbody>\n",
       "</table>\n",
       "</div>"
      ],
      "text/plain": [
       "                     Train 5 $\\rightarrow$ Test 10  \\\n",
       "above    MLP                     $0.112 \\pm 0.005$   \n",
       "         CNN                     $0.021 \\pm 0.004$   \n",
       "         RelationNet             $0.102 \\pm 0.008$   \n",
       "         Transformer             $0.029 \\pm 0.014$   \n",
       "adjacent MLP                     $0.126 \\pm 0.004$   \n",
       "         CNN                     $0.255 \\pm 0.054$   \n",
       "         RelationNet             $0.415 \\pm 0.006$   \n",
       "         Transformer             $0.189 \\pm 0.007$   \n",
       "between  MLP                     $0.304 \\pm 0.007$   \n",
       "         CNN                     $0.453 \\pm 0.015$   \n",
       "\n",
       "                     Train 10 $\\rightarrow$ Test 5  \n",
       "above    MLP                     $0.016 \\pm 0.016$  \n",
       "         CNN                     $0.015 \\pm 0.003$  \n",
       "         RelationNet             $0.019 \\pm 0.003$  \n",
       "         Transformer             $0.011 \\pm 0.008$  \n",
       "adjacent MLP                     $0.025 \\pm 0.003$  \n",
       "         CNN                     $0.167 \\pm 0.074$  \n",
       "         RelationNet             $0.188 \\pm 0.005$  \n",
       "         Transformer             $0.066 \\pm 0.010$  \n",
       "between  MLP                    $-0.019 \\pm 0.007$  \n",
       "         CNN                    $-0.001 \\pm 0.000$  "
      ]
     },
     "execution_count": 109,
     "metadata": {},
     "output_type": "execute_result"
    }
   ],
   "source": [
    "small_gen_table = generalization_test_table(all_results_fixed_cnn_df, \n",
    "                                            filter_dict=dict(model_config='default', dataset_size=65536,\n",
    "                                                             model_name=['combined-object-mlp', 'fixed-cnn',\n",
    "                                                                         'relation-net', 'transformer']\n",
    "                                                            ), \n",
    "                                            group_by_fields=('relation', 'model_name', 'num_objects'))\n",
    "\n",
    "small_gen_table.head(10)"
   ]
  },
  {
   "cell_type": "code",
   "execution_count": 110,
   "metadata": {},
   "outputs": [
    {
     "name": "stdout",
     "output_type": "stream",
     "text": [
      "\\begin{tabular}{llll}\n",
      "\\toprule\n",
      "      &             & Train 5 $\\rightarrow$ Test 10 & Train 10 $\\rightarrow$ Test 5 \\\\\n",
      "\\midrule\n",
      "above & MLP &             $0.112 \\pm 0.005$ &             $0.016 \\pm 0.016$ \\\\\n",
      "      & CNN &             $0.021 \\pm 0.004$ &             $0.015 \\pm 0.003$ \\\\\n",
      "      & RelationNet &             $0.102 \\pm 0.008$ &             $0.019 \\pm 0.003$ \\\\\n",
      "      & Transformer &             $0.029 \\pm 0.014$ &             $0.011 \\pm 0.008$ \\\\\n",
      "adjacent & MLP &             $0.126 \\pm 0.004$ &             $0.025 \\pm 0.003$ \\\\\n",
      "      & CNN &             $0.255 \\pm 0.054$ &             $0.167 \\pm 0.074$ \\\\\n",
      "      & RelationNet &             $0.415 \\pm 0.006$ &             $0.188 \\pm 0.005$ \\\\\n",
      "      & Transformer &             $0.189 \\pm 0.007$ &             $0.066 \\pm 0.010$ \\\\\n",
      "between & MLP &             $0.304 \\pm 0.007$ &            $-0.019 \\pm 0.007$ \\\\\n",
      "      & CNN &             $0.453 \\pm 0.015$ &            $-0.001 \\pm 0.000$ \\\\\n",
      "      & RelationNet &             $0.492 \\pm 0.001$ &             $0.038 \\pm 0.021$ \\\\\n",
      "      & Transformer &             $0.339 \\pm 0.015$ &            $-0.073 \\pm 0.036$ \\\\\n",
      "count & MLP &             $0.057 \\pm 0.014$ &             $0.000 \\pm 0.000$ \\\\\n",
      "      & CNN &             $0.276 \\pm 0.044$ &             $0.202 \\pm 0.022$ \\\\\n",
      "      & RelationNet &             $0.060 \\pm 0.020$ &             $0.000 \\pm 0.000$ \\\\\n",
      "      & Transformer &             $0.075 \\pm 0.014$ &             $0.000 \\pm 0.000$ \\\\\n",
      "\\bottomrule\n",
      "\\end{tabular}\n",
      "\n"
     ]
    }
   ],
   "source": [
    "print(small_gen_table.to_latex(escape=False))"
   ]
  },
  {
   "cell_type": "code",
   "execution_count": 115,
   "metadata": {},
   "outputs": [
    {
     "name": "stderr",
     "output_type": "stream",
     "text": [
      "/Users/guydavidson/opt/anaconda3/lib/python3.6/site-packages/ipykernel_launcher.py:57: FutureWarning: Interpreting tuple 'by' as a list of keys, rather than a single key. Use 'by=[...]' instead of 'by=(...)'. In the future, a tuple will always mean a single key.\n"
     ]
    },
    {
     "data": {
      "text/html": [
       "<div>\n",
       "<style scoped>\n",
       "    .dataframe tbody tr th:only-of-type {\n",
       "        vertical-align: middle;\n",
       "    }\n",
       "\n",
       "    .dataframe tbody tr th {\n",
       "        vertical-align: top;\n",
       "    }\n",
       "\n",
       "    .dataframe thead th {\n",
       "        text-align: right;\n",
       "    }\n",
       "</style>\n",
       "<table border=\"1\" class=\"dataframe\">\n",
       "  <thead>\n",
       "    <tr style=\"text-align: right;\">\n",
       "      <th></th>\n",
       "      <th></th>\n",
       "      <th></th>\n",
       "      <th></th>\n",
       "      <th>Train \\&amp; Test 5</th>\n",
       "      <th>Train 5 $\\rightarrow$ Test 10</th>\n",
       "      <th>Train \\&amp; Test 10</th>\n",
       "      <th>Train 10 $\\rightarrow$ Test 5</th>\n",
       "    </tr>\n",
       "  </thead>\n",
       "  <tbody>\n",
       "    <tr>\n",
       "      <th rowspan=\"10\" valign=\"top\">default</th>\n",
       "      <th rowspan=\"10\" valign=\"top\">4096</th>\n",
       "      <th rowspan=\"4\" valign=\"top\">above</th>\n",
       "      <th>MLP</th>\n",
       "      <td>$0.935$</td>\n",
       "      <td>$0.108 \\pm 0.007$</td>\n",
       "      <td>$0.918$</td>\n",
       "      <td>$0.015 \\pm 0.016$</td>\n",
       "    </tr>\n",
       "    <tr>\n",
       "      <th>CNN</th>\n",
       "      <td>$0.948$</td>\n",
       "      <td>$0.058 \\pm 0.010$</td>\n",
       "      <td>$0.929$</td>\n",
       "      <td>$0.040 \\pm 0.010$</td>\n",
       "    </tr>\n",
       "    <tr>\n",
       "      <th>RelationNet</th>\n",
       "      <td>$0.981$</td>\n",
       "      <td>$0.124 \\pm 0.006$</td>\n",
       "      <td>$0.915$</td>\n",
       "      <td>$0.050 \\pm 0.061$</td>\n",
       "    </tr>\n",
       "    <tr>\n",
       "      <th>Transformer</th>\n",
       "      <td>$0.987$</td>\n",
       "      <td>$0.045 \\pm 0.025$</td>\n",
       "      <td>$0.994$</td>\n",
       "      <td>$0.011 \\pm 0.011$</td>\n",
       "    </tr>\n",
       "    <tr>\n",
       "      <th rowspan=\"4\" valign=\"top\">adjacent</th>\n",
       "      <th>MLP</th>\n",
       "      <td>$0.599$</td>\n",
       "      <td>$0.069 \\pm 0.003$</td>\n",
       "      <td>$0.544$</td>\n",
       "      <td>$-0.007 \\pm 0.003$</td>\n",
       "    </tr>\n",
       "    <tr>\n",
       "      <th>CNN</th>\n",
       "      <td>$0.998$</td>\n",
       "      <td>$0.270 \\pm 0.041$</td>\n",
       "      <td>$0.994$</td>\n",
       "      <td>$0.379 \\pm 0.050$</td>\n",
       "    </tr>\n",
       "    <tr>\n",
       "      <th>RelationNet</th>\n",
       "      <td>$0.759$</td>\n",
       "      <td>$0.256 \\pm 0.012$</td>\n",
       "      <td>$0.550$</td>\n",
       "      <td>$-0.023 \\pm 0.009$</td>\n",
       "    </tr>\n",
       "    <tr>\n",
       "      <th>Transformer</th>\n",
       "      <td>$0.609$</td>\n",
       "      <td>$0.086 \\pm 0.007$</td>\n",
       "      <td>$0.546$</td>\n",
       "      <td>$-0.004 \\pm 0.003$</td>\n",
       "    </tr>\n",
       "    <tr>\n",
       "      <th rowspan=\"2\" valign=\"top\">between</th>\n",
       "      <th>MLP</th>\n",
       "      <td>$0.782$</td>\n",
       "      <td>$0.223 \\pm 0.008$</td>\n",
       "      <td>$0.630$</td>\n",
       "      <td>$-0.025 \\pm 0.006$</td>\n",
       "    </tr>\n",
       "    <tr>\n",
       "      <th>CNN</th>\n",
       "      <td>$0.992$</td>\n",
       "      <td>$0.472 \\pm 0.008$</td>\n",
       "      <td>$0.969$</td>\n",
       "      <td>$0.162 \\pm 0.055$</td>\n",
       "    </tr>\n",
       "  </tbody>\n",
       "</table>\n",
       "</div>"
      ],
      "text/plain": [
       "                                  Train \\& Test 5  \\\n",
       "default 4096 above    MLP                 $0.935$   \n",
       "                      CNN                 $0.948$   \n",
       "                      RelationNet         $0.981$   \n",
       "                      Transformer         $0.987$   \n",
       "             adjacent MLP                 $0.599$   \n",
       "                      CNN                 $0.998$   \n",
       "                      RelationNet         $0.759$   \n",
       "                      Transformer         $0.609$   \n",
       "             between  MLP                 $0.782$   \n",
       "                      CNN                 $0.992$   \n",
       "\n",
       "                                  Train 5 $\\rightarrow$ Test 10  \\\n",
       "default 4096 above    MLP                     $0.108 \\pm 0.007$   \n",
       "                      CNN                     $0.058 \\pm 0.010$   \n",
       "                      RelationNet             $0.124 \\pm 0.006$   \n",
       "                      Transformer             $0.045 \\pm 0.025$   \n",
       "             adjacent MLP                     $0.069 \\pm 0.003$   \n",
       "                      CNN                     $0.270 \\pm 0.041$   \n",
       "                      RelationNet             $0.256 \\pm 0.012$   \n",
       "                      Transformer             $0.086 \\pm 0.007$   \n",
       "             between  MLP                     $0.223 \\pm 0.008$   \n",
       "                      CNN                     $0.472 \\pm 0.008$   \n",
       "\n",
       "                                  Train \\& Test 10  \\\n",
       "default 4096 above    MLP                  $0.918$   \n",
       "                      CNN                  $0.929$   \n",
       "                      RelationNet          $0.915$   \n",
       "                      Transformer          $0.994$   \n",
       "             adjacent MLP                  $0.544$   \n",
       "                      CNN                  $0.994$   \n",
       "                      RelationNet          $0.550$   \n",
       "                      Transformer          $0.546$   \n",
       "             between  MLP                  $0.630$   \n",
       "                      CNN                  $0.969$   \n",
       "\n",
       "                                  Train 10 $\\rightarrow$ Test 5  \n",
       "default 4096 above    MLP                     $0.015 \\pm 0.016$  \n",
       "                      CNN                     $0.040 \\pm 0.010$  \n",
       "                      RelationNet             $0.050 \\pm 0.061$  \n",
       "                      Transformer             $0.011 \\pm 0.011$  \n",
       "             adjacent MLP                    $-0.007 \\pm 0.003$  \n",
       "                      CNN                     $0.379 \\pm 0.050$  \n",
       "                      RelationNet            $-0.023 \\pm 0.009$  \n",
       "                      Transformer            $-0.004 \\pm 0.003$  \n",
       "             between  MLP                    $-0.025 \\pm 0.006$  \n",
       "                      CNN                     $0.162 \\pm 0.055$  "
      ]
     },
     "execution_count": 115,
     "metadata": {},
     "output_type": "execute_result"
    }
   ],
   "source": [
    "large_gen_table = generalization_test_table(\n",
    "    all_results_fixed_cnn_df, \n",
    "    filter_dict=dict(model_name=['combined-object-mlp', 'fixed-cnn',\n",
    "                                 'relation-net', 'transformer']\n",
    "                    ), \n",
    "    group_by_fields=('model_config', 'dataset_size', 'relation', 'model_name', 'num_objects'),\n",
    "    baseline=True)\n",
    "\n",
    "large_gen_table.head(10)"
   ]
  },
  {
   "cell_type": "code",
   "execution_count": 118,
   "metadata": {
    "scrolled": false
   },
   "outputs": [],
   "source": [
    "large_gen_table.to_latex('./figures/full_generalization_table.txt', escape=False)"
   ]
  },
  {
   "cell_type": "markdown",
   "metadata": {},
   "source": [
    "# Make a big 'ol table"
   ]
  },
  {
   "cell_type": "code",
   "execution_count": null,
   "metadata": {},
   "outputs": [],
   "source": [
    "table_group_by_columns = ['model_config', 'num_objects', 'dataset_size', 'relation', 'model_name']\n",
    "custom_sorted_res = all_results_df.copy()\n",
    "custom_sorted_res['model_name'] = pd.Categorical(custom_sorted_res['model_name'], \n",
    "                                                 ['combined-object-mlp', 'cnn', 'relation-net', 'transformer'])\n",
    "custom_sorted_res['relation'] = pd.Categorical(custom_sorted_res['relation'], \n",
    "                                                 ['adjacent', 'above', 'count'])\n",
    "\n",
    "custom_sorted_res = custom_sorted_res.sort_values('model_name').sort_values('relation')\n",
    "\n",
    "grouped = custom_sorted_res.groupby(table_group_by_columns, as_index=False)\n",
    "mean = grouped.mean()\n",
    "mean.to_latex('./figures/result_table.txt', \n",
    "              columns=table_group_by_columns + ['max_val_acc', 'acc_diff'],\n",
    "              float_format='%.3f', index=False, bold_rows=True)"
   ]
  },
  {
   "cell_type": "code",
   "execution_count": null,
   "metadata": {},
   "outputs": [],
   "source": []
  },
  {
   "cell_type": "code",
   "execution_count": null,
   "metadata": {},
   "outputs": [],
   "source": []
  },
  {
   "cell_type": "code",
   "execution_count": null,
   "metadata": {},
   "outputs": [],
   "source": [
    "all_results_df.head()"
   ]
  },
  {
   "cell_type": "code",
   "execution_count": null,
   "metadata": {},
   "outputs": [],
   "source": [
    "all_results_df[all_results_df.model_name != 'cnn'].acc_diff.max()"
   ]
  },
  {
   "cell_type": "code",
   "execution_count": null,
   "metadata": {},
   "outputs": [],
   "source": [
    "all_results_df.acc_diff.max()"
   ]
  },
  {
   "cell_type": "code",
   "execution_count": null,
   "metadata": {},
   "outputs": [],
   "source": [
    "all_results_df[all_results_df.model_name == 'cnn'].acc_diff.max()"
   ]
  },
  {
   "cell_type": "code",
   "execution_count": null,
   "metadata": {},
   "outputs": [],
   "source": [
    "r = all_results_df[all_results_df.model_config == 'larger']\n",
    "r.head()\n",
    "# r = r[r.model_name.is != 'cnn']\n",
    "# r = r[r.model_name != 'combined-object-mlp']\n",
    "# r.loc[r.max_val_acc.idxmin()]"
   ]
  },
  {
   "cell_type": "code",
   "execution_count": null,
   "metadata": {},
   "outputs": [],
   "source": [
    "r.num_objects.unique()"
   ]
  },
  {
   "cell_type": "code",
   "execution_count": null,
   "metadata": {},
   "outputs": [],
   "source": [
    "r.dataset_size.unique()"
   ]
  },
  {
   "cell_type": "code",
   "execution_count": null,
   "metadata": {},
   "outputs": [],
   "source": [
    "r.relation.unique()"
   ]
  },
  {
   "cell_type": "code",
   "execution_count": null,
   "metadata": {},
   "outputs": [],
   "source": [
    "all_results_df.groupby(['model_config', 'model_name']).total_params.mean()"
   ]
  },
  {
   "cell_type": "code",
   "execution_count": null,
   "metadata": {},
   "outputs": [],
   "source": [
    "all_results_fixed_checkpoints_df[all_results_fixed_checkpoints_df.model_config != 'default']"
   ]
  },
  {
   "cell_type": "code",
   "execution_count": null,
   "metadata": {},
   "outputs": [],
   "source": [
    "4 * 2 * 3 * 4 * 10"
   ]
  },
  {
   "cell_type": "code",
   "execution_count": null,
   "metadata": {},
   "outputs": [],
   "source": [
    "4 * 2 * 4 * 10"
   ]
  },
  {
   "cell_type": "code",
   "execution_count": null,
   "metadata": {},
   "outputs": [],
   "source": [
    "partial_df.groupby('model_name').mean()"
   ]
  },
  {
   "cell_type": "code",
   "execution_count": null,
   "metadata": {},
   "outputs": [],
   "source": [
    "for relation in ('adjacent', 'above', 'count'):\n",
    "    d = partial_df[partial_df['relation'] == relation]\n",
    "    print(d.head())\n",
    "    print(d.groupby('model_name').max_val_acc.mean())"
   ]
  },
  {
   "cell_type": "code",
   "execution_count": null,
   "metadata": {},
   "outputs": [],
   "source": [
    "partial_df.groupby(['relation', 'model_name']).mean()"
   ]
  },
  {
   "cell_type": "code",
   "execution_count": null,
   "metadata": {},
   "outputs": [],
   "source": [
    "'hello world'.title()"
   ]
  },
  {
   "cell_type": "code",
   "execution_count": null,
   "metadata": {},
   "outputs": [],
   "source": []
  },
  {
   "cell_type": "code",
   "execution_count": null,
   "metadata": {},
   "outputs": [],
   "source": [
    "partial_df.head()"
   ]
  },
  {
   "cell_type": "code",
   "execution_count": null,
   "metadata": {},
   "outputs": [],
   "source": [
    "partial_df.tail()"
   ]
  },
  {
   "cell_type": "code",
   "execution_count": null,
   "metadata": {},
   "outputs": [],
   "source": []
  },
  {
   "cell_type": "code",
   "execution_count": null,
   "metadata": {},
   "outputs": [],
   "source": [
    "d = all_results_df.copy()"
   ]
  },
  {
   "cell_type": "code",
   "execution_count": null,
   "metadata": {},
   "outputs": [],
   "source": [
    "e = d[d['relation'].eq('adjacent')]"
   ]
  },
  {
   "cell_type": "code",
   "execution_count": null,
   "metadata": {},
   "outputs": [],
   "source": [
    "d.shape, e.shape"
   ]
  },
  {
   "cell_type": "code",
   "execution_count": null,
   "metadata": {
    "scrolled": true
   },
   "outputs": [],
   "source": [
    "g = e.groupby(['num_objects', 'model_name'])"
   ]
  },
  {
   "cell_type": "code",
   "execution_count": null,
   "metadata": {},
   "outputs": [],
   "source": [
    "np.sqrt(g['relation'].count())"
   ]
  },
  {
   "cell_type": "code",
   "execution_count": null,
   "metadata": {},
   "outputs": [],
   "source": [
    "r = g.max_val_acc.mean()"
   ]
  },
  {
   "cell_type": "code",
   "execution_count": null,
   "metadata": {},
   "outputs": [],
   "source": [
    "r.index.unique()"
   ]
  },
  {
   "cell_type": "code",
   "execution_count": null,
   "metadata": {},
   "outputs": [],
   "source": [
    "r.loc[(5, 'cnn')]"
   ]
  },
  {
   "cell_type": "code",
   "execution_count": null,
   "metadata": {},
   "outputs": [],
   "source": [
    "r.index.get_level_values('num_objects')"
   ]
  },
  {
   "cell_type": "code",
   "execution_count": null,
   "metadata": {},
   "outputs": [],
   "source": [
    "history_df = r.history(samples=10000)"
   ]
  },
  {
   "cell_type": "code",
   "execution_count": null,
   "metadata": {},
   "outputs": [],
   "source": [
    "history_df.columns"
   ]
  },
  {
   "cell_type": "code",
   "execution_count": null,
   "metadata": {},
   "outputs": [],
   "source": [
    "history_df.val_acc.idxmax()"
   ]
  },
  {
   "cell_type": "code",
   "execution_count": null,
   "metadata": {},
   "outputs": [],
   "source": [
    "history_df.iloc[3545]"
   ]
  },
  {
   "cell_type": "code",
   "execution_count": null,
   "metadata": {},
   "outputs": [],
   "source": [
    "history_df.iloc[:25]"
   ]
  },
  {
   "cell_type": "code",
   "execution_count": null,
   "metadata": {},
   "outputs": [],
   "source": [
    "2 => 1\n",
    "5 => 2\n",
    "8 => 3"
   ]
  },
  {
   "cell_type": "code",
   "execution_count": null,
   "metadata": {},
   "outputs": [],
   "source": [
    "h2 = runs[28].history()\n",
    "h2[:20]"
   ]
  },
  {
   "cell_type": "code",
   "execution_count": null,
   "metadata": {},
   "outputs": [],
   "source": [
    "h2.val_acc.isnull().sum()"
   ]
  },
  {
   "cell_type": "code",
   "execution_count": null,
   "metadata": {},
   "outputs": [],
   "source": [
    "history_df.val_acc[:501].isnull().sum()"
   ]
  },
  {
   "cell_type": "code",
   "execution_count": null,
   "metadata": {},
   "outputs": [],
   "source": [
    "(h2.val_acc > 0.8).idxmax()"
   ]
  },
  {
   "cell_type": "code",
   "execution_count": null,
   "metadata": {},
   "outputs": [],
   "source": [
    "h2.train_acc.max() - h2.val_acc.max()"
   ]
  },
  {
   "cell_type": "code",
   "execution_count": null,
   "metadata": {},
   "outputs": [],
   "source": [
    "run = api.run('simple-relational-reasoning-fixed-checkpoints/count-relation-default-models-5-objects-4096-dataset/o6p5tg8f')"
   ]
  },
  {
   "cell_type": "code",
   "execution_count": null,
   "metadata": {},
   "outputs": [],
   "source": [
    "parse_run(run)"
   ]
  },
  {
   "cell_type": "code",
   "execution_count": null,
   "metadata": {},
   "outputs": [],
   "source": [
    "files = run.files()"
   ]
  },
  {
   "cell_type": "code",
   "execution_count": null,
   "metadata": {},
   "outputs": [],
   "source": [
    "[f for f in files]"
   ]
  },
  {
   "cell_type": "code",
   "execution_count": null,
   "metadata": {},
   "outputs": [],
   "source": [
    "f = files[0]"
   ]
  },
  {
   "cell_type": "code",
   "execution_count": null,
   "metadata": {},
   "outputs": [],
   "source": [
    "f = list(filter(lambda f: f.name.endswith('.ckpt'), files))[0]"
   ]
  },
  {
   "cell_type": "code",
   "execution_count": null,
   "metadata": {},
   "outputs": [],
   "source": [
    "f.download?"
   ]
  },
  {
   "cell_type": "code",
   "execution_count": null,
   "metadata": {},
   "outputs": [],
   "source": [
    "f.name"
   ]
  },
  {
   "cell_type": "code",
   "execution_count": null,
   "metadata": {},
   "outputs": [],
   "source": [
    "h = run.history()"
   ]
  },
  {
   "cell_type": "code",
   "execution_count": null,
   "metadata": {},
   "outputs": [],
   "source": [
    "'val_acc' in h"
   ]
  },
  {
   "cell_type": "code",
   "execution_count": null,
   "metadata": {},
   "outputs": [],
   "source": [
    "files = valid_run.files()"
   ]
  },
  {
   "cell_type": "code",
   "execution_count": null,
   "metadata": {},
   "outputs": [],
   "source": [
    "f = list(files)[2]"
   ]
  },
  {
   "cell_type": "code",
   "execution_count": null,
   "metadata": {},
   "outputs": [],
   "source": [
    "int([x for x in f.name.split('-') if x.startswith('epoch')][0].split('=')[1])"
   ]
  },
  {
   "cell_type": "code",
   "execution_count": null,
   "metadata": {},
   "outputs": [],
   "source": [
    "import numpy as np"
   ]
  },
  {
   "cell_type": "code",
   "execution_count": null,
   "metadata": {},
   "outputs": [],
   "source": [
    "np.argmax([1, 2, 0])"
   ]
  },
  {
   "cell_type": "code",
   "execution_count": null,
   "metadata": {},
   "outputs": [],
   "source": []
  }
 ],
 "metadata": {
  "kernelspec": {
   "display_name": "Python 3",
   "language": "python",
   "name": "python3"
  },
  "language_info": {
   "codemirror_mode": {
    "name": "ipython",
    "version": 3
   },
   "file_extension": ".py",
   "mimetype": "text/x-python",
   "name": "python",
   "nbconvert_exporter": "python",
   "pygments_lexer": "ipython3",
   "version": "3.6.7"
  }
 },
 "nbformat": 4,
 "nbformat_minor": 4
}
