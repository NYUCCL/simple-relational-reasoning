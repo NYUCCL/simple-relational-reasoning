{
 "cells": [
  {
   "cell_type": "code",
   "execution_count": 1,
   "metadata": {},
   "outputs": [],
   "source": [
    "%load_ext autoreload\n",
    "%autoreload 2\n",
    "%matplotlib inline"
   ]
  },
  {
   "cell_type": "code",
   "execution_count": 2,
   "metadata": {},
   "outputs": [
    {
     "name": "stdout",
     "output_type": "stream",
     "text": [
      "\u001b[34m\u001b[1mwandb\u001b[0m: Appending key for api.wandb.ai to your netrc file: /Users/guydavidson/.netrc\r\n",
      "\u001b[32mSuccessfully logged in to Weights & Biases!\u001b[0m\r\n"
     ]
    }
   ],
   "source": [
    "!wandb login 9676e3cc95066e4865586082971f2653245f09b4"
   ]
  },
  {
   "cell_type": "code",
   "execution_count": 3,
   "metadata": {},
   "outputs": [],
   "source": [
    "import copy\n",
    "from collections import defaultdict, namedtuple\n",
    "from datetime import datetime\n",
    "import itertools\n",
    "import os\n",
    "from pathlib import Path\n",
    "import pickle\n",
    "\n",
    "import numpy as np\n",
    "import pandas as pd\n",
    "import scipy\n",
    "from scipy import stats\n",
    "from scipy.special import factorial\n",
    "\n",
    "from mpl_toolkits.mplot3d import Axes3D\n",
    "import matplotlib\n",
    "import matplotlib.pyplot as plt\n",
    "from matplotlib import patches\n",
    "from matplotlib import path as mpath\n",
    "import matplotlib.gridspec as gridspec\n",
    "\n",
    "import tabulate\n",
    "import wandb\n",
    "from tqdm.notebook import tqdm"
   ]
  },
  {
   "cell_type": "code",
   "execution_count": 4,
   "metadata": {},
   "outputs": [],
   "source": [
    "api = wandb.Api()"
   ]
  },
  {
   "cell_type": "code",
   "execution_count": 5,
   "metadata": {},
   "outputs": [],
   "source": [
    "FIGURE_TEMPLATE = r'''\\begin{{figure}}[!htb]\n",
    "% \\vspace{{-0.225in}}\n",
    "\\centering\n",
    "\\includegraphics[width=\\linewidth]{{figures/{save_path}}}\n",
    "\\caption{{ {{\\bf FIGURE TITLE.}} FIGURE DESCRIPTION.}}\n",
    "\\label{{fig:{label_name}}}\n",
    "% \\vspace{{-0.2in}}\n",
    "\\end{{figure}}\n",
    "'''\n",
    "WRAPFIGURE_TEMPLATE = r'''\\begin{{wrapfigure}}{{r}}{{0.5\\linewidth}}\n",
    "\\vspace{{-.3in}}\n",
    "\\begin{{spacing}}{{1.0}}\n",
    "\\centering\n",
    "\\includegraphics[width=0.95\\linewidth]{{figures/{save_path}}}\n",
    "\\caption{{ {{\\bf FIGURE TITLE.}} FIGURE DESCRIPTION.}}\n",
    "\\label{{fig:{label_name}}}\n",
    "\\end{{spacing}}\n",
    "% \\vspace{{-.25in}}\n",
    "\\end{{wrapfigure}}'''\n",
    "\n",
    "SAVE_PATH_PREFIX = 'figures'\n",
    "\n",
    "\n",
    "def save_plot(save_path, bbox_inches='tight', should_print=False):\n",
    "    if save_path is not None:\n",
    "        save_path_no_ext = os.path.splitext(save_path)[0]\n",
    "        if should_print:\n",
    "            print('Figure:\\n')\n",
    "            print(FIGURE_TEMPLATE.format(save_path=save_path, label_name=save_path_no_ext.replace('/', '-').replace('_', '-')))\n",
    "            print('\\nWrapfigure:\\n')\n",
    "            print(WRAPFIGURE_TEMPLATE.format(save_path=save_path, label_name=save_path_no_ext.replace('/', '-').replace('_', '-')))\n",
    "            print('')\n",
    "        \n",
    "        if not save_path.startswith(SAVE_PATH_PREFIX):\n",
    "            save_path = os.path.join(SAVE_PATH_PREFIX, save_path)\n",
    "        \n",
    "        folder, filename = os.path.split(save_path)\n",
    "        os.makedirs(folder, exist_ok=True)\n",
    "        plt.savefig(save_path, bbox_inches=bbox_inches, facecolor=plt.gcf().get_facecolor(), edgecolor='none')"
   ]
  },
  {
   "cell_type": "code",
   "execution_count": 6,
   "metadata": {},
   "outputs": [],
   "source": [
    "Condition = namedtuple('Condition', ('relation', 'model_config', 'num_objects', 'dataset_size', 'dataset_power'))\n",
    "\n",
    "\n",
    "def name_to_condition(name):\n",
    "    relation, model_config, num_objects, dataset_size = name.split('-')[::2]\n",
    "    num_objects = int(num_objects)\n",
    "    dataset_size = int(dataset_size)\n",
    "    return Condition(relation=relation, model_config=model_config, num_objects=num_objects, \n",
    "                     dataset_size=dataset_size, dataset_power=int(np.log2(dataset_size)))\n"
   ]
  },
  {
   "cell_type": "code",
   "execution_count": 7,
   "metadata": {},
   "outputs": [],
   "source": [
    "CACHE_PATH = './results_cache.pickle'\n",
    "BACKUP_CACHE_PATH = './results_cache_{date}.pickle'\n",
    "\n",
    "\n",
    "def refresh_cache(new_values_dict=None, cache_path=CACHE_PATH):\n",
    "    if new_values_dict is None:\n",
    "        new_values_dict = {}\n",
    "    \n",
    "    if os.path.exists(cache_path):\n",
    "        with open(cache_path, 'rb') as cache_file:\n",
    "            cache = pickle.load(cache_file)\n",
    "    \n",
    "    else:\n",
    "        cache = {}\n",
    "    \n",
    "    cache.update(new_values_dict)\n",
    "    \n",
    "    if os.path.exists(cache_path):\n",
    "        os.rename(CACHE_PATH, BACKUP_CACHE_PATH.format(date=datetime.now().strftime('%Y-%m-%d_%H-%M-%S')))\n",
    "\n",
    "    with open(cache_path, 'wb') as cache_file:\n",
    "        pickle.dump(cache, cache_file)\n",
    "\n",
    "    return cache\n",
    " \n",
    "\n",
    "cache = refresh_cache()"
   ]
  },
  {
   "cell_type": "code",
   "execution_count": 8,
   "metadata": {},
   "outputs": [
    {
     "name": "stdout",
     "output_type": "stream",
     "text": [
      "dict_keys(['all_results', 'all_results_df', 'all_results_fixed_checkpoints', 'all_results_fixed_checkpoints_df'])\n"
     ]
    }
   ],
   "source": [
    "print(cache.keys())"
   ]
  },
  {
   "cell_type": "markdown",
   "metadata": {},
   "source": [
    "# Game plan\n",
    "* Iterate through projects \n",
    "* Parse each project conditions from its name\n",
    "* Aggregate each of the following statistics by model:\n",
    "    * Peak accuracy\n",
    "    * Epoch in which peak accuracy takes place\n",
    "    * Epoch above some accuracy threshold\n",
    "    * Did the model overfit (delta between train and val?)\n",
    "* Start examining the effects of different manipulations:\n",
    "    * Choice of relation\n",
    "    * Number of objects\n",
    "    * Size of the training set\n",
    "    * Size of the model (in that one condition I ran larger)\n",
    "* Probably more bar charts tables than anything else, unless we need learning curves\n",
    "\n"
   ]
  },
  {
   "cell_type": "code",
   "execution_count": 9,
   "metadata": {},
   "outputs": [],
   "source": [
    "def get_model_name(run):\n",
    "    return run.name.rsplit('-', 1)[0]\n",
    "\n",
    "\n",
    "def get_run_seed(run):\n",
    "    return int(run.name.rsplit('-', 1)[1])\n",
    "\n",
    "\n",
    "def fix_project_configs(project):\n",
    "    uri = f'{project.entity}/{project.name}'\n",
    "    print(f'\\tIn project {project.name}:')\n",
    "    runs = api.runs(uri)\n",
    "    configs_by_model = {}\n",
    "    runs_to_fix = defaultdict(list)\n",
    "    \n",
    "#     for run in tqdm(runs, desc='Runs'):\n",
    "    for run in runs:\n",
    "        model_name = get_model_name(run)\n",
    "        if run.config is None or len(run.config) == 0:\n",
    "            runs_to_fix[model_name].append(run)\n",
    "\n",
    "        elif model_name not in configs_by_model:\n",
    "            configs_by_model[model_name] = copy.deepcopy(run.config)\n",
    "    \n",
    "    for model_name in runs_to_fix:\n",
    "        if model_name not in configs_by_model:\n",
    "            raise ValueError(f'In URI {uri}, could not find a config to fix model name {model_name}')\n",
    "            \n",
    "        sample_config = configs_by_model[model_name]\n",
    "        \n",
    "        for run in runs_to_fix[model_name]:\n",
    "            config_copy = copy.deepcopy(sample_config)\n",
    "            config_copy['seed'] = get_run_seed(run)\n",
    "            config_copy['wandb_run_name'] = run.name\n",
    "            run.config = config_copy\n",
    "            run.update()\n",
    "            print(f'\\t\\t{run.name}')\n",
    "            \n",
    "    return runs_to_fix\n",
    "\n",
    "\n",
    "def print_missing_data(project, num_samples=50000):\n",
    "    uri = f'{project.entity}/{project.name}'\n",
    "    print(f'\\tIn project {project.name}:')\n",
    "    runs = api.runs(uri)\n",
    "    configs_by_model = {}\n",
    "    runs_to_fix = defaultdict(list)\n",
    "    \n",
    "#     for run in tqdm(runs, desc='Runs'):\n",
    "    for run in runs:\n",
    "        model_name = get_model_name(run)\n",
    "        history_df = run.history(samples=num_samples)\n",
    "        if 'num_objects_gen_test_acc' not in history_df:\n",
    "            runs_to_fix[model_name].append(run)\n",
    "            print(f'\\t\\t{run.name}')\n",
    "            \n",
    "    return runs_to_fix\n",
    "\n",
    "\n",
    "def fix_all_projects(entity='simple-relational-reasoning-fixed-checkpoints', \n",
    "                     fix_func=fix_project_configs):\n",
    "    projects = api.projects(entity)\n",
    "    results = {}\n",
    "    \n",
    "    print(projects)\n",
    "    for proj in tqdm([p for p in projects], desc='Projects'):\n",
    "        condition = name_to_condition(proj.name)\n",
    "#         print(proj.name)\n",
    "#         print(condition)\n",
    "        results[condition] = fix_func(proj)\n",
    "        \n",
    "    return results\n"
   ]
  },
  {
   "cell_type": "code",
   "execution_count": 10,
   "metadata": {
    "scrolled": false
   },
   "outputs": [
    {
     "name": "stdout",
     "output_type": "stream",
     "text": [
      "<Projects simple-relational-reasoning-fixed-checkpoints>\n"
     ]
    },
    {
     "data": {
      "application/vnd.jupyter.widget-view+json": {
       "model_id": "04ce3ec8410643d5b88316a7aed2cd15",
       "version_major": 2,
       "version_minor": 0
      },
      "text/plain": [
       "HBox(children=(FloatProgress(value=0.0, description='Projects', max=32.0, style=ProgressStyle(description_widt…"
      ]
     },
     "metadata": {},
     "output_type": "display_data"
    },
    {
     "name": "stdout",
     "output_type": "stream",
     "text": [
      "\tIn project between-relation-larger-models-10-objects-65536-dataset:\n",
      "\tIn project count-relation-larger-models-10-objects-65536-dataset:\n",
      "\tIn project above-relation-larger-models-10-objects-65536-dataset:\n",
      "\tIn project adjacent-relation-larger-models-10-objects-65536-dataset:\n",
      "\tIn project between-relation-larger-models-5-objects-65536-dataset:\n",
      "\tIn project count-relation-larger-models-5-objects-65536-dataset:\n",
      "\tIn project above-relation-larger-models-5-objects-65536-dataset:\n",
      "\tIn project adjacent-relation-larger-models-5-objects-65536-dataset:\n",
      "\tIn project between-relation-default-models-10-objects-65536-dataset:\n"
     ]
    },
    {
     "name": "stderr",
     "output_type": "stream",
     "text": [
      "wandb: Network error resolved after 0:00:10.955797, resuming normal operation.\n"
     ]
    },
    {
     "name": "stdout",
     "output_type": "stream",
     "text": [
      "\tIn project count-relation-default-models-10-objects-65536-dataset:\n",
      "\tIn project above-relation-default-models-10-objects-65536-dataset:\n",
      "\tIn project adjacent-relation-default-models-10-objects-65536-dataset:\n",
      "\tIn project between-relation-default-models-5-objects-65536-dataset:\n",
      "\tIn project count-relation-default-models-5-objects-65536-dataset:\n"
     ]
    },
    {
     "name": "stderr",
     "output_type": "stream",
     "text": [
      "wandb: Network error resolved after 0:00:10.283592, resuming normal operation.\n"
     ]
    },
    {
     "name": "stdout",
     "output_type": "stream",
     "text": [
      "\tIn project above-relation-default-models-5-objects-65536-dataset:\n",
      "\tIn project adjacent-relation-default-models-5-objects-65536-dataset:\n",
      "\tIn project between-relation-default-models-10-objects-16384-dataset:\n",
      "\tIn project count-relation-default-models-10-objects-16384-dataset:\n",
      "\tIn project above-relation-default-models-10-objects-16384-dataset:\n",
      "\tIn project adjacent-relation-default-models-10-objects-16384-dataset:\n",
      "\tIn project between-relation-default-models-5-objects-16384-dataset:\n",
      "\tIn project count-relation-default-models-5-objects-16384-dataset:\n",
      "\tIn project above-relation-default-models-5-objects-16384-dataset:\n",
      "\tIn project adjacent-relation-default-models-5-objects-16384-dataset:\n",
      "\tIn project between-relation-default-models-10-objects-4096-dataset:\n",
      "\tIn project count-relation-default-models-10-objects-4096-dataset:\n",
      "\tIn project above-relation-default-models-10-objects-4096-dataset:\n"
     ]
    },
    {
     "name": "stderr",
     "output_type": "stream",
     "text": [
      "wandb: Network error resolved after 0:00:10.284828, resuming normal operation.\n"
     ]
    },
    {
     "name": "stdout",
     "output_type": "stream",
     "text": [
      "\tIn project adjacent-relation-default-models-10-objects-4096-dataset:\n",
      "\tIn project between-relation-default-models-5-objects-4096-dataset:\n",
      "\tIn project count-relation-default-models-5-objects-4096-dataset:\n",
      "\tIn project above-relation-default-models-5-objects-4096-dataset:\n",
      "\tIn project adjacent-relation-default-models-5-objects-4096-dataset:\n",
      "\n"
     ]
    }
   ],
   "source": [
    "fix_results = fix_all_projects(fix_func=print_missing_data)"
   ]
  },
  {
   "cell_type": "code",
   "execution_count": 11,
   "metadata": {},
   "outputs": [
    {
     "name": "stdout",
     "output_type": "stream",
     "text": [
      "<Projects simple-relational-reasoning-fixed-checkpoints>\n"
     ]
    },
    {
     "data": {
      "application/vnd.jupyter.widget-view+json": {
       "model_id": "637fbb9766d04534a2f4bc9ce0eb9e1b",
       "version_major": 2,
       "version_minor": 0
      },
      "text/plain": [
       "HBox(children=(FloatProgress(value=0.0, description='Projects', max=32.0, style=ProgressStyle(description_widt…"
      ]
     },
     "metadata": {},
     "output_type": "display_data"
    },
    {
     "name": "stdout",
     "output_type": "stream",
     "text": [
      "\tIn project between-relation-larger-models-10-objects-65536-dataset:\n",
      "\tIn project count-relation-larger-models-10-objects-65536-dataset:\n",
      "\tIn project above-relation-larger-models-10-objects-65536-dataset:\n",
      "\tIn project adjacent-relation-larger-models-10-objects-65536-dataset:\n",
      "\tIn project between-relation-larger-models-5-objects-65536-dataset:\n",
      "\tIn project count-relation-larger-models-5-objects-65536-dataset:\n",
      "\tIn project above-relation-larger-models-5-objects-65536-dataset:\n",
      "\tIn project adjacent-relation-larger-models-5-objects-65536-dataset:\n",
      "\tIn project between-relation-default-models-10-objects-65536-dataset:\n",
      "\tIn project count-relation-default-models-10-objects-65536-dataset:\n",
      "\tIn project above-relation-default-models-10-objects-65536-dataset:\n",
      "\tIn project adjacent-relation-default-models-10-objects-65536-dataset:\n",
      "\tIn project between-relation-default-models-5-objects-65536-dataset:\n",
      "\tIn project count-relation-default-models-5-objects-65536-dataset:\n",
      "\tIn project above-relation-default-models-5-objects-65536-dataset:\n",
      "\tIn project adjacent-relation-default-models-5-objects-65536-dataset:\n",
      "\tIn project between-relation-default-models-10-objects-16384-dataset:\n",
      "\tIn project count-relation-default-models-10-objects-16384-dataset:\n",
      "\tIn project above-relation-default-models-10-objects-16384-dataset:\n",
      "\tIn project adjacent-relation-default-models-10-objects-16384-dataset:\n",
      "\tIn project between-relation-default-models-5-objects-16384-dataset:\n",
      "\tIn project count-relation-default-models-5-objects-16384-dataset:\n",
      "\tIn project above-relation-default-models-5-objects-16384-dataset:\n",
      "\tIn project adjacent-relation-default-models-5-objects-16384-dataset:\n",
      "\tIn project between-relation-default-models-10-objects-4096-dataset:\n",
      "\tIn project count-relation-default-models-10-objects-4096-dataset:\n",
      "\tIn project above-relation-default-models-10-objects-4096-dataset:\n",
      "\tIn project adjacent-relation-default-models-10-objects-4096-dataset:\n",
      "\tIn project between-relation-default-models-5-objects-4096-dataset:\n",
      "\tIn project count-relation-default-models-5-objects-4096-dataset:\n",
      "\tIn project above-relation-default-models-5-objects-4096-dataset:\n",
      "\tIn project adjacent-relation-default-models-5-objects-4096-dataset:\n",
      "\n"
     ]
    }
   ],
   "source": [
    "fix_results = fix_all_projects()"
   ]
  },
  {
   "cell_type": "code",
   "execution_count": 18,
   "metadata": {},
   "outputs": [],
   "source": [
    "def parse_run(run, num_samples=50000, accuracy_threshold=0.95):\n",
    "    history_df = run.history(samples=num_samples)\n",
    "    run_results = {}\n",
    "    \n",
    "    max_accuracy_index = history_df.val_acc.idxmax()\n",
    "    run_results['max_val_acc'] = history_df.val_acc[max_accuracy_index]\n",
    "    run_results['max_val_acc_step'] = history_df.global_step[max_accuracy_index]\n",
    "    \n",
    "    accuracy_above_treshold_index = (history_df.val_acc >= accuracy_threshold).idxmax()\n",
    "    if accuracy_above_treshold_index == 0:  # Never went above treshold\n",
    "        run_results['acc_threshold_step'] = None\n",
    "    else:\n",
    "        run_results['acc_threshold_step'] = history_df.global_step[accuracy_above_treshold_index]\n",
    "        \n",
    "    run_results['acc_diff'] = history_df.train_acc.max() - history_df.val_acc.max()\n",
    "    \n",
    "    if 'num_objects_gen_test_acc' in history_df:\n",
    "        run_results['num_objects_gen_test_acc'] = history_df.num_objects_gen_test_acc.max()\n",
    "        run_results['num_objects_gen_test_acc_diff'] = run_results['max_val_acc'] - run_results['num_objects_gen_test_acc']\n",
    "        \n",
    "    else:\n",
    "        print(f'Run {run.name} ({\"/\".join(run.path)}) has no generalization test accuracy')\n",
    "    \n",
    "    return run_results\n",
    "    \n",
    "    \n",
    "def parse_project(project):\n",
    "    uri = f'{project.entity}/{project.name}'\n",
    "    runs = api.runs(uri)\n",
    "    results_by_model = defaultdict(list)\n",
    "    \n",
    "    for run in tqdm(runs, desc='Runs'):\n",
    "        try:\n",
    "            seed_split_index = run.name.rindex('-')\n",
    "            model_name = run.name[:seed_split_index]\n",
    "            seed = int(run.name[seed_split_index + 1:])\n",
    "\n",
    "            run_results = parse_run(run)\n",
    "            run_results['seed'] = seed\n",
    "            run_results['total_params'] = run.config['total_params']\n",
    "            results_by_model[model_name].append(run_results)\n",
    "            \n",
    "        except Exception as e:\n",
    "            print(e)\n",
    "            print(run)\n",
    "            print(run.name)\n",
    "            print(run.config)\n",
    "        \n",
    "    return results_by_model\n",
    "        \n",
    "        \n",
    "def parse_all_projects(entity='simple-relational-reasoning'):\n",
    "    projects = api.projects(entity)\n",
    "    results = {}\n",
    "    \n",
    "    print(projects)\n",
    "    for proj in tqdm([p for p in projects], desc='Projects'):\n",
    "        condition = name_to_condition(proj.name)\n",
    "#         print(proj.name)\n",
    "#         print(condition)\n",
    "        results[condition] = parse_project(proj)\n",
    "        \n",
    "    return results\n",
    "\n",
    "\n",
    "if 'all_results' not in cache:\n",
    "    cache['all_results'] = parse_all_projects()\n",
    "    cache = refresh_cache(cache)\n",
    "    \n",
    "all_results = cache['all_results']"
   ]
  },
  {
   "cell_type": "code",
   "execution_count": 19,
   "metadata": {
    "scrolled": false
   },
   "outputs": [
    {
     "name": "stdout",
     "output_type": "stream",
     "text": [
      "<Projects simple-relational-reasoning-fixed-checkpoints>\n"
     ]
    },
    {
     "data": {
      "application/vnd.jupyter.widget-view+json": {
       "model_id": "0aa8982b519c48b48065531ecd188025",
       "version_major": 2,
       "version_minor": 0
      },
      "text/plain": [
       "HBox(children=(FloatProgress(value=0.0, description='Projects', max=32.0, style=ProgressStyle(description_widt…"
      ]
     },
     "metadata": {},
     "output_type": "display_data"
    },
    {
     "data": {
      "application/vnd.jupyter.widget-view+json": {
       "model_id": "ba27471e0e5444aca7a1624645774910",
       "version_major": 2,
       "version_minor": 0
      },
      "text/plain": [
       "HBox(children=(FloatProgress(value=0.0, description='Runs', max=40.0, style=ProgressStyle(description_width='i…"
      ]
     },
     "metadata": {},
     "output_type": "display_data"
    },
    {
     "name": "stdout",
     "output_type": "stream",
     "text": [
      "\n"
     ]
    },
    {
     "data": {
      "application/vnd.jupyter.widget-view+json": {
       "model_id": "6542cebb38ab4931b55e3e92239908d3",
       "version_major": 2,
       "version_minor": 0
      },
      "text/plain": [
       "HBox(children=(FloatProgress(value=0.0, description='Runs', max=40.0, style=ProgressStyle(description_width='i…"
      ]
     },
     "metadata": {},
     "output_type": "display_data"
    },
    {
     "name": "stdout",
     "output_type": "stream",
     "text": [
      "\n"
     ]
    },
    {
     "data": {
      "application/vnd.jupyter.widget-view+json": {
       "model_id": "f0492f9e33c64f1fba143011ca317e5c",
       "version_major": 2,
       "version_minor": 0
      },
      "text/plain": [
       "HBox(children=(FloatProgress(value=0.0, description='Runs', max=40.0, style=ProgressStyle(description_width='i…"
      ]
     },
     "metadata": {},
     "output_type": "display_data"
    },
    {
     "name": "stdout",
     "output_type": "stream",
     "text": [
      "\n"
     ]
    },
    {
     "data": {
      "application/vnd.jupyter.widget-view+json": {
       "model_id": "de3544edee8d45fdb8bbfc32386ade64",
       "version_major": 2,
       "version_minor": 0
      },
      "text/plain": [
       "HBox(children=(FloatProgress(value=0.0, description='Runs', max=40.0, style=ProgressStyle(description_width='i…"
      ]
     },
     "metadata": {},
     "output_type": "display_data"
    },
    {
     "name": "stdout",
     "output_type": "stream",
     "text": [
      "\n"
     ]
    },
    {
     "data": {
      "application/vnd.jupyter.widget-view+json": {
       "model_id": "8a2fa4d8e42144a1ad91eb0471dd0c86",
       "version_major": 2,
       "version_minor": 0
      },
      "text/plain": [
       "HBox(children=(FloatProgress(value=0.0, description='Runs', max=40.0, style=ProgressStyle(description_width='i…"
      ]
     },
     "metadata": {},
     "output_type": "display_data"
    },
    {
     "name": "stdout",
     "output_type": "stream",
     "text": [
      "\n"
     ]
    },
    {
     "data": {
      "application/vnd.jupyter.widget-view+json": {
       "model_id": "34af07eb5e8d45b4b26ce3c53efa6806",
       "version_major": 2,
       "version_minor": 0
      },
      "text/plain": [
       "HBox(children=(FloatProgress(value=0.0, description='Runs', max=40.0, style=ProgressStyle(description_width='i…"
      ]
     },
     "metadata": {},
     "output_type": "display_data"
    },
    {
     "name": "stdout",
     "output_type": "stream",
     "text": [
      "\n"
     ]
    },
    {
     "data": {
      "application/vnd.jupyter.widget-view+json": {
       "model_id": "69e041425f014373bf1225925f6e7774",
       "version_major": 2,
       "version_minor": 0
      },
      "text/plain": [
       "HBox(children=(FloatProgress(value=0.0, description='Runs', max=40.0, style=ProgressStyle(description_width='i…"
      ]
     },
     "metadata": {},
     "output_type": "display_data"
    },
    {
     "name": "stdout",
     "output_type": "stream",
     "text": [
      "\n"
     ]
    },
    {
     "data": {
      "application/vnd.jupyter.widget-view+json": {
       "model_id": "bc1c92ab302246e5b0af6bfcbb2b8749",
       "version_major": 2,
       "version_minor": 0
      },
      "text/plain": [
       "HBox(children=(FloatProgress(value=0.0, description='Runs', max=40.0, style=ProgressStyle(description_width='i…"
      ]
     },
     "metadata": {},
     "output_type": "display_data"
    },
    {
     "name": "stdout",
     "output_type": "stream",
     "text": [
      "\n"
     ]
    },
    {
     "data": {
      "application/vnd.jupyter.widget-view+json": {
       "model_id": "c2120385faad49d5b1d33b7ee981309c",
       "version_major": 2,
       "version_minor": 0
      },
      "text/plain": [
       "HBox(children=(FloatProgress(value=0.0, description='Runs', max=40.0, style=ProgressStyle(description_width='i…"
      ]
     },
     "metadata": {},
     "output_type": "display_data"
    },
    {
     "name": "stdout",
     "output_type": "stream",
     "text": [
      "\n"
     ]
    },
    {
     "data": {
      "application/vnd.jupyter.widget-view+json": {
       "model_id": "be73b7e9c3b14bd2bf45ae53e58abfc3",
       "version_major": 2,
       "version_minor": 0
      },
      "text/plain": [
       "HBox(children=(FloatProgress(value=0.0, description='Runs', max=40.0, style=ProgressStyle(description_width='i…"
      ]
     },
     "metadata": {},
     "output_type": "display_data"
    },
    {
     "name": "stdout",
     "output_type": "stream",
     "text": [
      "\n"
     ]
    },
    {
     "data": {
      "application/vnd.jupyter.widget-view+json": {
       "model_id": "a3cc91fc862e4d03821c4f7ff3a54e55",
       "version_major": 2,
       "version_minor": 0
      },
      "text/plain": [
       "HBox(children=(FloatProgress(value=0.0, description='Runs', max=40.0, style=ProgressStyle(description_width='i…"
      ]
     },
     "metadata": {},
     "output_type": "display_data"
    },
    {
     "name": "stdout",
     "output_type": "stream",
     "text": [
      "\n"
     ]
    },
    {
     "data": {
      "application/vnd.jupyter.widget-view+json": {
       "model_id": "e9dbec01790b49c4a89dab68ec74bf99",
       "version_major": 2,
       "version_minor": 0
      },
      "text/plain": [
       "HBox(children=(FloatProgress(value=0.0, description='Runs', max=40.0, style=ProgressStyle(description_width='i…"
      ]
     },
     "metadata": {},
     "output_type": "display_data"
    },
    {
     "name": "stdout",
     "output_type": "stream",
     "text": [
      "\n"
     ]
    },
    {
     "data": {
      "application/vnd.jupyter.widget-view+json": {
       "model_id": "0b130b390a5b4e60a6caedf24dc3ddfc",
       "version_major": 2,
       "version_minor": 0
      },
      "text/plain": [
       "HBox(children=(FloatProgress(value=0.0, description='Runs', max=40.0, style=ProgressStyle(description_width='i…"
      ]
     },
     "metadata": {},
     "output_type": "display_data"
    },
    {
     "name": "stdout",
     "output_type": "stream",
     "text": [
      "\n"
     ]
    },
    {
     "data": {
      "application/vnd.jupyter.widget-view+json": {
       "model_id": "d8a4da9ddabf45038999c04d09c63509",
       "version_major": 2,
       "version_minor": 0
      },
      "text/plain": [
       "HBox(children=(FloatProgress(value=0.0, description='Runs', max=40.0, style=ProgressStyle(description_width='i…"
      ]
     },
     "metadata": {},
     "output_type": "display_data"
    },
    {
     "name": "stdout",
     "output_type": "stream",
     "text": [
      "\n"
     ]
    },
    {
     "data": {
      "application/vnd.jupyter.widget-view+json": {
       "model_id": "ad5f2d9574154be6a60e9c2769fd9000",
       "version_major": 2,
       "version_minor": 0
      },
      "text/plain": [
       "HBox(children=(FloatProgress(value=0.0, description='Runs', max=40.0, style=ProgressStyle(description_width='i…"
      ]
     },
     "metadata": {},
     "output_type": "display_data"
    },
    {
     "name": "stdout",
     "output_type": "stream",
     "text": [
      "\n"
     ]
    },
    {
     "data": {
      "application/vnd.jupyter.widget-view+json": {
       "model_id": "b68609d23a04462796dbd5d3cf4f8aa9",
       "version_major": 2,
       "version_minor": 0
      },
      "text/plain": [
       "HBox(children=(FloatProgress(value=0.0, description='Runs', max=40.0, style=ProgressStyle(description_width='i…"
      ]
     },
     "metadata": {},
     "output_type": "display_data"
    },
    {
     "name": "stdout",
     "output_type": "stream",
     "text": [
      "\n"
     ]
    },
    {
     "data": {
      "application/vnd.jupyter.widget-view+json": {
       "model_id": "a50252ec001e4283b621b2102c8d9c71",
       "version_major": 2,
       "version_minor": 0
      },
      "text/plain": [
       "HBox(children=(FloatProgress(value=0.0, description='Runs', max=40.0, style=ProgressStyle(description_width='i…"
      ]
     },
     "metadata": {},
     "output_type": "display_data"
    },
    {
     "name": "stdout",
     "output_type": "stream",
     "text": [
      "\n"
     ]
    },
    {
     "data": {
      "application/vnd.jupyter.widget-view+json": {
       "model_id": "c24a370da5e4472e8eade5f433f61d92",
       "version_major": 2,
       "version_minor": 0
      },
      "text/plain": [
       "HBox(children=(FloatProgress(value=0.0, description='Runs', max=40.0, style=ProgressStyle(description_width='i…"
      ]
     },
     "metadata": {},
     "output_type": "display_data"
    },
    {
     "name": "stdout",
     "output_type": "stream",
     "text": [
      "\n"
     ]
    },
    {
     "data": {
      "application/vnd.jupyter.widget-view+json": {
       "model_id": "3df3f49dd03e4a9f89fd5b0ec22c1fac",
       "version_major": 2,
       "version_minor": 0
      },
      "text/plain": [
       "HBox(children=(FloatProgress(value=0.0, description='Runs', max=40.0, style=ProgressStyle(description_width='i…"
      ]
     },
     "metadata": {},
     "output_type": "display_data"
    },
    {
     "name": "stdout",
     "output_type": "stream",
     "text": [
      "\n"
     ]
    },
    {
     "data": {
      "application/vnd.jupyter.widget-view+json": {
       "model_id": "18b7c8cdfd8643e5aa49ce819919e226",
       "version_major": 2,
       "version_minor": 0
      },
      "text/plain": [
       "HBox(children=(FloatProgress(value=0.0, description='Runs', max=40.0, style=ProgressStyle(description_width='i…"
      ]
     },
     "metadata": {},
     "output_type": "display_data"
    },
    {
     "name": "stdout",
     "output_type": "stream",
     "text": [
      "\n"
     ]
    },
    {
     "data": {
      "application/vnd.jupyter.widget-view+json": {
       "model_id": "dddcb86f4e234a8e9d65d97b6b5feae9",
       "version_major": 2,
       "version_minor": 0
      },
      "text/plain": [
       "HBox(children=(FloatProgress(value=0.0, description='Runs', max=40.0, style=ProgressStyle(description_width='i…"
      ]
     },
     "metadata": {},
     "output_type": "display_data"
    },
    {
     "name": "stdout",
     "output_type": "stream",
     "text": [
      "\n"
     ]
    },
    {
     "data": {
      "application/vnd.jupyter.widget-view+json": {
       "model_id": "e79d7a1cc1d4452bad309d5c0e72c91a",
       "version_major": 2,
       "version_minor": 0
      },
      "text/plain": [
       "HBox(children=(FloatProgress(value=0.0, description='Runs', max=40.0, style=ProgressStyle(description_width='i…"
      ]
     },
     "metadata": {},
     "output_type": "display_data"
    },
    {
     "name": "stderr",
     "output_type": "stream",
     "text": [
      "wandb: Network error resolved after 0:00:10.561299, resuming normal operation.\n"
     ]
    },
    {
     "name": "stdout",
     "output_type": "stream",
     "text": [
      "\n"
     ]
    },
    {
     "data": {
      "application/vnd.jupyter.widget-view+json": {
       "model_id": "b5488b7b3f63480cba260758680fec04",
       "version_major": 2,
       "version_minor": 0
      },
      "text/plain": [
       "HBox(children=(FloatProgress(value=0.0, description='Runs', max=40.0, style=ProgressStyle(description_width='i…"
      ]
     },
     "metadata": {},
     "output_type": "display_data"
    },
    {
     "name": "stdout",
     "output_type": "stream",
     "text": [
      "\n"
     ]
    },
    {
     "data": {
      "application/vnd.jupyter.widget-view+json": {
       "model_id": "a8394d6c98174bc084fb9e9ed3c058c5",
       "version_major": 2,
       "version_minor": 0
      },
      "text/plain": [
       "HBox(children=(FloatProgress(value=0.0, description='Runs', max=40.0, style=ProgressStyle(description_width='i…"
      ]
     },
     "metadata": {},
     "output_type": "display_data"
    },
    {
     "name": "stdout",
     "output_type": "stream",
     "text": [
      "\n"
     ]
    },
    {
     "data": {
      "application/vnd.jupyter.widget-view+json": {
       "model_id": "356b179efb244f95866fc32356e8f02a",
       "version_major": 2,
       "version_minor": 0
      },
      "text/plain": [
       "HBox(children=(FloatProgress(value=0.0, description='Runs', max=40.0, style=ProgressStyle(description_width='i…"
      ]
     },
     "metadata": {},
     "output_type": "display_data"
    },
    {
     "name": "stdout",
     "output_type": "stream",
     "text": [
      "\n"
     ]
    },
    {
     "data": {
      "application/vnd.jupyter.widget-view+json": {
       "model_id": "2a26b2f9ef184fa1b9ab65c678b7677e",
       "version_major": 2,
       "version_minor": 0
      },
      "text/plain": [
       "HBox(children=(FloatProgress(value=0.0, description='Runs', max=40.0, style=ProgressStyle(description_width='i…"
      ]
     },
     "metadata": {},
     "output_type": "display_data"
    },
    {
     "name": "stdout",
     "output_type": "stream",
     "text": [
      "\n"
     ]
    },
    {
     "data": {
      "application/vnd.jupyter.widget-view+json": {
       "model_id": "d31e01afdc5c4f159b7061ba78c4eb29",
       "version_major": 2,
       "version_minor": 0
      },
      "text/plain": [
       "HBox(children=(FloatProgress(value=0.0, description='Runs', max=40.0, style=ProgressStyle(description_width='i…"
      ]
     },
     "metadata": {},
     "output_type": "display_data"
    },
    {
     "name": "stdout",
     "output_type": "stream",
     "text": [
      "\n"
     ]
    },
    {
     "data": {
      "application/vnd.jupyter.widget-view+json": {
       "model_id": "839cd186be8046748a240ea613b89cec",
       "version_major": 2,
       "version_minor": 0
      },
      "text/plain": [
       "HBox(children=(FloatProgress(value=0.0, description='Runs', max=40.0, style=ProgressStyle(description_width='i…"
      ]
     },
     "metadata": {},
     "output_type": "display_data"
    },
    {
     "name": "stdout",
     "output_type": "stream",
     "text": [
      "\n"
     ]
    },
    {
     "data": {
      "application/vnd.jupyter.widget-view+json": {
       "model_id": "84b06121bb154dc3b96f051777a0351e",
       "version_major": 2,
       "version_minor": 0
      },
      "text/plain": [
       "HBox(children=(FloatProgress(value=0.0, description='Runs', max=40.0, style=ProgressStyle(description_width='i…"
      ]
     },
     "metadata": {},
     "output_type": "display_data"
    },
    {
     "name": "stderr",
     "output_type": "stream",
     "text": [
      "wandb: Network error resolved after 0:00:10.172836, resuming normal operation.\n"
     ]
    },
    {
     "name": "stdout",
     "output_type": "stream",
     "text": [
      "\n"
     ]
    },
    {
     "data": {
      "application/vnd.jupyter.widget-view+json": {
       "model_id": "cb09c1a1a82e49b1ad3e4b76ce19081a",
       "version_major": 2,
       "version_minor": 0
      },
      "text/plain": [
       "HBox(children=(FloatProgress(value=0.0, description='Runs', max=40.0, style=ProgressStyle(description_width='i…"
      ]
     },
     "metadata": {},
     "output_type": "display_data"
    },
    {
     "name": "stdout",
     "output_type": "stream",
     "text": [
      "\n"
     ]
    },
    {
     "data": {
      "application/vnd.jupyter.widget-view+json": {
       "model_id": "d8340e8a2629486b93ed63a9940f3cfc",
       "version_major": 2,
       "version_minor": 0
      },
      "text/plain": [
       "HBox(children=(FloatProgress(value=0.0, description='Runs', max=40.0, style=ProgressStyle(description_width='i…"
      ]
     },
     "metadata": {},
     "output_type": "display_data"
    },
    {
     "name": "stdout",
     "output_type": "stream",
     "text": [
      "\n"
     ]
    },
    {
     "data": {
      "application/vnd.jupyter.widget-view+json": {
       "model_id": "2c83eacf04db4cb3a509de7c2756243d",
       "version_major": 2,
       "version_minor": 0
      },
      "text/plain": [
       "HBox(children=(FloatProgress(value=0.0, description='Runs', max=40.0, style=ProgressStyle(description_width='i…"
      ]
     },
     "metadata": {},
     "output_type": "display_data"
    },
    {
     "name": "stdout",
     "output_type": "stream",
     "text": [
      "\n",
      "\n"
     ]
    }
   ],
   "source": [
    "if 'all_results_fixed_checkpoints' not in cache:\n",
    "    cache['all_results_fixed_checkpoints'] = parse_all_projects(entity='simple-relational-reasoning-fixed-checkpoints')\n",
    "    cache = refresh_cache(cache)\n",
    "    \n",
    "all_results_fixed_checkpoints = cache['all_results_fixed_checkpoints']"
   ]
  },
  {
   "cell_type": "code",
   "execution_count": 26,
   "metadata": {},
   "outputs": [],
   "source": [
    "CONDITION_FIELDS = list(Condition._fields)\n",
    "RUN_RESULTS_FIELDS = ['seed', 'total_params', 'max_val_acc', 'max_val_acc_step', \n",
    "                      'acc_threshold_step', 'acc_diff', 'num_objects_gen_test_acc', \n",
    "                      'num_objects_gen_test_acc_diff']\n",
    "COLUMNS = CONDITION_FIELDS + ['model_name'] + RUN_RESULTS_FIELDS\n",
    "\n",
    "\n",
    "def results_dict_to_df(results_dict):\n",
    "    rows = []\n",
    "    for condition, results_by_model in tqdm(results_dict.items(), desc='Condition'):\n",
    "        condition_row_prefix = list(condition)\n",
    "#         print(condition_row_prefix)\n",
    "        for model_name, results_by_seed in tqdm(results_by_model.items(), desc='Result'):\n",
    "            for run_results in results_by_seed:\n",
    "                run_result_list = [run_results[field] for field in RUN_RESULTS_FIELDS]\n",
    "                rows.append(condition_row_prefix + [model_name] + run_result_list)\n",
    "                \n",
    "    return pd.DataFrame(rows, columns=COLUMNS)\n",
    "\n",
    "\n",
    "if 'all_results_df' not in cache:\n",
    "    cache['all_results_df'] = results_dict_to_df(all_results)\n",
    "    cache = refresh_cache(cache)\n",
    "    \n",
    "all_results_df = cache['all_results_df']"
   ]
  },
  {
   "cell_type": "code",
   "execution_count": 27,
   "metadata": {
    "scrolled": false
   },
   "outputs": [
    {
     "data": {
      "application/vnd.jupyter.widget-view+json": {
       "model_id": "04625d42507d4e1594205f6c51024039",
       "version_major": 2,
       "version_minor": 0
      },
      "text/plain": [
       "HBox(children=(FloatProgress(value=0.0, description='Condition', max=32.0, style=ProgressStyle(description_wid…"
      ]
     },
     "metadata": {},
     "output_type": "display_data"
    },
    {
     "data": {
      "application/vnd.jupyter.widget-view+json": {
       "model_id": "3574f3fc1e944bed886f60e2e525f8e5",
       "version_major": 2,
       "version_minor": 0
      },
      "text/plain": [
       "HBox(children=(FloatProgress(value=0.0, description='Result', max=4.0, style=ProgressStyle(description_width='…"
      ]
     },
     "metadata": {},
     "output_type": "display_data"
    },
    {
     "name": "stdout",
     "output_type": "stream",
     "text": [
      "\n"
     ]
    },
    {
     "data": {
      "application/vnd.jupyter.widget-view+json": {
       "model_id": "e53085638aa142bdba8ceccc4ca4d0e3",
       "version_major": 2,
       "version_minor": 0
      },
      "text/plain": [
       "HBox(children=(FloatProgress(value=0.0, description='Result', max=4.0, style=ProgressStyle(description_width='…"
      ]
     },
     "metadata": {},
     "output_type": "display_data"
    },
    {
     "name": "stdout",
     "output_type": "stream",
     "text": [
      "\n"
     ]
    },
    {
     "data": {
      "application/vnd.jupyter.widget-view+json": {
       "model_id": "341f473bb5f34782a13262d6d1a7489f",
       "version_major": 2,
       "version_minor": 0
      },
      "text/plain": [
       "HBox(children=(FloatProgress(value=0.0, description='Result', max=4.0, style=ProgressStyle(description_width='…"
      ]
     },
     "metadata": {},
     "output_type": "display_data"
    },
    {
     "name": "stdout",
     "output_type": "stream",
     "text": [
      "\n"
     ]
    },
    {
     "data": {
      "application/vnd.jupyter.widget-view+json": {
       "model_id": "d620b3a83124456491c13f0ae29ff355",
       "version_major": 2,
       "version_minor": 0
      },
      "text/plain": [
       "HBox(children=(FloatProgress(value=0.0, description='Result', max=4.0, style=ProgressStyle(description_width='…"
      ]
     },
     "metadata": {},
     "output_type": "display_data"
    },
    {
     "name": "stdout",
     "output_type": "stream",
     "text": [
      "\n"
     ]
    },
    {
     "data": {
      "application/vnd.jupyter.widget-view+json": {
       "model_id": "501cf9a0988949a0ac63e4d568281585",
       "version_major": 2,
       "version_minor": 0
      },
      "text/plain": [
       "HBox(children=(FloatProgress(value=0.0, description='Result', max=4.0, style=ProgressStyle(description_width='…"
      ]
     },
     "metadata": {},
     "output_type": "display_data"
    },
    {
     "name": "stdout",
     "output_type": "stream",
     "text": [
      "\n"
     ]
    },
    {
     "data": {
      "application/vnd.jupyter.widget-view+json": {
       "model_id": "d48637db768e47478812d5a932f96cad",
       "version_major": 2,
       "version_minor": 0
      },
      "text/plain": [
       "HBox(children=(FloatProgress(value=0.0, description='Result', max=4.0, style=ProgressStyle(description_width='…"
      ]
     },
     "metadata": {},
     "output_type": "display_data"
    },
    {
     "name": "stdout",
     "output_type": "stream",
     "text": [
      "\n"
     ]
    },
    {
     "data": {
      "application/vnd.jupyter.widget-view+json": {
       "model_id": "26a7d98f0a0145628cffdc96a3635262",
       "version_major": 2,
       "version_minor": 0
      },
      "text/plain": [
       "HBox(children=(FloatProgress(value=0.0, description='Result', max=4.0, style=ProgressStyle(description_width='…"
      ]
     },
     "metadata": {},
     "output_type": "display_data"
    },
    {
     "name": "stdout",
     "output_type": "stream",
     "text": [
      "\n"
     ]
    },
    {
     "data": {
      "application/vnd.jupyter.widget-view+json": {
       "model_id": "c08fc80a40b042b6a947f8fdf394f620",
       "version_major": 2,
       "version_minor": 0
      },
      "text/plain": [
       "HBox(children=(FloatProgress(value=0.0, description='Result', max=4.0, style=ProgressStyle(description_width='…"
      ]
     },
     "metadata": {},
     "output_type": "display_data"
    },
    {
     "name": "stdout",
     "output_type": "stream",
     "text": [
      "\n"
     ]
    },
    {
     "data": {
      "application/vnd.jupyter.widget-view+json": {
       "model_id": "410162bdaddb4819a96892ba81847044",
       "version_major": 2,
       "version_minor": 0
      },
      "text/plain": [
       "HBox(children=(FloatProgress(value=0.0, description='Result', max=4.0, style=ProgressStyle(description_width='…"
      ]
     },
     "metadata": {},
     "output_type": "display_data"
    },
    {
     "name": "stdout",
     "output_type": "stream",
     "text": [
      "\n"
     ]
    },
    {
     "data": {
      "application/vnd.jupyter.widget-view+json": {
       "model_id": "1bd528e888834ca1a5b446660dbbf6f5",
       "version_major": 2,
       "version_minor": 0
      },
      "text/plain": [
       "HBox(children=(FloatProgress(value=0.0, description='Result', max=4.0, style=ProgressStyle(description_width='…"
      ]
     },
     "metadata": {},
     "output_type": "display_data"
    },
    {
     "name": "stdout",
     "output_type": "stream",
     "text": [
      "\n"
     ]
    },
    {
     "data": {
      "application/vnd.jupyter.widget-view+json": {
       "model_id": "8d9ed866cb034e74b007143ba4faaf45",
       "version_major": 2,
       "version_minor": 0
      },
      "text/plain": [
       "HBox(children=(FloatProgress(value=0.0, description='Result', max=4.0, style=ProgressStyle(description_width='…"
      ]
     },
     "metadata": {},
     "output_type": "display_data"
    },
    {
     "name": "stdout",
     "output_type": "stream",
     "text": [
      "\n"
     ]
    },
    {
     "data": {
      "application/vnd.jupyter.widget-view+json": {
       "model_id": "da5b97b89a5846a68b505e90f563d0de",
       "version_major": 2,
       "version_minor": 0
      },
      "text/plain": [
       "HBox(children=(FloatProgress(value=0.0, description='Result', max=4.0, style=ProgressStyle(description_width='…"
      ]
     },
     "metadata": {},
     "output_type": "display_data"
    },
    {
     "name": "stdout",
     "output_type": "stream",
     "text": [
      "\n"
     ]
    },
    {
     "data": {
      "application/vnd.jupyter.widget-view+json": {
       "model_id": "4e7eeae2535b41d5944a0e226b3eeb9f",
       "version_major": 2,
       "version_minor": 0
      },
      "text/plain": [
       "HBox(children=(FloatProgress(value=0.0, description='Result', max=4.0, style=ProgressStyle(description_width='…"
      ]
     },
     "metadata": {},
     "output_type": "display_data"
    },
    {
     "name": "stdout",
     "output_type": "stream",
     "text": [
      "\n"
     ]
    },
    {
     "data": {
      "application/vnd.jupyter.widget-view+json": {
       "model_id": "9b730243817c4f3a8d91cac7bf8d47c9",
       "version_major": 2,
       "version_minor": 0
      },
      "text/plain": [
       "HBox(children=(FloatProgress(value=0.0, description='Result', max=4.0, style=ProgressStyle(description_width='…"
      ]
     },
     "metadata": {},
     "output_type": "display_data"
    },
    {
     "name": "stdout",
     "output_type": "stream",
     "text": [
      "\n"
     ]
    },
    {
     "data": {
      "application/vnd.jupyter.widget-view+json": {
       "model_id": "960ad9186e3e4a48b33e7b894c3e7e15",
       "version_major": 2,
       "version_minor": 0
      },
      "text/plain": [
       "HBox(children=(FloatProgress(value=0.0, description='Result', max=4.0, style=ProgressStyle(description_width='…"
      ]
     },
     "metadata": {},
     "output_type": "display_data"
    },
    {
     "name": "stdout",
     "output_type": "stream",
     "text": [
      "\n"
     ]
    },
    {
     "data": {
      "application/vnd.jupyter.widget-view+json": {
       "model_id": "3b8405662f7042b1b37d07059eea2196",
       "version_major": 2,
       "version_minor": 0
      },
      "text/plain": [
       "HBox(children=(FloatProgress(value=0.0, description='Result', max=4.0, style=ProgressStyle(description_width='…"
      ]
     },
     "metadata": {},
     "output_type": "display_data"
    },
    {
     "name": "stdout",
     "output_type": "stream",
     "text": [
      "\n"
     ]
    },
    {
     "data": {
      "application/vnd.jupyter.widget-view+json": {
       "model_id": "a407a063566141d191a2b082e3cef531",
       "version_major": 2,
       "version_minor": 0
      },
      "text/plain": [
       "HBox(children=(FloatProgress(value=0.0, description='Result', max=4.0, style=ProgressStyle(description_width='…"
      ]
     },
     "metadata": {},
     "output_type": "display_data"
    },
    {
     "name": "stdout",
     "output_type": "stream",
     "text": [
      "\n"
     ]
    },
    {
     "data": {
      "application/vnd.jupyter.widget-view+json": {
       "model_id": "e41fd1030c934f9a8d4678613433882e",
       "version_major": 2,
       "version_minor": 0
      },
      "text/plain": [
       "HBox(children=(FloatProgress(value=0.0, description='Result', max=4.0, style=ProgressStyle(description_width='…"
      ]
     },
     "metadata": {},
     "output_type": "display_data"
    },
    {
     "name": "stdout",
     "output_type": "stream",
     "text": [
      "\n"
     ]
    },
    {
     "data": {
      "application/vnd.jupyter.widget-view+json": {
       "model_id": "d64412c79c2e4a33b88f0b290dfcc829",
       "version_major": 2,
       "version_minor": 0
      },
      "text/plain": [
       "HBox(children=(FloatProgress(value=0.0, description='Result', max=4.0, style=ProgressStyle(description_width='…"
      ]
     },
     "metadata": {},
     "output_type": "display_data"
    },
    {
     "name": "stdout",
     "output_type": "stream",
     "text": [
      "\n"
     ]
    },
    {
     "data": {
      "application/vnd.jupyter.widget-view+json": {
       "model_id": "9d4cd8f458124f3b9f35ab597a72127b",
       "version_major": 2,
       "version_minor": 0
      },
      "text/plain": [
       "HBox(children=(FloatProgress(value=0.0, description='Result', max=4.0, style=ProgressStyle(description_width='…"
      ]
     },
     "metadata": {},
     "output_type": "display_data"
    },
    {
     "name": "stdout",
     "output_type": "stream",
     "text": [
      "\n"
     ]
    },
    {
     "data": {
      "application/vnd.jupyter.widget-view+json": {
       "model_id": "908a864496b74d969749e9887153b0de",
       "version_major": 2,
       "version_minor": 0
      },
      "text/plain": [
       "HBox(children=(FloatProgress(value=0.0, description='Result', max=4.0, style=ProgressStyle(description_width='…"
      ]
     },
     "metadata": {},
     "output_type": "display_data"
    },
    {
     "name": "stdout",
     "output_type": "stream",
     "text": [
      "\n"
     ]
    },
    {
     "data": {
      "application/vnd.jupyter.widget-view+json": {
       "model_id": "5368939d4bc4418b912cc924af5adf3d",
       "version_major": 2,
       "version_minor": 0
      },
      "text/plain": [
       "HBox(children=(FloatProgress(value=0.0, description='Result', max=4.0, style=ProgressStyle(description_width='…"
      ]
     },
     "metadata": {},
     "output_type": "display_data"
    },
    {
     "name": "stdout",
     "output_type": "stream",
     "text": [
      "\n"
     ]
    },
    {
     "data": {
      "application/vnd.jupyter.widget-view+json": {
       "model_id": "2b17df76d1194cd0a3cf7f5149eb1850",
       "version_major": 2,
       "version_minor": 0
      },
      "text/plain": [
       "HBox(children=(FloatProgress(value=0.0, description='Result', max=4.0, style=ProgressStyle(description_width='…"
      ]
     },
     "metadata": {},
     "output_type": "display_data"
    },
    {
     "name": "stdout",
     "output_type": "stream",
     "text": [
      "\n"
     ]
    },
    {
     "data": {
      "application/vnd.jupyter.widget-view+json": {
       "model_id": "6eec0afac96f4f99b0b44df69dcc6e84",
       "version_major": 2,
       "version_minor": 0
      },
      "text/plain": [
       "HBox(children=(FloatProgress(value=0.0, description='Result', max=4.0, style=ProgressStyle(description_width='…"
      ]
     },
     "metadata": {},
     "output_type": "display_data"
    },
    {
     "name": "stdout",
     "output_type": "stream",
     "text": [
      "\n"
     ]
    },
    {
     "data": {
      "application/vnd.jupyter.widget-view+json": {
       "model_id": "93a0aa54486d4db495fae2060abb0d58",
       "version_major": 2,
       "version_minor": 0
      },
      "text/plain": [
       "HBox(children=(FloatProgress(value=0.0, description='Result', max=4.0, style=ProgressStyle(description_width='…"
      ]
     },
     "metadata": {},
     "output_type": "display_data"
    },
    {
     "name": "stdout",
     "output_type": "stream",
     "text": [
      "\n"
     ]
    },
    {
     "data": {
      "application/vnd.jupyter.widget-view+json": {
       "model_id": "faf7be23fe7f430b8ea00b8010b729bd",
       "version_major": 2,
       "version_minor": 0
      },
      "text/plain": [
       "HBox(children=(FloatProgress(value=0.0, description='Result', max=4.0, style=ProgressStyle(description_width='…"
      ]
     },
     "metadata": {},
     "output_type": "display_data"
    },
    {
     "name": "stdout",
     "output_type": "stream",
     "text": [
      "\n"
     ]
    },
    {
     "data": {
      "application/vnd.jupyter.widget-view+json": {
       "model_id": "57c135b38fb84ab8bbb2f5e4e75d1ecf",
       "version_major": 2,
       "version_minor": 0
      },
      "text/plain": [
       "HBox(children=(FloatProgress(value=0.0, description='Result', max=4.0, style=ProgressStyle(description_width='…"
      ]
     },
     "metadata": {},
     "output_type": "display_data"
    },
    {
     "name": "stdout",
     "output_type": "stream",
     "text": [
      "\n"
     ]
    },
    {
     "data": {
      "application/vnd.jupyter.widget-view+json": {
       "model_id": "53a99182119345f1b0652c75ac7df52e",
       "version_major": 2,
       "version_minor": 0
      },
      "text/plain": [
       "HBox(children=(FloatProgress(value=0.0, description='Result', max=4.0, style=ProgressStyle(description_width='…"
      ]
     },
     "metadata": {},
     "output_type": "display_data"
    },
    {
     "name": "stdout",
     "output_type": "stream",
     "text": [
      "\n"
     ]
    },
    {
     "data": {
      "application/vnd.jupyter.widget-view+json": {
       "model_id": "8de97769cbd9406489bdb00c19ceddce",
       "version_major": 2,
       "version_minor": 0
      },
      "text/plain": [
       "HBox(children=(FloatProgress(value=0.0, description='Result', max=4.0, style=ProgressStyle(description_width='…"
      ]
     },
     "metadata": {},
     "output_type": "display_data"
    },
    {
     "name": "stdout",
     "output_type": "stream",
     "text": [
      "\n"
     ]
    },
    {
     "data": {
      "application/vnd.jupyter.widget-view+json": {
       "model_id": "45ae54de37924225893aae6c5d80815f",
       "version_major": 2,
       "version_minor": 0
      },
      "text/plain": [
       "HBox(children=(FloatProgress(value=0.0, description='Result', max=4.0, style=ProgressStyle(description_width='…"
      ]
     },
     "metadata": {},
     "output_type": "display_data"
    },
    {
     "name": "stdout",
     "output_type": "stream",
     "text": [
      "\n"
     ]
    },
    {
     "data": {
      "application/vnd.jupyter.widget-view+json": {
       "model_id": "4b1f5f49ab1c468f9072f0deb1893287",
       "version_major": 2,
       "version_minor": 0
      },
      "text/plain": [
       "HBox(children=(FloatProgress(value=0.0, description='Result', max=4.0, style=ProgressStyle(description_width='…"
      ]
     },
     "metadata": {},
     "output_type": "display_data"
    },
    {
     "name": "stdout",
     "output_type": "stream",
     "text": [
      "\n"
     ]
    },
    {
     "data": {
      "application/vnd.jupyter.widget-view+json": {
       "model_id": "d7cb6b2b54964ad188c2ae7b7ce177a7",
       "version_major": 2,
       "version_minor": 0
      },
      "text/plain": [
       "HBox(children=(FloatProgress(value=0.0, description='Result', max=4.0, style=ProgressStyle(description_width='…"
      ]
     },
     "metadata": {},
     "output_type": "display_data"
    },
    {
     "name": "stdout",
     "output_type": "stream",
     "text": [
      "\n",
      "\n"
     ]
    }
   ],
   "source": [
    "if 'all_results_fixed_checkpoints_df' not in cache:\n",
    "    cache['all_results_fixed_checkpoints_df'] = results_dict_to_df(all_results_fixed_checkpoints)\n",
    "    cache = refresh_cache(cache)\n",
    "    \n",
    "all_results_fixed_checkpoints_df = cache['all_results_fixed_checkpoints_df']"
   ]
  },
  {
   "cell_type": "code",
   "execution_count": 28,
   "metadata": {},
   "outputs": [
    {
     "data": {
      "text/html": [
       "<div>\n",
       "<style scoped>\n",
       "    .dataframe tbody tr th:only-of-type {\n",
       "        vertical-align: middle;\n",
       "    }\n",
       "\n",
       "    .dataframe tbody tr th {\n",
       "        vertical-align: top;\n",
       "    }\n",
       "\n",
       "    .dataframe thead th {\n",
       "        text-align: right;\n",
       "    }\n",
       "</style>\n",
       "<table border=\"1\" class=\"dataframe\">\n",
       "  <thead>\n",
       "    <tr style=\"text-align: right;\">\n",
       "      <th></th>\n",
       "      <th>relation</th>\n",
       "      <th>model_config</th>\n",
       "      <th>num_objects</th>\n",
       "      <th>dataset_size</th>\n",
       "      <th>dataset_power</th>\n",
       "      <th>model_name</th>\n",
       "      <th>seed</th>\n",
       "      <th>total_params</th>\n",
       "      <th>max_val_acc</th>\n",
       "      <th>max_val_acc_step</th>\n",
       "      <th>acc_threshold_step</th>\n",
       "      <th>acc_diff</th>\n",
       "      <th>num_objects_gen_test_acc</th>\n",
       "      <th>num_objects_gen_test_acc_diff</th>\n",
       "    </tr>\n",
       "  </thead>\n",
       "  <tbody>\n",
       "    <tr>\n",
       "      <th>0</th>\n",
       "      <td>between</td>\n",
       "      <td>larger</td>\n",
       "      <td>10</td>\n",
       "      <td>65536</td>\n",
       "      <td>16</td>\n",
       "      <td>cnn</td>\n",
       "      <td>108</td>\n",
       "      <td>34386</td>\n",
       "      <td>0.509460</td>\n",
       "      <td>1727</td>\n",
       "      <td>NaN</td>\n",
       "      <td>0.230774</td>\n",
       "      <td>0.500000</td>\n",
       "      <td>0.009460</td>\n",
       "    </tr>\n",
       "    <tr>\n",
       "      <th>1</th>\n",
       "      <td>between</td>\n",
       "      <td>larger</td>\n",
       "      <td>10</td>\n",
       "      <td>65536</td>\n",
       "      <td>16</td>\n",
       "      <td>cnn</td>\n",
       "      <td>107</td>\n",
       "      <td>34386</td>\n",
       "      <td>0.502686</td>\n",
       "      <td>383</td>\n",
       "      <td>NaN</td>\n",
       "      <td>0.224289</td>\n",
       "      <td>0.498840</td>\n",
       "      <td>0.003845</td>\n",
       "    </tr>\n",
       "    <tr>\n",
       "      <th>2</th>\n",
       "      <td>between</td>\n",
       "      <td>larger</td>\n",
       "      <td>10</td>\n",
       "      <td>65536</td>\n",
       "      <td>16</td>\n",
       "      <td>cnn</td>\n",
       "      <td>101</td>\n",
       "      <td>34386</td>\n",
       "      <td>0.506958</td>\n",
       "      <td>319</td>\n",
       "      <td>NaN</td>\n",
       "      <td>0.239685</td>\n",
       "      <td>0.504456</td>\n",
       "      <td>0.002502</td>\n",
       "    </tr>\n",
       "    <tr>\n",
       "      <th>3</th>\n",
       "      <td>between</td>\n",
       "      <td>larger</td>\n",
       "      <td>10</td>\n",
       "      <td>65536</td>\n",
       "      <td>16</td>\n",
       "      <td>cnn</td>\n",
       "      <td>100</td>\n",
       "      <td>34386</td>\n",
       "      <td>0.507141</td>\n",
       "      <td>2623</td>\n",
       "      <td>NaN</td>\n",
       "      <td>0.203308</td>\n",
       "      <td>0.495667</td>\n",
       "      <td>0.011475</td>\n",
       "    </tr>\n",
       "    <tr>\n",
       "      <th>4</th>\n",
       "      <td>between</td>\n",
       "      <td>larger</td>\n",
       "      <td>10</td>\n",
       "      <td>65536</td>\n",
       "      <td>16</td>\n",
       "      <td>cnn</td>\n",
       "      <td>109</td>\n",
       "      <td>34386</td>\n",
       "      <td>0.507385</td>\n",
       "      <td>2879</td>\n",
       "      <td>NaN</td>\n",
       "      <td>0.224091</td>\n",
       "      <td>0.499573</td>\n",
       "      <td>0.007812</td>\n",
       "    </tr>\n",
       "  </tbody>\n",
       "</table>\n",
       "</div>"
      ],
      "text/plain": [
       "  relation model_config  num_objects  dataset_size  dataset_power model_name  \\\n",
       "0  between       larger           10         65536             16        cnn   \n",
       "1  between       larger           10         65536             16        cnn   \n",
       "2  between       larger           10         65536             16        cnn   \n",
       "3  between       larger           10         65536             16        cnn   \n",
       "4  between       larger           10         65536             16        cnn   \n",
       "\n",
       "   seed  total_params  max_val_acc  max_val_acc_step  acc_threshold_step  \\\n",
       "0   108         34386     0.509460              1727                 NaN   \n",
       "1   107         34386     0.502686               383                 NaN   \n",
       "2   101         34386     0.506958               319                 NaN   \n",
       "3   100         34386     0.507141              2623                 NaN   \n",
       "4   109         34386     0.507385              2879                 NaN   \n",
       "\n",
       "   acc_diff  num_objects_gen_test_acc  num_objects_gen_test_acc_diff  \n",
       "0  0.230774                  0.500000                       0.009460  \n",
       "1  0.224289                  0.498840                       0.003845  \n",
       "2  0.239685                  0.504456                       0.002502  \n",
       "3  0.203308                  0.495667                       0.011475  \n",
       "4  0.224091                  0.499573                       0.007812  "
      ]
     },
     "execution_count": 28,
     "metadata": {},
     "output_type": "execute_result"
    }
   ],
   "source": [
    "all_results_fixed_checkpoints_df.head()"
   ]
  },
  {
   "cell_type": "markdown",
   "metadata": {},
   "source": [
    "# Plotting thoughts\n",
    "* I want a single plotting function that will generate a group of bar charts\n",
    "* Steps:\n",
    "    1. Filter out particular parts of the dataframe.\n",
    "    2. Group by one or more fields.\n",
    "    3. Aggregate (mean, sd) the metric of choice.\n",
    "    4. Group the bars by one of the group-by fields. \n",
    "* I probably want some way to specify formatting by the individual groups left (for example, a color for each model, a striping for each relation, ...)\n",
    "\n",
    "**TODO:** \n",
    "* Pretitfy names\n",
    "* Model (or other field orders)"
   ]
  },
  {
   "cell_type": "code",
   "execution_count": 74,
   "metadata": {},
   "outputs": [],
   "source": [
    "DEFAULT_ORDERS = dict(\n",
    "    model_name=['combined-object-mlp', 'cnn', 'relation-net', 'transformer'],\n",
    "    relation=['adjacent', 'between', 'above', 'count']\n",
    ")\n",
    "DEFAULT_COLORMAP = plt.get_cmap('Dark2')\n",
    "DEFAULT_BAR_KWARGS_BY_FIELD = defaultdict(lambda: defaultdict(dict))\n",
    "DEFAULT_BAR_KWARGS_BY_FIELD['model_name'] = {name: dict(color=DEFAULT_COLORMAP(i))\n",
    "                                             for i, name in enumerate(DEFAULT_ORDERS['model_name'])}\n",
    "DEFAULT_BAR_KWARGS_BY_FIELD['num_objects'] = {5: {'hatch': ''}, 10: {'hatch': '/'}}\n",
    "\n",
    "DEFAULT_BAR_KWARGS = dict(edgecolor='black')\n",
    "\n",
    "SHADE_BAR_KWARGS = dict(alpha=0.25)\n",
    "\n",
    "DEFAULT_TEXT_KWARGS = dict(fontsize=16)\n",
    "\n",
    "DEFAULT_YLIM = (0, 1.05)\n",
    "\n",
    "PRETTY_NAMES = {\n",
    "    'cnn': 'CNN',\n",
    "    'combined-object-mlp': 'MLP',\n",
    "    'relation-net': 'RelationNet',\n",
    "    'max_val_acc': 'Validation Accuracy',\n",
    "    'model_config': 'Model Configuration Set',\n",
    "    'num_objects_gen_test_acc': 'Generalization Test Accuracy'\n",
    "}\n",
    "\n",
    "\n",
    "def prettify(text):\n",
    "    if isinstance(text, int) and text > 1000:\n",
    "        return f'{text // 1000}k ($2^{{ {int(np.log2(text))} }}$)'\n",
    "    \n",
    "    text = str(text)\n",
    "    \n",
    "    if text in PRETTY_NAMES:\n",
    "        return PRETTY_NAMES[text]\n",
    "\n",
    "    return text.lower().replace('_', ' ').title()\n",
    "\n",
    "\n",
    "def create_bar_chart(df, filter_dict, group_by_fields, metric,\n",
    "                     orders=DEFAULT_ORDERS, sem=False, title=None,\n",
    "                     bar_kwargs_by_field=DEFAULT_BAR_KWARGS_BY_FIELD,\n",
    "                     bar_width=0.2, bar_spacing=0.5, default_bar_kwargs=DEFAULT_BAR_KWARGS,\n",
    "                     text_kwargs=DEFAULT_TEXT_KWARGS, shade_metric=None, \n",
    "                     shade_bar_kwargs=SHADE_BAR_KWARGS, plot_shade_std=False,\n",
    "                     add_chance_hline=True, ylim=DEFAULT_YLIM, legend_loc='best',\n",
    "                     save_path=None, save_should_print=False):\n",
    "    orders = copy.deepcopy(orders)\n",
    "    major_group_by = group_by_fields[0]\n",
    "    minor_group_by = group_by_fields[1:]\n",
    "    \n",
    "    if default_bar_kwargs is None:\n",
    "        default_bar_kwargs = dict()\n",
    "    \n",
    "    if shade_bar_kwargs is None:\n",
    "        shade_bar_kwargs = dict()\n",
    "    \n",
    "    shade_bar_kwargs_temp = copy.deepcopy(default_bar_kwargs)\n",
    "    shade_bar_kwargs_temp.update(shade_bar_kwargs)\n",
    "    shade_bar_kwargs = shade_bar_kwargs_temp\n",
    "    \n",
    "    filtered_df = df.copy(deep=True)\n",
    "    \n",
    "    if filter_dict is not None:\n",
    "        for filter_name, filter_value in filter_dict.items():\n",
    "            if isinstance(filter_value, (list, tuple)):\n",
    "                filtered_df = filtered_df[filtered_df[filter_name].isin(filter_value)]\n",
    "                if filter_name in orders:\n",
    "                    orders[filter_name] = list(filter(lambda v: v in filter_value, orders[filter_name]))\n",
    "            else:\n",
    "                filtered_df = filtered_df[filtered_df[filter_name].eq(filter_value)]\n",
    "            \n",
    "    grouped_df = filtered_df.groupby(group_by_fields)\n",
    "    mean = grouped_df[metric].mean()\n",
    "    std = grouped_df[metric].std()    \n",
    "    if sem:\n",
    "        std /= np.sqrt(grouped_df[metric].count())\n",
    "        \n",
    "    if shade_metric is not None:\n",
    "        shade_mean = grouped_df[shade_metric].mean()\n",
    "        shade_std = grouped_df[shade_metric].std()    \n",
    "        if sem:\n",
    "            shade_std /= np.sqrt(grouped_df[shade_metric].count())\n",
    "\n",
    "    if major_group_by in orders:\n",
    "        major_group_values = orders[major_group_by]\n",
    "    else:\n",
    "        major_group_values = mean.index.unique(level=major_group_by)\n",
    "        \n",
    "    minor_group_values_list = []\n",
    "    \n",
    "    for minor_field_name in minor_group_by:\n",
    "        if minor_field_name in orders:\n",
    "            minor_group_values_list.append(orders[minor_field_name])\n",
    "        else:\n",
    "            minor_group_values_list.append(mean.index.unique(level=minor_field_name))\n",
    "    \n",
    "    major_kwargs = bar_kwargs_by_field[major_group_by]\n",
    "    minor_kwargs_list = [bar_kwargs_by_field[minor_field_name] for minor_field_name in minor_group_by]\n",
    "    \n",
    "    figure = plt.figure(figsize=(8, 6))\n",
    "    x = 0\n",
    "    \n",
    "    for major_level_value in major_group_values:\n",
    "        major_level_kwargs = major_kwargs[major_level_value]\n",
    "        \n",
    "        for minor_level_value_combination in itertools.product(*minor_group_values_list):\n",
    "            combined_minor_kwargs = {}\n",
    "            for i, value in enumerate(minor_level_value_combination):\\\n",
    "                combined_minor_kwargs.update(minor_kwargs_list[i][value])\n",
    "                \n",
    "            major_and_minor_key = (major_level_value, *minor_level_value_combination)\n",
    "            \n",
    "            if shade_metric:  # intentionally shade before the real bars\n",
    "                shade_m = shade_mean.loc[major_and_minor_key]\n",
    "                if plot_shade_std:\n",
    "                    shade_s = shade_std.loc[major_and_minor_key]\n",
    "                else:\n",
    "                    shade_s = 0\n",
    "                plt.bar(x, shade_m, yerr=shade_s, width=bar_width, **major_level_kwargs, \n",
    "                        **combined_minor_kwargs, **shade_bar_kwargs)\n",
    "            \n",
    "            m = mean.loc[major_and_minor_key]\n",
    "            s = std.loc[major_and_minor_key]\n",
    "            plt.bar(x, m, yerr=s, width=bar_width, **major_level_kwargs, \n",
    "                    **combined_minor_kwargs, **default_bar_kwargs)\n",
    "            \n",
    "            \n",
    "            \n",
    "            x += bar_width\n",
    "        \n",
    "        x += bar_spacing\n",
    "        \n",
    "    minor_group_length = np.product([len(values) for values in minor_group_values_list])\n",
    "    x_tick_locations = np.arange(len(major_group_values)) * (bar_spacing + bar_width * minor_group_length) +\\\n",
    "                        bar_width * (minor_group_length / 2 - 0.5)\n",
    "    plt.xticks(x_tick_locations, [prettify(val) for val in major_group_values], **text_kwargs)\n",
    "    plt.gca().tick_params(axis='both', which='major', labelsize=12)\n",
    "    \n",
    "    if add_chance_hline:\n",
    "        xlim = plt.xlim()\n",
    "        plt.hlines(0.5, *xlim, linestyle='--', alpha=0.5)\n",
    "        plt.xlim(*xlim)\n",
    "        \n",
    "    if ylim is not None:\n",
    "        plt.ylim(*ylim)\n",
    "\n",
    "    plt.xlabel(prettify(major_group_by), **text_kwargs)\n",
    "    plt.ylabel(prettify(metric), **text_kwargs)\n",
    "    plt.title(title, fontsize=20)\n",
    "    \n",
    "    patches = []\n",
    "    ncol = 0\n",
    "    for kwarg_set, field_name in zip([major_kwargs] + minor_kwargs_list, group_by_fields):\n",
    "        if any([len(val) > 0 for val in kwarg_set.values()]):\n",
    "            ncol += 1\n",
    "            for field_value in kwarg_set:\n",
    "                if field_name in filter_dict and field_value not in filter_dict[field_name]:\n",
    "                    continue\n",
    "                \n",
    "                patch_kwargs = dict(facecolor='none', edgecolor='black')\n",
    "                patch_kwargs.update(kwarg_set[field_value])\n",
    "                patches.append(matplotlib.patches.Patch(**patch_kwargs, label=prettify(field_value)))\n",
    "    \n",
    "    if len(patches) > 0: \n",
    "        plt.legend(handles=patches, loc=legend_loc, ncol=ncol, fontsize=12)\n",
    "    \n",
    "    if save_path is not None:\n",
    "        save_plot(save_path, should_print=save_should_print)\n",
    "    \n",
    "    plt.show()\n",
    "    "
   ]
  },
  {
   "cell_type": "code",
   "execution_count": 81,
   "metadata": {},
   "outputs": [
    {
     "name": "stderr",
     "output_type": "stream",
     "text": [
      "/Users/guydavidson/opt/anaconda3/lib/python3.6/site-packages/ipykernel_launcher.py:74: FutureWarning: Interpreting tuple 'by' as a list of keys, rather than a single key. Use 'by=[...]' instead of 'by=(...)'. In the future, a tuple will always mean a single key.\n"
     ]
    },
    {
     "data": {
      "image/png": "[encoded data removed]",
      "text/plain": [
       "<Figure size 576x432 with 1 Axes>"
      ]
     },
     "metadata": {
      "needs_background": "light"
     },
     "output_type": "display_data"
    }
   ],
   "source": [
    "create_bar_chart(all_results_fixed_checkpoints_df, \n",
    "                 filter_dict=dict(model_config='default', num_objects=5, dataset_power=14), \n",
    "                 group_by_fields=('relation', 'model_name'),\n",
    "                 metric='max_val_acc',\n",
    "                 save_path='default_5_16k_group_by_relation.pdf',\n",
    "#                  title='Default settings (5 objects, 16k examples) by relation and model size'\n",
    "                )\n"
   ]
  },
  {
   "cell_type": "code",
   "execution_count": 56,
   "metadata": {},
   "outputs": [
    {
     "name": "stderr",
     "output_type": "stream",
     "text": [
      "/Users/guydavidson/opt/anaconda3/lib/python3.6/site-packages/ipykernel_launcher.py:72: FutureWarning: Interpreting tuple 'by' as a list of keys, rather than a single key. Use 'by=[...]' instead of 'by=(...)'. In the future, a tuple will always mean a single key.\n"
     ]
    },
    {
     "data": {
      "image/png": "[encoded data removed]",
      "text/plain": [
       "<Figure size 576x432 with 1 Axes>"
      ]
     },
     "metadata": {
      "needs_background": "light"
     },
     "output_type": "display_data"
    }
   ],
   "source": [
    "create_bar_chart(all_results_fixed_checkpoints_df, \n",
    "                 filter_dict=dict(model_config='default', num_objects=10, dataset_power=14), \n",
    "                 group_by_fields=('relation', 'model_name'),\n",
    "                 metric='max_val_acc',\n",
    "#                  save_path='default_5_16k_group_by_relation.pdf',\n",
    "                 title='Default settings (10 objects, 16k examples) by relation and model size')\n"
   ]
  },
  {
   "cell_type": "code",
   "execution_count": 82,
   "metadata": {},
   "outputs": [
    {
     "name": "stderr",
     "output_type": "stream",
     "text": [
      "/Users/guydavidson/opt/anaconda3/lib/python3.6/site-packages/ipykernel_launcher.py:74: FutureWarning: Interpreting tuple 'by' as a list of keys, rather than a single key. Use 'by=[...]' instead of 'by=(...)'. In the future, a tuple will always mean a single key.\n"
     ]
    },
    {
     "data": {
      "image/png": "[encoded data removed]",
      "text/plain": [
       "<Figure size 576x432 with 1 Axes>"
      ]
     },
     "metadata": {
      "needs_background": "light"
     },
     "output_type": "display_data"
    },
    {
     "data": {
      "image/png": "[encoded data removed]",
      "text/plain": [
       "<Figure size 576x432 with 1 Axes>"
      ]
     },
     "metadata": {
      "needs_background": "light"
     },
     "output_type": "display_data"
    }
   ],
   "source": [
    "df = create_bar_chart(all_results_fixed_checkpoints_df, \n",
    "                 filter_dict=dict(model_config='default', num_objects=10, relation='adjacent'), \n",
    "                 group_by_fields=('dataset_size', 'model_name'),\n",
    "                 metric='max_val_acc',\n",
    "#                  save_path='default_5_adjacent_group_by_dataset_size.pdf',\n",
    "#                  title='Dataset size effect, adjacent relation'\n",
    "                     )\n",
    "\n",
    "\n",
    "create_bar_chart(all_results_fixed_checkpoints_df, \n",
    "                 filter_dict=dict(model_config='default', num_objects=10, relation='between'), \n",
    "                 group_by_fields=('dataset_size', 'model_name'),\n",
    "                 metric='max_val_acc',\n",
    "                 save_path='default_10_between_group_by_dataset_size.pdf',\n",
    "#                  title='Dataset size effect, between relation'\n",
    "                )\n"
   ]
  },
  {
   "cell_type": "code",
   "execution_count": 76,
   "metadata": {},
   "outputs": [
    {
     "data": {
      "image/png": "[encoded data removed]",
      "text/plain": [
       "<Figure size 576x432 with 1 Axes>"
      ]
     },
     "metadata": {
      "needs_background": "light"
     },
     "output_type": "display_data"
    },
    {
     "data": {
      "image/png": "[encoded data removed]",
      "text/plain": [
       "<Figure size 576x432 with 1 Axes>"
      ]
     },
     "metadata": {
      "needs_background": "light"
     },
     "output_type": "display_data"
    }
   ],
   "source": [
    "create_bar_chart(all_results_fixed_checkpoints_df, \n",
    "                 filter_dict=dict(model_config='default', relation='adjacent',\n",
    "                                  model_name=['relation-net', 'transformer']), \n",
    "                 group_by_fields=['dataset_size', 'model_name', 'num_objects'],\n",
    "                 metric='max_val_acc', legend_loc='upper left',\n",
    "                 save_path='default_adjacent_group_by_dataset_size_and_num_objects.pdf'\n",
    "                )\n",
    "\n",
    "\n",
    "create_bar_chart(all_results_fixed_checkpoints_df, \n",
    "                 filter_dict=dict(model_config='default', relation='between',\n",
    "                                  model_name=['relation-net', 'transformer']), \n",
    "                 group_by_fields=['dataset_size', 'model_name', 'num_objects'],\n",
    "                 metric='max_val_acc', legend_loc='lower right',\n",
    "                 save_path='default_between_group_by_dataset_size_and_num_objects.pdf'\n",
    "                )\n",
    "\n"
   ]
  },
  {
   "cell_type": "code",
   "execution_count": 84,
   "metadata": {},
   "outputs": [
    {
     "data": {
      "image/png": "[encoded data removed]",
      "text/plain": [
       "<Figure size 576x432 with 1 Axes>"
      ]
     },
     "metadata": {
      "needs_background": "light"
     },
     "output_type": "display_data"
    },
    {
     "data": {
      "image/png": "[encoded data removed]",
      "text/plain": [
       "<Figure size 576x432 with 1 Axes>"
      ]
     },
     "metadata": {
      "needs_background": "light"
     },
     "output_type": "display_data"
    }
   ],
   "source": [
    "create_bar_chart(all_results_fixed_checkpoints_df, \n",
    "                 filter_dict=dict(relation='adjacent', dataset_power=16,\n",
    "#                                   model_name=['relation-net', 'transformer']\n",
    "                                 ), \n",
    "                 group_by_fields=['model_config', 'model_name', 'num_objects'],\n",
    "                 metric='max_val_acc',\n",
    "                 save_path='adjacent_group_by_model_config_and_num_objects.pdf'\n",
    "                )\n",
    "\n",
    "\n",
    "create_bar_chart(all_results_fixed_checkpoints_df, \n",
    "                 filter_dict=dict(relation='between', dataset_power=16,\n",
    "#                                   model_name=['relation-net', 'transformer']\n",
    "                                 ), \n",
    "                 group_by_fields=['model_config', 'model_name', 'num_objects'],\n",
    "                 metric='max_val_acc', legend_loc='lower right',\n",
    "                 save_path='between_group_by_model_config_and_num_objects.pdf'\n",
    "                )\n",
    "\n"
   ]
  },
  {
   "cell_type": "code",
   "execution_count": 79,
   "metadata": {},
   "outputs": [
    {
     "data": {
      "image/png": "[encoded data removed]",
      "text/plain": [
       "<Figure size 576x432 with 1 Axes>"
      ]
     },
     "metadata": {
      "needs_background": "light"
     },
     "output_type": "display_data"
    },
    {
     "data": {
      "image/png": "[encoded data removed]",
      "text/plain": [
       "<Figure size 576x432 with 1 Axes>"
      ]
     },
     "metadata": {
      "needs_background": "light"
     },
     "output_type": "display_data"
    }
   ],
   "source": [
    "create_bar_chart(all_results_fixed_checkpoints_df, \n",
    "                 filter_dict=dict(model_config='default', # relation=['adjacent', 'between'],\n",
    "                                  dataset_power=16, model_name=['relation-net', 'transformer']\n",
    "                                 ), \n",
    "                 group_by_fields=['relation', 'model_name', 'num_objects'],\n",
    "                 metric='num_objects_gen_test_acc', shade_metric='max_val_acc', legend_loc='lower right',\n",
    "                 save_path='generalization_test_default_models.pdf'\n",
    "                )\n",
    "\n",
    "\n",
    "create_bar_chart(all_results_fixed_checkpoints_df, \n",
    "                 filter_dict=dict(model_config='larger', # relation=['adjacent', 'between'],\n",
    "                                  dataset_power=16, model_name=['relation-net', 'transformer']\n",
    "                                 ), \n",
    "                 group_by_fields=['relation', 'model_name', 'num_objects'],\n",
    "                 metric='num_objects_gen_test_acc', shade_metric='max_val_acc', legend_loc='lower right',\n",
    "                 save_path='generalization_test_larger_models.pdf'\n",
    "                )\n"
   ]
  },
  {
   "cell_type": "code",
   "execution_count": null,
   "metadata": {},
   "outputs": [],
   "source": []
  },
  {
   "cell_type": "markdown",
   "metadata": {},
   "source": [
    "# Make a big 'ol table"
   ]
  },
  {
   "cell_type": "code",
   "execution_count": null,
   "metadata": {},
   "outputs": [],
   "source": [
    "table_group_by_columns = ['model_config', 'num_objects', 'dataset_size', 'relation', 'model_name']\n",
    "custom_sorted_res = all_results_df.copy()\n",
    "custom_sorted_res['model_name'] = pd.Categorical(custom_sorted_res['model_name'], \n",
    "                                                 ['combined-object-mlp', 'cnn', 'relation-net', 'transformer'])\n",
    "custom_sorted_res['relation'] = pd.Categorical(custom_sorted_res['relation'], \n",
    "                                                 ['adjacent', 'above', 'count'])\n",
    "\n",
    "custom_sorted_res = custom_sorted_res.sort_values('model_name').sort_values('relation')\n",
    "\n",
    "grouped = custom_sorted_res.groupby(table_group_by_columns, as_index=False)\n",
    "mean = grouped.mean()\n",
    "mean.to_latex('./figures/result_table.txt', \n",
    "              columns=table_group_by_columns + ['max_val_acc', 'acc_diff'],\n",
    "              float_format='%.3f', index=False, bold_rows=True)"
   ]
  },
  {
   "cell_type": "code",
   "execution_count": null,
   "metadata": {},
   "outputs": [],
   "source": []
  },
  {
   "cell_type": "code",
   "execution_count": null,
   "metadata": {},
   "outputs": [],
   "source": []
  },
  {
   "cell_type": "code",
   "execution_count": null,
   "metadata": {},
   "outputs": [],
   "source": [
    "all_results_df.head()"
   ]
  },
  {
   "cell_type": "code",
   "execution_count": null,
   "metadata": {},
   "outputs": [],
   "source": [
    "all_results_df[all_results_df.model_name != 'cnn'].acc_diff.max()"
   ]
  },
  {
   "cell_type": "code",
   "execution_count": null,
   "metadata": {},
   "outputs": [],
   "source": [
    "all_results_df.acc_diff.max()"
   ]
  },
  {
   "cell_type": "code",
   "execution_count": null,
   "metadata": {},
   "outputs": [],
   "source": [
    "all_results_df[all_results_df.model_name == 'cnn'].acc_diff.max()"
   ]
  },
  {
   "cell_type": "code",
   "execution_count": null,
   "metadata": {},
   "outputs": [],
   "source": [
    "r = all_results_df[all_results_df.model_config == 'larger']\n",
    "r.head()\n",
    "# r = r[r.model_name.is != 'cnn']\n",
    "# r = r[r.model_name != 'combined-object-mlp']\n",
    "# r.loc[r.max_val_acc.idxmin()]"
   ]
  },
  {
   "cell_type": "code",
   "execution_count": null,
   "metadata": {},
   "outputs": [],
   "source": [
    "r.num_objects.unique()"
   ]
  },
  {
   "cell_type": "code",
   "execution_count": null,
   "metadata": {},
   "outputs": [],
   "source": [
    "r.dataset_size.unique()"
   ]
  },
  {
   "cell_type": "code",
   "execution_count": null,
   "metadata": {},
   "outputs": [],
   "source": [
    "r.relation.unique()"
   ]
  },
  {
   "cell_type": "code",
   "execution_count": null,
   "metadata": {},
   "outputs": [],
   "source": [
    "all_results_df.groupby(['model_config', 'model_name']).total_params.mean()"
   ]
  },
  {
   "cell_type": "code",
   "execution_count": 88,
   "metadata": {},
   "outputs": [
    {
     "data": {
      "text/html": [
       "<div>\n",
       "<style scoped>\n",
       "    .dataframe tbody tr th:only-of-type {\n",
       "        vertical-align: middle;\n",
       "    }\n",
       "\n",
       "    .dataframe tbody tr th {\n",
       "        vertical-align: top;\n",
       "    }\n",
       "\n",
       "    .dataframe thead th {\n",
       "        text-align: right;\n",
       "    }\n",
       "</style>\n",
       "<table border=\"1\" class=\"dataframe\">\n",
       "  <thead>\n",
       "    <tr style=\"text-align: right;\">\n",
       "      <th></th>\n",
       "      <th>relation</th>\n",
       "      <th>model_config</th>\n",
       "      <th>num_objects</th>\n",
       "      <th>dataset_size</th>\n",
       "      <th>dataset_power</th>\n",
       "      <th>model_name</th>\n",
       "      <th>seed</th>\n",
       "      <th>total_params</th>\n",
       "      <th>max_val_acc</th>\n",
       "      <th>max_val_acc_step</th>\n",
       "      <th>acc_threshold_step</th>\n",
       "      <th>acc_diff</th>\n",
       "      <th>num_objects_gen_test_acc</th>\n",
       "      <th>num_objects_gen_test_acc_diff</th>\n",
       "    </tr>\n",
       "  </thead>\n",
       "  <tbody>\n",
       "    <tr>\n",
       "      <th>0</th>\n",
       "      <td>between</td>\n",
       "      <td>larger</td>\n",
       "      <td>10</td>\n",
       "      <td>65536</td>\n",
       "      <td>16</td>\n",
       "      <td>cnn</td>\n",
       "      <td>108</td>\n",
       "      <td>34386</td>\n",
       "      <td>0.509460</td>\n",
       "      <td>1727</td>\n",
       "      <td>NaN</td>\n",
       "      <td>0.230774</td>\n",
       "      <td>0.500000</td>\n",
       "      <td>0.009460</td>\n",
       "    </tr>\n",
       "    <tr>\n",
       "      <th>1</th>\n",
       "      <td>between</td>\n",
       "      <td>larger</td>\n",
       "      <td>10</td>\n",
       "      <td>65536</td>\n",
       "      <td>16</td>\n",
       "      <td>cnn</td>\n",
       "      <td>107</td>\n",
       "      <td>34386</td>\n",
       "      <td>0.502686</td>\n",
       "      <td>383</td>\n",
       "      <td>NaN</td>\n",
       "      <td>0.224289</td>\n",
       "      <td>0.498840</td>\n",
       "      <td>0.003845</td>\n",
       "    </tr>\n",
       "    <tr>\n",
       "      <th>2</th>\n",
       "      <td>between</td>\n",
       "      <td>larger</td>\n",
       "      <td>10</td>\n",
       "      <td>65536</td>\n",
       "      <td>16</td>\n",
       "      <td>cnn</td>\n",
       "      <td>101</td>\n",
       "      <td>34386</td>\n",
       "      <td>0.506958</td>\n",
       "      <td>319</td>\n",
       "      <td>NaN</td>\n",
       "      <td>0.239685</td>\n",
       "      <td>0.504456</td>\n",
       "      <td>0.002502</td>\n",
       "    </tr>\n",
       "    <tr>\n",
       "      <th>3</th>\n",
       "      <td>between</td>\n",
       "      <td>larger</td>\n",
       "      <td>10</td>\n",
       "      <td>65536</td>\n",
       "      <td>16</td>\n",
       "      <td>cnn</td>\n",
       "      <td>100</td>\n",
       "      <td>34386</td>\n",
       "      <td>0.507141</td>\n",
       "      <td>2623</td>\n",
       "      <td>NaN</td>\n",
       "      <td>0.203308</td>\n",
       "      <td>0.495667</td>\n",
       "      <td>0.011475</td>\n",
       "    </tr>\n",
       "    <tr>\n",
       "      <th>4</th>\n",
       "      <td>between</td>\n",
       "      <td>larger</td>\n",
       "      <td>10</td>\n",
       "      <td>65536</td>\n",
       "      <td>16</td>\n",
       "      <td>cnn</td>\n",
       "      <td>109</td>\n",
       "      <td>34386</td>\n",
       "      <td>0.507385</td>\n",
       "      <td>2879</td>\n",
       "      <td>NaN</td>\n",
       "      <td>0.224091</td>\n",
       "      <td>0.499573</td>\n",
       "      <td>0.007812</td>\n",
       "    </tr>\n",
       "    <tr>\n",
       "      <th>...</th>\n",
       "      <td>...</td>\n",
       "      <td>...</td>\n",
       "      <td>...</td>\n",
       "      <td>...</td>\n",
       "      <td>...</td>\n",
       "      <td>...</td>\n",
       "      <td>...</td>\n",
       "      <td>...</td>\n",
       "      <td>...</td>\n",
       "      <td>...</td>\n",
       "      <td>...</td>\n",
       "      <td>...</td>\n",
       "      <td>...</td>\n",
       "      <td>...</td>\n",
       "    </tr>\n",
       "    <tr>\n",
       "      <th>315</th>\n",
       "      <td>adjacent</td>\n",
       "      <td>larger</td>\n",
       "      <td>5</td>\n",
       "      <td>65536</td>\n",
       "      <td>16</td>\n",
       "      <td>combined-object-mlp</td>\n",
       "      <td>107</td>\n",
       "      <td>3842</td>\n",
       "      <td>0.675293</td>\n",
       "      <td>49855</td>\n",
       "      <td>NaN</td>\n",
       "      <td>0.010513</td>\n",
       "      <td>0.514038</td>\n",
       "      <td>0.161255</td>\n",
       "    </tr>\n",
       "    <tr>\n",
       "      <th>316</th>\n",
       "      <td>adjacent</td>\n",
       "      <td>larger</td>\n",
       "      <td>5</td>\n",
       "      <td>65536</td>\n",
       "      <td>16</td>\n",
       "      <td>combined-object-mlp</td>\n",
       "      <td>102</td>\n",
       "      <td>3842</td>\n",
       "      <td>0.653870</td>\n",
       "      <td>25023</td>\n",
       "      <td>NaN</td>\n",
       "      <td>0.025574</td>\n",
       "      <td>0.515259</td>\n",
       "      <td>0.138611</td>\n",
       "    </tr>\n",
       "    <tr>\n",
       "      <th>317</th>\n",
       "      <td>adjacent</td>\n",
       "      <td>larger</td>\n",
       "      <td>5</td>\n",
       "      <td>65536</td>\n",
       "      <td>16</td>\n",
       "      <td>combined-object-mlp</td>\n",
       "      <td>103</td>\n",
       "      <td>3842</td>\n",
       "      <td>0.673767</td>\n",
       "      <td>35519</td>\n",
       "      <td>NaN</td>\n",
       "      <td>0.011734</td>\n",
       "      <td>0.519104</td>\n",
       "      <td>0.154663</td>\n",
       "    </tr>\n",
       "    <tr>\n",
       "      <th>318</th>\n",
       "      <td>adjacent</td>\n",
       "      <td>larger</td>\n",
       "      <td>5</td>\n",
       "      <td>65536</td>\n",
       "      <td>16</td>\n",
       "      <td>combined-object-mlp</td>\n",
       "      <td>105</td>\n",
       "      <td>3842</td>\n",
       "      <td>0.676880</td>\n",
       "      <td>36351</td>\n",
       "      <td>NaN</td>\n",
       "      <td>0.025085</td>\n",
       "      <td>0.516968</td>\n",
       "      <td>0.159912</td>\n",
       "    </tr>\n",
       "    <tr>\n",
       "      <th>319</th>\n",
       "      <td>adjacent</td>\n",
       "      <td>larger</td>\n",
       "      <td>5</td>\n",
       "      <td>65536</td>\n",
       "      <td>16</td>\n",
       "      <td>combined-object-mlp</td>\n",
       "      <td>104</td>\n",
       "      <td>3842</td>\n",
       "      <td>0.659302</td>\n",
       "      <td>23999</td>\n",
       "      <td>NaN</td>\n",
       "      <td>0.012924</td>\n",
       "      <td>0.514221</td>\n",
       "      <td>0.145081</td>\n",
       "    </tr>\n",
       "  </tbody>\n",
       "</table>\n",
       "<p>320 rows × 14 columns</p>\n",
       "</div>"
      ],
      "text/plain": [
       "     relation model_config  num_objects  dataset_size  dataset_power  \\\n",
       "0     between       larger           10         65536             16   \n",
       "1     between       larger           10         65536             16   \n",
       "2     between       larger           10         65536             16   \n",
       "3     between       larger           10         65536             16   \n",
       "4     between       larger           10         65536             16   \n",
       "..        ...          ...          ...           ...            ...   \n",
       "315  adjacent       larger            5         65536             16   \n",
       "316  adjacent       larger            5         65536             16   \n",
       "317  adjacent       larger            5         65536             16   \n",
       "318  adjacent       larger            5         65536             16   \n",
       "319  adjacent       larger            5         65536             16   \n",
       "\n",
       "              model_name  seed  total_params  max_val_acc  max_val_acc_step  \\\n",
       "0                    cnn   108         34386     0.509460              1727   \n",
       "1                    cnn   107         34386     0.502686               383   \n",
       "2                    cnn   101         34386     0.506958               319   \n",
       "3                    cnn   100         34386     0.507141              2623   \n",
       "4                    cnn   109         34386     0.507385              2879   \n",
       "..                   ...   ...           ...          ...               ...   \n",
       "315  combined-object-mlp   107          3842     0.675293             49855   \n",
       "316  combined-object-mlp   102          3842     0.653870             25023   \n",
       "317  combined-object-mlp   103          3842     0.673767             35519   \n",
       "318  combined-object-mlp   105          3842     0.676880             36351   \n",
       "319  combined-object-mlp   104          3842     0.659302             23999   \n",
       "\n",
       "     acc_threshold_step  acc_diff  num_objects_gen_test_acc  \\\n",
       "0                   NaN  0.230774                  0.500000   \n",
       "1                   NaN  0.224289                  0.498840   \n",
       "2                   NaN  0.239685                  0.504456   \n",
       "3                   NaN  0.203308                  0.495667   \n",
       "4                   NaN  0.224091                  0.499573   \n",
       "..                  ...       ...                       ...   \n",
       "315                 NaN  0.010513                  0.514038   \n",
       "316                 NaN  0.025574                  0.515259   \n",
       "317                 NaN  0.011734                  0.519104   \n",
       "318                 NaN  0.025085                  0.516968   \n",
       "319                 NaN  0.012924                  0.514221   \n",
       "\n",
       "     num_objects_gen_test_acc_diff  \n",
       "0                         0.009460  \n",
       "1                         0.003845  \n",
       "2                         0.002502  \n",
       "3                         0.011475  \n",
       "4                         0.007812  \n",
       "..                             ...  \n",
       "315                       0.161255  \n",
       "316                       0.138611  \n",
       "317                       0.154663  \n",
       "318                       0.159912  \n",
       "319                       0.145081  \n",
       "\n",
       "[320 rows x 14 columns]"
      ]
     },
     "execution_count": 88,
     "metadata": {},
     "output_type": "execute_result"
    }
   ],
   "source": [
    "all_results_fixed_checkpoints_df[all_results_fixed_checkpoints_df.model_config != 'default']"
   ]
  },
  {
   "cell_type": "code",
   "execution_count": 85,
   "metadata": {},
   "outputs": [
    {
     "data": {
      "text/plain": [
       "960"
      ]
     },
     "execution_count": 85,
     "metadata": {},
     "output_type": "execute_result"
    }
   ],
   "source": [
    "4 * 2 * 3 * 4 * 10"
   ]
  },
  {
   "cell_type": "code",
   "execution_count": 87,
   "metadata": {},
   "outputs": [
    {
     "data": {
      "text/plain": [
       "320"
      ]
     },
     "execution_count": 87,
     "metadata": {},
     "output_type": "execute_result"
    }
   ],
   "source": [
    "4 * 2 * 4 * 10"
   ]
  },
  {
   "cell_type": "code",
   "execution_count": null,
   "metadata": {},
   "outputs": [],
   "source": [
    "partial_df.groupby('model_name').mean()"
   ]
  },
  {
   "cell_type": "code",
   "execution_count": null,
   "metadata": {},
   "outputs": [],
   "source": [
    "for relation in ('adjacent', 'above', 'count'):\n",
    "    d = partial_df[partial_df['relation'] == relation]\n",
    "    print(d.head())\n",
    "    print(d.groupby('model_name').max_val_acc.mean())"
   ]
  },
  {
   "cell_type": "code",
   "execution_count": null,
   "metadata": {},
   "outputs": [],
   "source": [
    "partial_df.groupby(['relation', 'model_name']).mean()"
   ]
  },
  {
   "cell_type": "code",
   "execution_count": null,
   "metadata": {},
   "outputs": [],
   "source": [
    "'hello world'.title()"
   ]
  },
  {
   "cell_type": "code",
   "execution_count": null,
   "metadata": {},
   "outputs": [],
   "source": []
  },
  {
   "cell_type": "code",
   "execution_count": null,
   "metadata": {},
   "outputs": [],
   "source": [
    "partial_df.head()"
   ]
  },
  {
   "cell_type": "code",
   "execution_count": null,
   "metadata": {},
   "outputs": [],
   "source": [
    "partial_df.tail()"
   ]
  },
  {
   "cell_type": "code",
   "execution_count": null,
   "metadata": {},
   "outputs": [],
   "source": []
  },
  {
   "cell_type": "code",
   "execution_count": null,
   "metadata": {},
   "outputs": [],
   "source": [
    "d = all_results_df.copy()"
   ]
  },
  {
   "cell_type": "code",
   "execution_count": null,
   "metadata": {},
   "outputs": [],
   "source": [
    "e = d[d['relation'].eq('adjacent')]"
   ]
  },
  {
   "cell_type": "code",
   "execution_count": null,
   "metadata": {},
   "outputs": [],
   "source": [
    "d.shape, e.shape"
   ]
  },
  {
   "cell_type": "code",
   "execution_count": null,
   "metadata": {
    "scrolled": true
   },
   "outputs": [],
   "source": [
    "g = e.groupby(['num_objects', 'model_name'])"
   ]
  },
  {
   "cell_type": "code",
   "execution_count": null,
   "metadata": {},
   "outputs": [],
   "source": [
    "np.sqrt(g['relation'].count())"
   ]
  },
  {
   "cell_type": "code",
   "execution_count": null,
   "metadata": {},
   "outputs": [],
   "source": [
    "r = g.max_val_acc.mean()"
   ]
  },
  {
   "cell_type": "code",
   "execution_count": null,
   "metadata": {},
   "outputs": [],
   "source": [
    "r.index.unique()"
   ]
  },
  {
   "cell_type": "code",
   "execution_count": null,
   "metadata": {},
   "outputs": [],
   "source": [
    "r.loc[(5, 'cnn')]"
   ]
  },
  {
   "cell_type": "code",
   "execution_count": null,
   "metadata": {},
   "outputs": [],
   "source": [
    "r.index.get_level_values('num_objects')"
   ]
  },
  {
   "cell_type": "code",
   "execution_count": null,
   "metadata": {},
   "outputs": [],
   "source": [
    "history_df = r.history(samples=10000)"
   ]
  },
  {
   "cell_type": "code",
   "execution_count": null,
   "metadata": {},
   "outputs": [],
   "source": [
    "history_df.columns"
   ]
  },
  {
   "cell_type": "code",
   "execution_count": null,
   "metadata": {},
   "outputs": [],
   "source": [
    "history_df.val_acc.idxmax()"
   ]
  },
  {
   "cell_type": "code",
   "execution_count": null,
   "metadata": {},
   "outputs": [],
   "source": [
    "history_df.iloc[3545]"
   ]
  },
  {
   "cell_type": "code",
   "execution_count": null,
   "metadata": {},
   "outputs": [],
   "source": [
    "history_df.iloc[:25]"
   ]
  },
  {
   "cell_type": "code",
   "execution_count": null,
   "metadata": {},
   "outputs": [],
   "source": [
    "2 => 1\n",
    "5 => 2\n",
    "8 => 3"
   ]
  },
  {
   "cell_type": "code",
   "execution_count": null,
   "metadata": {},
   "outputs": [],
   "source": [
    "h2 = runs[28].history()\n",
    "h2[:20]"
   ]
  },
  {
   "cell_type": "code",
   "execution_count": null,
   "metadata": {},
   "outputs": [],
   "source": [
    "h2.val_acc.isnull().sum()"
   ]
  },
  {
   "cell_type": "code",
   "execution_count": null,
   "metadata": {},
   "outputs": [],
   "source": [
    "history_df.val_acc[:501].isnull().sum()"
   ]
  },
  {
   "cell_type": "code",
   "execution_count": null,
   "metadata": {},
   "outputs": [],
   "source": [
    "(h2.val_acc > 0.8).idxmax()"
   ]
  },
  {
   "cell_type": "code",
   "execution_count": null,
   "metadata": {},
   "outputs": [],
   "source": [
    "h2.train_acc.max() - h2.val_acc.max()"
   ]
  },
  {
   "cell_type": "code",
   "execution_count": null,
   "metadata": {},
   "outputs": [],
   "source": [
    "run = api.run('simple-relational-reasoning-fixed-checkpoints/count-relation-default-models-5-objects-4096-dataset/o6p5tg8f')"
   ]
  },
  {
   "cell_type": "code",
   "execution_count": null,
   "metadata": {},
   "outputs": [],
   "source": [
    "parse_run(run)"
   ]
  },
  {
   "cell_type": "code",
   "execution_count": null,
   "metadata": {},
   "outputs": [],
   "source": [
    "files = run.files()"
   ]
  },
  {
   "cell_type": "code",
   "execution_count": null,
   "metadata": {},
   "outputs": [],
   "source": [
    "[f for f in files]"
   ]
  },
  {
   "cell_type": "code",
   "execution_count": null,
   "metadata": {},
   "outputs": [],
   "source": [
    "f = files[0]"
   ]
  },
  {
   "cell_type": "code",
   "execution_count": null,
   "metadata": {},
   "outputs": [],
   "source": [
    "f = list(filter(lambda f: f.name.endswith('.ckpt'), files))[0]"
   ]
  },
  {
   "cell_type": "code",
   "execution_count": null,
   "metadata": {},
   "outputs": [],
   "source": [
    "f.download?"
   ]
  },
  {
   "cell_type": "code",
   "execution_count": null,
   "metadata": {},
   "outputs": [],
   "source": [
    "f.name"
   ]
  },
  {
   "cell_type": "code",
   "execution_count": null,
   "metadata": {},
   "outputs": [],
   "source": [
    "h = run.history()"
   ]
  },
  {
   "cell_type": "code",
   "execution_count": null,
   "metadata": {},
   "outputs": [],
   "source": [
    "'val_acc' in h"
   ]
  },
  {
   "cell_type": "code",
   "execution_count": null,
   "metadata": {},
   "outputs": [],
   "source": [
    "files = valid_run.files()"
   ]
  },
  {
   "cell_type": "code",
   "execution_count": null,
   "metadata": {},
   "outputs": [],
   "source": [
    "f = list(files)[2]"
   ]
  },
  {
   "cell_type": "code",
   "execution_count": null,
   "metadata": {},
   "outputs": [],
   "source": [
    "int([x for x in f.name.split('-') if x.startswith('epoch')][0].split('=')[1])"
   ]
  },
  {
   "cell_type": "code",
   "execution_count": null,
   "metadata": {},
   "outputs": [],
   "source": [
    "import numpy as np"
   ]
  },
  {
   "cell_type": "code",
   "execution_count": null,
   "metadata": {},
   "outputs": [],
   "source": [
    "np.argmax([1, 2, 0])"
   ]
  },
  {
   "cell_type": "code",
   "execution_count": null,
   "metadata": {},
   "outputs": [],
   "source": []
  }
 ],
 "metadata": {
  "kernelspec": {
   "display_name": "Python 3",
   "language": "python",
   "name": "python3"
  },
  "language_info": {
   "codemirror_mode": {
    "name": "ipython",
    "version": 3
   },
   "file_extension": ".py",
   "mimetype": "text/x-python",
   "name": "python",
   "nbconvert_exporter": "python",
   "pygments_lexer": "ipython3",
   "version": "3.6.7"
  }
 },
 "nbformat": 4,
 "nbformat_minor": 4
}
