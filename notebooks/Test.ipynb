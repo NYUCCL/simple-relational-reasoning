{
 "cells": [
  {
   "cell_type": "code",
   "execution_count": 1,
   "metadata": {},
   "outputs": [],
   "source": [
    "%load_ext autoreload\n",
    "%autoreload 2\n",
    "%matplotlib inline"
   ]
  },
  {
   "cell_type": "code",
   "execution_count": 10,
   "metadata": {},
   "outputs": [],
   "source": [
    "import sys\n",
    "sys.path.append('/Users/guydavidson/projects/simple-relational-reasoning/')\n",
    "\n",
    "import torch"
   ]
  },
  {
   "cell_type": "code",
   "execution_count": 11,
   "metadata": {},
   "outputs": [],
   "source": [
    "from simple_relational_reasoning.datagen import object_fields\n",
    "from simple_relational_reasoning.datagen import object_gen"
   ]
  },
  {
   "cell_type": "code",
   "execution_count": 80,
   "metadata": {},
   "outputs": [
    {
     "data": {
      "text/plain": [
       "(tensor([[[8, 5, 1, 0, 0, 0],\n",
       "          [5, 3, 0, 1, 0, 0],\n",
       "          [9, 5, 0, 0, 1, 0],\n",
       "          [8, 5, 1, 0, 0, 0],\n",
       "          [2, 3, 1, 0, 0, 0],\n",
       "          [7, 5, 0, 1, 0, 0],\n",
       "          [2, 7, 0, 0, 0, 1],\n",
       "          [6, 4, 0, 0, 1, 0],\n",
       "          [4, 0, 0, 0, 0, 1],\n",
       "          [9, 1, 0, 0, 0, 1]]], dtype=torch.int32), tensor([True]))"
      ]
     },
     "execution_count": 80,
     "metadata": {},
     "output_type": "execute_result"
    }
   ],
   "source": [
    "cfgs = ( \n",
    "    object_gen.FieldConfig('x', 'int_position', tuple()), \n",
    "    object_gen.FieldConfig('y', 'int_position', tuple()), \n",
    "    object_gen.FieldConfig('color', 'one_hot', (4,))\n",
    ")\n",
    "\n",
    "gen = object_gen.ObjectGenerator(10, cfgs, object_gen.adjacent_relation_evaluator)\n",
    "gen()"
   ]
  },
  {
   "cell_type": "code",
   "execution_count": 71,
   "metadata": {},
   "outputs": [
    {
     "data": {
      "text/plain": [
       "[torch.Size([4, 1]), torch.Size([4, 1]), torch.Size([4, 4])]"
      ]
     },
     "execution_count": 71,
     "metadata": {},
     "output_type": "execute_result"
    }
   ],
   "source": [
    "x = [g() for g in gen.field_generators.values()]\n",
    "[y.shape for y in x]"
   ]
  },
  {
   "cell_type": "code",
   "execution_count": 18,
   "metadata": {},
   "outputs": [
    {
     "data": {
      "text/plain": [
       "tensor([[6, 3, 0, 1, 0, 0],\n",
       "        [1, 8, 0, 0, 1, 0],\n",
       "        [7, 9, 0, 1, 0, 0],\n",
       "        [6, 7, 0, 0, 1, 0],\n",
       "        [9, 5, 1, 0, 0, 0],\n",
       "        [8, 8, 1, 0, 0, 0],\n",
       "        [3, 6, 0, 1, 0, 0],\n",
       "        [3, 3, 0, 0, 1, 0],\n",
       "        [2, 4, 0, 1, 0, 0],\n",
       "        [0, 7, 0, 1, 0, 0]], dtype=torch.int32)"
      ]
     },
     "execution_count": 18,
     "metadata": {},
     "output_type": "execute_result"
    }
   ],
   "source": [
    "torch.cat(x, dim=1)"
   ]
  },
  {
   "cell_type": "code",
   "execution_count": 32,
   "metadata": {},
   "outputs": [],
   "source": [
    "batch_size = 1\n",
    "z = [[torch.cat([g() for g in gen.field_generators.values()], dim=1)\n",
    "                         for _ in range(gen.n)]\n",
    "                        for _ in range(batch_size)]"
   ]
  },
  {
   "cell_type": "code",
   "execution_count": 39,
   "metadata": {},
   "outputs": [
    {
     "data": {
      "text/plain": [
       "torch.Size([10, 10, 6])"
      ]
     },
     "execution_count": 39,
     "metadata": {},
     "output_type": "execute_result"
    }
   ],
   "source": [
    "torch.stack(z[0]).shape"
   ]
  },
  {
   "cell_type": "code",
   "execution_count": 30,
   "metadata": {},
   "outputs": [
    {
     "ename": "ValueError",
     "evalue": "only one element tensors can be converted to Python scalars",
     "output_type": "error",
     "traceback": [
      "\u001b[0;31m---------------------------------------------------------------------------\u001b[0m",
      "\u001b[0;31mValueError\u001b[0m                                Traceback (most recent call last)",
      "\u001b[0;32m<ipython-input-30-ce6af9ad8f2e>\u001b[0m in \u001b[0;36m<module>\u001b[0;34m\u001b[0m\n\u001b[0;32m----> 1\u001b[0;31m \u001b[0mtorch\u001b[0m\u001b[0;34m.\u001b[0m\u001b[0mtensor\u001b[0m\u001b[0;34m(\u001b[0m\u001b[0mz\u001b[0m\u001b[0;34m)\u001b[0m\u001b[0;34m\u001b[0m\u001b[0;34m\u001b[0m\u001b[0m\n\u001b[0m",
      "\u001b[0;31mValueError\u001b[0m: only one element tensors can be converted to Python scalars"
     ]
    }
   ],
   "source": [
    "torch.tensor(z)"
   ]
  },
  {
   "cell_type": "code",
   "execution_count": 31,
   "metadata": {},
   "outputs": [
    {
     "data": {
      "text/plain": [
       "2"
      ]
     },
     "execution_count": 31,
     "metadata": {},
     "output_type": "execute_result"
    }
   ],
   "source": [
    "len(z), len(z[0])"
   ]
  },
  {
   "cell_type": "code",
   "execution_count": 56,
   "metadata": {},
   "outputs": [
    {
     "data": {
      "text/plain": [
       "tensor(True)"
      ]
     },
     "execution_count": 56,
     "metadata": {},
     "output_type": "execute_result"
    }
   ],
   "source": [
    "torch.any(torch.isclose(torch.tensor([1]), torch.arange(10)))"
   ]
  },
  {
   "cell_type": "code",
   "execution_count": 52,
   "metadata": {},
   "outputs": [
    {
     "data": {
      "text/plain": [
       "\u001b[0;31mDocstring:\u001b[0m\n",
       "cdist(x1, x2, p=2) -> Tensor\n",
       "\n",
       "Computes the p-norm distance between each pair of the two collections of row vectors.\n",
       "\n",
       "If x1 has shape :math:`P \\times M` and x2 has shape :math:`R \\times M` then the \n",
       "output will have shape :math:`P \\times R`.\n",
       "\n",
       "This function is equivalent to `scipy.spatial.distance.cdist(input,'minkowski', p=p)` \n",
       "if :math:`p \\in (0, \\infty)`. When :math:`p = 0` it is equivalent to \n",
       "`scipy.spatial.distance.cdist(input, 'hamming') * M`. When :math:`p = \\infty`, the closest \n",
       "scipy function is `scipy.spatial.distance.cdist(xn, lambda x, y: np.abs(x - y).max())`.\n",
       "\n",
       "Args:\n",
       "    x1 (Tensor): input tensor of shape :math:`P \\times M`.\n",
       "    x2 (Tensor): input tensor of shape :math:`R \\times M`.\n",
       "    p: p value for the p-norm distance to calculate between each vector pair\n",
       "        :math:`\\in [0, \\infty]`.\n",
       "\n",
       "Example::\n",
       "\n",
       "    >>> a = torch.tensor([[0.9041,  0.0196], [-0.3108, -2.4423], [-0.4821,  1.059]])\n",
       "    >>> a\n",
       "    tensor([[ 0.9041,  0.0196],\n",
       "            [-0.3108, -2.4423],\n",
       "            [-0.4821,  1.0590]])\n",
       "    >>> b = torch.tensor([[-2.1763, -0.4713], [-0.6986,  1.3702]])\n",
       "    >>> b\n",
       "    tensor([[-2.1763, -0.4713],\n",
       "            [-0.6986,  1.3702]])\n",
       "    >>> torch.cdist(a, b, p=2)\n",
       "    tensor([[3.1193, 2.0959],\n",
       "            [2.7138, 3.8322],\n",
       "            [2.2830, 0.3791]])\n",
       "\u001b[0;31mType:\u001b[0m      builtin_function_or_method\n"
      ]
     },
     "metadata": {},
     "output_type": "display_data"
    }
   ],
   "source": [
    "torch.cdist?"
   ]
  },
  {
   "cell_type": "code",
   "execution_count": null,
   "metadata": {},
   "outputs": [],
   "source": []
  }
 ],
 "metadata": {
  "kernelspec": {
   "display_name": "Python 3",
   "language": "python",
   "name": "python3"
  },
  "language_info": {
   "codemirror_mode": {
    "name": "ipython",
    "version": 3
   },
   "file_extension": ".py",
   "mimetype": "text/x-python",
   "name": "python",
   "nbconvert_exporter": "python",
   "pygments_lexer": "ipython3",
   "version": "3.6.7"
  }
 },
 "nbformat": 4,
 "nbformat_minor": 4
}
