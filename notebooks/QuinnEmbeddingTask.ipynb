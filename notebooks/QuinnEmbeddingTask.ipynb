{
 "cells": [
  {
   "cell_type": "code",
   "execution_count": 1,
   "metadata": {},
   "outputs": [],
   "source": [
    "%load_ext autoreload\n",
    "%autoreload 2\n",
    "%matplotlib inline"
   ]
  },
  {
   "cell_type": "code",
   "execution_count": 64,
   "metadata": {},
   "outputs": [],
   "source": [
    "import os\n",
    "import sys\n",
    "sys.path.append(os.path.abspath('.'))\n",
    "sys.path.append(os.path.abspath('..'))\n",
    "sys.path.append(os.path.abspath('../run'))\n",
    "import random\n",
    "from collections import defaultdict, namedtuple\n",
    "import itertools\n",
    "from abc import abstractmethod\n",
    "from functools import lru_cache\n",
    "\n",
    "import numpy as np\n",
    "import matplotlib\n",
    "from matplotlib import colors\n",
    "import matplotlib.pyplot as plt\n",
    "import matplotlib.patches as mpatches\n",
    "from matplotlib.collections import PatchCollection\n",
    "from matplotlib.figure import Figure\n",
    "from matplotlib.backends.backend_agg import FigureCanvas\n",
    "import cv2\n",
    "\n",
    "from IPython.display import display, Markdown, Latex\n",
    "\n",
    "import torch\n",
    "from torch import nn\n",
    "import torch.nn.functional as F\n",
    "import torchvision\n",
    "import torchvision.models as models\n",
    "import torchvision.transforms as transforms\n",
    "from torch.utils.data import TensorDataset, DataLoader\n",
    "\n",
    "from MulticoreTSNE import MulticoreTSNE as TSNE\n",
    "from sklearn.decomposition import PCA\n",
    "from tqdm.notebook import tqdm\n",
    "import tabulate\n",
    "\n",
    "from quinn_embedding_stimuli import *\n",
    "from quinn_embedding_models import *"
   ]
  },
  {
   "cell_type": "code",
   "execution_count": 3,
   "metadata": {},
   "outputs": [],
   "source": [
    "RANDOM_SEED = 33\n",
    "torch.manual_seed(RANDOM_SEED)\n",
    "if torch.cuda.is_available():\n",
    "    device = torch.device('cuda:0')\n",
    "else:\n",
    "    device = 'cpu'"
   ]
  },
  {
   "cell_type": "markdown",
   "metadata": {},
   "source": [
    "## Object generator and sample"
   ]
  },
  {
   "cell_type": "code",
   "execution_count": 4,
   "metadata": {},
   "outputs": [
    {
     "data": {
      "image/png": "[encoded data removed]",
      "text/plain": [
       "<Figure size 504x216 with 3 Axes>"
      ]
     },
     "metadata": {
      "needs_background": "light"
     },
     "output_type": "display_data"
    }
   ],
   "source": [
    "target_size = 20\n",
    "reference_size = (10, 100)\n",
    "reference_positions = [(105, 100)]\n",
    "\n",
    "blue_target_patch = matplotlib.patches.Circle((0, 0), target_size // 2, color='blue')\n",
    "red_target_patch = matplotlib.patches.Circle((0, 0), target_size // 2, color='red')\n",
    "green_target_patch = matplotlib.patches.Circle((0, 0), target_size // 2, color='green')\n",
    "reference_patch = matplotlib.patches.Ellipse((0, 0), width=reference_size[1], \n",
    "                                             height=reference_size[0], color='black')\n",
    "\n",
    "blur_func = lambda x: cv2.blur(x, (5, 5))\n",
    "\n",
    "# gen = NaiveStimulusGenerator(target_size, refernce_size, target_color='black', dtype=torch.float32)\n",
    "gen = PatchStimulusGenerator(target_size, reference_size, [blue_target_patch, red_target_patch, green_target_patch], \n",
    "                             reference_patch, blur_func=blur_func)\n",
    "\n",
    "plt.figure(figsize=(7, 3))\n",
    "\n",
    "x = gen.generate((30, 30), reference_positions)\n",
    "ax = plt.subplot(1, 3, 1)\n",
    "ax.imshow(x.permute(1, 2, 0).numpy())\n",
    "\n",
    "x = gen.generate((50, 50), reference_positions, target_index=1)\n",
    "ax = plt.subplot(1, 3, 2)\n",
    "ax.imshow(x.permute(1, 2, 0).numpy())\n",
    "\n",
    "x = gen.generate((30, 70), reference_positions, target_index=2)\n",
    "ax = plt.subplot(1, 3, 3)\n",
    "ax.imshow(x.permute(1, 2, 0).numpy())\n",
    "\n",
    "plt.show()"
   ]
  },
  {
   "cell_type": "code",
   "execution_count": 5,
   "metadata": {},
   "outputs": [],
   "source": [
    "every = 5\n",
    "half_target = target_size // 2\n",
    "row_max = DEFAULT_CANVAS_SIZE[0] - half_target\n",
    "col_max = DEFAULT_CANVAS_SIZE[1] - half_target\n",
    "target_positions = [(r * every, c * every) for r, c \n",
    "                    in itertools.product(range(half_target // every, row_max // every), \n",
    "                                         range(half_target // every, col_max // every))]\n",
    "\n",
    "# batch = gen.batch_generate(target_positions, reference_positions)\n",
    "# batch.shape"
   ]
  },
  {
   "cell_type": "code",
   "execution_count": 6,
   "metadata": {},
   "outputs": [],
   "source": [
    "miniature_stimuli_every = 20\n",
    "row_max = DEFAULT_CANVAS_SIZE[0] - half_target\n",
    "col_max = DEFAULT_CANVAS_SIZE[1] - half_target\n",
    "miniature_target_positions = [(r * miniature_stimuli_every, c * miniature_stimuli_every) for r, c \n",
    "                                in itertools.product(range(1, \n",
    "                                                           row_max // miniature_stimuli_every + 1), \n",
    "                                                     range(1, \n",
    "                                                           col_max // miniature_stimuli_every + 1))]\n",
    "# miniature_target_positions\n",
    "# miniature_batch = gen.batch_generate(miniature_target_positions, reference_positions)\n",
    "# miniature_batch.shape"
   ]
  },
  {
   "cell_type": "markdown",
   "metadata": {},
   "source": [
    "## Triplet generators"
   ]
  },
  {
   "cell_type": "code",
   "execution_count": 125,
   "metadata": {},
   "outputs": [],
   "source": [
    "TRIPLET_CACHE_SIZE = 16\n",
    "\n",
    "class TripletGenerator:\n",
    "    def __init__(self, stimulus_generator, \n",
    "                 two_reference_objects=False, two_targets_between=True, n_target_colors=1,\n",
    "                 transpose=False, vertical_margin=0, horizontal_margin=0, seed=RANDOM_SEED, use_tqdm=False):\n",
    "        self.stimulus_generator = stimulus_generator\n",
    "        self.two_reference_objects = two_reference_objects\n",
    "        self.two_targets_between = two_targets_between\n",
    "        self.n_target_colors = n_target_colors\n",
    "        \n",
    "        if n_target_colors > self.stimulus_generator.n_targets:\n",
    "            raise ValueError(f'Expected n_target_colors={n_target_colors} <= self.stimulus_generator.n_targets={self.stimulus_generator.n_targets}')\n",
    "        \n",
    "        self.transpose = transpose\n",
    "        self.vertical_margin = vertical_margin\n",
    "        self.horizontal_margin = horizontal_margin\n",
    "        self.seed = seed\n",
    "        self.rng = np.random.default_rng(self.seed)\n",
    "        self.use_tqdm = use_tqdm\n",
    "        \n",
    "    @lru_cache(maxsize=TRIPLET_CACHE_SIZE)\n",
    "    def __call__(self, n=1, normalize=True, seed=None):\n",
    "        if seed is None:\n",
    "            seed = self.seed\n",
    "            \n",
    "        self.rng = np.random.default_rng(self.seed)\n",
    "        n_iter = range(n)\n",
    "        if self.use_tqdm:\n",
    "            n_iter = tqdm(range(n), desc='Data Generation')\n",
    "        \n",
    "        results = [self.generate_single_triplet(normalize=normalize)for _ in n_iter]   \n",
    "        result_tensor = torch.stack(results)\n",
    "        \n",
    "        if self.transpose:\n",
    "            return result_tensor.permute(0, 1, 2, 4, 3)\n",
    "        \n",
    "        return result_tensor\n",
    "    \n",
    "    @abstractmethod\n",
    "    def generate_single_triplet(self, normalize=True):\n",
    "        pass\n",
    "    \n",
    "\n",
    "class EquilateralTripletGenerator(TripletGenerator):\n",
    "    def __init__(self, stimulus_generator, side_length_endpoints, \n",
    "                 target_margin_from_reference_edge=0, pair_above=None,\n",
    "                 two_reference_objects=False, two_targets_between=True, \n",
    "                 n_target_colors=1, transpose=False, \n",
    "                 vertical_margin=0, horizontal_margin=0, \n",
    "                 seed=RANDOM_SEED, use_tqdm=False):\n",
    "        super(EquilateralTripletGenerator, self).__init__(\n",
    "            stimulus_generator=stimulus_generator, \n",
    "            two_reference_objects=two_reference_objects,\n",
    "            two_targets_between=two_targets_between, n_target_colors=n_target_colors,\n",
    "            transpose=transpose, vertical_margin=vertical_margin,\n",
    "            horizontal_margin=horizontal_margin, seed=seed, use_tqdm=use_tqdm)\n",
    "        \n",
    "        if not hasattr(side_length_endpoints, '__len__'):\n",
    "            side_length_endpoints = (side_length_endpoints, side_length_endpoints)\n",
    "            \n",
    "        self.side_length_endpoints = side_length_endpoints\n",
    "        self.target_margin_from_reference_edge = target_margin_from_reference_edge\n",
    "        self.pair_above = pair_above\n",
    "        \n",
    "    def generate_single_triplet(self, normalize=True):\n",
    "        side_length = self.rng.integers(*self.side_length_endpoints)\n",
    "        height = (3 ** 0.5) * side_length / 2\n",
    "        half_height = height // 2\n",
    "        if self.two_reference_objects:\n",
    "            min_vertical_margin = height + (self.stimulus_generator.reference_size[0] // 2) + 1\n",
    "        else:\n",
    "            min_vertical_margin = half_height + (self.stimulus_generator.target_size[0] // 2) + 1\n",
    "\n",
    "        vertical_margin = max(min_vertical_margin, self.vertical_margin)\n",
    "        horizontal_margin = max(self.stimulus_generator.reference_size[1] // 2 + 1, self.horizontal_margin)\n",
    "\n",
    "        reference_center_position = np.array(\n",
    "            (self.rng.integers(vertical_margin, self.stimulus_generator.canvas_size[0] - vertical_margin),\n",
    "             self.rng.integers(horizontal_margin, self.stimulus_generator.canvas_size[1] - horizontal_margin)), \n",
    "            dtype=np.int)\n",
    "\n",
    "        target_margin = (self.stimulus_generator.reference_size[1] - self.stimulus_generator.target_size[1]) // 2\n",
    "        left_target_horizontal_offset = self.rng.integers(-target_margin, target_margin - side_length)\n",
    "        middle_target_horizontal_offset = left_target_horizontal_offset + side_length // 2\n",
    "        right_target_horizontal_offset = left_target_horizontal_offset + side_length\n",
    "\n",
    "        if self.pair_above is None:\n",
    "            pair_above = np.sign(self.rng.uniform(-0.5, 0.5))\n",
    "        else:\n",
    "            pair_above = self.pair_above and 1 or -1\n",
    "\n",
    "        left_target_offset = np.array((pair_above * half_height, left_target_horizontal_offset), dtype=np.int)\n",
    "        middle_target_offset = np.array((-1 * pair_above * half_height, middle_target_horizontal_offset), dtype=np.int)\n",
    "        right_target_offset = np.array((pair_above * half_height, right_target_horizontal_offset), dtype=np.int)\n",
    "\n",
    "        target_positions = [tuple(reference_center_position + offset) for offset in \n",
    "                            (left_target_offset, right_target_offset, middle_target_offset)]\n",
    "\n",
    "        if self.two_reference_objects:\n",
    "            second_reference_center = np.copy(reference_center_position)\n",
    "            two_targets_between = self.two_targets_between and 1 or -1\n",
    "            second_reference_vertical_direction = pair_above * two_targets_between\n",
    "            second_reference_center[0] += second_reference_vertical_direction * height\n",
    "            reference_center_position = [reference_center_position, second_reference_center]\n",
    "            \n",
    "        target_indices = (0, 0, 0)\n",
    "        if self.n_target_colors == 2:\n",
    "            pair_color = self.rng.uniform() > 0.5\n",
    "            single_color = 1 - pair_color\n",
    "            if self.rng.uniform() > 0.5:\n",
    "                target_indices = (pair_color, single_color, pair_color)\n",
    "            else:\n",
    "                target_indices = (single_color, pair_color, pair_color)\n",
    "        elif self.n_target_colors == 3:\n",
    "            target_indices = [0, 1, 2]\n",
    "            self.rng.shuffle(target_indices)\n",
    "            target_indices = tuple(target_indices)\n",
    "            \n",
    "#         if second_reference_center[0] <= (self.stimulus_generator.reference_size[0] // 2) or \\\n",
    "#             second_reference_center[0] >= (223 - (self.stimulus_generator.reference_size[0] // 2)) or \\\n",
    "#             second_reference_center[1] <= (self.stimulus_generator.reference_size[1] // 2) or \\\n",
    "#             second_reference_center[0] >= (223 - (self.stimulus_generator.reference_size[0] // 2)):\n",
    "            \n",
    "#             print(reference_center_position)\n",
    "#             print(side_length, height, half_height, horizontal_margin, vertical_margin)\n",
    "        \n",
    "        return self.stimulus_generator.batch_generate(target_positions, reference_center_position, target_indices, normalize=normalize)\n",
    "    \n",
    "    \n",
    "class QuinnTripletGenerator(TripletGenerator):\n",
    "    def __init__(self, stimulus_generator, distance_endpoints, \n",
    "                 target_margin_from_reference_edge=0, pair_above=None, two_objects_left=None,\n",
    "                 two_reference_objects=False, two_targets_between=True, \n",
    "                 n_target_colors=1, transpose=False,\n",
    "                 vertical_margin=0, horizontal_margin=0,\n",
    "                 seed=RANDOM_SEED, use_tqdm=False):\n",
    "        super(QuinnTripletGenerator, self).__init__(\n",
    "            stimulus_generator=stimulus_generator, \n",
    "            two_reference_objects=two_reference_objects,\n",
    "            two_targets_between=two_targets_between, n_target_colors=n_target_colors,\n",
    "            transpose=transpose, vertical_margin=vertical_margin, \n",
    "            horizontal_margin=horizontal_margin, seed=seed, use_tqdm=use_tqdm)\n",
    "        \n",
    "        if not hasattr(distance_endpoints, '__len__'):\n",
    "            distance_endpoints = (distance_endpoints, distance_endpoints)\n",
    "            \n",
    "        self.distance_endpoints = distance_endpoints        \n",
    "        self.target_margin_from_reference_edge = target_margin_from_reference_edge\n",
    "        self.pair_above = pair_above\n",
    "        self.two_objects_left = two_objects_left\n",
    "    \n",
    "    def generate_single_triplet(self, normalize=True):\n",
    "        distance = self.rng.integers(*self.distance_endpoints)\n",
    "        half_distance = distance // 2\n",
    "        if self.two_reference_objects:\n",
    "            min_vertical_margin = distance + (self.stimulus_generator.reference_size[0] // 2) + 1\n",
    "        else:\n",
    "            min_vertical_margin = half_distance + (self.stimulus_generator.target_size[0] // 2) + 1\n",
    "\n",
    "        vertical_margin = max(min_vertical_margin, self.vertical_margin)\n",
    "        horizontal_margin = max(self.stimulus_generator.reference_size[1] // 2 + 1, self.horizontal_margin)\n",
    "\n",
    "        reference_center_position = np.array(\n",
    "            (self.rng.integers(vertical_margin, self.stimulus_generator.canvas_size[0] - vertical_margin),\n",
    "             self.rng.integers(horizontal_margin, self.stimulus_generator.canvas_size[1] - horizontal_margin)), \n",
    "            dtype=np.int)\n",
    "\n",
    "        target_margin = (self.stimulus_generator.reference_size[1] - self.stimulus_generator.target_size[1]) // 2\n",
    "        left_target_horizontal_offset = self.rng.integers(-target_margin, target_margin - distance)\n",
    "        right_target_horizontal_offset = left_target_horizontal_offset + distance\n",
    "\n",
    "        if self.pair_above is None:\n",
    "            pair_above = np.sign(self.rng.uniform(-0.5, 0.5))\n",
    "        else:\n",
    "            pair_above = self.pair_above and 1 or -1\n",
    "\n",
    "        two_objects_left = self.two_objects_left\n",
    "        if two_objects_left is None:\n",
    "            two_objects_left = self.rng.uniform() > 0.5\n",
    "\n",
    "        left_target_offset = np.array((pair_above * half_distance, left_target_horizontal_offset), dtype=np.int)\n",
    "        right_target_offset = np.array((pair_above * half_distance, right_target_horizontal_offset), dtype=np.int)\n",
    "        other_side_target_offset = np.array((-pair_above * half_distance, two_objects_left and left_target_horizontal_offset or right_target_horizontal_offset), dtype=np.int)\n",
    "\n",
    "        target_positions = [tuple(reference_center_position + offset) for offset in \n",
    "                            (left_target_offset, right_target_offset, other_side_target_offset)]\n",
    "        \n",
    "        if self.two_reference_objects:\n",
    "            second_reference_center = np.copy(reference_center_position)\n",
    "            two_targets_between = self.two_targets_between and 1 or -1\n",
    "            second_reference_vertical_direction = pair_above * two_targets_between\n",
    "            second_reference_center[0] += second_reference_vertical_direction * distance\n",
    "            reference_center_position = [reference_center_position, second_reference_center]\n",
    "            \n",
    "        target_indices = (0, 0, 0)\n",
    "        if self.n_target_colors == 2:\n",
    "            pair_color = self.rng.uniform() > 0.5\n",
    "            single_color = 1 - pair_color\n",
    "            if two_objects_left:\n",
    "                target_indices = (single_color, pair_color, pair_color)\n",
    "            else:\n",
    "                target_indices = (pair_color, single_color, pair_color)\n",
    "        elif self.n_target_colors == 3:\n",
    "            target_indices = [0, 1, 2]\n",
    "            self.rng.shuffle(target_indices)\n",
    "            target_indices = tuple(target_indices)\n",
    "\n",
    "        return self.stimulus_generator.batch_generate(target_positions, reference_center_position, target_indices, normalize=normalize)\n"
   ]
  },
  {
   "cell_type": "markdown",
   "metadata": {},
   "source": [
    "* Above/Below vs. Between\n",
    "* Quinn (isocseles) vs. Equilateral\n",
    "* Horizontal or vertical\n",
    "* # colors"
   ]
  },
  {
   "cell_type": "code",
   "execution_count": 126,
   "metadata": {},
   "outputs": [
    {
     "data": {
      "image/png": "[encoded data removed]",
      "text/plain": [
       "<Figure size 504x1080 with 15 Axes>"
      ]
     },
     "metadata": {
      "needs_background": "light"
     },
     "output_type": "display_data"
    }
   ],
   "source": [
    "N = 5\n",
    "\n",
    "above_below_equilateral_gen = EquilateralTripletGenerator(gen, (40, 70), n_target_colors=2)\n",
    "results = above_below_equilateral_gen(N, normalize=False)\n",
    "plt.figure(figsize=(7, 3 * N))\n",
    "\n",
    "for row in range(N):\n",
    "    for col in range(3):\n",
    "        ax = plt.subplot(N, 3, (3 * row) + col + 1)\n",
    "        ax.imshow(results[row, col].permute(1, 2, 0).numpy())\n",
    "\n",
    "plt.show()\n"
   ]
  },
  {
   "cell_type": "code",
   "execution_count": 127,
   "metadata": {},
   "outputs": [
    {
     "data": {
      "image/png": "[encoded data removed]",
      "text/plain": [
       "<Figure size 504x1080 with 15 Axes>"
      ]
     },
     "metadata": {
      "needs_background": "light"
     },
     "output_type": "display_data"
    }
   ],
   "source": [
    "N = 5\n",
    "\n",
    "above_below_quinn_gen = QuinnTripletGenerator(gen, (30, 70), two_reference_objects=True, n_target_colors=3)\n",
    "results = above_below_quinn_gen(N, normalize=False)\n",
    "plt.figure(figsize=(7, 3 * N))\n",
    "\n",
    "for row in range(N):\n",
    "    for col in range(3):\n",
    "        ax = plt.subplot(N, 3, (3 * row) + col + 1)\n",
    "        ax.imshow(results[row, col].permute(1, 2, 0).numpy())\n",
    "\n",
    "plt.show()\n"
   ]
  },
  {
   "cell_type": "markdown",
   "metadata": {},
   "source": [
    "## Metric functions"
   ]
  },
  {
   "cell_type": "code",
   "execution_count": 128,
   "metadata": {},
   "outputs": [],
   "source": [
    "class Metric:\n",
    "    def __init__(self, name, correct_index=0):\n",
    "        self.name = name\n",
    "        self.correct_index = correct_index\n",
    "        \n",
    "    @abstractmethod\n",
    "    def __call__(self, pairwise_cosines):\n",
    "        pass\n",
    "    \n",
    "    def aggregate(self, result_list):\n",
    "        if isinstance(result_list[0], torch.Tensor):\n",
    "            return torch.cat(result_list).detach().cpu().numpy()\n",
    "        \n",
    "        if isinstance(result_list[0], np.ndarray):\n",
    "            return np.concatenate(result_list)\n",
    "        \n",
    "        raise ValueError(f'Can only combine lists of torch.Tensor or np.ndarray, received {type(result_list[0])}')\n",
    "\n",
    "        \n",
    "class AccuracyMetric(Metric):\n",
    "    def __init__(self, name, correct_index=0):\n",
    "        super(AccuracyMetric, self).__init__(name, correct_index)\n",
    "        \n",
    "    def __call__(self, pairwise_cosines):\n",
    "        return (pairwise_cosines.argmax(dim=1) == self.correct_index).to(torch.float)\n",
    "        \n",
    "        \n",
    "class DifferenceMetric(Metric):\n",
    "    def __init__(self, name, correct_index=0, combine_func=torch.mean,\n",
    "                 combine_func_kwargs=dict(dim=1)):\n",
    "        super(DifferenceMetric, self).__init__(name, correct_index)\n",
    "        self.combine_func = combine_func\n",
    "        self.incorrect_indices = list(range(3))\n",
    "        self.incorrect_indices.remove(correct_index)\n",
    "        self.combine_func_kwargs = combine_func_kwargs\n",
    "        \n",
    "    def __call__(self, pairwise_cosines):\n",
    "        return pairwise_cosines[:, self.correct_index] - self.combine_func(pairwise_cosines[:, self.incorrect_indices], **self.combine_func_kwargs)\n",
    "    \n",
    "    \n",
    "METRICS = (AccuracyMetric('Accuracy'), DifferenceMetric('MeanDiff'),\n",
    "           DifferenceMetric('MaxDiff', combine_func=lambda x: torch.max(x, dim=1).values, combine_func_kwargs={}))"
   ]
  },
  {
   "cell_type": "markdown",
   "metadata": {},
   "source": [
    "## Actual task implementation"
   ]
  },
  {
   "cell_type": "code",
   "execution_count": 129,
   "metadata": {},
   "outputs": [],
   "source": [
    "TaskResults = namedtuple('TaskResults', ('mean', 'std', 'n'))\n",
    "\n",
    "BATCH_SIZE = 64\n",
    "\n",
    "def quinn_embedding_task_single_generator(\n",
    "    model, triplet_generator, metrics=METRICS, N=1024, batch_size=BATCH_SIZE, use_tqdm=False):\n",
    "    \n",
    "    data = triplet_generator(N)\n",
    "    B = batch_size\n",
    "    dataloader = DataLoader(TensorDataset(data), batch_size=batch_size, shuffle=False)\n",
    "    \n",
    "    model_results = defaultdict(list)\n",
    "    cos = nn.CosineSimilarity(dim=-1)\n",
    "    triangle_indices = np.triu_indices(3, 1)\n",
    "    \n",
    "    model.eval()\n",
    "    \n",
    "    data_iter = dataloader\n",
    "    if use_tqdm:\n",
    "        data_iter = tqdm(dataloader, desc='Batches')\n",
    "        \n",
    "    for b in data_iter:\n",
    "        x = b[0]  # shape (B, 3, 3, 224, 224)\n",
    "        x = x.view(-1, *x.shape[2:])\n",
    "        e = model(x.to(device)).detach().cpu()\n",
    "        e = e.view(B, 3, -1)  # shape (B, 3, Z)\n",
    "\n",
    "        embedding_pairwise_cosine = cos(e[:, :, None, :], e[:, None, :, :])  # shape (B, 3, 3)\n",
    "        triplet_cosines = embedding_pairwise_cosine[:, triangle_indices[0], triangle_indices[1]] # shape (B, 3)\n",
    "\n",
    "        for metric in metrics:\n",
    "            model_results[metric.name].append(metric(triplet_cosines))\n",
    "\n",
    "    for metric in metrics:\n",
    "        model_results[metric.name] = metric.aggregate(model_results[metric.name])\n",
    "\n",
    "    return model_results\n",
    "\n",
    "def quinn_embedding_task_multiple_generators(\n",
    "    model_name, model, triplet_generators, condition_names, \n",
    "    metrics=METRICS, N=1024, batch_size=BATCH_SIZE):\n",
    "    \n",
    "    headers = ['ConditionNames'] + [metric.name for metric in metrics]\n",
    "    all_results = {}\n",
    "    for name, triplet_gen in zip(condition_names, triplet_generators):\n",
    "        results = quinn_embedding_task_single_generator(model, triplet_gen, metrics=metrics,\n",
    "                                                        N=N, batch_size=batch_size)\n",
    "        all_results[name] = {metric.name: TaskResults(np.mean(results[metric.name]), \n",
    "                                                      np.std(results[metric.name]), N) \n",
    "                             for metric in metrics}\n",
    "    return all_results\n",
    "    "
   ]
  },
  {
   "cell_type": "code",
   "execution_count": 130,
   "metadata": {},
   "outputs": [],
   "source": [
    "QUINN_DISTANCE_ENDPOINTS = (30, 70)\n",
    "\n",
    "quinn_triplet_generators = []\n",
    "quinn_names = []\n",
    "\n",
    "for two_reference_objects in (False, True):\n",
    "    for transpose in (False, True):\n",
    "        for n_target_colors in range(1, 4):\n",
    "            qtg = QuinnTripletGenerator(gen, QUINN_DISTANCE_ENDPOINTS,  \n",
    "                                        two_reference_objects=two_reference_objects,\n",
    "                                        transpose=transpose,\n",
    "                                        n_target_colors=n_target_colors)\n",
    "            quinn_triplet_generators.append(qtg)\n",
    "            if two_reference_objects:\n",
    "                if transpose:\n",
    "                    rel_name = 'Between-sideways'\n",
    "                else:\n",
    "                    rel_name = 'Between'\n",
    "            else:\n",
    "                if transpose:\n",
    "                    rel_name = 'Left/Right'\n",
    "                else:\n",
    "                    rel_name = 'Above/Below'\n",
    "                \n",
    "            quinn_names.append(f'Quinn-{rel_name}-{n_target_colors}-colors')"
   ]
  },
  {
   "cell_type": "code",
   "execution_count": 131,
   "metadata": {
    "scrolled": false
   },
   "outputs": [],
   "source": [
    "model_kwarg_dicts = (\n",
    "    dict(name=MOBILENET, device=device, pretrained=False, saycam='SAY'),\n",
    "    dict(name=MOBILENET, device=device, pretrained=True),\n",
    "    dict(name=MOBILENET, device=device, pretrained=False),\n",
    "    dict(name=RESNEXT, device=device, pretrained=False, saycam='SAY'),\n",
    "    dict(name=RESNEXT, device=device, pretrained=True),\n",
    "    dict(name=RESNEXT, device=device, pretrained=False),\n",
    ")\n",
    "\n",
    "model_names = [ f'{d[\"name\"]}-{\"saycam\" in d and \"saycam\" or (d[\"pretrained\"] and \"imagenet\" or \"random\")}'\n",
    "               for d in model_kwarg_dicts]\n"
   ]
  },
  {
   "cell_type": "code",
   "execution_count": 132,
   "metadata": {
    "scrolled": false
   },
   "outputs": [
    {
     "name": "stdout",
     "output_type": "stream",
     "text": [
      "Starting model mobilenet-saycam\n",
      "Starting model mobilenet-imagenet\n",
      "Starting model mobilenet-random\n",
      "Starting model resnext-saycam\n",
      "Starting model resnext-imagenet\n",
      "Starting model resnext-random\n"
     ]
    }
   ],
   "source": [
    "N = 256\n",
    "quinn_generators_all_model_results = {}\n",
    "\n",
    "for name, model_kwargs in zip (model_names, model_kwarg_dicts):\n",
    "    print(f'Starting model {name}')\n",
    "    model = build_model(**model_kwargs)\n",
    "    \n",
    "    quinn_generators_all_model_results[name] = quinn_embedding_task_multiple_generators(\n",
    "        name, model, quinn_triplet_generators, quinn_names, N=N)\n",
    "\n",
    "    del model"
   ]
  },
  {
   "cell_type": "code",
   "execution_count": 133,
   "metadata": {},
   "outputs": [],
   "source": [
    "EQUILATERAL_DISTANCE_ENDPOINTS = (40, 70)\n",
    "\n",
    "equilateral_triplet_generators = []\n",
    "equilateral_names = []\n",
    "\n",
    "for two_reference_objects in (False, True):\n",
    "    for transpose in (False, True):\n",
    "        for n_target_colors in range(1, 4):\n",
    "            etg = EquilateralTripletGenerator(gen, EQUILATERAL_DISTANCE_ENDPOINTS,  \n",
    "                                              two_reference_objects=two_reference_objects,\n",
    "                                              transpose=transpose,\n",
    "                                              n_target_colors=n_target_colors)\n",
    "            equilateral_triplet_generators.append(etg)\n",
    "            if two_reference_objects:\n",
    "                if transpose:\n",
    "                    rel_name = 'Between-sideways'\n",
    "                else:\n",
    "                    rel_name = 'Between'\n",
    "            else:\n",
    "                if transpose:\n",
    "                    rel_name = 'Left/Right'\n",
    "                else:\n",
    "                    rel_name = 'Above/Below'\n",
    "                \n",
    "            equilateral_names.append(f'Equilateral-{rel_name}-{n_target_colors}-colors')"
   ]
  },
  {
   "cell_type": "code",
   "execution_count": 134,
   "metadata": {},
   "outputs": [
    {
     "name": "stdout",
     "output_type": "stream",
     "text": [
      "Starting model mobilenet-saycam\n",
      "Starting model mobilenet-imagenet\n",
      "Starting model mobilenet-random\n",
      "Starting model resnext-saycam\n",
      "Starting model resnext-imagenet\n",
      "Starting model resnext-random\n"
     ]
    }
   ],
   "source": [
    "N = 256\n",
    "equilateral_generators_all_model_results = {}\n",
    "\n",
    "for name, model_kwargs in zip (model_names, model_kwarg_dicts):\n",
    "    print(f'Starting model {name}')\n",
    "    model = build_model(**model_kwargs)\n",
    "    \n",
    "    equilateral_generators_all_model_results[name] = quinn_embedding_task_multiple_generators(\n",
    "        name, model, equilateral_triplet_generators, equilateral_names, N=N)\n",
    "\n",
    "    del model"
   ]
  },
  {
   "cell_type": "code",
   "execution_count": 135,
   "metadata": {},
   "outputs": [],
   "source": [
    "def format_results(task_results):\n",
    "    return f'${task_results.mean:.4f} \\\\pm {task_results.std / (task_results.n ** 0.5):.4f}$'\n",
    "\n",
    "\n",
    "def display_multiple_model_results(group_name, results, tablefmt='simple'):\n",
    "    display(Markdown(f'## {group_name} Results'))\n",
    "        \n",
    "    key_groups = set([key[:-9] for key in next(iter(results.values())).keys()])\n",
    "    metric_names = tuple(next(iter(next(iter(quinn_generators_all_model_results.values())).values())).keys())\n",
    "    headers = ['# Colors', 'Model'] + [name + '&nbsp; ' * 12 for name in metric_names]\n",
    "    \n",
    "    for key_group in key_groups:\n",
    "        display(Markdown(f'### {key_group}'))\n",
    "        \n",
    "        rows = []\n",
    "        \n",
    "        for n_colors in range(1, 4):\n",
    "            key = f'{key_group}-{n_colors}-colors'\n",
    "            for model_name, model_results in results.items():\n",
    "                rows.append([n_colors, model_name] + [format_results(model_results[key][metric_name])\n",
    "                                                      for metric_name in metric_names])\n",
    "                \n",
    "        display(Markdown(tabulate.tabulate(rows, headers, tablefmt=tablefmt)))\n",
    "\n",
    "        "
   ]
  },
  {
   "cell_type": "code",
   "execution_count": 136,
   "metadata": {
    "scrolled": false
   },
   "outputs": [
    {
     "data": {
      "text/markdown": [
       "## Quinn Results"
      ],
      "text/plain": [
       "<IPython.core.display.Markdown object>"
      ]
     },
     "metadata": {},
     "output_type": "display_data"
    },
    {
     "data": {
      "text/markdown": [
       "### Quinn-Between-sideways"
      ],
      "text/plain": [
       "<IPython.core.display.Markdown object>"
      ]
     },
     "metadata": {},
     "output_type": "display_data"
    },
    {
     "data": {
      "text/markdown": [
       "|   # Colors | Model              | Accuracy&nbsp; &nbsp; &nbsp; &nbsp; &nbsp; &nbsp; &nbsp; &nbsp; &nbsp; &nbsp; &nbsp; &nbsp;    | MeanDiff&nbsp; &nbsp; &nbsp; &nbsp; &nbsp; &nbsp; &nbsp; &nbsp; &nbsp; &nbsp; &nbsp; &nbsp;    | MaxDiff&nbsp; &nbsp; &nbsp; &nbsp; &nbsp; &nbsp; &nbsp; &nbsp; &nbsp; &nbsp; &nbsp; &nbsp;    |\n",
       "|------------|--------------------|------------------------------------------------------------------------------------------------|------------------------------------------------------------------------------------------------|-----------------------------------------------------------------------------------------------|\n",
       "|          1 | mobilenet-saycam   | $0.5195 \\pm 0.0312$                                                                            | $0.0075 \\pm 0.0006$                                                                            | $-0.0009 \\pm 0.0007$                                                                          |\n",
       "|          1 | mobilenet-imagenet | $0.3828 \\pm 0.0304$                                                                            | $0.0089 \\pm 0.0009$                                                                            | $-0.0018 \\pm 0.0010$                                                                          |\n",
       "|          1 | mobilenet-random   | $0.1953 \\pm 0.0248$                                                                            | $-0.0000 \\pm 0.0000$                                                                           | $-0.0000 \\pm 0.0000$                                                                          |\n",
       "|          1 | resnext-saycam     | $0.2695 \\pm 0.0277$                                                                            | $0.0019 \\pm 0.0008$                                                                            | $-0.0109 \\pm 0.0010$                                                                          |\n",
       "|          1 | resnext-imagenet   | $0.0547 \\pm 0.0142$                                                                            | $-0.0199 \\pm 0.0012$                                                                           | $-0.0371 \\pm 0.0014$                                                                          |\n",
       "|          1 | resnext-random     | $0.5039 \\pm 0.0312$                                                                            | $0.0000 \\pm 0.0000$                                                                            | $0.0000 \\pm 0.0000$                                                                           |\n",
       "|          2 | mobilenet-saycam   | $0.6914 \\pm 0.0289$                                                                            | $0.0103 \\pm 0.0006$                                                                            | $0.0047 \\pm 0.0007$                                                                           |\n",
       "|          2 | mobilenet-imagenet | $0.0898 \\pm 0.0179$                                                                            | $-0.0097 \\pm 0.0009$                                                                           | $-0.0214 \\pm 0.0010$                                                                          |\n",
       "|          2 | mobilenet-random   | $0.2227 \\pm 0.0260$                                                                            | $-0.0000 \\pm 0.0000$                                                                           | $-0.0000 \\pm 0.0000$                                                                          |\n",
       "|          2 | resnext-saycam     | $0.3125 \\pm 0.0290$                                                                            | $0.0023 \\pm 0.0008$                                                                            | $-0.0093 \\pm 0.0009$                                                                          |\n",
       "|          2 | resnext-imagenet   | $0.0117 \\pm 0.0067$                                                                            | $-0.0495 \\pm 0.0014$                                                                           | $-0.0645 \\pm 0.0016$                                                                          |\n",
       "|          2 | resnext-random     | $0.2266 \\pm 0.0262$                                                                            | $-0.0000 \\pm 0.0000$                                                                           | $-0.0000 \\pm 0.0000$                                                                          |\n",
       "|          3 | mobilenet-saycam   | $0.6719 \\pm 0.0293$                                                                            | $0.0114 \\pm 0.0006$                                                                            | $0.0041 \\pm 0.0007$                                                                           |\n",
       "|          3 | mobilenet-imagenet | $0.3398 \\pm 0.0296$                                                                            | $0.0068 \\pm 0.0011$                                                                            | $-0.0068 \\pm 0.0014$                                                                          |\n",
       "|          3 | mobilenet-random   | $0.1992 \\pm 0.0250$                                                                            | $-0.0000 \\pm 0.0000$                                                                           | $-0.0000 \\pm 0.0000$                                                                          |\n",
       "|          3 | resnext-saycam     | $0.2773 \\pm 0.0280$                                                                            | $0.0011 \\pm 0.0009$                                                                            | $-0.0105 \\pm 0.0010$                                                                          |\n",
       "|          3 | resnext-imagenet   | $0.0430 \\pm 0.0127$                                                                            | $-0.0278 \\pm 0.0015$                                                                           | $-0.0468 \\pm 0.0018$                                                                          |\n",
       "|          3 | resnext-random     | $0.3711 \\pm 0.0302$                                                                            | $0.0000 \\pm 0.0000$                                                                            | $-0.0000 \\pm 0.0000$                                                                          |"
      ],
      "text/plain": [
       "<IPython.core.display.Markdown object>"
      ]
     },
     "metadata": {},
     "output_type": "display_data"
    },
    {
     "data": {
      "text/markdown": [
       "### Quinn-Above/Below"
      ],
      "text/plain": [
       "<IPython.core.display.Markdown object>"
      ]
     },
     "metadata": {},
     "output_type": "display_data"
    },
    {
     "data": {
      "text/markdown": [
       "|   # Colors | Model              | Accuracy&nbsp; &nbsp; &nbsp; &nbsp; &nbsp; &nbsp; &nbsp; &nbsp; &nbsp; &nbsp; &nbsp; &nbsp;    | MeanDiff&nbsp; &nbsp; &nbsp; &nbsp; &nbsp; &nbsp; &nbsp; &nbsp; &nbsp; &nbsp; &nbsp; &nbsp;    | MaxDiff&nbsp; &nbsp; &nbsp; &nbsp; &nbsp; &nbsp; &nbsp; &nbsp; &nbsp; &nbsp; &nbsp; &nbsp;    |\n",
       "|------------|--------------------|------------------------------------------------------------------------------------------------|------------------------------------------------------------------------------------------------|-----------------------------------------------------------------------------------------------|\n",
       "|          1 | mobilenet-saycam   | $1.0000 \\pm 0.0000$                                                                            | $0.0903 \\pm 0.0012$                                                                            | $0.0819 \\pm 0.0013$                                                                           |\n",
       "|          1 | mobilenet-imagenet | $0.9688 \\pm 0.0109$                                                                            | $0.0512 \\pm 0.0014$                                                                            | $0.0424 \\pm 0.0015$                                                                           |\n",
       "|          1 | mobilenet-random   | $0.3828 \\pm 0.0304$                                                                            | $-0.0000 \\pm 0.0000$                                                                           | $-0.0000 \\pm 0.0000$                                                                          |\n",
       "|          1 | resnext-saycam     | $1.0000 \\pm 0.0000$                                                                            | $0.1291 \\pm 0.0017$                                                                            | $0.1214 \\pm 0.0017$                                                                           |\n",
       "|          1 | resnext-imagenet   | $0.9219 \\pm 0.0168$                                                                            | $0.0512 \\pm 0.0020$                                                                            | $0.0398 \\pm 0.0021$                                                                           |\n",
       "|          1 | resnext-random     | $0.5352 \\pm 0.0312$                                                                            | $0.0000 \\pm 0.0000$                                                                            | $0.0000 \\pm 0.0000$                                                                           |\n",
       "|          2 | mobilenet-saycam   | $1.0000 \\pm 0.0000$                                                                            | $0.0745 \\pm 0.0011$                                                                            | $0.0658 \\pm 0.0012$                                                                           |\n",
       "|          2 | mobilenet-imagenet | $0.5977 \\pm 0.0306$                                                                            | $0.0232 \\pm 0.0017$                                                                            | $0.0079 \\pm 0.0018$                                                                           |\n",
       "|          2 | mobilenet-random   | $0.3125 \\pm 0.0290$                                                                            | $-0.0000 \\pm 0.0000$                                                                           | $-0.0000 \\pm 0.0000$                                                                          |\n",
       "|          2 | resnext-saycam     | $1.0000 \\pm 0.0000$                                                                            | $0.1337 \\pm 0.0017$                                                                            | $0.1253 \\pm 0.0018$                                                                           |\n",
       "|          2 | resnext-imagenet   | $0.2422 \\pm 0.0268$                                                                            | $0.0002 \\pm 0.0025$                                                                            | $-0.0225 \\pm 0.0028$                                                                          |\n",
       "|          2 | resnext-random     | $0.2734 \\pm 0.0279$                                                                            | $-0.0000 \\pm 0.0000$                                                                           | $-0.0000 \\pm 0.0000$                                                                          |\n",
       "|          3 | mobilenet-saycam   | $1.0000 \\pm 0.0000$                                                                            | $0.0778 \\pm 0.0014$                                                                            | $0.0682 \\pm 0.0016$                                                                           |\n",
       "|          3 | mobilenet-imagenet | $0.7344 \\pm 0.0276$                                                                            | $0.0410 \\pm 0.0020$                                                                            | $0.0250 \\pm 0.0023$                                                                           |\n",
       "|          3 | mobilenet-random   | $0.3984 \\pm 0.0306$                                                                            | $0.0000 \\pm 0.0000$                                                                            | $-0.0000 \\pm 0.0000$                                                                          |\n",
       "|          3 | resnext-saycam     | $1.0000 \\pm 0.0000$                                                                            | $0.1220 \\pm 0.0018$                                                                            | $0.1123 \\pm 0.0019$                                                                           |\n",
       "|          3 | resnext-imagenet   | $0.6250 \\pm 0.0303$                                                                            | $0.0253 \\pm 0.0021$                                                                            | $0.0091 \\pm 0.0024$                                                                           |\n",
       "|          3 | resnext-random     | $0.3906 \\pm 0.0305$                                                                            | $0.0000 \\pm 0.0000$                                                                            | $-0.0000 \\pm 0.0000$                                                                          |"
      ],
      "text/plain": [
       "<IPython.core.display.Markdown object>"
      ]
     },
     "metadata": {},
     "output_type": "display_data"
    },
    {
     "data": {
      "text/markdown": [
       "### Quinn-Left/Right"
      ],
      "text/plain": [
       "<IPython.core.display.Markdown object>"
      ]
     },
     "metadata": {},
     "output_type": "display_data"
    },
    {
     "data": {
      "text/markdown": [
       "|   # Colors | Model              | Accuracy&nbsp; &nbsp; &nbsp; &nbsp; &nbsp; &nbsp; &nbsp; &nbsp; &nbsp; &nbsp; &nbsp; &nbsp;    | MeanDiff&nbsp; &nbsp; &nbsp; &nbsp; &nbsp; &nbsp; &nbsp; &nbsp; &nbsp; &nbsp; &nbsp; &nbsp;    | MaxDiff&nbsp; &nbsp; &nbsp; &nbsp; &nbsp; &nbsp; &nbsp; &nbsp; &nbsp; &nbsp; &nbsp; &nbsp;    |\n",
       "|------------|--------------------|------------------------------------------------------------------------------------------------|------------------------------------------------------------------------------------------------|-----------------------------------------------------------------------------------------------|\n",
       "|          1 | mobilenet-saycam   | $0.5469 \\pm 0.0311$                                                                            | $0.0138 \\pm 0.0008$                                                                            | $0.0017 \\pm 0.0010$                                                                           |\n",
       "|          1 | mobilenet-imagenet | $0.3281 \\pm 0.0293$                                                                            | $0.0079 \\pm 0.0009$                                                                            | $-0.0073 \\pm 0.0010$                                                                          |\n",
       "|          1 | mobilenet-random   | $0.3672 \\pm 0.0301$                                                                            | $-0.0000 \\pm 0.0000$                                                                           | $-0.0000 \\pm 0.0000$                                                                          |\n",
       "|          1 | resnext-saycam     | $0.0273 \\pm 0.0102$                                                                            | $-0.0062 \\pm 0.0007$                                                                           | $-0.0243 \\pm 0.0009$                                                                          |\n",
       "|          1 | resnext-imagenet   | $0.0820 \\pm 0.0172$                                                                            | $-0.0072 \\pm 0.0013$                                                                           | $-0.0301 \\pm 0.0014$                                                                          |\n",
       "|          1 | resnext-random     | $0.5781 \\pm 0.0309$                                                                            | $0.0000 \\pm 0.0000$                                                                            | $0.0000 \\pm 0.0000$                                                                           |\n",
       "|          2 | mobilenet-saycam   | $0.5352 \\pm 0.0312$                                                                            | $0.0074 \\pm 0.0008$                                                                            | $0.0014 \\pm 0.0009$                                                                           |\n",
       "|          2 | mobilenet-imagenet | $0.0977 \\pm 0.0186$                                                                            | $-0.0198 \\pm 0.0013$                                                                           | $-0.0324 \\pm 0.0014$                                                                          |\n",
       "|          2 | mobilenet-random   | $0.2812 \\pm 0.0281$                                                                            | $-0.0000 \\pm 0.0000$                                                                           | $-0.0000 \\pm 0.0000$                                                                          |\n",
       "|          2 | resnext-saycam     | $0.0078 \\pm 0.0055$                                                                            | $-0.0063 \\pm 0.0007$                                                                           | $-0.0236 \\pm 0.0008$                                                                          |\n",
       "|          2 | resnext-imagenet   | $0.1055 \\pm 0.0192$                                                                            | $-0.0331 \\pm 0.0020$                                                                           | $-0.0470 \\pm 0.0023$                                                                          |\n",
       "|          2 | resnext-random     | $0.2734 \\pm 0.0279$                                                                            | $-0.0000 \\pm 0.0000$                                                                           | $-0.0000 \\pm 0.0000$                                                                          |\n",
       "|          3 | mobilenet-saycam   | $0.5312 \\pm 0.0312$                                                                            | $0.0103 \\pm 0.0009$                                                                            | $-0.0003 \\pm 0.0011$                                                                          |\n",
       "|          3 | mobilenet-imagenet | $0.4023 \\pm 0.0306$                                                                            | $0.0046 \\pm 0.0017$                                                                            | $-0.0103 \\pm 0.0018$                                                                          |\n",
       "|          3 | mobilenet-random   | $0.3320 \\pm 0.0294$                                                                            | $-0.0000 \\pm 0.0000$                                                                           | $-0.0000 \\pm 0.0000$                                                                          |\n",
       "|          3 | resnext-saycam     | $0.0781 \\pm 0.0168$                                                                            | $-0.0064 \\pm 0.0008$                                                                           | $-0.0233 \\pm 0.0010$                                                                          |\n",
       "|          3 | resnext-imagenet   | $0.2109 \\pm 0.0255$                                                                            | $-0.0087 \\pm 0.0019$                                                                           | $-0.0305 \\pm 0.0022$                                                                          |\n",
       "|          3 | resnext-random     | $0.3711 \\pm 0.0302$                                                                            | $0.0000 \\pm 0.0000$                                                                            | $-0.0000 \\pm 0.0000$                                                                          |"
      ],
      "text/plain": [
       "<IPython.core.display.Markdown object>"
      ]
     },
     "metadata": {},
     "output_type": "display_data"
    },
    {
     "data": {
      "text/markdown": [
       "### Quinn-Between"
      ],
      "text/plain": [
       "<IPython.core.display.Markdown object>"
      ]
     },
     "metadata": {},
     "output_type": "display_data"
    },
    {
     "data": {
      "text/markdown": [
       "|   # Colors | Model              | Accuracy&nbsp; &nbsp; &nbsp; &nbsp; &nbsp; &nbsp; &nbsp; &nbsp; &nbsp; &nbsp; &nbsp; &nbsp;    | MeanDiff&nbsp; &nbsp; &nbsp; &nbsp; &nbsp; &nbsp; &nbsp; &nbsp; &nbsp; &nbsp; &nbsp; &nbsp;    | MaxDiff&nbsp; &nbsp; &nbsp; &nbsp; &nbsp; &nbsp; &nbsp; &nbsp; &nbsp; &nbsp; &nbsp; &nbsp;    |\n",
       "|------------|--------------------|------------------------------------------------------------------------------------------------|------------------------------------------------------------------------------------------------|-----------------------------------------------------------------------------------------------|\n",
       "|          1 | mobilenet-saycam   | $1.0000 \\pm 0.0000$                                                                            | $0.0393 \\pm 0.0008$                                                                            | $0.0326 \\pm 0.0009$                                                                           |\n",
       "|          1 | mobilenet-imagenet | $0.9609 \\pm 0.0121$                                                                            | $0.0342 \\pm 0.0011$                                                                            | $0.0278 \\pm 0.0012$                                                                           |\n",
       "|          1 | mobilenet-random   | $0.2734 \\pm 0.0279$                                                                            | $-0.0000 \\pm 0.0000$                                                                           | $-0.0000 \\pm 0.0000$                                                                          |\n",
       "|          1 | resnext-saycam     | $1.0000 \\pm 0.0000$                                                                            | $0.0454 \\pm 0.0010$                                                                            | $0.0375 \\pm 0.0011$                                                                           |\n",
       "|          1 | resnext-imagenet   | $0.6523 \\pm 0.0298$                                                                            | $0.0181 \\pm 0.0012$                                                                            | $0.0076 \\pm 0.0014$                                                                           |\n",
       "|          1 | resnext-random     | $0.4805 \\pm 0.0312$                                                                            | $0.0000 \\pm 0.0000$                                                                            | $-0.0000 \\pm 0.0000$                                                                          |\n",
       "|          2 | mobilenet-saycam   | $0.9570 \\pm 0.0127$                                                                            | $0.0332 \\pm 0.0008$                                                                            | $0.0271 \\pm 0.0009$                                                                           |\n",
       "|          2 | mobilenet-imagenet | $0.4727 \\pm 0.0312$                                                                            | $0.0120 \\pm 0.0012$                                                                            | $0.0012 \\pm 0.0011$                                                                           |\n",
       "|          2 | mobilenet-random   | $0.2266 \\pm 0.0262$                                                                            | $-0.0000 \\pm 0.0000$                                                                           | $-0.0000 \\pm 0.0000$                                                                          |\n",
       "|          2 | resnext-saycam     | $0.9727 \\pm 0.0102$                                                                            | $0.0454 \\pm 0.0010$                                                                            | $0.0369 \\pm 0.0012$                                                                           |\n",
       "|          2 | resnext-imagenet   | $0.0312 \\pm 0.0109$                                                                            | $-0.0221 \\pm 0.0016$                                                                           | $-0.0431 \\pm 0.0018$                                                                          |\n",
       "|          2 | resnext-random     | $0.2461 \\pm 0.0269$                                                                            | $-0.0000 \\pm 0.0000$                                                                           | $-0.0000 \\pm 0.0000$                                                                          |\n",
       "|          3 | mobilenet-saycam   | $0.9531 \\pm 0.0132$                                                                            | $0.0361 \\pm 0.0009$                                                                            | $0.0294 \\pm 0.0010$                                                                           |\n",
       "|          3 | mobilenet-imagenet | $0.7539 \\pm 0.0269$                                                                            | $0.0276 \\pm 0.0016$                                                                            | $0.0184 \\pm 0.0018$                                                                           |\n",
       "|          3 | mobilenet-random   | $0.2539 \\pm 0.0272$                                                                            | $-0.0000 \\pm 0.0000$                                                                           | $-0.0000 \\pm 0.0000$                                                                          |\n",
       "|          3 | resnext-saycam     | $0.9453 \\pm 0.0142$                                                                            | $0.0422 \\pm 0.0011$                                                                            | $0.0332 \\pm 0.0012$                                                                           |\n",
       "|          3 | resnext-imagenet   | $0.2383 \\pm 0.0266$                                                                            | $-0.0012 \\pm 0.0014$                                                                           | $-0.0185 \\pm 0.0019$                                                                          |\n",
       "|          3 | resnext-random     | $0.3672 \\pm 0.0301$                                                                            | $0.0000 \\pm 0.0000$                                                                            | $-0.0000 \\pm 0.0000$                                                                          |"
      ],
      "text/plain": [
       "<IPython.core.display.Markdown object>"
      ]
     },
     "metadata": {},
     "output_type": "display_data"
    }
   ],
   "source": [
    "display_multiple_model_results('Quinn', quinn_generators_all_model_results, tablefmt='github')"
   ]
  },
  {
   "cell_type": "code",
   "execution_count": 137,
   "metadata": {
    "scrolled": false
   },
   "outputs": [
    {
     "data": {
      "text/markdown": [
       "## Equilateral Results"
      ],
      "text/plain": [
       "<IPython.core.display.Markdown object>"
      ]
     },
     "metadata": {},
     "output_type": "display_data"
    },
    {
     "data": {
      "text/markdown": [
       "### Equilateral-Left/Right"
      ],
      "text/plain": [
       "<IPython.core.display.Markdown object>"
      ]
     },
     "metadata": {},
     "output_type": "display_data"
    },
    {
     "data": {
      "text/markdown": [
       "|   # Colors | Model              | Accuracy&nbsp; &nbsp; &nbsp; &nbsp; &nbsp; &nbsp; &nbsp; &nbsp; &nbsp; &nbsp; &nbsp; &nbsp;    | MeanDiff&nbsp; &nbsp; &nbsp; &nbsp; &nbsp; &nbsp; &nbsp; &nbsp; &nbsp; &nbsp; &nbsp; &nbsp;    | MaxDiff&nbsp; &nbsp; &nbsp; &nbsp; &nbsp; &nbsp; &nbsp; &nbsp; &nbsp; &nbsp; &nbsp; &nbsp;    |\n",
       "|------------|--------------------|------------------------------------------------------------------------------------------------|------------------------------------------------------------------------------------------------|-----------------------------------------------------------------------------------------------|\n",
       "|          1 | mobilenet-saycam   | $0.7109 \\pm 0.0283$                                                                            | $0.0119 \\pm 0.0007$                                                                            | $0.0060 \\pm 0.0008$                                                                           |\n",
       "|          1 | mobilenet-imagenet | $0.3750 \\pm 0.0303$                                                                            | $0.0016 \\pm 0.0011$                                                                            | $-0.0041 \\pm 0.0011$                                                                          |\n",
       "|          1 | mobilenet-random   | $0.3750 \\pm 0.0303$                                                                            | $-0.0000 \\pm 0.0000$                                                                           | $-0.0000 \\pm 0.0000$                                                                          |\n",
       "|          1 | resnext-saycam     | $0.0469 \\pm 0.0132$                                                                            | $-0.0149 \\pm 0.0007$                                                                           | $-0.0193 \\pm 0.0008$                                                                          |\n",
       "|          1 | resnext-imagenet   | $0.0898 \\pm 0.0179$                                                                            | $-0.0208 \\pm 0.0013$                                                                           | $-0.0314 \\pm 0.0014$                                                                          |\n",
       "|          1 | resnext-random     | $0.6641 \\pm 0.0295$                                                                            | $0.0000 \\pm 0.0000$                                                                            | $0.0000 \\pm 0.0000$                                                                           |\n",
       "|          2 | mobilenet-saycam   | $0.4570 \\pm 0.0311$                                                                            | $0.0057 \\pm 0.0007$                                                                            | $-0.0030 \\pm 0.0009$                                                                          |\n",
       "|          2 | mobilenet-imagenet | $0.0508 \\pm 0.0137$                                                                            | $-0.0258 \\pm 0.0014$                                                                           | $-0.0520 \\pm 0.0016$                                                                          |\n",
       "|          2 | mobilenet-random   | $0.2734 \\pm 0.0279$                                                                            | $0.0000 \\pm 0.0000$                                                                            | $-0.0000 \\pm 0.0000$                                                                          |\n",
       "|          2 | resnext-saycam     | $0.0508 \\pm 0.0137$                                                                            | $-0.0151 \\pm 0.0007$                                                                           | $-0.0197 \\pm 0.0008$                                                                          |\n",
       "|          2 | resnext-imagenet   | $0.0234 \\pm 0.0095$                                                                            | $-0.0434 \\pm 0.0019$                                                                           | $-0.0746 \\pm 0.0022$                                                                          |\n",
       "|          2 | resnext-random     | $0.3750 \\pm 0.0303$                                                                            | $0.0000 \\pm 0.0000$                                                                            | $-0.0000 \\pm 0.0000$                                                                          |\n",
       "|          3 | mobilenet-saycam   | $0.5820 \\pm 0.0308$                                                                            | $0.0111 \\pm 0.0010$                                                                            | $0.0032 \\pm 0.0011$                                                                           |\n",
       "|          3 | mobilenet-imagenet | $0.4141 \\pm 0.0308$                                                                            | $0.0012 \\pm 0.0018$                                                                            | $-0.0102 \\pm 0.0020$                                                                          |\n",
       "|          3 | mobilenet-random   | $0.3945 \\pm 0.0305$                                                                            | $0.0000 \\pm 0.0000$                                                                            | $-0.0000 \\pm 0.0000$                                                                          |\n",
       "|          3 | resnext-saycam     | $0.0938 \\pm 0.0182$                                                                            | $-0.0137 \\pm 0.0009$                                                                           | $-0.0197 \\pm 0.0010$                                                                          |\n",
       "|          3 | resnext-imagenet   | $0.1797 \\pm 0.0240$                                                                            | $-0.0164 \\pm 0.0019$                                                                           | $-0.0311 \\pm 0.0022$                                                                          |\n",
       "|          3 | resnext-random     | $0.5312 \\pm 0.0312$                                                                            | $0.0000 \\pm 0.0000$                                                                            | $0.0000 \\pm 0.0000$                                                                           |"
      ],
      "text/plain": [
       "<IPython.core.display.Markdown object>"
      ]
     },
     "metadata": {},
     "output_type": "display_data"
    },
    {
     "data": {
      "text/markdown": [
       "### Equilateral-Above/Below"
      ],
      "text/plain": [
       "<IPython.core.display.Markdown object>"
      ]
     },
     "metadata": {},
     "output_type": "display_data"
    },
    {
     "data": {
      "text/markdown": [
       "|   # Colors | Model              | Accuracy&nbsp; &nbsp; &nbsp; &nbsp; &nbsp; &nbsp; &nbsp; &nbsp; &nbsp; &nbsp; &nbsp; &nbsp;    | MeanDiff&nbsp; &nbsp; &nbsp; &nbsp; &nbsp; &nbsp; &nbsp; &nbsp; &nbsp; &nbsp; &nbsp; &nbsp;    | MaxDiff&nbsp; &nbsp; &nbsp; &nbsp; &nbsp; &nbsp; &nbsp; &nbsp; &nbsp; &nbsp; &nbsp; &nbsp;    |\n",
       "|------------|--------------------|------------------------------------------------------------------------------------------------|------------------------------------------------------------------------------------------------|-----------------------------------------------------------------------------------------------|\n",
       "|          1 | mobilenet-saycam   | $1.0000 \\pm 0.0000$                                                                            | $0.0920 \\pm 0.0013$                                                                            | $0.0831 \\pm 0.0014$                                                                           |\n",
       "|          1 | mobilenet-imagenet | $0.9805 \\pm 0.0086$                                                                            | $0.0621 \\pm 0.0015$                                                                            | $0.0552 \\pm 0.0016$                                                                           |\n",
       "|          1 | mobilenet-random   | $0.4453 \\pm 0.0311$                                                                            | $0.0000 \\pm 0.0000$                                                                            | $-0.0000 \\pm 0.0000$                                                                          |\n",
       "|          1 | resnext-saycam     | $1.0000 \\pm 0.0000$                                                                            | $0.1401 \\pm 0.0013$                                                                            | $0.1328 \\pm 0.0014$                                                                           |\n",
       "|          1 | resnext-imagenet   | $0.9297 \\pm 0.0160$                                                                            | $0.0633 \\pm 0.0022$                                                                            | $0.0531 \\pm 0.0024$                                                                           |\n",
       "|          1 | resnext-random     | $0.6602 \\pm 0.0296$                                                                            | $0.0000 \\pm 0.0000$                                                                            | $0.0000 \\pm 0.0000$                                                                           |\n",
       "|          2 | mobilenet-saycam   | $1.0000 \\pm 0.0000$                                                                            | $0.0759 \\pm 0.0013$                                                                            | $0.0668 \\pm 0.0013$                                                                           |\n",
       "|          2 | mobilenet-imagenet | $0.6797 \\pm 0.0292$                                                                            | $0.0337 \\pm 0.0018$                                                                            | $0.0130 \\pm 0.0019$                                                                           |\n",
       "|          2 | mobilenet-random   | $0.2773 \\pm 0.0280$                                                                            | $-0.0000 \\pm 0.0000$                                                                           | $-0.0000 \\pm 0.0000$                                                                          |\n",
       "|          2 | resnext-saycam     | $1.0000 \\pm 0.0000$                                                                            | $0.1445 \\pm 0.0012$                                                                            | $0.1370 \\pm 0.0013$                                                                           |\n",
       "|          2 | resnext-imagenet   | $0.3281 \\pm 0.0293$                                                                            | $0.0114 \\pm 0.0027$                                                                            | $-0.0176 \\pm 0.0030$                                                                          |\n",
       "|          2 | resnext-random     | $0.3867 \\pm 0.0304$                                                                            | $0.0000 \\pm 0.0000$                                                                            | $-0.0000 \\pm 0.0000$                                                                          |\n",
       "|          3 | mobilenet-saycam   | $1.0000 \\pm 0.0000$                                                                            | $0.0793 \\pm 0.0012$                                                                            | $0.0695 \\pm 0.0014$                                                                           |\n",
       "|          3 | mobilenet-imagenet | $0.8906 \\pm 0.0195$                                                                            | $0.0575 \\pm 0.0022$                                                                            | $0.0442 \\pm 0.0023$                                                                           |\n",
       "|          3 | mobilenet-random   | $0.3516 \\pm 0.0298$                                                                            | $0.0000 \\pm 0.0000$                                                                            | $-0.0000 \\pm 0.0000$                                                                          |\n",
       "|          3 | resnext-saycam     | $1.0000 \\pm 0.0000$                                                                            | $0.1374 \\pm 0.0014$                                                                            | $0.1291 \\pm 0.0015$                                                                           |\n",
       "|          3 | resnext-imagenet   | $0.6875 \\pm 0.0290$                                                                            | $0.0344 \\pm 0.0024$                                                                            | $0.0181 \\pm 0.0029$                                                                           |\n",
       "|          3 | resnext-random     | $0.5469 \\pm 0.0311$                                                                            | $0.0000 \\pm 0.0000$                                                                            | $0.0000 \\pm 0.0000$                                                                           |"
      ],
      "text/plain": [
       "<IPython.core.display.Markdown object>"
      ]
     },
     "metadata": {},
     "output_type": "display_data"
    },
    {
     "data": {
      "text/markdown": [
       "### Equilateral-Between"
      ],
      "text/plain": [
       "<IPython.core.display.Markdown object>"
      ]
     },
     "metadata": {},
     "output_type": "display_data"
    },
    {
     "data": {
      "text/markdown": [
       "|   # Colors | Model              | Accuracy&nbsp; &nbsp; &nbsp; &nbsp; &nbsp; &nbsp; &nbsp; &nbsp; &nbsp; &nbsp; &nbsp; &nbsp;    | MeanDiff&nbsp; &nbsp; &nbsp; &nbsp; &nbsp; &nbsp; &nbsp; &nbsp; &nbsp; &nbsp; &nbsp; &nbsp;    | MaxDiff&nbsp; &nbsp; &nbsp; &nbsp; &nbsp; &nbsp; &nbsp; &nbsp; &nbsp; &nbsp; &nbsp; &nbsp;    |\n",
       "|------------|--------------------|------------------------------------------------------------------------------------------------|------------------------------------------------------------------------------------------------|-----------------------------------------------------------------------------------------------|\n",
       "|          1 | mobilenet-saycam   | $0.9961 \\pm 0.0039$                                                                            | $0.0363 \\pm 0.0008$                                                                            | $0.0315 \\pm 0.0008$                                                                           |\n",
       "|          1 | mobilenet-imagenet | $0.9766 \\pm 0.0095$                                                                            | $0.0398 \\pm 0.0013$                                                                            | $0.0344 \\pm 0.0013$                                                                           |\n",
       "|          1 | mobilenet-random   | $0.3945 \\pm 0.0305$                                                                            | $0.0000 \\pm 0.0000$                                                                            | $-0.0000 \\pm 0.0000$                                                                          |\n",
       "|          1 | resnext-saycam     | $0.9844 \\pm 0.0078$                                                                            | $0.0470 \\pm 0.0010$                                                                            | $0.0408 \\pm 0.0012$                                                                           |\n",
       "|          1 | resnext-imagenet   | $0.6875 \\pm 0.0290$                                                                            | $0.0213 \\pm 0.0015$                                                                            | $0.0122 \\pm 0.0017$                                                                           |\n",
       "|          1 | resnext-random     | $0.6602 \\pm 0.0296$                                                                            | $0.0000 \\pm 0.0000$                                                                            | $0.0000 \\pm 0.0000$                                                                           |\n",
       "|          2 | mobilenet-saycam   | $0.9766 \\pm 0.0095$                                                                            | $0.0338 \\pm 0.0008$                                                                            | $0.0280 \\pm 0.0009$                                                                           |\n",
       "|          2 | mobilenet-imagenet | $0.4570 \\pm 0.0311$                                                                            | $0.0157 \\pm 0.0011$                                                                            | $-0.0009 \\pm 0.0012$                                                                          |\n",
       "|          2 | mobilenet-random   | $0.2695 \\pm 0.0277$                                                                            | $-0.0000 \\pm 0.0000$                                                                           | $-0.0000 \\pm 0.0000$                                                                          |\n",
       "|          2 | resnext-saycam     | $0.9844 \\pm 0.0078$                                                                            | $0.0477 \\pm 0.0010$                                                                            | $0.0412 \\pm 0.0012$                                                                           |\n",
       "|          2 | resnext-imagenet   | $0.0781 \\pm 0.0168$                                                                            | $-0.0185 \\pm 0.0016$                                                                           | $-0.0449 \\pm 0.0019$                                                                          |\n",
       "|          2 | resnext-random     | $0.3086 \\pm 0.0289$                                                                            | $-0.0000 \\pm 0.0000$                                                                           | $-0.0000 \\pm 0.0000$                                                                          |\n",
       "|          3 | mobilenet-saycam   | $0.9766 \\pm 0.0095$                                                                            | $0.0363 \\pm 0.0009$                                                                            | $0.0303 \\pm 0.0010$                                                                           |\n",
       "|          3 | mobilenet-imagenet | $0.8203 \\pm 0.0240$                                                                            | $0.0344 \\pm 0.0016$                                                                            | $0.0261 \\pm 0.0017$                                                                           |\n",
       "|          3 | mobilenet-random   | $0.3789 \\pm 0.0303$                                                                            | $0.0000 \\pm 0.0000$                                                                            | $-0.0000 \\pm 0.0000$                                                                          |\n",
       "|          3 | resnext-saycam     | $0.9688 \\pm 0.0109$                                                                            | $0.0467 \\pm 0.0012$                                                                            | $0.0393 \\pm 0.0013$                                                                           |\n",
       "|          3 | resnext-imagenet   | $0.3594 \\pm 0.0300$                                                                            | $0.0044 \\pm 0.0017$                                                                            | $-0.0112 \\pm 0.0021$                                                                          |\n",
       "|          3 | resnext-random     | $0.5039 \\pm 0.0312$                                                                            | $0.0000 \\pm 0.0000$                                                                            | $0.0000 \\pm 0.0000$                                                                           |"
      ],
      "text/plain": [
       "<IPython.core.display.Markdown object>"
      ]
     },
     "metadata": {},
     "output_type": "display_data"
    },
    {
     "data": {
      "text/markdown": [
       "### Equilateral-Between-sideways"
      ],
      "text/plain": [
       "<IPython.core.display.Markdown object>"
      ]
     },
     "metadata": {},
     "output_type": "display_data"
    },
    {
     "data": {
      "text/markdown": [
       "|   # Colors | Model              | Accuracy&nbsp; &nbsp; &nbsp; &nbsp; &nbsp; &nbsp; &nbsp; &nbsp; &nbsp; &nbsp; &nbsp; &nbsp;    | MeanDiff&nbsp; &nbsp; &nbsp; &nbsp; &nbsp; &nbsp; &nbsp; &nbsp; &nbsp; &nbsp; &nbsp; &nbsp;    | MaxDiff&nbsp; &nbsp; &nbsp; &nbsp; &nbsp; &nbsp; &nbsp; &nbsp; &nbsp; &nbsp; &nbsp; &nbsp;    |\n",
       "|------------|--------------------|------------------------------------------------------------------------------------------------|------------------------------------------------------------------------------------------------|-----------------------------------------------------------------------------------------------|\n",
       "|          1 | mobilenet-saycam   | $0.5430 \\pm 0.0311$                                                                            | $0.0051 \\pm 0.0005$                                                                            | $-0.0000 \\pm 0.0006$                                                                          |\n",
       "|          1 | mobilenet-imagenet | $0.3750 \\pm 0.0303$                                                                            | $0.0050 \\pm 0.0009$                                                                            | $-0.0044 \\pm 0.0011$                                                                          |\n",
       "|          1 | mobilenet-random   | $0.3750 \\pm 0.0303$                                                                            | $0.0000 \\pm 0.0000$                                                                            | $-0.0000 \\pm 0.0000$                                                                          |\n",
       "|          1 | resnext-saycam     | $0.1875 \\pm 0.0244$                                                                            | $-0.0030 \\pm 0.0006$                                                                           | $-0.0127 \\pm 0.0009$                                                                          |\n",
       "|          1 | resnext-imagenet   | $0.0117 \\pm 0.0067$                                                                            | $-0.0351 \\pm 0.0012$                                                                           | $-0.0447 \\pm 0.0014$                                                                          |\n",
       "|          1 | resnext-random     | $0.6445 \\pm 0.0299$                                                                            | $0.0000 \\pm 0.0000$                                                                            | $0.0000 \\pm 0.0000$                                                                           |\n",
       "|          2 | mobilenet-saycam   | $0.5742 \\pm 0.0309$                                                                            | $0.0076 \\pm 0.0005$                                                                            | $0.0017 \\pm 0.0006$                                                                           |\n",
       "|          2 | mobilenet-imagenet | $0.0195 \\pm 0.0086$                                                                            | $-0.0133 \\pm 0.0009$                                                                           | $-0.0324 \\pm 0.0011$                                                                          |\n",
       "|          2 | mobilenet-random   | $0.2852 \\pm 0.0282$                                                                            | $-0.0000 \\pm 0.0000$                                                                           | $-0.0000 \\pm 0.0000$                                                                          |\n",
       "|          2 | resnext-saycam     | $0.2461 \\pm 0.0269$                                                                            | $-0.0032 \\pm 0.0007$                                                                           | $-0.0107 \\pm 0.0009$                                                                          |\n",
       "|          2 | resnext-imagenet   | $0.0000 \\pm 0.0000$                                                                            | $-0.0635 \\pm 0.0014$                                                                           | $-0.0890 \\pm 0.0016$                                                                          |\n",
       "|          2 | resnext-random     | $0.2812 \\pm 0.0281$                                                                            | $-0.0000 \\pm 0.0000$                                                                           | $-0.0000 \\pm 0.0000$                                                                          |\n",
       "|          3 | mobilenet-saycam   | $0.6367 \\pm 0.0301$                                                                            | $0.0105 \\pm 0.0005$                                                                            | $0.0038 \\pm 0.0006$                                                                           |\n",
       "|          3 | mobilenet-imagenet | $0.3359 \\pm 0.0295$                                                                            | $0.0041 \\pm 0.0012$                                                                            | $-0.0092 \\pm 0.0015$                                                                          |\n",
       "|          3 | mobilenet-random   | $0.3672 \\pm 0.0301$                                                                            | $0.0000 \\pm 0.0000$                                                                            | $-0.0000 \\pm 0.0000$                                                                          |\n",
       "|          3 | resnext-saycam     | $0.2891 \\pm 0.0283$                                                                            | $-0.0009 \\pm 0.0008$                                                                           | $-0.0095 \\pm 0.0010$                                                                          |\n",
       "|          3 | resnext-imagenet   | $0.0352 \\pm 0.0115$                                                                            | $-0.0381 \\pm 0.0016$                                                                           | $-0.0542 \\pm 0.0018$                                                                          |\n",
       "|          3 | resnext-random     | $0.5000 \\pm 0.0312$                                                                            | $0.0000 \\pm 0.0000$                                                                            | $0.0000 \\pm 0.0000$                                                                           |"
      ],
      "text/plain": [
       "<IPython.core.display.Markdown object>"
      ]
     },
     "metadata": {},
     "output_type": "display_data"
    }
   ],
   "source": [
    "display_multiple_model_results('Equilateral', equilateral_generators_all_model_results, tablefmt='github')"
   ]
  },
  {
   "cell_type": "code",
   "execution_count": null,
   "metadata": {},
   "outputs": [],
   "source": [
    "tabulate.tabulate?"
   ]
  },
  {
   "cell_type": "code",
   "execution_count": null,
   "metadata": {},
   "outputs": [],
   "source": []
  }
 ],
 "metadata": {
  "kernelspec": {
   "display_name": "Python [conda env:rainbow] *",
   "language": "python",
   "name": "conda-env-rainbow-py"
  },
  "language_info": {
   "codemirror_mode": {
    "name": "ipython",
    "version": 3
   },
   "file_extension": ".py",
   "mimetype": "text/x-python",
   "name": "python",
   "nbconvert_exporter": "python",
   "pygments_lexer": "ipython3",
   "version": "3.7.4"
  }
 },
 "nbformat": 4,
 "nbformat_minor": 2
}
