{
 "cells": [
  {
   "cell_type": "code",
   "execution_count": 1,
   "metadata": {},
   "outputs": [],
   "source": [
    "%load_ext autoreload\n",
    "%autoreload 2\n",
    "%matplotlib inline"
   ]
  },
  {
   "cell_type": "code",
   "execution_count": 2,
   "metadata": {},
   "outputs": [],
   "source": [
    "import os\n",
    "import sys\n",
    "sys.path.append(os.path.abspath('..'))\n",
    "sys.path.append(os.path.abspath('../run'))\n",
    "import random\n",
    "from collections import defaultdict\n",
    "import itertools\n",
    "\n",
    "import numpy as np\n",
    "import matplotlib.pyplot as plt\n",
    "import matplotlib.patches as mpatches\n",
    "from matplotlib.collections import PatchCollection\n",
    "\n",
    "from IPython.display import display, Markdown, Latex\n",
    "\n",
    "import torch\n",
    "from torch import nn\n",
    "import torch.nn.functional as F\n",
    "\n",
    "from pytorch_lightning import Trainer\n",
    "from pytorch_lightning.callbacks import EarlyStopping"
   ]
  },
  {
   "cell_type": "code",
   "execution_count": 3,
   "metadata": {},
   "outputs": [
    {
     "data": {
      "text/plain": [
       "<torch._C.Generator at 0x7fa8ed728e50>"
      ]
     },
     "execution_count": 3,
     "metadata": {},
     "output_type": "execute_result"
    }
   ],
   "source": [
    "torch.manual_seed(33)"
   ]
  },
  {
   "cell_type": "code",
   "execution_count": 4,
   "metadata": {},
   "outputs": [],
   "source": [
    "from simple_relational_reasoning.datagen import *\n",
    "from simple_relational_reasoning.models import MLPModel, RelationNetModel\n",
    "\n",
    "import run\n",
    "from defaults import FIELD_CONFIGURATIONS"
   ]
  },
  {
   "cell_type": "code",
   "execution_count": 5,
   "metadata": {},
   "outputs": [],
   "source": [
    "FIGURE_TEMPLATE = r'''\\begin{{figure}}[!htb]\n",
    "% \\vspace{{-0.225in}}\n",
    "\\centering\n",
    "\\includegraphics[width=\\linewidth]{{figures/{save_path}}}\n",
    "\\caption{{ {{\\bf FIGURE TITLE.}} FIGURE DESCRIPTION.}}\n",
    "\\label{{fig:{label_name}}}\n",
    "% \\vspace{{-0.2in}}\n",
    "\\end{{figure}}\n",
    "'''\n",
    "WRAPFIGURE_TEMPLATE = r'''\\begin{{wrapfigure}}{{r}}{{0.5\\linewidth}}\n",
    "\\vspace{{-.3in}}\n",
    "\\begin{{spacing}}{{1.0}}\n",
    "\\centering\n",
    "\\includegraphics[width=0.95\\linewidth]{{figures/{save_path}}}\n",
    "\\caption{{ {{\\bf FIGURE TITLE.}} FIGURE DESCRIPTION.}}\n",
    "\\label{{fig:{label_name}}}\n",
    "\\end{{spacing}}\n",
    "% \\vspace{{-.25in}}\n",
    "\\end{{wrapfigure}}'''\n",
    "\n",
    "SAVE_PATH_PREFIX = 'figures'\n",
    "\n",
    "\n",
    "def save_plot(save_path, bbox_inches='tight'):\n",
    "    if save_path is not None:\n",
    "        save_path_no_ext = os.path.splitext(save_path)[0]\n",
    "        print('Figure:\\n')\n",
    "        print(FIGURE_TEMPLATE.format(save_path=save_path, label_name=save_path_no_ext.replace('/', '-').replace('_', '-')))\n",
    "        print('\\nWrapfigure:\\n')\n",
    "        print(WRAPFIGURE_TEMPLATE.format(save_path=save_path, label_name=save_path_no_ext.replace('/', '-').replace('_', '-')))\n",
    "        print('')\n",
    "        \n",
    "        if not save_path.startswith(SAVE_PATH_PREFIX):\n",
    "            save_path = os.path.join(SAVE_PATH_PREFIX, save_path)\n",
    "        \n",
    "        folder, filename = os.path.split(save_path)\n",
    "        os.makedirs(folder, exist_ok=True)\n",
    "        plt.savefig(save_path, bbox_inches=bbox_inches, facecolor=plt.gcf().get_facecolor(), edgecolor='none')"
   ]
  },
  {
   "cell_type": "code",
   "execution_count": 6,
   "metadata": {},
   "outputs": [],
   "source": [
    "from collections import namedtuple\n",
    "VisualizationDefinition = namedtuple('VisualizationDefinition', ('name', 'patch_class', 'offset', 'patch_args'))\n",
    "VISUALIZATION_DEFINITIONS = (\n",
    "    VisualizationDefinition('square', mpatches.Rectangle, np.array([0, 0]), (10, 10)),\n",
    "    VisualizationDefinition('circle', mpatches.Ellipse, np.array([5, 5]), (10, 10)),\n",
    "    VisualizationDefinition('triangle', mpatches.RegularPolygon, np.array([5, 5]), (3, 6)),\n",
    "    VisualizationDefinition('pentagon', mpatches.RegularPolygon, np.array([5, 5]), (5, 5.5)),\n",
    ")\n",
    "\n",
    "\n",
    "DEFAULT_PATCH_KWARGS = dict(ec='none')\n",
    "DEFAULT_SCALE = 10\n",
    "\n",
    "\n",
    "def object_to_patch(object_tensor, field_slices, \n",
    "                    x_field='x', y_field='y', \n",
    "                    x_length_field='x_len', y_length_field='y_len',\n",
    "                    color_field='color', shape_field='shape',\n",
    "                    scale=DEFAULT_SCALE, additional_patch_kwargs=None, \n",
    "                    visualization_definitions=VISUALIZATION_DEFINITIONS):\n",
    "    \n",
    "    patch_kwargs = DEFAULT_PATCH_KWARGS.copy()\n",
    "    if additional_patch_kwargs is not None: \n",
    "        patch_kwargs.update(additional_patch_kwargs)\n",
    "    \n",
    "    x = int(object_tensor[field_slices[x_field]])\n",
    "    y = int(object_tensor[field_slices[y_field]])\n",
    "    position = np.array([x, y]) * scale\n",
    "    \n",
    "    shape_index = 0\n",
    "    if shape_field in field_slices:\n",
    "        shape_index = int(torch.nonzero(object_tensor[field_slices[shape_field]]).squeeze())\n",
    "        \n",
    "    color_index = 0\n",
    "    if color_field in field_slices:\n",
    "        color_index = int(torch.nonzero(object_tensor[field_slices[color_field]]).squeeze())\n",
    "        \n",
    "    \n",
    "    vis_def = visualization_definitions[shape_index]\n",
    "    offset = vis_def.offset\n",
    "    patch_args = vis_def.patch_args\n",
    "    \n",
    "    x_len = 1\n",
    "    if x_length_field in field_slices:\n",
    "        x_len = object_tensor[field_slices[x_length_field]]\n",
    "        \n",
    "    y_len = 1\n",
    "    if y_length_field in field_slices:\n",
    "        y_len = object_tensor[field_slices[y_length_field]]\n",
    "        \n",
    "    offset = np.multiply(offset, np.array([x_len, y_len]))\n",
    "    patch_args = [patch_args[0] * x_len, patch_args[1] * y_len] + list(patch_args[2:])\n",
    "    \n",
    "    patch = vis_def.patch_class(position + offset, *patch_args, **patch_kwargs)\n",
    "    \n",
    "    return patch, color_index\n",
    "\n",
    "\n",
    "def visualize_objects(objects, object_generator, ax=None, x_field='x',\n",
    "                      y_field='y', color_field='color', shape_field='shape',\n",
    "                      scale=DEFAULT_SCALE, figsize=(6, 6), bg_color='black', \n",
    "                      additional_patch_kwargs=None, \n",
    "                      visualization_definitions=VISUALIZATION_DEFINITIONS,\n",
    "                      cmap=plt.cm.tab10, clim=(0, 10)):\n",
    "   \n",
    "    call_show = False\n",
    "    if ax is None:\n",
    "        fig = plt.figure(figsize=figsize)\n",
    "        ax = fig.add_subplot(1, 1, 1)\n",
    "        call_show = True\n",
    "\n",
    "    x_gen = object_generator.field_generators[x_field]\n",
    "    plt.xlim(x_gen.min_coord * scale, x_gen.max_coord * scale)\n",
    "    y_gen = object_generator.field_generators[y_field]\n",
    "    plt.ylim(y_gen.min_coord * scale, y_gen.max_coord * scale)\n",
    "    ax.set_facecolor(bg_color)\n",
    "    \n",
    "    patches, colors = zip(*[object_to_patch(objects[i], object_generator.field_slices, \n",
    "                                            x_field=x_field, y_field=y_field, \n",
    "                                            color_field=color_field, shape_field=shape_field, \n",
    "                                            scale=scale, additional_patch_kwargs=additional_patch_kwargs,\n",
    "                                            visualization_definitions=visualization_definitions)\n",
    "                            for i in range(objects.shape[0])])\n",
    "    \n",
    "    collection = PatchCollection(patches, cmap=cmap) \n",
    "    collection.set_array(np.array(colors)) \n",
    "    collection.set_edgecolor('white')\n",
    "    collection.set_clim(*clim)\n",
    "    ax.add_collection(collection)\n",
    "    \n",
    "    ax.get_xaxis().set_ticks([])\n",
    "    ax.get_yaxis().set_ticks([])\n",
    "    \n",
    "    if call_show:\n",
    "        plt.show()\n",
    "    "
   ]
  },
  {
   "cell_type": "code",
   "execution_count": 7,
   "metadata": {},
   "outputs": [],
   "source": [
    "QUINN_FIELD_CONFIG_WITH_SIZE = (\n",
    "    object_gen.FieldConfig('x', 'int_position', dict(max_coord=20)),\n",
    "    object_gen.FieldConfig('y', 'int_position', dict(max_coord=20)),\n",
    "    object_gen.FieldConfig('x_len', 'int_position', dict(min_coord=1, max_coord=10)),\n",
    "    object_gen.FieldConfig('color', 'one_hot', dict(n_types=2)),\n",
    ")\n",
    "QUINN_FAUX_GENERATOR_WITH_SIZE = ObjectGenerator(1, QUINN_FIELD_CONFIG_WITH_SIZE, BetweenRelation)\n",
    "\n",
    "QUINN_FIELD_CONFIG_WITHOUT_SIZE = (\n",
    "    object_gen.FieldConfig('x', 'int_position', dict(max_coord=20)),\n",
    "    object_gen.FieldConfig('y', 'int_position', dict(max_coord=20)),\n",
    "    object_gen.FieldConfig('color', 'one_hot', dict(n_types=2)),\n",
    ")\n",
    "\n",
    "QUINN_FAUX_GENERATOR_WITHOUT_SIZE = ObjectGenerator(1, QUINN_FIELD_CONFIG_WITHOUT_SIZE, BetweenRelation)\n",
    "\n",
    "FAUX_GENERATORS = {\n",
    "    ObjectGeneratorWithoutSize: QUINN_FAUX_GENERATOR_WITHOUT_SIZE,\n",
    "    ObjectGeneratorWithSize: QUINN_FAUX_GENERATOR_WITH_SIZE\n",
    "}"
   ]
  },
  {
   "cell_type": "code",
   "execution_count": 8,
   "metadata": {
    "scrolled": false
   },
   "outputs": [
    {
     "name": "stdout",
     "output_type": "stream",
     "text": [
      "above vs. below using objects without size\n",
      "2214 [0 1 2] [738 738 738]\n",
      "[('train_reference_test_target', 738), ('train_reference_middle_target', 108), ('test_reference_train_target', 372), ('test_reference_test_target', 186), ('test_reference_middle_target', 54)]\n"
     ]
    },
    {
     "data": {
      "image/png": "[encoded data removed]",
      "text/plain": [
       "<Figure size 2916x288 with 9 Axes>"
      ]
     },
     "metadata": {},
     "output_type": "display_data"
    },
    {
     "name": "stdout",
     "output_type": "stream",
     "text": [
      "above vs. below using objects with size\n",
      "2214 [0 1 2] [738 738 738]\n",
      "[('train_reference_test_target', 738), ('train_reference_middle_target', 108), ('test_reference_train_target', 372), ('test_reference_test_target', 186), ('test_reference_middle_target', 54)]\n"
     ]
    },
    {
     "data": {
      "image/png": "[encoded data removed]",
      "text/plain": [
       "<Figure size 2916x288 with 9 Axes>"
      ]
     },
     "metadata": {},
     "output_type": "display_data"
    },
    {
     "name": "stdout",
     "output_type": "stream",
     "text": [
      "above vs. below vs. between using objects without size\n",
      "2112 [0 1 2 3] [528 528 528 528]\n",
      "[('train_reference_test_target', 792), ('train_reference_middle_target', 162), ('test_reference_train_target', 396), ('test_reference_test_target', 198), ('test_reference_middle_target', 81)]\n"
     ]
    },
    {
     "data": {
      "image/png": "[encoded data removed]",
      "text/plain": [
       "<Figure size 3888x288 with 12 Axes>"
      ]
     },
     "metadata": {},
     "output_type": "display_data"
    },
    {
     "name": "stdout",
     "output_type": "stream",
     "text": [
      "above vs. below vs. between using objects with size\n",
      "2112 [0 1 2 3] [528 528 528 528]\n",
      "[('train_reference_test_target', 792), ('train_reference_middle_target', 162), ('test_reference_train_target', 396), ('test_reference_test_target', 198), ('test_reference_middle_target', 81)]\n"
     ]
    },
    {
     "data": {
      "image/png": "[encoded data removed]",
      "text/plain": [
       "<Figure size 3888x288 with 12 Axes>"
      ]
     },
     "metadata": {},
     "output_type": "display_data"
    }
   ],
   "source": [
    "REFERENCE_OBJECT_SIZE = 9\n",
    "TARGET_OBJECT_SIZE = 1\n",
    "ADD_NEITHER = True\n",
    "X_MAX = 20\n",
    "Y_MAX = 20\n",
    "SEED = 33\n",
    "EXAMPLES_PER_CLASS = 3\n",
    "\n",
    "NAMES = {\n",
    "    AboveBelowReferenceInductiveBias: 'above vs. below',\n",
    "    BetweenReferenceInductiveBias: 'above vs. below vs. between',\n",
    "    ObjectGeneratorWithoutSize: 'objects without size',\n",
    "    ObjectGeneratorWithSize: 'objects with size'\n",
    "}\n",
    "\n",
    "\n",
    "for dataset_class in (AboveBelowReferenceInductiveBias, BetweenReferenceInductiveBias):\n",
    "    for generator_class in (ObjectGeneratorWithoutSize, ObjectGeneratorWithSize):\n",
    "        title = f'{NAMES[dataset_class]} using {NAMES[generator_class]}'\n",
    "        print(title)\n",
    "        gen = generator_class(REFERENCE_OBJECT_SIZE, TARGET_OBJECT_SIZE)\n",
    "        dataset = dataset_class(gen, X_MAX, Y_MAX, SEED)\n",
    "        train = dataset.get_training_dataset()\n",
    "        label_arr = np.array(train.labels)\n",
    "        unique_labels, unique_counts = np.unique(label_arr, return_counts=True)\n",
    "        print(len(train), unique_labels, unique_counts)\n",
    "        \n",
    "        test_datasets = dataset.get_test_datasets()\n",
    "        print([(key, len(test_datasets[key])) for key in test_datasets])\n",
    "        \n",
    "        n_labels = len(unique_labels)\n",
    "        n_panels = n_labels * EXAMPLES_PER_CLASS\n",
    "        plt.figure(figsize=(4.5 * n_panels, 4))\n",
    "        plt.suptitle(title.title())\n",
    "        \n",
    "        for l_i, label in enumerate(unique_labels):\n",
    "            indices = np.random.permutation(np.argwhere(label_arr == label))[:EXAMPLES_PER_CLASS].squeeze()\n",
    "            for ex_i, ex in enumerate(indices):\n",
    "                ax = plt.subplot(1, n_panels, 1 + (l_i * EXAMPLES_PER_CLASS) + ex_i)\n",
    "                ax.set_title(f'C = {label} (#{ex})')\n",
    "                visualize_objects(train[ex][0], FAUX_GENERATORS[generator_class], ax=ax)\n",
    "            \n",
    "        plt.show()"
   ]
  },
  {
   "cell_type": "code",
   "execution_count": 11,
   "metadata": {
    "scrolled": false
   },
   "outputs": [
    {
     "name": "stdout",
     "output_type": "stream",
     "text": [
      "One reference object using objects without size\n",
      "5104 [0 1 2] [1672 1144 2288]\n",
      "[('train_reference_test_target', 3696), ('test_reference_train_target', 858), ('test_reference_test_target', 924)]\n"
     ]
    },
    {
     "data": {
      "image/png": "[encoded data removed]",
      "text/plain": [
       "<Figure size 3888x288 with 12 Axes>"
      ]
     },
     "metadata": {},
     "output_type": "display_data"
    },
    {
     "name": "stdout",
     "output_type": "stream",
     "text": [
      "Two reference objects using objects without size\n",
      "5104 [0 1 2] [1672 2288 1144]\n",
      "[('train_reference_test_target', 3696), ('test_reference_train_target', 858), ('test_reference_test_target', 924)]\n"
     ]
    },
    {
     "data": {
      "image/png": "[encoded data removed]",
      "text/plain": [
       "<Figure size 3888x288 with 12 Axes>"
      ]
     },
     "metadata": {},
     "output_type": "display_data"
    },
    {
     "name": "stdout",
     "output_type": "stream",
     "text": [
      "One reference object using objects with size\n",
      "5104 [0 1 2] [1672 1144 2288]\n",
      "[('train_reference_test_target', 3696), ('test_reference_train_target', 858), ('test_reference_test_target', 924)]\n"
     ]
    },
    {
     "data": {
      "image/png": "[encoded data removed]",
      "text/plain": [
       "<Figure size 3888x288 with 12 Axes>"
      ]
     },
     "metadata": {},
     "output_type": "display_data"
    },
    {
     "name": "stdout",
     "output_type": "stream",
     "text": [
      "Two reference objects using objects with size\n",
      "5104 [0 1 2] [1672 2288 1144]\n",
      "[('train_reference_test_target', 3696), ('test_reference_train_target', 858), ('test_reference_test_target', 924)]\n"
     ]
    },
    {
     "data": {
      "image/png": "[encoded data removed]",
      "text/plain": [
       "<Figure size 3888x288 with 12 Axes>"
      ]
     },
     "metadata": {},
     "output_type": "display_data"
    }
   ],
   "source": [
    "REFERENCE_OBJECT_SIZE = 9\n",
    "TARGET_OBJECT_SIZE = 1\n",
    "ADD_NEITHER = True\n",
    "X_MAX = 20\n",
    "Y_MAX = 20\n",
    "SEED = 11\n",
    "EXAMPLES_PER_CLASS = 4\n",
    "\n",
    "indices = {}\n",
    "\n",
    "\n",
    "for generator_class in (ObjectGeneratorWithoutSize, ObjectGeneratorWithSize):\n",
    "    for two_reference_objects in (False, True):\n",
    "        title = f'{two_reference_objects and \"Two reference objects\" or \"One reference object\"} using {NAMES[generator_class]}'\n",
    "        print(title)\n",
    "        gen = generator_class(REFERENCE_OBJECT_SIZE, TARGET_OBJECT_SIZE)\n",
    "        dataset = OneOrTwoReferenceObjects(gen, X_MAX, Y_MAX, SEED, two_reference_objects=two_reference_objects)\n",
    "        train = dataset.get_training_dataset()\n",
    "        label_arr = np.array(train.labels)\n",
    "        unique_labels, unique_counts = np.unique(label_arr, return_counts=True)\n",
    "        print(len(train), unique_labels, unique_counts)\n",
    "        \n",
    "        test_datasets = dataset.get_test_datasets()\n",
    "        print([(key, len(test_datasets[key])) for key in test_datasets])\n",
    "        \n",
    "        n_labels = len(unique_labels)\n",
    "        n_panels = n_labels * EXAMPLES_PER_CLASS\n",
    "        plt.figure(figsize=(4.5 * n_panels, 4))\n",
    "        plt.suptitle(title.title())\n",
    "        \n",
    "        for l_i, label in enumerate(unique_labels):\n",
    "            if label not in indices:\n",
    "                indices[label] = np.random.permutation(np.argwhere(label_arr == label))[:EXAMPLES_PER_CLASS].squeeze()\n",
    "                \n",
    "            for ex_i, ex in enumerate(indices[label]):\n",
    "                ax = plt.subplot(1, n_panels, 1 + (l_i * EXAMPLES_PER_CLASS) + ex_i)\n",
    "                ax.set_title(f'C = {label_arr[ex]} (#{ex})')\n",
    "                visualize_objects(train[ex][0], FAUX_GENERATORS[generator_class], ax=ax)\n",
    "            \n",
    "        plt.show()\n",
    "        \n",
    "    indices = {}"
   ]
  },
  {
   "cell_type": "code",
   "execution_count": 21,
   "metadata": {},
   "outputs": [
    {
     "data": {
      "text/plain": [
       "torch.Size([5104])"
      ]
     },
     "execution_count": 21,
     "metadata": {},
     "output_type": "execute_result"
    }
   ],
   "source": [
    "torch.tensor(train.labels).shape"
   ]
  },
  {
   "cell_type": "code",
   "execution_count": null,
   "metadata": {},
   "outputs": [],
   "source": [
    "dataset.train_between_target_locations"
   ]
  },
  {
   "cell_type": "code",
   "execution_count": null,
   "metadata": {},
   "outputs": [],
   "source": [
    "dataset.train_above_target_locations"
   ]
  },
  {
   "cell_type": "code",
   "execution_count": null,
   "metadata": {},
   "outputs": [],
   "source": [
    "N = 10\n",
    "START = 0\n",
    "\n",
    "plt.figure(figsize=(4.5 * N, 4))\n",
    "\n",
    "for i in range(10):\n",
    "    ax = plt.subplot(1, N, i + 1)\n",
    "    ax.set_title(f'C = {label} (#{ex})')\n",
    "    visualize_objects(train[START + (i * 2)][0], FAUX_GENERATORS[generator_class], ax=ax)\n",
    "\n"
   ]
  },
  {
   "cell_type": "code",
   "execution_count": null,
   "metadata": {},
   "outputs": [],
   "source": [
    "gen_with_size = ObjectGeneratorWithSize(9, 1)\n",
    "above_below_dataset_size = AboveBelowReferenceInductiveBias(gen_with_size, 20, 20, 33)\n",
    "train_dataset_size = above_below_dataset_size.get_training_dataset()\n",
    "print(len(train_dataset_size))\n",
    "test_datasets_size = above_below_dataset_size.get_test_datasets()\n",
    "print([(key, len(test_datasets_size[key])) for key in test_datasets_size])"
   ]
  },
  {
   "cell_type": "code",
   "execution_count": null,
   "metadata": {},
   "outputs": [],
   "source": [
    "visualize_objects(train_dataset_size[12][0], QUINN_FAUX_GENERATOR_WITH_SIZE)"
   ]
  },
  {
   "cell_type": "code",
   "execution_count": null,
   "metadata": {},
   "outputs": [],
   "source": [
    "np.unique(train_dataset.labels, return_counts=True)"
   ]
  },
  {
   "cell_type": "code",
   "execution_count": null,
   "metadata": {},
   "outputs": [],
   "source": [
    "for i in range(4):\n",
    "    ax = plt.subplot(1, 4, i + 1)    \n",
    "    visualize_objects(generate_above(gen), gen, ax=ax)"
   ]
  },
  {
   "cell_type": "code",
   "execution_count": null,
   "metadata": {},
   "outputs": [],
   "source": []
  },
  {
   "cell_type": "code",
   "execution_count": null,
   "metadata": {},
   "outputs": [],
   "source": []
  },
  {
   "cell_type": "code",
   "execution_count": null,
   "metadata": {},
   "outputs": [],
   "source": [
    "X = {}\n",
    "y = {}\n",
    "object_generators = {}\n",
    "positive_indices = {}\n",
    "negative_indices = {}\n",
    "\n",
    "for num_objects in (5, 10):\n",
    "    \n",
    "    for i, relation in enumerate(run.RELATION_NAMES_TO_CLASSES):\n",
    "        key = (num_objects, relation)\n",
    "        \n",
    "        relation_class = run.RELATION_NAMES_TO_CLASSES[relation]\n",
    "        object_generator = object_gen.SmartBalancedBatchObjectGenerator(\n",
    "            num_objects, run.FIELD_CONFIGURATIONS['default'], relation_class)\n",
    "        object_generators[key] = object_generator\n",
    "            \n",
    "        X[key], y[key] = object_generator(100)\n",
    "        y[key] = y[key].bool()\n",
    "        \n",
    "        positive_indices[key] = torch.nonzero(y[key]).squeeze()\n",
    "        negative_indices[key] = torch.nonzero(~y[key]).squeeze()\n",
    "                   \n"
   ]
  },
  {
   "cell_type": "code",
   "execution_count": null,
   "metadata": {
    "scrolled": false
   },
   "outputs": [],
   "source": [
    "NUM_ROWS = 2\n",
    "NUM_RELATIONS = len(run.RELATION_NAMES_TO_CLASSES)\n",
    "FONTSIZE = 16\n",
    "\n",
    "pos_idx_choices = defaultdict(lambda: 0)\n",
    "neg_idx_choices = defaultdict(lambda: 0)\n",
    "\n",
    "pos_idx_choices[(5, 'above')] = 1\n",
    "pos_idx_choices[(5, 'count')] = 1\n",
    "\n",
    "for num_objects in (5, 10):\n",
    "    fig = plt.figure(figsize=(12, 6))\n",
    "    plt.subplots_adjust(hspace=0.1, wspace=0.1)\n",
    "    \n",
    "    for i, relation in enumerate(run.RELATION_NAMES_TO_CLASSES):\n",
    "        key = (num_objects, relation)\n",
    "            \n",
    "        pos_idx = positive_indices[key][pos_idx_choices[key]]\n",
    "        neg_idx = negative_indices[key][neg_idx_choices[key]]\n",
    "    \n",
    "        pos_ax = plt.subplot(NUM_ROWS, NUM_RELATIONS, i + 1)\n",
    "        if i == 0:\n",
    "            pos_ax.set_ylabel('Positive Examples', fontsize=FONTSIZE)\n",
    "        visualize_objects(X[key][pos_idx], object_generators[key], pos_ax)\n",
    "        pos_ax.set_title(relation.title(), fontsize=FONTSIZE)\n",
    "    \n",
    "        neg_ax = plt.subplot(NUM_ROWS, NUM_RELATIONS, NUM_RELATIONS + i + 1)\n",
    "        if i == 0:\n",
    "            neg_ax.set_ylabel('Negative Examples', fontsize=FONTSIZE)\n",
    "        visualize_objects(X[key][neg_idx], object_generators[key], neg_ax)\n",
    "    \n",
    "#     save_plot(f'example_images_{num_objects}.pdf')\n",
    "        \n",
    "    plt.show()\n"
   ]
  },
  {
   "cell_type": "markdown",
   "metadata": {},
   "source": [
    "# Taking a stab at the Quinn-like relations"
   ]
  },
  {
   "cell_type": "code",
   "execution_count": null,
   "metadata": {},
   "outputs": [],
   "source": [
    "def to_one_hot(arr):\n",
    "    one_hot = np.zeros((arr.size, int(max(arr) + 1)))\n",
    "    one_hot[np.arange(arr.size), arr] = 1\n",
    "    return one_hot\n",
    "\n",
    "\n",
    "def generate_above(object_generator, line_length=4, \n",
    "                   x_field='x', y_field='y', color_field='color', shape_field='shape',):\n",
    "    x_gen = object_generator.field_generators[x_field]\n",
    "    y_gen = object_generator.field_generators[y_field]\n",
    "    \n",
    "    line_x_start = np.random.randint(0, x_gen.max_coord - line_length)\n",
    "    line_x_end = line_x_start + line_length  # exclusive\n",
    "    line_y = np.random.randint(0, y_gen.max_coord - 1)\n",
    "        \n",
    "    target_x = np.random.randint(line_x_start, line_x_end)\n",
    "    target_y = np.random.randint(line_y + 1, min(line_y + 3, y_gen.max_coord))\n",
    "    \n",
    "    line_color = np.random.randint(0, 2)\n",
    "    target_color = 1 - line_color\n",
    "    shape = np.random.randint(0, 2)\n",
    "    \n",
    "    x = np.expand_dims(np.append(np.arange(line_x_start, line_x_end), target_x), -1)\n",
    "    y = np.expand_dims(np.append(np.repeat(line_y, line_length), target_y), -1)\n",
    "    color = to_one_hot(np.append(np.repeat(line_color, line_length), target_color))\n",
    "    shape = to_one_hot(np.repeat(shape, line_length + 1))\n",
    "    \n",
    "    return torch.from_numpy(np.concatenate((x, y, color, shape), axis=-1)).to(torch.float)\n",
    "\n",
    "\n",
    "\n",
    "fig = plt.figure(figsize=(16, 4))\n",
    "plt.subplots_adjust(hspace=0.1, wspace=0.1)\n",
    "\n",
    "gen = list(object_generators.values())[0]\n",
    "\n",
    "for i in range(4):\n",
    "    ax = plt.subplot(1, 4, i + 1)    \n",
    "    visualize_objects(generate_above(gen), gen, ax=ax)"
   ]
  },
  {
   "cell_type": "code",
   "execution_count": null,
   "metadata": {},
   "outputs": [],
   "source": [
    "field_config_with_length = (\n",
    "    object_gen.FieldConfig('x', 'int_position', dict(max_coord=16)),\n",
    "    object_gen.FieldConfig('y', 'int_position', dict(max_coord=16)),\n",
    "    object_gen.FieldConfig('x_len', 'int_position', dict(min_coord=1, max_coord=4)),\n",
    "    object_gen.FieldConfig('y_len', 'int_position', dict(min_coord=1, max_coord=4)),\n",
    "    object_gen.FieldConfig('color', 'one_hot', dict(n_types=2)),\n",
    "    object_gen.FieldConfig('shape', 'one_hot', dict(n_types=2))\n",
    ")\n",
    "\n",
    "gen_with_length = ObjectGenerator(2, field_config_with_length, MultipleDAdjacentRelation)\n",
    "\n",
    "\n",
    "def generate_above_with_length(object_generator, line_length=4, \n",
    "                   x_field='x', y_field='y', color_field='color', shape_field='shape',):\n",
    "    x_gen = object_generator.field_generators[x_field]\n",
    "    y_gen = object_generator.field_generators[y_field]\n",
    "    \n",
    "    line_x_start = np.random.randint(0, x_gen.max_coord - line_length)\n",
    "    line_y = np.random.randint(0, y_gen.max_coord - 1)\n",
    "        \n",
    "    target_x = np.random.randint(line_x_start, line_x_start + line_length)\n",
    "    target_y = np.random.randint(line_y + 1, min(line_y + 3, y_gen.max_coord))\n",
    "    \n",
    "    line_color = np.random.randint(0, 2)\n",
    "    target_color = 1 - line_color\n",
    "    shape = np.random.randint(0, 2)\n",
    "    \n",
    "    x = np.expand_dims(np.array([line_x_start, target_x]), -1)\n",
    "    y = np.expand_dims(np.array([line_y, target_y]), -1)\n",
    "    x_len = np.expand_dims(np.array([line_length, 1]), -1)\n",
    "    y_len = np.expand_dims(np.array([1, 1]), -1)\n",
    "    color = to_one_hot(np.array([line_color, target_color]))\n",
    "    shape = to_one_hot(np.repeat(shape, 2))\n",
    "    \n",
    "    return torch.from_numpy(np.concatenate((x, y, x_len, y_len, color, shape), axis=-1)).to(torch.float)\n",
    "\n",
    "\n",
    "fig = plt.figure(figsize=(16, 4))\n",
    "plt.subplots_adjust(hspace=0.1, wspace=0.1)\n",
    "for i in range(4):\n",
    "    ax = plt.subplot(1, 4, i + 1)\n",
    "    visualize_objects(generate_above_with_length(gen_with_length), gen_with_length, ax=ax)"
   ]
  },
  {
   "cell_type": "markdown",
   "metadata": {},
   "source": [
    "## Questions:\n",
    "* Do we want distractor objects?\n",
    "* How much position variation do we want? In other words, if the line is 4 units long, what should the length of the entire axis be?\n",
    "* What do we train on, and what do we test on?\n",
    "* Do we need more than two colors and shapes?\n",
    "* Do we want variation in the distance between the objects, too? Or should they always be adjacent? \n",
    "* **The positives are easy. What are the negatives?? What are the generalization tests??**\n",
    "* **Come up with example stimuli for each of the different parts of the experiments**"
   ]
  },
  {
   "cell_type": "markdown",
   "metadata": {},
   "source": [
    "# Equivalent of Figure 3.2 "
   ]
  },
  {
   "cell_type": "code",
   "execution_count": null,
   "metadata": {},
   "outputs": [],
   "source": [
    "field_config_with_length = (\n",
    "    object_gen.FieldConfig('x', 'int_position', dict(max_coord=20)),\n",
    "    object_gen.FieldConfig('y', 'int_position', dict(max_coord=20)),\n",
    "    object_gen.FieldConfig('x_len', 'int_position', dict(min_coord=1, max_coord=4)),\n",
    "    object_gen.FieldConfig('y_len', 'int_position', dict(min_coord=1, max_coord=4)),\n",
    "    object_gen.FieldConfig('color', 'one_hot', dict(n_types=3)),\n",
    "    object_gen.FieldConfig('shape', 'one_hot', dict(n_types=2))\n",
    ")\n",
    "\n",
    "gen_with_length = ObjectGenerator(2, field_config_with_length, MultipleDAdjacentRelation)\n",
    "\n",
    "\n",
    "def combine(*args):\n",
    "    print([len(x) for x in args])\n",
    "    arrays = []\n",
    "    for arr in args:\n",
    "        if len(arr.shape) == 1:\n",
    "            arr = np.expand_dims(arr, -1)\n",
    "        \n",
    "        arrays.append(arr)\n",
    "        \n",
    "    return torch.from_numpy(np.concatenate(arrays, axis=-1)).to(torch.float)\n",
    "\n",
    "\n",
    "def generate_3_2(object_generator, line_length=9, \n",
    "                   x_field='x', y_field='y', color_field='color', shape_field='shape',):\n",
    "    x_gen = object_generator.field_generators[x_field]\n",
    "    y_gen = object_generator.field_generators[y_field]\n",
    "    \n",
    "    line_x_start = np.random.randint(0, x_gen.max_coord - line_length)\n",
    "    line_x_end = line_x_start + line_length\n",
    "    line_y = np.random.randint(3, y_gen.max_coord - 4)\n",
    "        \n",
    "#     target_x = np.random.randint(line_x_start, line_x_start + line_length)\n",
    "#     target_y = np.random.randint(line_y + 1, min(line_y + 3, y_gen.max_coord))\n",
    "\n",
    "    above_x = np.arange(line_x_start, line_x_start + 3)\n",
    "    above_y = np.arange(line_y + 1, line_y + 4)\n",
    "    above_x_values, above_y_values = zip(*itertools.product(above_x, above_y))\n",
    "    \n",
    "    below_x = np.arange(line_x_end - 3, line_x_end)\n",
    "    below_y = np.arange(line_y - 3, line_y)\n",
    "    below_x_values, below_y_values = zip(*itertools.product(below_x, below_y))\n",
    "\n",
    "    line_color = 0\n",
    "    above_color = 1\n",
    "    below_color = 2\n",
    "    shape = 0\n",
    "    \n",
    "    x = np.array([line_x_start] + list(above_x_values) + list(below_x_values))\n",
    "    y = np.array([line_y] + list(above_y_values) + list(below_y_values))\n",
    "    x_len = np.array([line_length] + [1] * (len(above_x_values) + len(below_x_values)))\n",
    "    y_len = np.repeat(1, 1 + len(above_y_values) + len(below_y_values)) \n",
    "    color = to_one_hot(np.array([line_color] + [above_color] * len(above_x_values) + [below_color] * len(below_x_values)))\n",
    "    shape = to_one_hot(np.repeat(shape, 1 + len(above_y_values) + len(below_y_values)))\n",
    "    \n",
    "    return combine(x, y, x_len, y_len, color, shape)\n",
    "\n",
    "\n",
    "fig = plt.figure(figsize=(16, 4))\n",
    "plt.subplots_adjust(hspace=0.1, wspace=0.1)\n",
    "for i in range(4):\n",
    "    ax = plt.subplot(1, 4, i + 1)\n",
    "    visualize_objects(generate_3_2(gen_with_length), gen_with_length, ax=ax)"
   ]
  },
  {
   "cell_type": "markdown",
   "metadata": {},
   "source": [
    "# 3.3"
   ]
  },
  {
   "cell_type": "code",
   "execution_count": null,
   "metadata": {},
   "outputs": [],
   "source": [
    "def generate_3_3(object_generator, line_length=9, \n",
    "                   x_field='x', y_field='y', color_field='color', shape_field='shape',):\n",
    "    x_gen = object_generator.field_generators[x_field]\n",
    "    y_gen = object_generator.field_generators[y_field]\n",
    "    \n",
    "    line_x_start = np.random.randint(0, x_gen.max_coord - line_length)\n",
    "    line_x_end = line_x_start + line_length\n",
    "    line_y = np.random.randint(3, y_gen.max_coord - 4)\n",
    "        \n",
    "#     target_x = np.random.randint(line_x_start, line_x_start + line_length)\n",
    "#     target_y = np.random.randint(line_y + 1, min(line_y + 3, y_gen.max_coord))\n",
    "\n",
    "    above_x = np.arange(line_x_start, line_x_start + 3)\n",
    "    above_y = np.arange(line_y + 1, line_y + 4)\n",
    "    above_x_values, above_y_values = zip(*itertools.product(above_x, above_y))\n",
    "    \n",
    "    below_x = np.arange(line_x_end - 3, line_x_end)\n",
    "    below_y = np.arange(line_y - 3, line_y)\n",
    "    below_x_values, below_y_values = zip(*itertools.product(below_x, below_y))\n",
    "\n",
    "    line_color = 0\n",
    "    above_color = 1\n",
    "    below_color = 2\n",
    "    shape = 0\n",
    "    \n",
    "    x = np.array(list(range(line_x_start, line_x_end)) + list(above_x_values) + list(below_x_values))\n",
    "    y = np.array([line_y] * line_length + list(above_y_values) + list(below_y_values))\n",
    "    x_len = np.array([1] * (line_length + len(above_x_values) + len(below_x_values)))\n",
    "    y_len = np.repeat(1, line_length + len(above_y_values) + len(below_y_values)) \n",
    "    color = to_one_hot(np.array([line_color] * line_length + [above_color] * len(above_x_values) + [below_color] * len(below_x_values)))\n",
    "    shape = to_one_hot(np.repeat(shape, line_length + len(above_y_values) + len(below_y_values)))\n",
    "    \n",
    "    return combine(x, y, x_len, y_len, color, shape)\n",
    "\n",
    "\n",
    "fig = plt.figure(figsize=(16, 4))\n",
    "plt.subplots_adjust(hspace=0.1, wspace=0.1)\n",
    "for i in range(4):\n",
    "    ax = plt.subplot(1, 4, i + 1)\n",
    "    visualize_objects(generate_3_3(gen_with_length), gen_with_length, ax=ax)"
   ]
  },
  {
   "cell_type": "markdown",
   "metadata": {},
   "source": [
    "# 3.4"
   ]
  },
  {
   "cell_type": "code",
   "execution_count": null,
   "metadata": {},
   "outputs": [],
   "source": [
    "def generate_3_4(object_generator, line_length=9, \n",
    "                   x_field='x', y_field='y', color_field='color', shape_field='shape',):\n",
    "    x_gen = object_generator.field_generators[x_field]\n",
    "    y_gen = object_generator.field_generators[y_field]\n",
    "    \n",
    "    line_x_start = np.random.randint(0, x_gen.max_coord - line_length)\n",
    "    line_x_end = line_x_start + line_length\n",
    "    bottom_line_y = np.random.randint(3, y_gen.max_coord - 7)\n",
    "    top_line_y = bottom_line_y + 4\n",
    "        \n",
    "#     target_x = np.random.randint(line_x_start, line_x_start + line_length)\n",
    "#     target_y = np.random.randint(line_y + 1, min(line_y + 3, y_gen.max_coord))\n",
    "\n",
    "    between_x = np.arange(line_x_start, line_x_start + 3)\n",
    "    between_y = np.arange(bottom_line_y + 1, top_line_y)\n",
    "    between_x_values, between_y_values = zip(*itertools.product(between_x, between_y))\n",
    "\n",
    "#     above_x = np.arange(line_x_start, line_x_start + 3)\n",
    "    above_x = np.arange(line_x_end - 3, line_x_end)\n",
    "    above_y = np.arange(top_line_y + 1, top_line_y + 4)\n",
    "    above_x_values, above_y_values = zip(*itertools.product(above_x, above_y))\n",
    "    \n",
    "    below_x = np.arange(line_x_end - 3, line_x_end)\n",
    "    below_y = np.arange(bottom_line_y - 3, bottom_line_y)\n",
    "    below_x_values, below_y_values = zip(*itertools.product(below_x, below_y))\n",
    "\n",
    "    line_color = 0\n",
    "    between_color = 1\n",
    "    above_below_color = 2\n",
    "    shape = 0\n",
    "    \n",
    "    x = np.array(list(range(line_x_start, line_x_end)) + \n",
    "                 list(range(line_x_start, line_x_end)) + \n",
    "                 list(between_x_values) + list(above_x_values) + list(below_x_values))\n",
    "    y = np.array([bottom_line_y] * line_length + \n",
    "                 [top_line_y] * line_length +\n",
    "                 list(between_y_values) + list(above_y_values) + list(below_y_values))\n",
    "    x_len = np.repeat(1, line_length * 2 + len(between_x_values) + len(above_x_values) + len(below_x_values))\n",
    "    y_len = np.repeat(1, line_length * 2 + len(between_y_values) + len(above_y_values) + len(below_y_values)) \n",
    "    color = to_one_hot(np.array([line_color] * line_length * 2 + \n",
    "                                [between_color] * len(between_x_values) + \n",
    "                                [above_below_color] * (len(below_x_values) + len(below_y_values))))\n",
    "    shape = to_one_hot(np.repeat(shape, line_length * 2 + len(between_y_values) + len(above_y_values) + len(below_y_values)))\n",
    "    \n",
    "    return combine(x, y, x_len, y_len, color, shape)\n",
    "\n",
    "\n",
    "fig = plt.figure(figsize=(16, 4))\n",
    "plt.subplots_adjust(hspace=0.1, wspace=0.1)\n",
    "for i in range(4):\n",
    "    ax = plt.subplot(1, 4, i + 1)\n",
    "    visualize_objects(generate_3_4(gen_with_length), gen_with_length, ax=ax)"
   ]
  },
  {
   "cell_type": "markdown",
   "metadata": {},
   "source": [
    "# 3.5"
   ]
  },
  {
   "cell_type": "code",
   "execution_count": null,
   "metadata": {},
   "outputs": [],
   "source": [
    "field_config_with_more_colors = (\n",
    "    object_gen.FieldConfig('x', 'int_position', dict(max_coord=20)),\n",
    "    object_gen.FieldConfig('y', 'int_position', dict(max_coord=20)),\n",
    "    object_gen.FieldConfig('x_len', 'int_position', dict(min_coord=1, max_coord=4)),\n",
    "    object_gen.FieldConfig('y_len', 'int_position', dict(min_coord=1, max_coord=4)),\n",
    "    object_gen.FieldConfig('color', 'one_hot', dict(n_types=5)),\n",
    "    object_gen.FieldConfig('shape', 'one_hot', dict(n_types=2))\n",
    ")\n",
    "\n",
    "gen_with_more_colors = ObjectGenerator(2, field_config_with_more_colors, MultipleDAdjacentRelation)\n",
    "\n",
    "def generate_3_5(object_generator, line_length=9, \n",
    "                   x_field='x', y_field='y', color_field='color', shape_field='shape',):\n",
    "    x_gen = object_generator.field_generators[x_field]\n",
    "    y_gen = object_generator.field_generators[y_field]\n",
    "    color_gen = object_generator.field_generators[color_field]\n",
    "    \n",
    "    line_x_start = np.random.randint(0, x_gen.max_coord - line_length)\n",
    "    line_x_end = line_x_start + line_length\n",
    "    line_y = np.random.randint(3, y_gen.max_coord - 4)\n",
    "        \n",
    "#     target_x = np.random.randint(line_x_start, line_x_start + line_length)\n",
    "#     target_y = np.random.randint(line_y + 1, min(line_y + 3, y_gen.max_coord))\n",
    "\n",
    "    above_x = np.arange(line_x_start, line_x_start + 3)\n",
    "    above_y = np.arange(line_y + 1, line_y + 4)\n",
    "    above_x_values, above_y_values = zip(*itertools.product(above_x, above_y))\n",
    "    \n",
    "    below_x = np.arange(line_x_end - 3, line_x_end)\n",
    "    below_y = np.arange(line_y - 3, line_y)\n",
    "    below_x_values, below_y_values = zip(*itertools.product(below_x, below_y))\n",
    "\n",
    "    line_color = 0\n",
    "    above_colors = list(np.random.choice(np.arange(1, color_gen.n_types), len(above_x_values)))\n",
    "    below_colors = list(np.random.choice(np.arange(1, color_gen.n_types), len(below_x_values)))\n",
    "    shape = 0\n",
    "    \n",
    "    x = np.array(list(range(line_x_start, line_x_end)) + list(above_x_values) + list(below_x_values))\n",
    "    y = np.array([line_y] * line_length + list(above_y_values) + list(below_y_values))\n",
    "    x_len = np.array([1] * (line_length + len(above_x_values) + len(below_x_values)))\n",
    "    y_len = np.repeat(1, line_length + len(above_y_values) + len(below_y_values)) \n",
    "    color = to_one_hot(np.array([line_color] * line_length + above_colors + below_colors))\n",
    "    shape = to_one_hot(np.repeat(shape, line_length + len(above_y_values) + len(below_y_values)))\n",
    "    \n",
    "    return combine(x, y, x_len, y_len, color, shape)\n",
    "\n",
    "\n",
    "fig = plt.figure(figsize=(16, 4))\n",
    "plt.subplots_adjust(hspace=0.1, wspace=0.1)\n",
    "for i in range(4):\n",
    "    ax = plt.subplot(1, 4, i + 1)\n",
    "    visualize_objects(generate_3_5(gen_with_more_colors), gen_with_more_colors, ax=ax)"
   ]
  },
  {
   "cell_type": "markdown",
   "metadata": {},
   "source": [
    "# 3.6"
   ]
  },
  {
   "cell_type": "code",
   "execution_count": null,
   "metadata": {},
   "outputs": [],
   "source": [
    "def generate_3_6(object_generator, line_length=9, \n",
    "                   x_field='x', y_field='y', color_field='color', shape_field='shape',):\n",
    "    x_gen = object_generator.field_generators[x_field]\n",
    "    y_gen = object_generator.field_generators[y_field]\n",
    "    color_gen = object_generator.field_generators[color_field]\n",
    "    \n",
    "    line_x_start = np.random.randint(0, x_gen.max_coord - line_length)\n",
    "    line_x_end = line_x_start + line_length\n",
    "    bottom_line_y = np.random.randint(3, y_gen.max_coord - 7)\n",
    "    top_line_y = bottom_line_y + 4\n",
    "        \n",
    "#     target_x = np.random.randint(line_x_start, line_x_start + line_length)\n",
    "#     target_y = np.random.randint(line_y + 1, min(line_y + 3, y_gen.max_coord))\n",
    "\n",
    "    between_x = np.arange(line_x_start, line_x_start + 3)\n",
    "    between_y = np.arange(bottom_line_y + 1, top_line_y)\n",
    "    between_x_values, between_y_values = zip(*itertools.product(between_x, between_y))\n",
    "\n",
    "#     above_x = np.arange(line_x_start, line_x_start + 3)\n",
    "    above_x = np.arange(line_x_end - 3, line_x_end)\n",
    "    above_y = np.arange(top_line_y + 1, top_line_y + 4)\n",
    "    above_x_values, above_y_values = zip(*itertools.product(above_x, above_y))\n",
    "    \n",
    "    below_x = np.arange(line_x_end - 3, line_x_end)\n",
    "    below_y = np.arange(bottom_line_y - 3, bottom_line_y)\n",
    "    below_x_values, below_y_values = zip(*itertools.product(below_x, below_y))\n",
    "\n",
    "    line_color = 0\n",
    "    between_colors = list(np.random.choice(np.arange(1, color_gen.n_types), len(between_x_values)))\n",
    "    above_below_colors = list(np.random.choice(np.arange(1, color_gen.n_types), len(above_x_values) + len(below_x_values)))\n",
    "    shape = 0\n",
    "    \n",
    "    x = np.array(list(range(line_x_start, line_x_end)) + \n",
    "                 list(range(line_x_start, line_x_end)) + \n",
    "                 list(between_x_values) + list(above_x_values) + list(below_x_values))\n",
    "    y = np.array([bottom_line_y] * line_length + \n",
    "                 [top_line_y] * line_length +\n",
    "                 list(between_y_values) + list(above_y_values) + list(below_y_values))\n",
    "    x_len = np.repeat(1, line_length * 2 + len(between_x_values) + len(above_x_values) + len(below_x_values))\n",
    "    y_len = np.repeat(1, line_length * 2 + len(between_y_values) + len(above_y_values) + len(below_y_values)) \n",
    "    color = to_one_hot(np.array([line_color] * line_length * 2 + \n",
    "                                between_colors + above_below_colors))\n",
    "    shape = to_one_hot(np.repeat(shape, line_length * 2 + len(between_y_values) + len(above_y_values) + len(below_y_values)))\n",
    "    \n",
    "    return combine(x, y, x_len, y_len, color, shape)\n",
    "\n",
    "\n",
    "fig = plt.figure(figsize=(16, 4))\n",
    "plt.subplots_adjust(hspace=0.1, wspace=0.1)\n",
    "for i in range(4):\n",
    "    ax = plt.subplot(1, 4, i + 1)\n",
    "    visualize_objects(generate_3_6(gen_with_more_colors), gen_with_more_colors, ax=ax)"
   ]
  },
  {
   "cell_type": "code",
   "execution_count": null,
   "metadata": {},
   "outputs": [],
   "source": []
  },
  {
   "cell_type": "code",
   "execution_count": null,
   "metadata": {},
   "outputs": [],
   "source": [
    "IMAGES_PER_LABEL = 4\n",
    "N_OBJECTS = 5\n",
    "FONTSIZE = 16\n",
    "\n",
    "descriptions = {\n",
    "    MultipleDAdjacentRelation: 'Are any two objects adjacent (L1 distance of 1)?',\n",
    "    ColorAboveColorRelation: 'Is there a blue object above (or at the same height of) all orange objects?',\n",
    "    ObjectCountRelation: 'Are there more blue objects than squares?',\n",
    "    IdenticalObjectsRelation: 'Are any two objects identical (in shape and color)?',\n",
    "    BetweenRelation: 'Is there an object of one color between two objects of the other color?'\n",
    "}\n",
    "\n",
    "X = {}\n",
    "y = {}\n",
    "\n",
    "for relation_class in (BetweenRelation, \n",
    "                       # MultipleDAdjacentRelation, ColorAboveColorRelation, ObjectCountRelation, \n",
    "#                        IdenticalObjectsRelation\n",
    "                      ):\n",
    "    fig = plt.figure(figsize=(4 * IMAGES_PER_LABEL + 1, 8))\n",
    "    display(Markdown(f'# {relation_class.__name__}'))\n",
    "    display(Markdown(descriptions[relation_class]))\n",
    "    \n",
    "    gen = object_gen.SmartBalancedBatchObjectGenerator(N_OBJECTS, run.FIELD_CONFIGURATIONS['default'], relation_class,\n",
    "                                                       object_dtype=torch.float, label_dtype=torch.long,\n",
    "                                                       max_recursion_depth=100\n",
    "                                                      )\n",
    "\n",
    "    X[relation_class], y[relation_class] = gen(1000)\n",
    "    y[relation_class] = y[relation_class].bool()\n",
    "    positive_indices = np.random.choice(torch.nonzero(y[relation_class]).squeeze(), size=4, replace=False)\n",
    "    negative_indices = np.random.choice(torch.nonzero(~y[relation_class]).squeeze(), size=4, replace=False)\n",
    "    \n",
    "    for i, idx in enumerate(positive_indices):\n",
    "        ax = plt.subplot(2, IMAGES_PER_LABEL, i + 1)\n",
    "        if i == 0:\n",
    "            ax.set_ylabel('Positive Examples', fontsize=FONTSIZE)\n",
    "            \n",
    "        visualize_objects(X[relation_class][idx], gen, ax)\n",
    "        ax.set_title(idx)\n",
    "\n",
    "        \n",
    "    for i, idx in enumerate(negative_indices):\n",
    "        ax = plt.subplot(2, IMAGES_PER_LABEL, i + IMAGES_PER_LABEL + 1)\n",
    "        if i == 0:\n",
    "            ax.set_ylabel('Negative Examples', fontsize=FONTSIZE)\n",
    "            \n",
    "        visualize_objects(X[relation_class][idx], gen, ax)\n",
    "        ax.set_title(idx)\n",
    "        \n",
    "    plt.show()\n",
    "    display(Markdown(f'------'))"
   ]
  },
  {
   "cell_type": "markdown",
   "metadata": {},
   "source": [
    "# Dataset generation details\n",
    "\n",
    "* We generate a dataset of $M$ images, each with $N$ objects to be balanced with respect to a particular relation.\n",
    "* Each relation class (see the implementations in `object_relations.py`) knows how to convert a negative example to a positive, but not vice versa. That is, we can change a collections of objects where a relation doesn't hold to one where it does.\n",
    "* First, we sample $M$ images randomly. \n",
    "* If more than $M / 2$ are positive (with respect to the given relation), we resample all of the positive ones, repeating until at least $M / 2$ are negative.\n",
    "* We now have $M_{neg} > M / 2$ negative images. We convert $M_{neg} - M / 2$ of them to be positive, guaranteeing our dataset is balanced 50/50.\n",
    "* The logic above is implemented in the `SmartBalancedBatchObjectGenerator` class in `object_gen.py`.\n"
   ]
  },
  {
   "cell_type": "code",
   "execution_count": null,
   "metadata": {},
   "outputs": [],
   "source": [
    "gen = object_gen.SmartBalancedBatchObjectGenerator(4, run.FIELD_CONFIGURATIONS['default'], BetweenRelation,\n",
    "                                                       object_dtype=torch.float, label_dtype=torch.long,\n",
    "                                                       max_recursion_depth=100)\n",
    "\n",
    "no_constraints_gen = object_gen.SmartBalancedBatchObjectGenerator(4, run.FIELD_CONFIGURATIONS['default'], BetweenRelation,\n",
    "                                                       object_dtype=torch.float, label_dtype=torch.long, constraints=[],\n",
    "                                                       max_recursion_depth=100)"
   ]
  },
  {
   "cell_type": "code",
   "execution_count": null,
   "metadata": {},
   "outputs": [],
   "source": [
    "DEFAULT_POSITION_FIELDS = ('x', 'y')\n",
    "\n",
    "\n",
    "def current_no_position_collision_constraint(object_batch, relevant_indices, field_slices,\n",
    "                                     position_fields=DEFAULT_POSITION_FIELDS):\n",
    "    violating_indices = []\n",
    "\n",
    "    if relevant_indices is None:\n",
    "        relevant_indices = range(object_batch.shape[0])\n",
    "\n",
    "    for idx in relevant_indices:\n",
    "        object_positions = torch.cat([object_batch[idx, :, field_slices[pos]] for pos in position_fields],\n",
    "                                     dim=1).to(torch.float)\n",
    "\n",
    "        for obj_idx in range(object_positions.shape[0] - 1):\n",
    "            if (object_positions[obj_idx + 1:] == object_positions[obj_idx]).all(dim=1).any():\n",
    "                violating_indices.append(idx)\n",
    "                break\n",
    "\n",
    "    return violating_indices"
   ]
  },
  {
   "cell_type": "code",
   "execution_count": null,
   "metadata": {},
   "outputs": [],
   "source": [
    "X = no_constraints_gen(1000)[0]\n"
   ]
  },
  {
   "cell_type": "code",
   "execution_count": null,
   "metadata": {},
   "outputs": [],
   "source": [
    "X[current_no_position_collision_constraint(X, None, no_constraints_gen.field_slices)]"
   ]
  },
  {
   "cell_type": "code",
   "execution_count": null,
   "metadata": {},
   "outputs": [],
   "source": [
    "def previous_no_position_collision_constraint(object_batch, relevant_indices, field_slices,\n",
    "                                     position_fields=DEFAULT_POSITION_FIELDS):\n",
    "    violating_indices = []\n",
    "\n",
    "    if relevant_indices is None:\n",
    "        relevant_indices = range(object_batch.shape[0])\n",
    "\n",
    "    for idx in relevant_indices:\n",
    "        object_positions = torch.cat([object_batch[idx, :, field_slices[pos]] for pos in position_fields],\n",
    "                                     dim=1).to(torch.float).unsqueeze(0)\n",
    "#         print('P', object_positions)\n",
    "        for obj_idx in range(object_positions.shape[0] - 1):\n",
    "#             print(obj_idx, object_positions[obj_idx])\n",
    "#             print(object_positions[obj_idx + 1:])\n",
    "            if (object_positions[obj_idx + 1:] == object_positions[obj_idx]).any():\n",
    "                violating_indices.append(idx)\n",
    "                break\n",
    "                \n",
    "    return violating_indices"
   ]
  },
  {
   "cell_type": "code",
   "execution_count": null,
   "metadata": {},
   "outputs": [],
   "source": [
    "ind = previous_no_position_collision_constraint(X, [0, 1, 2], no_constraints_gen.field_slices)\n",
    "print(ind)\n",
    "X[ind]"
   ]
  },
  {
   "cell_type": "code",
   "execution_count": null,
   "metadata": {},
   "outputs": [],
   "source": [
    "t = torch.tensor([[ 3.,  8.,  0.,  1.,  0.,  1.],\n",
    "          [ 9.,  0.,  1.,  0.,  1.,  0.],\n",
    "          [ 5.,  4.,  1.,  0.,  1.,  0.],\n",
    "          [10., 12.,  0.,  1.,  1.,  0.]]).unsqueeze(0)\n",
    "previous_no_position_collision_constraint(t, None, no_constraints_gen.field_slices)"
   ]
  },
  {
   "cell_type": "code",
   "execution_count": null,
   "metadata": {},
   "outputs": [],
   "source": [
    "t[0, :, :2].unique(dim=0)"
   ]
  },
  {
   "cell_type": "code",
   "execution_count": null,
   "metadata": {},
   "outputs": [],
   "source": [
    "constraint_sets = ([], [previous_no_position_collision_constraint], [current_no_position_collision_constraint])\n",
    "names = ('None', 'Buggy', 'Fixed')\n",
    "N = 10000\n",
    "\n",
    "for n_obj in (5, 10):\n",
    "    print(f'With {n_obj} objects:')\n",
    "    for constraint_set, name in zip(constraint_sets, names):\n",
    "        gen = object_gen.SmartBalancedBatchObjectGenerator(n_obj, run.FIELD_CONFIGURATIONS['default'], \n",
    "                                                           MultipleDAdjacentRelation,\n",
    "                                                           object_dtype=torch.float, \n",
    "                                                           label_dtype=torch.long, \n",
    "                                                           constraints=constraint_set,\n",
    "                                                           max_recursion_depth=100)\n",
    "        X = gen(N)[0]\n",
    "        unique_counts = defaultdict(lambda: 0)\n",
    "        for b in range(X.shape[0]):\n",
    "            pos = X[b, :, :2]\n",
    "            unique_pos = set([tuple(x.numpy()) for x in pos])\n",
    "            unique_counts[len(unique_pos)] += 1\n",
    "\n",
    "        print(f'{name}: P(no collisions) = {unique_counts[n_obj] / N:.4f} [{unique_counts.items()}]')"
   ]
  },
  {
   "cell_type": "code",
   "execution_count": null,
   "metadata": {},
   "outputs": [],
   "source": [
    "gen.relation"
   ]
  },
  {
   "cell_type": "code",
   "execution_count": null,
   "metadata": {},
   "outputs": [],
   "source": [
    "objs = t.squeeze(0)\n",
    "objs[2, :2] = torch.tensor([3, 8])"
   ]
  },
  {
   "cell_type": "code",
   "execution_count": null,
   "metadata": {},
   "outputs": [],
   "source": [
    "gen.relation.evaluate(objs)"
   ]
  },
  {
   "cell_type": "code",
   "execution_count": null,
   "metadata": {},
   "outputs": [],
   "source": []
  }
 ],
 "metadata": {
  "kernelspec": {
   "display_name": "Python 3",
   "language": "python",
   "name": "python3"
  },
  "language_info": {
   "codemirror_mode": {
    "name": "ipython",
    "version": 3
   },
   "file_extension": ".py",
   "mimetype": "text/x-python",
   "name": "python",
   "nbconvert_exporter": "python",
   "pygments_lexer": "ipython3",
   "version": "3.6.7"
  }
 },
 "nbformat": 4,
 "nbformat_minor": 4
}
