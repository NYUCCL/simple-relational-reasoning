{
 "cells": [
  {
   "cell_type": "code",
   "execution_count": 1,
   "metadata": {},
   "outputs": [],
   "source": [
    "import os\n",
    "import sys\n",
    "sys.path.append(os.path.abspath('.'))\n",
    "sys.path.append(os.path.abspath('..'))\n",
    "sys.path.append(os.path.abspath('../run'))\n",
    "import random\n",
    "from collections import defaultdict, namedtuple\n",
    "import itertools\n",
    "\n",
    "\n",
    "import numpy as np\n",
    "import matplotlib\n",
    "from matplotlib import colors\n",
    "import matplotlib.pyplot as plt\n",
    "import matplotlib.patches as mpatches\n",
    "from matplotlib.collections import PatchCollection\n",
    "from matplotlib.figure import Figure\n",
    "from matplotlib.backends.backend_agg import FigureCanvas\n",
    "import colorcet as cc\n",
    "import cv2\n",
    "import pandas as pd\n",
    "\n",
    "from IPython.display import display, Markdown, Latex\n",
    "\n",
    "import torch\n",
    "from torch import nn\n",
    "import torch.nn.functional as F\n",
    "import torchvision\n",
    "import torchvision.models as models\n",
    "import torchvision.transforms as transforms\n",
    "from torch.utils.data import TensorDataset, DataLoader\n",
    "\n",
    "# from MulticoreTSNE import MulticoreTSNE as TSNE\n",
    "from sklearn.decomposition import PCA\n",
    "from tqdm.notebook import tqdm\n",
    "import tabulate\n",
    "\n",
    "\n",
    "from simple_relational_reasoning.embeddings.stimuli import PatchStimulusGenerator\n",
    "from simple_relational_reasoning.embeddings.triplets import QuinnTripletGenerator\n",
    "from simple_relational_reasoning.embeddings.task import run_multiple_models_multiple_generators\n",
    "from simple_relational_reasoning.embeddings.tables import table_per_relation_multiple_results\n",
    "from simple_relational_reasoning.embeddings.models import RESNEXT, MOBILENET\n",
    "\n",
    "# from quinn_embedding_models import *\n",
    "# from quinn_embedding_triplets import *\n",
    "# from quinn_embedding_task import *\n",
    "# from quinn_embedding_tables import *\n",
    "# from quinn_embedding_visualizations import *\n"
   ]
  },
  {
   "cell_type": "code",
   "execution_count": 2,
   "metadata": {},
   "outputs": [],
   "source": [
    "RANDOM_SEED = 33\n",
    "torch.manual_seed(RANDOM_SEED)\n",
    "if torch.cuda.is_available():\n",
    "    device = torch.device('cuda:0')\n",
    "else:\n",
    "    device = 'cpu'"
   ]
  },
  {
   "cell_type": "markdown",
   "metadata": {},
   "source": [
    "## Object generator and sample"
   ]
  },
  {
   "cell_type": "code",
   "execution_count": 3,
   "metadata": {},
   "outputs": [],
   "source": [
    "def plot_generator_examples(generator):\n",
    "    plt.figure(figsize=(generator.n_target_types * 2.5, 3))\n",
    "\n",
    "    for i in range(generator.n_target_types):\n",
    "        x = generator.generate((30, 30 + (i * 30)), reference_positions, target_index=i)\n",
    "        ax = plt.subplot(1, generator.n_target_types, i +1)\n",
    "        ax.imshow(x.permute(1, 2, 0).numpy())\n",
    "\n",
    "\n",
    "    plt.show()"
   ]
  },
  {
   "cell_type": "code",
   "execution_count": 4,
   "metadata": {},
   "outputs": [
    {
     "data": {
      "image/png": "[encoded data removed]",
      "text/plain": [
       "<Figure size 540x216 with 3 Axes>"
      ]
     },
     "metadata": {
      "needs_background": "light"
     },
     "output_type": "display_data"
    }
   ],
   "source": [
    "target_size = 15\n",
    "reference_size = (10, 142)\n",
    "reference_positions = [(105, 100)]\n",
    "\n",
    "blue_target_patch = matplotlib.patches.Circle((0, 0), target_size // 2, color='blue')\n",
    "red_target_patch = matplotlib.patches.Circle((0, 0), target_size // 2, color='red')\n",
    "green_target_patch = matplotlib.patches.Circle((0, 0), target_size // 2, color='green')\n",
    "reference_patch = matplotlib.patches.Ellipse((0, 0), width=reference_size[1], \n",
    "                                             height=reference_size[0], color='black')\n",
    "\n",
    "blur_func = lambda x: cv2.blur(x, (5, 5))\n",
    "\n",
    "# gen = NaiveStimulusGenerator(target_size, refernce_size, target_color='black', dtype=torch.float32)\n",
    "diag_gen = PatchStimulusGenerator(target_size, reference_size, [blue_target_patch, red_target_patch, green_target_patch], \n",
    "                             reference_patch, blur_func=blur_func, rotate_angle=45)\n",
    "\n",
    "plot_generator_examples(diag_gen)"
   ]
  },
  {
   "cell_type": "code",
   "execution_count": 5,
   "metadata": {},
   "outputs": [
    {
     "ename": "RuntimeError",
     "evalue": "The expanded size of the tensor (0) must match the existing size (15) at non-singleton dimension 2.  Target sizes: [3, 15, 0].  Tensor sizes: [3, 15, 15]",
     "output_type": "error",
     "traceback": [
      "\u001b[0;31m---------------------------------------------------------------------------\u001b[0m",
      "\u001b[0;31mRuntimeError\u001b[0m                              Traceback (most recent call last)",
      "\u001b[0;32m/var/folders/h9/kzpqpksx6fq00v9d73x5j51c0000gn/T/ipykernel_19161/3148221261.py\u001b[0m in \u001b[0;36m<module>\u001b[0;34m\u001b[0m\n\u001b[1;32m      7\u001b[0m above_below_quinn_gen = QuinnTripletGenerator(diag_gen, (30, 70), \n\u001b[1;32m      8\u001b[0m     relation='diagonal', two_reference_objects=False, n_target_types=3)\n\u001b[0;32m----> 9\u001b[0;31m \u001b[0mresults\u001b[0m \u001b[0;34m=\u001b[0m \u001b[0mabove_below_quinn_gen\u001b[0m\u001b[0;34m(\u001b[0m\u001b[0mN\u001b[0m\u001b[0;34m,\u001b[0m \u001b[0mnormalize\u001b[0m\u001b[0;34m=\u001b[0m\u001b[0;32mFalse\u001b[0m\u001b[0;34m)\u001b[0m\u001b[0;34m\u001b[0m\u001b[0;34m\u001b[0m\u001b[0m\n\u001b[0m\u001b[1;32m     10\u001b[0m \u001b[0mplt\u001b[0m\u001b[0;34m.\u001b[0m\u001b[0mfigure\u001b[0m\u001b[0;34m(\u001b[0m\u001b[0mfigsize\u001b[0m\u001b[0;34m=\u001b[0m\u001b[0;34m(\u001b[0m\u001b[0;36m7\u001b[0m\u001b[0;34m,\u001b[0m \u001b[0;36m3\u001b[0m \u001b[0;34m*\u001b[0m \u001b[0mN\u001b[0m\u001b[0;34m)\u001b[0m\u001b[0;34m)\u001b[0m\u001b[0;34m\u001b[0m\u001b[0;34m\u001b[0m\u001b[0m\n\u001b[1;32m     11\u001b[0m \u001b[0;34m\u001b[0m\u001b[0m\n",
      "\u001b[0;32m~/projects/simple-relational-reasoning/simple_relational_reasoning/embeddings/triplets.py\u001b[0m in \u001b[0;36m__call__\u001b[0;34m(self, n, normalize, seed)\u001b[0m\n\u001b[1;32m     54\u001b[0m             \u001b[0mn_iter\u001b[0m \u001b[0;34m=\u001b[0m \u001b[0mtqdm\u001b[0m\u001b[0;34m(\u001b[0m\u001b[0mrange\u001b[0m\u001b[0;34m(\u001b[0m\u001b[0mn\u001b[0m\u001b[0;34m)\u001b[0m\u001b[0;34m,\u001b[0m \u001b[0mdesc\u001b[0m\u001b[0;34m=\u001b[0m\u001b[0;34m'Data Generation'\u001b[0m\u001b[0;34m)\u001b[0m\u001b[0;34m\u001b[0m\u001b[0;34m\u001b[0m\u001b[0m\n\u001b[1;32m     55\u001b[0m \u001b[0;34m\u001b[0m\u001b[0m\n\u001b[0;32m---> 56\u001b[0;31m         \u001b[0mresults\u001b[0m \u001b[0;34m=\u001b[0m \u001b[0;34m[\u001b[0m\u001b[0mself\u001b[0m\u001b[0;34m.\u001b[0m\u001b[0mgenerate_single_triplet\u001b[0m\u001b[0;34m(\u001b[0m\u001b[0mnormalize\u001b[0m\u001b[0;34m=\u001b[0m\u001b[0mnormalize\u001b[0m\u001b[0;34m)\u001b[0m\u001b[0;32mfor\u001b[0m \u001b[0m_\u001b[0m \u001b[0;32min\u001b[0m \u001b[0mn_iter\u001b[0m\u001b[0;34m]\u001b[0m\u001b[0;34m\u001b[0m\u001b[0;34m\u001b[0m\u001b[0m\n\u001b[0m\u001b[1;32m     57\u001b[0m         \u001b[0mresult_tensor\u001b[0m \u001b[0;34m=\u001b[0m \u001b[0mtorch\u001b[0m\u001b[0;34m.\u001b[0m\u001b[0mstack\u001b[0m\u001b[0;34m(\u001b[0m\u001b[0mresults\u001b[0m\u001b[0;34m)\u001b[0m\u001b[0;34m\u001b[0m\u001b[0;34m\u001b[0m\u001b[0m\n\u001b[1;32m     58\u001b[0m \u001b[0;34m\u001b[0m\u001b[0m\n",
      "\u001b[0;32m~/projects/simple-relational-reasoning/simple_relational_reasoning/embeddings/triplets.py\u001b[0m in \u001b[0;36m<listcomp>\u001b[0;34m(.0)\u001b[0m\n\u001b[1;32m     54\u001b[0m             \u001b[0mn_iter\u001b[0m \u001b[0;34m=\u001b[0m \u001b[0mtqdm\u001b[0m\u001b[0;34m(\u001b[0m\u001b[0mrange\u001b[0m\u001b[0;34m(\u001b[0m\u001b[0mn\u001b[0m\u001b[0;34m)\u001b[0m\u001b[0;34m,\u001b[0m \u001b[0mdesc\u001b[0m\u001b[0;34m=\u001b[0m\u001b[0;34m'Data Generation'\u001b[0m\u001b[0;34m)\u001b[0m\u001b[0;34m\u001b[0m\u001b[0;34m\u001b[0m\u001b[0m\n\u001b[1;32m     55\u001b[0m \u001b[0;34m\u001b[0m\u001b[0m\n\u001b[0;32m---> 56\u001b[0;31m         \u001b[0mresults\u001b[0m \u001b[0;34m=\u001b[0m \u001b[0;34m[\u001b[0m\u001b[0mself\u001b[0m\u001b[0;34m.\u001b[0m\u001b[0mgenerate_single_triplet\u001b[0m\u001b[0;34m(\u001b[0m\u001b[0mnormalize\u001b[0m\u001b[0;34m=\u001b[0m\u001b[0mnormalize\u001b[0m\u001b[0;34m)\u001b[0m\u001b[0;32mfor\u001b[0m \u001b[0m_\u001b[0m \u001b[0;32min\u001b[0m \u001b[0mn_iter\u001b[0m\u001b[0;34m]\u001b[0m\u001b[0;34m\u001b[0m\u001b[0;34m\u001b[0m\u001b[0m\n\u001b[0m\u001b[1;32m     57\u001b[0m         \u001b[0mresult_tensor\u001b[0m \u001b[0;34m=\u001b[0m \u001b[0mtorch\u001b[0m\u001b[0;34m.\u001b[0m\u001b[0mstack\u001b[0m\u001b[0;34m(\u001b[0m\u001b[0mresults\u001b[0m\u001b[0;34m)\u001b[0m\u001b[0;34m\u001b[0m\u001b[0;34m\u001b[0m\u001b[0m\n\u001b[1;32m     58\u001b[0m \u001b[0;34m\u001b[0m\u001b[0m\n",
      "\u001b[0;32m~/projects/simple-relational-reasoning/simple_relational_reasoning/embeddings/triplets.py\u001b[0m in \u001b[0;36mgenerate_single_triplet\u001b[0;34m(self, normalize)\u001b[0m\n\u001b[1;32m    362\u001b[0m             \u001b[0mtarget_indices\u001b[0m \u001b[0;34m=\u001b[0m \u001b[0mtuple\u001b[0m\u001b[0;34m(\u001b[0m\u001b[0mtarget_indices\u001b[0m\u001b[0;34m)\u001b[0m\u001b[0;34m\u001b[0m\u001b[0;34m\u001b[0m\u001b[0m\n\u001b[1;32m    363\u001b[0m \u001b[0;34m\u001b[0m\u001b[0m\n\u001b[0;32m--> 364\u001b[0;31m         return self.stimulus_generator.batch_generate(target_positions, \n\u001b[0m\u001b[1;32m    365\u001b[0m                                                       \u001b[0mreference_positions\u001b[0m\u001b[0;34m,\u001b[0m\u001b[0;34m\u001b[0m\u001b[0;34m\u001b[0m\u001b[0m\n\u001b[1;32m    366\u001b[0m                                                       \u001b[0mtarget_indices\u001b[0m\u001b[0;34m,\u001b[0m\u001b[0;34m\u001b[0m\u001b[0;34m\u001b[0m\u001b[0m\n",
      "\u001b[0;32m~/projects/simple-relational-reasoning/simple_relational_reasoning/embeddings/stimuli.py\u001b[0m in \u001b[0;36mbatch_generate\u001b[0;34m(self, target_positions, reference_positions, target_indices, normalize, transpose_target)\u001b[0m\n\u001b[1;32m    170\u001b[0m         \u001b[0mtarget_positions\u001b[0m \u001b[0;34m=\u001b[0m \u001b[0mtuple\u001b[0m\u001b[0;34m(\u001b[0m\u001b[0;34m[\u001b[0m\u001b[0mtuple\u001b[0m\u001b[0;34m(\u001b[0m\u001b[0mpos\u001b[0m\u001b[0;34m)\u001b[0m \u001b[0;32mfor\u001b[0m \u001b[0mpos\u001b[0m \u001b[0;32min\u001b[0m \u001b[0mtarget_positions\u001b[0m\u001b[0;34m]\u001b[0m\u001b[0;34m)\u001b[0m\u001b[0;34m\u001b[0m\u001b[0;34m\u001b[0m\u001b[0m\n\u001b[1;32m    171\u001b[0m         \u001b[0mreference_positions\u001b[0m \u001b[0;34m=\u001b[0m \u001b[0mtuple\u001b[0m\u001b[0;34m(\u001b[0m\u001b[0mreference_positions\u001b[0m\u001b[0;34m)\u001b[0m\u001b[0;34m\u001b[0m\u001b[0;34m\u001b[0m\u001b[0m\n\u001b[0;32m--> 172\u001b[0;31m         return self.cached_batch_generate(target_positions, reference_positions, target_indices, \n\u001b[0m\u001b[1;32m    173\u001b[0m                                           normalize=normalize, transpose_target=transpose_target)\n\u001b[1;32m    174\u001b[0m \u001b[0;34m\u001b[0m\u001b[0m\n",
      "\u001b[0;32m~/projects/simple-relational-reasoning/simple_relational_reasoning/embeddings/stimuli.py\u001b[0m in \u001b[0;36mcached_batch_generate\u001b[0;34m(self, target_positions, reference_positions, target_indices, normalize, transpose_target)\u001b[0m\n\u001b[1;32m    181\u001b[0m                                 for (t, p, i) in zip_gen])\n\u001b[1;32m    182\u001b[0m         \u001b[0;32melse\u001b[0m\u001b[0;34m:\u001b[0m\u001b[0;34m\u001b[0m\u001b[0;34m\u001b[0m\u001b[0m\n\u001b[0;32m--> 183\u001b[0;31m             return torch.stack([self.generate(t, p, i, transpose_target=transpose_target) \n\u001b[0m\u001b[1;32m    184\u001b[0m                                 for (t, p, i) in zip_gen])\n\u001b[1;32m    185\u001b[0m \u001b[0;34m\u001b[0m\u001b[0m\n",
      "\u001b[0;32m~/projects/simple-relational-reasoning/simple_relational_reasoning/embeddings/stimuli.py\u001b[0m in \u001b[0;36m<listcomp>\u001b[0;34m(.0)\u001b[0m\n\u001b[1;32m    181\u001b[0m                                 for (t, p, i) in zip_gen])\n\u001b[1;32m    182\u001b[0m         \u001b[0;32melse\u001b[0m\u001b[0;34m:\u001b[0m\u001b[0;34m\u001b[0m\u001b[0;34m\u001b[0m\u001b[0m\n\u001b[0;32m--> 183\u001b[0;31m             return torch.stack([self.generate(t, p, i, transpose_target=transpose_target) \n\u001b[0m\u001b[1;32m    184\u001b[0m                                 for (t, p, i) in zip_gen])\n\u001b[1;32m    185\u001b[0m \u001b[0;34m\u001b[0m\u001b[0m\n",
      "\u001b[0;32m~/projects/simple-relational-reasoning/simple_relational_reasoning/embeddings/stimuli.py\u001b[0m in \u001b[0;36mgenerate\u001b[0;34m(self, target_position, reference_positions, target_index, center_positions, transpose_target)\u001b[0m\n\u001b[1;32m    140\u001b[0m             \u001b[0mtarget\u001b[0m \u001b[0;34m=\u001b[0m \u001b[0mnp\u001b[0m\u001b[0;34m.\u001b[0m\u001b[0mtranspose\u001b[0m\u001b[0;34m(\u001b[0m\u001b[0mtarget\u001b[0m\u001b[0;34m,\u001b[0m \u001b[0;34m(\u001b[0m\u001b[0;36m0\u001b[0m\u001b[0;34m,\u001b[0m \u001b[0;36m2\u001b[0m\u001b[0;34m,\u001b[0m \u001b[0;36m1\u001b[0m\u001b[0;34m)\u001b[0m\u001b[0;34m)\u001b[0m\u001b[0;34m\u001b[0m\u001b[0;34m\u001b[0m\u001b[0m\n\u001b[1;32m    141\u001b[0m \u001b[0;34m\u001b[0m\u001b[0m\n\u001b[0;32m--> 142\u001b[0;31m         x[:, target_pos[0]:target_pos[0] + target.shape[1],\n\u001b[0m\u001b[1;32m    143\u001b[0m              target_pos[1]:target_pos[1] + target.shape[2]] = target\n\u001b[1;32m    144\u001b[0m \u001b[0;34m\u001b[0m\u001b[0m\n",
      "\u001b[0;31mRuntimeError\u001b[0m: The expanded size of the tensor (0) must match the existing size (15) at non-singleton dimension 2.  Target sizes: [3, 15, 0].  Tensor sizes: [3, 15, 15]"
     ]
    }
   ],
   "source": [
    "N = 5\n",
    "\n",
    "# TODO: figure out why this breaks if I drop down the second `distance_endpoints` below 70\n",
    "# TODO: play with adding a margin\n",
    "# TODO: play with just rotating the output image\n",
    "\n",
    "above_below_quinn_gen = QuinnTripletGenerator(diag_gen, (30, 70), \n",
    "    relation='diagonal', two_reference_objects=False, n_target_types=3)\n",
    "results = above_below_quinn_gen(N, normalize=False)\n",
    "plt.figure(figsize=(7, 3 * N))\n",
    "\n",
    "for row in range(N):\n",
    "    for col in range(3):\n",
    "        ax = plt.subplot(N, 3, (3 * row) + col + 1)\n",
    "        ax.imshow(results[row, col].permute(1, 2, 0).numpy())\n",
    "\n",
    "plt.show()\n"
   ]
  },
  {
   "cell_type": "code",
   "execution_count": 6,
   "metadata": {},
   "outputs": [
    {
     "data": {
      "image/png": "[encoded data removed]",
      "text/plain": [
       "<Figure size 540x216 with 3 Axes>"
      ]
     },
     "metadata": {
      "needs_background": "light"
     },
     "output_type": "display_data"
    }
   ],
   "source": [
    "target_size = 15\n",
    "reference_size = (10, 100)\n",
    "reference_positions = [(105, 100)]\n",
    "\n",
    "blue_target_patch = matplotlib.patches.Circle((0, 0), target_size // 2, color='blue')\n",
    "red_target_patch = matplotlib.patches.Circle((0, 0), target_size // 2, color='red')\n",
    "green_target_patch = matplotlib.patches.Circle((0, 0), target_size // 2, color='green')\n",
    "reference_patch = matplotlib.patches.Ellipse((0, 0), width=reference_size[1], \n",
    "                                             height=reference_size[0], color='black')\n",
    "\n",
    "blur_func = lambda x: cv2.blur(x, (5, 5))\n",
    "\n",
    "# gen = NaiveStimulusGenerator(target_size, refernce_size, target_color='black', dtype=torch.float32)\n",
    "gen = PatchStimulusGenerator(target_size, reference_size, [blue_target_patch, red_target_patch, green_target_patch], \n",
    "                             reference_patch, blur_func=blur_func)\n",
    "\n",
    "plot_generator_examples(gen)"
   ]
  },
  {
   "cell_type": "code",
   "execution_count": 7,
   "metadata": {},
   "outputs": [
    {
     "data": {
      "image/png": "[encoded data removed]",
      "text/plain": [
       "<Figure size 540x504 with 6 Axes>"
      ]
     },
     "metadata": {
      "needs_background": "light"
     },
     "output_type": "display_data"
    }
   ],
   "source": [
    "def rotate_test(generator, angle, center=None):\n",
    "    plt.figure(figsize=(generator.n_target_types * 2.5, 7))\n",
    "\n",
    "    raw_samples = []\n",
    "    rotated_samples = []\n",
    "\n",
    "    for i in range(generator.n_target_types):\n",
    "        x = generator.generate((30, 30 + (i * 30)), reference_positions, target_index=i)\n",
    "        raw_samples.append(x)\n",
    "        ax = plt.subplot(2, generator.n_target_types, i + 1)\n",
    "        ax.imshow(x.permute(1, 2, 0).numpy())\n",
    "\n",
    "        x = torchvision.transforms.functional.rotate(x, angle, center=center, expand=True, fill=[1.0, 1.0, 1.0])\n",
    "        rotated_samples.append(x)\n",
    "\n",
    "        rot_ax = plt.subplot(2, generator.n_target_types, generator.n_target_types + i + 1)\n",
    "        rot_ax.imshow(x.permute(1, 2, 0).numpy())\n",
    "\n",
    "\n",
    "    plt.show()\n",
    "    return raw_samples, rotated_samples\n",
    "\n",
    "raw, rotated = rotate_test(gen, 45)"
   ]
  },
  {
   "cell_type": "code",
   "execution_count": 18,
   "metadata": {},
   "outputs": [
    {
     "data": {
      "text/plain": [
       "tensor([1., 1., 1.])"
      ]
     },
     "execution_count": 18,
     "metadata": {},
     "output_type": "execute_result"
    }
   ],
   "source": [
    "rotated[0][:, 0, 100]"
   ]
  },
  {
   "cell_type": "code",
   "execution_count": 9,
   "metadata": {},
   "outputs": [
    {
     "data": {
      "image/png": "[encoded data removed]",
      "text/plain": [
       "<Figure size 180x216 with 1 Axes>"
      ]
     },
     "metadata": {
      "needs_background": "light"
     },
     "output_type": "display_data"
    }
   ],
   "source": [
    "target_size = 15\n",
    "reference_size = (10, 100)\n",
    "reference_positions = [(105, 100)]\n",
    "\n",
    "target_patch = matplotlib.patches.Circle((0, 0), target_size // 2, color='black')\n",
    "diagonal_reference_patch = matplotlib.patches.Ellipse((0, 0), width=reference_size[1], \n",
    "                                             height=reference_size[0], color='black')\n",
    "\n",
    "\n",
    "# fig, ax = plt.subplots(1, 1, figsize=(4, 4))\n",
    "# max_rs = max(reference_size)\n",
    "# ax.set_xlim(-max_rs, max_rs)\n",
    "# ax.set_ylim(-max_rs, max_rs)\n",
    "# ax.add_patch(diagonal_reference_patch)\n",
    "# plt.show()\n",
    "# print()\n",
    "\n",
    "blur_func = lambda x: cv2.blur(x, (5, 5))\n",
    "\n",
    "# gen = NaiveStimulusGenerator(target_size, refernce_size, target_color='black', dtype=torch.float32)\n",
    "diag_gen = PatchStimulusGenerator(target_size, reference_size, [target_patch], \n",
    "                                        diagonal_reference_patch, rotate_angle=-45, blur_func=blur_func)\n",
    "\n",
    "plot_generator_examples(diag_gen)"
   ]
  },
  {
   "cell_type": "code",
   "execution_count": 7,
   "metadata": {},
   "outputs": [
    {
     "data": {
      "image/png": "[encoded data removed]",
      "text/plain": [
       "<Figure size 540x216 with 3 Axes>"
      ]
     },
     "metadata": {
      "needs_background": "light"
     },
     "output_type": "display_data"
    }
   ],
   "source": [
    "target_size = 15\n",
    "reference_size = (10, 100)\n",
    "target_patch_1 = matplotlib.patches.Circle((0, 0), target_size // 2, color='black')\n",
    "target_patch_2 = matplotlib.patches.Circle((0, 0), target_size // 2, color='black')\n",
    "target_patch_3 = matplotlib.patches.Circle((0, 0), target_size // 2, color='black')\n",
    "rectangle_reference_patch = matplotlib.patches.Rectangle(\n",
    "    (-reference_size[1] // 2, -reference_size[0] // 2), reference_size[1], reference_size[0], color='black')\n",
    "\n",
    "\n",
    "# gen = NaiveStimulusGenerator(target_size, refernce_size, target_color='black', dtype=torch.float32)\n",
    "dot_and_bar_gen = PatchStimulusGenerator(target_size, reference_size, \n",
    "                                         [target_patch_1, target_patch_2, target_patch_3], \n",
    "                                         rectangle_reference_patch)\n",
    "\n",
    "plot_generator_examples(dot_and_bar_gen)"
   ]
  },
  {
   "cell_type": "code",
   "execution_count": 8,
   "metadata": {},
   "outputs": [
    {
     "data": {
      "image/png": "[encoded data removed]",
      "text/plain": [
       "<Figure size 180x216 with 1 Axes>"
      ]
     },
     "metadata": {
      "needs_background": "light"
     },
     "output_type": "display_data"
    }
   ],
   "source": [
    "target_patch = matplotlib.patches.Circle((0, 0), target_size // 2, color='black')\n",
    "reference_patch = matplotlib.patches.Ellipse((0, 0), width=reference_size[1], \n",
    "                                             height=reference_size[0], color='black')\n",
    "\n",
    "blur_func = lambda x: cv2.blur(x, (5, 5))\n",
    "\n",
    "# gen = NaiveStimulusGenerator(target_size, refernce_size, target_color='black', dtype=torch.float32)\n",
    "same_color_gen = PatchStimulusGenerator(target_size, reference_size, [target_patch], \n",
    "                                        reference_patch, blur_func=blur_func)\n",
    "\n",
    "plot_generator_examples(same_color_gen)"
   ]
  },
  {
   "cell_type": "code",
   "execution_count": 9,
   "metadata": {},
   "outputs": [
    {
     "data": {
      "image/png": "[encoded data removed]",
      "text/plain": [
       "<Figure size 540x216 with 3 Axes>"
      ]
     },
     "metadata": {
      "needs_background": "light"
     },
     "output_type": "display_data"
    }
   ],
   "source": [
    "target_size = 15\n",
    "reference_size = (10, 100)\n",
    "reference_positions = [(105, 100)]\n",
    "\n",
    "circle_patch = matplotlib.patches.Circle((0, 0), target_size // 2, color='black')\n",
    "square_patch = matplotlib.patches.Rectangle((-target_size // 2, -target_size // 2), target_size, target_size, color='black')\n",
    "triangle_patch = matplotlib.patches.RegularPolygon((0, 0), 3, target_size // 2, color='black')\n",
    "reference_patch = matplotlib.patches.Ellipse((0, 0), width=reference_size[1], \n",
    "                                             height=reference_size[0], color='black')\n",
    "\n",
    "blur_func = lambda x: cv2.blur(x, (5, 5))\n",
    "\n",
    "# gen = NaiveStimulusGenerator(target_size, refernce_size, target_color='black', dtype=torch.float32)\n",
    "different_shapes_gen = PatchStimulusGenerator(target_size, reference_size, \n",
    "                                              [circle_patch, square_patch, triangle_patch], \n",
    "                                              reference_patch, blur_func=blur_func)\n",
    "\n",
    "plot_generator_examples(different_shapes_gen)"
   ]
  },
  {
   "cell_type": "code",
   "execution_count": 10,
   "metadata": {},
   "outputs": [
    {
     "data": {
      "image/png": "[encoded data removed]",
      "text/plain": [
       "<Figure size 540x216 with 3 Axes>"
      ]
     },
     "metadata": {
      "needs_background": "light"
     },
     "output_type": "display_data"
    }
   ],
   "source": [
    "target_size = 15\n",
    "reference_box_size = 8\n",
    "total_reference_size = (10, 120)\n",
    "reference_positions = [(105, 100)]\n",
    "\n",
    "circle_patch = matplotlib.patches.Circle((0, 0), target_size // 2, color='black')\n",
    "square_patch = matplotlib.patches.Rectangle((-target_size // 2, -target_size // 2), target_size, target_size, color='black')\n",
    "triangle_patch = matplotlib.patches.RegularPolygon((0, 0), 3, target_size // 2, color='black')\n",
    "\n",
    "reference_patches = [matplotlib.patches.Rectangle(((-reference_box_size // 2) + (reference_box_size * 2 * i), \n",
    "                                                   (-reference_box_size // 2)), \n",
    "                                                  reference_box_size, reference_box_size, color='black')\n",
    "                    for i in range(7)]\n",
    "\n",
    "\n",
    "blur_func = lambda x: cv2.blur(x, (5, 5))\n",
    "\n",
    "# gen = NaiveStimulusGenerator(target_size, refernce_size, target_color='black', dtype=torch.float32)\n",
    "split_reference_gen = PatchStimulusGenerator(target_size, total_reference_size, \n",
    "                                              [circle_patch, square_patch, triangle_patch], \n",
    "                                              reference_patches, blur_func=blur_func,\n",
    "                                            #   reference_patch_kwargs=dict(ylim=(-70, 70))\n",
    "                                              )\n",
    "\n",
    "plot_generator_examples(split_reference_gen)"
   ]
  },
  {
   "cell_type": "code",
   "execution_count": 11,
   "metadata": {},
   "outputs": [
    {
     "data": {
      "image/png": "[encoded data removed]",
      "text/plain": [
       "<Figure size 900x216 with 5 Axes>"
      ]
     },
     "metadata": {
      "needs_background": "light"
     },
     "output_type": "display_data"
    }
   ],
   "source": [
    "target_size = (15, 15)\n",
    "reference_box_size = 8\n",
    "total_reference_size = (10, 140)\n",
    "reference_positions = [(105, 100)]\n",
    "\n",
    "triangle_patch = matplotlib.patches.RegularPolygon((0, 0), 3, target_size[0] // 2, color='black')\n",
    "\n",
    "reference_patches = [matplotlib.patches.Rectangle(((-reference_box_size // 2) + (reference_box_size * 2 * i), \n",
    "                                                   (-reference_box_size // 2)), \n",
    "                                                  reference_box_size, reference_box_size, color='black')\n",
    "                    for i in range(7)]\n",
    "\n",
    "\n",
    "blur_func = lambda x: cv2.blur(x, (5, 5))\n",
    "\n",
    "# gen = NaiveStimulusGenerator(target_size, refernce_size, target_color='black', dtype=torch.float32)\n",
    "split_reference_text_gen = PatchStimulusGenerator(target_size, total_reference_size, \n",
    "                                              ['E', '$+$', triangle_patch, 's', '$\\\\to$'], \n",
    "                                              reference_patches, # blur_func=blur_func,\n",
    "                                            #   reference_patch_kwargs=dict(ylim=(-70, 70))\n",
    "                                              )\n",
    "\n",
    "plot_generator_examples(split_reference_text_gen)"
   ]
  },
  {
   "cell_type": "markdown",
   "metadata": {},
   "source": [
    "## Triplet generators"
   ]
  },
  {
   "cell_type": "code",
   "execution_count": 12,
   "metadata": {},
   "outputs": [
    {
     "data": {
      "image/png": "[encoded data removed]",
      "text/plain": [
       "<Figure size 504x1080 with 15 Axes>"
      ]
     },
     "metadata": {
      "needs_background": "light"
     },
     "output_type": "display_data"
    }
   ],
   "source": [
    "N = 5\n",
    "\n",
    "above_below_quinn_gen = QuinnTripletGenerator(gen, (30, 70), \n",
    "    relation='between', two_reference_objects=True, n_target_types=2)\n",
    "results = above_below_quinn_gen(N, normalize=False)\n",
    "plt.figure(figsize=(7, 3 * N))\n",
    "\n",
    "for row in range(N):\n",
    "    for col in range(3):\n",
    "        ax = plt.subplot(N, 3, (3 * row) + col + 1)\n",
    "        ax.imshow(results[row, col].permute(1, 2, 0).numpy())\n",
    "\n",
    "plt.show()\n"
   ]
  },
  {
   "cell_type": "code",
   "execution_count": 13,
   "metadata": {},
   "outputs": [
    {
     "data": {
      "image/png": "[encoded data removed]",
      "text/plain": [
       "<Figure size 504x1080 with 15 Axes>"
      ]
     },
     "metadata": {
      "needs_background": "light"
     },
     "output_type": "display_data"
    }
   ],
   "source": [
    "N = 5\n",
    "\n",
    "above_below_quinn_gen = QuinnTripletGenerator(split_reference_text_gen, (30, 70), \n",
    "                                              two_reference_objects=True,\n",
    "                                              relation='above_below', adjacent_reference_objects=True,\n",
    "                                              n_target_types=2, transpose=True)\n",
    "results = above_below_quinn_gen(N, normalize=False)\n",
    "plt.figure(figsize=(7, 3 * N))\n",
    "\n",
    "for row in range(N):\n",
    "    for col in range(3):\n",
    "        ax = plt.subplot(N, 3, (3 * row) + col + 1)\n",
    "        ax.imshow(results[row, col].permute(1, 2, 0).numpy())\n",
    "\n",
    "plt.show()\n"
   ]
  },
  {
   "cell_type": "markdown",
   "metadata": {},
   "source": [
    "## Metric functions"
   ]
  },
  {
   "cell_type": "markdown",
   "metadata": {},
   "source": [
    "## Actual task implementation"
   ]
  },
  {
   "cell_type": "code",
   "execution_count": null,
   "metadata": {},
   "outputs": [],
   "source": [
    "def default_name_func(generator_kwargs, base_name=''):\n",
    "    two_reference_objects = generator_kwargs['two_reference_objects']\n",
    "    transpose = generator_kwargs['transpose']\n",
    "    \n",
    "    if two_reference_objects:\n",
    "        if transpose:\n",
    "            rel_name = 'VerticalBetween'\n",
    "        else:\n",
    "            rel_name = 'Between'\n",
    "    else:\n",
    "        if transpose:\n",
    "            rel_name = 'Left/Right'\n",
    "        else:\n",
    "            rel_name = 'Above/Below'\n",
    "    \n",
    "    name = f'{base_name}{base_name and \"-\" or \"\"}{rel_name}'\n",
    "            \n",
    "    n_target_types = None\n",
    "    if 'n_target_types' in generator_kwargs:\n",
    "        n_target_types = generator_kwargs['n_target_types']\n",
    "        return name + f'-{n_target_types}-types'\n",
    "    \n",
    "    return name\n",
    "\n",
    "\n",
    "def create_generators_and_names(triplet_generator_class, stimulus_generator, kwarg_value_sets, \n",
    "                                name_func=default_name_func, name_func_kwargs=None):\n",
    "    if name_func_kwargs is None:\n",
    "        name_func_kwargs = {}\n",
    "    \n",
    "    names = []\n",
    "    triplet_generators = []\n",
    "\n",
    "    for value_set in itertools.product(*kwarg_value_sets.values()):\n",
    "        kwargs = {k: v for (k, v) in zip(kwarg_value_sets.keys(), value_set)}\n",
    "        names.append(name_func(kwargs, **name_func_kwargs))\n",
    "        triplet_generators.append(triplet_generator_class(stimulus_generator, **kwargs))\n",
    "\n",
    "    return names, triplet_generators\n",
    "    "
   ]
  },
  {
   "cell_type": "code",
   "execution_count": null,
   "metadata": {},
   "outputs": [],
   "source": [
    "QUINN_DISTANCE_ENDPOINTS = (30, 70)\n",
    "\n",
    "quinn_default_value_sets = dict(\n",
    "    distance_endpoints=(QUINN_DISTANCE_ENDPOINTS,),\n",
    "    two_reference_objects=(False, True),\n",
    "    transpose=(False, True),\n",
    "    n_target_types=range(1, 4)\n",
    ")\n",
    "\n",
    "quinn_names, quinn_triplet_generators = create_generators_and_names(\n",
    "    QuinnTripletGenerator, gen, quinn_default_value_sets, name_func_kwargs=dict(base_name='Quinn'))"
   ]
  },
  {
   "cell_type": "code",
   "execution_count": null,
   "metadata": {
    "scrolled": false
   },
   "outputs": [],
   "source": [
    "model_kwarg_dicts = (\n",
    "    dict(name=MOBILENET, device=device, pretrained=False, saycam='S'),\n",
    "    dict(name=MOBILENET, device=device, pretrained=True),\n",
    "    dict(name=MOBILENET, device=device, pretrained=False),\n",
    "    dict(name=RESNEXT, device=device, pretrained=False, saycam='S'),\n",
    "    dict(name=RESNEXT, device=device, pretrained=True),\n",
    "    dict(name=RESNEXT, device=device, pretrained=False),\n",
    ")\n",
    "\n",
    "model_names = [ f'{d[\"name\"]}-{\"saycam\" in d and \"saycam(S)\" or (d[\"pretrained\"] and \"imagenet\" or \"random\")}'\n",
    "               for d in model_kwarg_dicts]\n"
   ]
  },
  {
   "cell_type": "code",
   "execution_count": null,
   "metadata": {
    "scrolled": false
   },
   "outputs": [],
   "source": [
    "N = 1024\n",
    "quinn_generators_all_model_results = run_multiple_models_multiple_generators(\n",
    "    model_names, model_kwarg_dicts, quinn_names, quinn_triplet_generators, N)"
   ]
  },
  {
   "cell_type": "code",
   "execution_count": null,
   "metadata": {
    "scrolled": false
   },
   "outputs": [],
   "source": [
    "display_multiple_model_results_multiple_types('Quinn', quinn_generators_all_model_results, tablefmt='github')"
   ]
  },
  {
   "cell_type": "code",
   "execution_count": null,
   "metadata": {
    "scrolled": false
   },
   "outputs": [],
   "source": [
    "quinn_single_color_value_sets = dict(\n",
    "    distance_endpoints=(QUINN_DISTANCE_ENDPOINTS,),\n",
    "    two_reference_objects=(False, True),\n",
    "    transpose=(False, True),\n",
    ")\n",
    "\n",
    "quinn_single_color_names, quinn_single_color_triplet_generators = create_generators_and_names(\n",
    "    QuinnTripletGenerator, same_color_gen, quinn_single_color_value_sets, name_func_kwargs=dict(base_name='Quinn-Single-Color'))\n"
   ]
  },
  {
   "cell_type": "code",
   "execution_count": null,
   "metadata": {},
   "outputs": [],
   "source": [
    "N = 1024\n",
    "quinn_generators_single_color_results = run_multiple_models_multiple_generators(\n",
    "    model_names, model_kwarg_dicts, quinn_single_color_names, quinn_single_color_triplet_generators, N)"
   ]
  },
  {
   "cell_type": "code",
   "execution_count": null,
   "metadata": {},
   "outputs": [],
   "source": [
    "display_multiple_model_results_single_type('Quinn Single Color', quinn_generators_single_color_results, tablefmt='github')"
   ]
  },
  {
   "cell_type": "code",
   "execution_count": null,
   "metadata": {},
   "outputs": [],
   "source": [
    "quinn_different_shape_names, quinn_different_shape_triplet_generators = create_generators_and_names(\n",
    "    QuinnTripletGenerator, different_shapes_gen, quinn_default_value_sets, name_func_kwargs=dict(base_name='Quinn-Diff-Shapes'))"
   ]
  },
  {
   "cell_type": "code",
   "execution_count": null,
   "metadata": {},
   "outputs": [],
   "source": [
    "N = 1024\n",
    "quinn_generators_different_shapes_results = run_multiple_models_multiple_generators(\n",
    "    model_names, model_kwarg_dicts, quinn_different_shape_names, quinn_different_shape_triplet_generators, N)"
   ]
  },
  {
   "cell_type": "code",
   "execution_count": null,
   "metadata": {
    "scrolled": true
   },
   "outputs": [],
   "source": [
    "display_multiple_model_results_multiple_types('Quinn Different Shapes', quinn_generators_different_shapes_results, tablefmt='github')"
   ]
  },
  {
   "cell_type": "code",
   "execution_count": null,
   "metadata": {},
   "outputs": [],
   "source": [
    "quinn_split_reference_names, quinn_split_reference_triplet_generators = create_generators_and_names(\n",
    "    QuinnTripletGenerator, split_reference_gen, quinn_default_value_sets, name_func_kwargs=dict(base_name='Quinn-Split-Reference'))"
   ]
  },
  {
   "cell_type": "code",
   "execution_count": null,
   "metadata": {},
   "outputs": [],
   "source": [
    "N = 1024\n",
    "quinn_generators_split_reference_results = run_multiple_models_multiple_generators(\n",
    "    model_names, model_kwarg_dicts, quinn_split_reference_names, quinn_split_reference_triplet_generators, N)"
   ]
  },
  {
   "cell_type": "code",
   "execution_count": null,
   "metadata": {
    "scrolled": true
   },
   "outputs": [],
   "source": [
    "display_multiple_model_results_multiple_types('Quinn Split Reference', quinn_generators_split_reference_results, tablefmt='github')"
   ]
  },
  {
   "cell_type": "code",
   "execution_count": null,
   "metadata": {},
   "outputs": [],
   "source": [
    "quinn_split_reference_text_names, quinn_split_reference_text_triplet_generators = create_generators_and_names(\n",
    "    QuinnTripletGenerator, split_reference_text_gen, quinn_default_value_sets, name_func_kwargs=dict(base_name='Quinn-Split-Reference-Text'))"
   ]
  },
  {
   "cell_type": "code",
   "execution_count": null,
   "metadata": {},
   "outputs": [],
   "source": [
    "N = 1024\n",
    "quinn_generators_split_reference_text_results = run_multiple_models_multiple_generators(\n",
    "    model_names, model_kwarg_dicts, quinn_split_reference_text_names, quinn_split_reference_text_triplet_generators, N)"
   ]
  },
  {
   "cell_type": "code",
   "execution_count": null,
   "metadata": {
    "scrolled": true
   },
   "outputs": [],
   "source": [
    "display_multiple_model_results_multiple_types('Quinn Split Reference Text Target', quinn_generators_split_reference_text_results, tablefmt='github')"
   ]
  },
  {
   "cell_type": "code",
   "execution_count": null,
   "metadata": {},
   "outputs": [],
   "source": [
    "def build_random_color_stimulus_generator(rng, cmap=cc.cm.glasbey, cmap_range=(0, 255),\n",
    "                                         target_size=20, reference_size=(10, 100)):\n",
    "    start_int = rng.integers(cmap_range[0], cmap_range[1] - 4)\n",
    "\n",
    "    blue_target_patch = matplotlib.patches.Circle((0, 0), target_size // 2, \n",
    "                                                  color=cmap(start_int))\n",
    "    red_target_patch = matplotlib.patches.Circle((0, 0), target_size // 2,\n",
    "                                                 color=cmap(start_int + 1))\n",
    "    green_target_patch = matplotlib.patches.Circle((0, 0), target_size // 2,\n",
    "                                                   color=cmap(start_int + 2))\n",
    "    reference_patch = matplotlib.patches.Ellipse((0, 0), width=reference_size[1], \n",
    "                                                 height=reference_size[0], \n",
    "                                                 color=cmap(start_int + 3))\n",
    "\n",
    "    blur_func = lambda x: cv2.blur(x, (5, 5))\n",
    "\n",
    "    return PatchStimulusGenerator(target_size, reference_size, \n",
    "                                  [blue_target_patch, red_target_patch, green_target_patch], \n",
    "                                  reference_patch, blur_func=blur_func)\n"
   ]
  },
  {
   "cell_type": "code",
   "execution_count": null,
   "metadata": {
    "scrolled": false
   },
   "outputs": [],
   "source": [
    "C = 10\n",
    "N = 1024\n",
    "all_random_color_names = []\n",
    "all_random_color_triplet_generators = []\n",
    "random_color_results = []\n",
    "\n",
    "for c in range(C):\n",
    "    print(c)\n",
    "    rng = np.random.default_rng(c)\n",
    "    random_gen = build_random_color_stimulus_generator(rng)\n",
    "    \n",
    "    random_color_names, random_color_triplet_generators = create_generators_and_names(\n",
    "        QuinnTripletGenerator, random_gen, quinn_default_value_sets, name_func_kwargs=dict(base_name='Quinn-Random-Color'))\n",
    "    \n",
    "    all_random_color_names.append(random_color_names)\n",
    "    all_random_color_triplet_generators.append(random_color_triplet_generators)\n",
    "    \n",
    "    random_color_results.append(run_multiple_models_multiple_generators(\n",
    "        model_names, model_kwarg_dicts, random_color_names, random_color_triplet_generators, N))"
   ]
  },
  {
   "cell_type": "code",
   "execution_count": null,
   "metadata": {
    "scrolled": true
   },
   "outputs": [],
   "source": [
    "display_multiple_model_results_multiple_types_replications('Quinn Random Color Replications', random_color_results)"
   ]
  },
  {
   "cell_type": "code",
   "execution_count": null,
   "metadata": {},
   "outputs": [],
   "source": [
    "result_set = (quinn_generators_split_reference_text_results, \n",
    "              quinn_generators_different_shapes_results,\n",
    "              random_color_results)\n",
    "df = table_per_relation_multiple_results(result_set, print_std=False, tablefmt='latex_raw')"
   ]
  },
  {
   "cell_type": "code",
   "execution_count": null,
   "metadata": {},
   "outputs": [],
   "source": [
    "df.head()"
   ]
  },
  {
   "cell_type": "code",
   "execution_count": null,
   "metadata": {},
   "outputs": [],
   "source": [
    "df.rendering.unique()"
   ]
  },
  {
   "cell_type": "code",
   "execution_count": null,
   "metadata": {},
   "outputs": [],
   "source": []
  },
  {
   "cell_type": "code",
   "execution_count": null,
   "metadata": {},
   "outputs": [],
   "source": []
  },
  {
   "cell_type": "code",
   "execution_count": null,
   "metadata": {},
   "outputs": [],
   "source": [
    "above_below_df = filter_and_group(df, \n",
    "                 {'relation': 'above_below', 'dataset': ['saycam', 'imagenet']}, \n",
    "                 ['dataset', 'model_name', 'n_target_types'])\n",
    "\n",
    "between_df = filter_and_group(df, \n",
    "                 {'relation': 'between', 'dataset': ['saycam', 'imagenet']}, \n",
    "                 ['dataset', 'model_name', 'n_target_types'])\n",
    "\n",
    "\n",
    "horizontal_mean_diff =  between_df.mean() - above_below_df.mean()\n",
    "horizontal_mean_diff.acc_mean"
   ]
  },
  {
   "cell_type": "code",
   "execution_count": null,
   "metadata": {},
   "outputs": [],
   "source": [
    "fig = plt.figure(figsize=(20, 8), dpi=200)\n",
    "fig.subplots_adjust(wspace=0.1)\n",
    "\n",
    "text_kwargs = {'fontsize': 32}\n",
    "\n",
    "above_below_ax = plt.subplot(1, 2, 1)\n",
    "create_bar_chart(df, \n",
    "                 {'relation': 'above_below', 'dataset': ['saycam', 'imagenet']}, \n",
    "                 ['dataset', 'model_name', 'n_target_types'],\n",
    "                 legend_loc='lower right', plot_std=False,\n",
    "                 title='Above/Below', legend=False,\n",
    "                 text_kwargs=text_kwargs, bar_spacing=0.3, \n",
    "                 title_kwargs=dict(fontweight='bold'),\n",
    "                 ax=above_below_ax)\n",
    "\n",
    "between_ax = plt.subplot(1, 2, 2)\n",
    "create_bar_chart(df, \n",
    "                 {'relation': 'between', 'dataset': ['saycam', 'imagenet']}, \n",
    "                 ['dataset', 'model_name', 'n_target_types'],\n",
    "                 legend_loc='lower right', plot_std=False,\n",
    "                 title='Between', ylabel='', legend_ncol=1,\n",
    "                 text_kwargs=text_kwargs, bar_spacing=0.3,\n",
    "                 above_bar_texts=horizontal_mean_diff.acc_mean,\n",
    "                 above_bar_text_spacing=0.03, above_bar_text_fontsize=18, \n",
    "                 title_kwargs=dict(fontweight='bold'),\n",
    "                 ax=between_ax)\n",
    "\n",
    "save_plot('exp2_horizontal_reference_bar_charts.pdf')\n",
    "\n",
    "plt.show()"
   ]
  },
  {
   "cell_type": "code",
   "execution_count": null,
   "metadata": {},
   "outputs": [],
   "source": [
    "left_right_df = filter_and_group(df, \n",
    "                 {'relation': 'left_right', 'dataset': ['saycam', 'imagenet']}, \n",
    "                 ['dataset', 'model_name', 'n_target_types'])\n",
    "\n",
    "vertical_between_df = filter_and_group(df, \n",
    "                 {'relation': 'vertical_between', 'dataset': ['saycam', 'imagenet']}, \n",
    "                 ['dataset', 'model_name', 'n_target_types'])\n",
    "\n",
    "\n",
    "vertical_mean_diff =  vertical_between_df.mean() - left_right_df.mean()\n",
    "vertical_mean_diff.acc_mean"
   ]
  },
  {
   "cell_type": "code",
   "execution_count": null,
   "metadata": {},
   "outputs": [],
   "source": [
    "fig = plt.figure(figsize=(20, 8), dpi=200)\n",
    "fig.subplots_adjust(wspace=0.1)\n",
    "\n",
    "text_kwargs = {'fontsize': 32}\n",
    "\n",
    "left_right_ax = plt.subplot(1, 2, 1)\n",
    "create_bar_chart(df, \n",
    "                 {'relation': 'left_right', 'dataset': ['saycam', 'imagenet']}, \n",
    "                 ['dataset', 'model_name', 'n_target_types'],\n",
    "                 legend_loc='lower right', plot_std=False,\n",
    "                 title='Left/Right', legend=False,\n",
    "                 text_kwargs=text_kwargs, bar_spacing=0.3, \n",
    "                 title_kwargs=dict(fontweight='bold'),\n",
    "                 ax=left_right_ax)\n",
    "\n",
    "vertical_between_ax = plt.subplot(1, 2, 2)\n",
    "create_bar_chart(df, \n",
    "                 {'relation': 'vertical_between', 'dataset': ['saycam', 'imagenet']}, \n",
    "                 ['dataset', 'model_name', 'n_target_types'],\n",
    "                 legend_loc='upper right', plot_std=False,\n",
    "                 title='Vertical-Between', ylabel='',\n",
    "                 text_kwargs=text_kwargs, bar_spacing=0.3, legend_ncol=1,\n",
    "                 above_bar_texts=vertical_mean_diff.acc_mean,\n",
    "                 above_bar_text_spacing=0.03, above_bar_text_fontsize=18,\n",
    "                 title_kwargs=dict(fontweight='bold'),\n",
    "                 ax=vertical_between_ax)\n",
    "\n",
    "save_plot('exp2_vertical_reference_bar_charts.pdf')\n",
    "\n",
    "plt.show()"
   ]
  },
  {
   "cell_type": "code",
   "execution_count": null,
   "metadata": {},
   "outputs": [],
   "source": [
    "for rendering in df.rendering.unique():\n",
    "    fig = plt.figure(figsize=(20, 8), dpi=200)\n",
    "    fig.subplots_adjust(wspace=0.1)\n",
    "\n",
    "    text_kwargs = {'fontsize': 28}\n",
    "    \n",
    "    plt.suptitle(rendering, **text_kwargs)\n",
    "\n",
    "    above_below_ax = plt.subplot(1, 2, 1)\n",
    "    create_bar_chart(df, \n",
    "                     {'relation': 'above_below', 'dataset': ['saycam', 'imagenet'], \n",
    "                      'rendering': rendering}, \n",
    "                     ['dataset', 'model_name', 'n_target_types'],\n",
    "                     legend_loc='lower right', plot_std=False,\n",
    "                     title='$\\\\it{Above/Below}$', legend=False,\n",
    "                     text_kwargs=text_kwargs, bar_spacing=0.3, \n",
    "                     ax=above_below_ax)\n",
    "\n",
    "    between_ax = plt.subplot(1, 2, 2)\n",
    "    create_bar_chart(df, \n",
    "                     {'relation': 'between', 'dataset': ['saycam', 'imagenet'],\n",
    "                      'rendering': rendering}, \n",
    "                     ['dataset', 'model_name', 'n_target_types'],\n",
    "                     legend_loc='lower right', plot_std=False,\n",
    "                     title='$\\\\it{Between}$', ylabel='', legend_ncol=1,\n",
    "                     text_kwargs=text_kwargs, bar_spacing=0.3,\n",
    "                     ax=between_ax)\n",
    "\n",
    "    plt.show()"
   ]
  },
  {
   "cell_type": "code",
   "execution_count": null,
   "metadata": {},
   "outputs": [],
   "source": []
  },
  {
   "cell_type": "code",
   "execution_count": null,
   "metadata": {},
   "outputs": [],
   "source": []
  },
  {
   "cell_type": "code",
   "execution_count": null,
   "metadata": {},
   "outputs": [],
   "source": []
  },
  {
   "cell_type": "markdown",
   "metadata": {},
   "source": [
    "# Recover min and max for untrained models"
   ]
  },
  {
   "cell_type": "code",
   "execution_count": null,
   "metadata": {},
   "outputs": [],
   "source": [
    "filter_and_group(df, {'dataset': 'random'}, ['model_name']).acc_mean.describe()"
   ]
  },
  {
   "cell_type": "code",
   "execution_count": null,
   "metadata": {},
   "outputs": [],
   "source": []
  },
  {
   "cell_type": "code",
   "execution_count": null,
   "metadata": {},
   "outputs": [],
   "source": []
  },
  {
   "cell_type": "markdown",
   "metadata": {},
   "source": [
    "# Visualizing example objects"
   ]
  },
  {
   "cell_type": "code",
   "execution_count": null,
   "metadata": {},
   "outputs": [],
   "source": [
    "dot_and_bar_names, dot_and_bar_triplet_generators = create_generators_and_names(\n",
    "    QuinnTripletGenerator, dot_and_bar_gen, quinn_default_value_sets, name_func_kwargs=dict(base_name='Quinn-Dot-and-Bar'))\n",
    "\n",
    "triplet_generator_lists = (dot_and_bar_triplet_generators,\n",
    "                           quinn_split_reference_text_triplet_generators, )\n",
    "\n",
    "row_labels = ('Same\\nTarget', 'Different\\nTarget')\n",
    "\n",
    "N_rows = len(triplet_generator_lists)\n",
    "\n",
    "baseline_font_size = 28\n",
    "side_rendering_labels = True\n",
    "N = 5\n",
    "\n",
    "fig = plt.figure(figsize=(18, 2.5 * N_rows), dpi=200)\n",
    "\n",
    "row = 0\n",
    "for triplet_generator_list in triplet_generator_lists:\n",
    "    col = 0\n",
    "    for trip_gen in triplet_generator_list:\n",
    "        if trip_gen.n_target_types == 2 and not trip_gen.transpose:\n",
    "            triplet = trip_gen(N, normalize=False)[-1]\n",
    "            for sub_col in range(3):\n",
    "                ax = plt.subplot(N_rows, 6, (row * 6) + (col * 3) + sub_col + 1)\n",
    "                ax.imshow(triplet[sub_col].permute(1, 2, 0).numpy())\n",
    "                ax.get_xaxis().set_ticks([])\n",
    "                ax.get_yaxis().set_ticks([])\n",
    "                if row == 0:\n",
    "                    if sub_col == 0:\n",
    "                        ax.set_title('Familiarization', fontsize=baseline_font_size - 6)\n",
    "                    elif sub_col == 1:\n",
    "                        ax.set_title('Same Relation', fontsize=baseline_font_size - 6)\n",
    "                    else:\n",
    "                        ax.set_title('Other Relation', fontsize=baseline_font_size - 6)\n",
    "                if side_rendering_labels:\n",
    "                    if col == 0 and sub_col == 0:\n",
    "                        ax.set_ylabel(row_labels[row], fontsize=baseline_font_size, fontweight='bold')\n",
    "            \n",
    "            col += 1\n",
    "        \n",
    "    row += 1\n",
    "        \n",
    "fig.text(0.315, .99, 'Above/Below', fontsize=baseline_font_size, fontweight='bold',\n",
    "        horizontalalignment='center', verticalalignment='center',)\n",
    "\n",
    "fig.text(0.71, .99, 'Between', fontsize=baseline_font_size, fontweight='bold',\n",
    "        horizontalalignment='center', verticalalignment='center',)\n",
    "\n",
    "fig.subplots_adjust(wspace=0.1, hspace=0.01, bottom=0, top=0.9)\n",
    "l1 = matplotlib.lines.Line2D([0.5125, 0.5125], [0, 1], transform=fig.transFigure, figure=fig, \n",
    "                             color='black', lw=3, ls='-')\n",
    "    \n",
    "\n",
    "fig.lines.append(l1)\n",
    "\n",
    "save_plot(f'intro_example_stimuli.pdf')\n",
    "\n",
    "plt.show()"
   ]
  },
  {
   "cell_type": "code",
   "execution_count": null,
   "metadata": {
    "scrolled": false
   },
   "outputs": [],
   "source": [
    "c = 23\n",
    "rng = np.random.default_rng(c)\n",
    "random_gen = build_random_color_stimulus_generator(rng)\n",
    "\n",
    "random_color_names, random_color_triplet_generators = create_generators_and_names(\n",
    "    QuinnTripletGenerator, random_gen, quinn_default_value_sets, name_func_kwargs=dict(base_name='Quinn-Random-Color'))\n",
    "\n",
    "triplet_generator_lists = (quinn_different_shape_triplet_generators,\n",
    "                           random_color_triplet_generators)\n",
    "row_labels = ('Geometric\\nShapes', 'Colors')\n",
    "N_rows = len(triplet_generator_lists)\n",
    "\n",
    "baseline_font_size = 28\n",
    "side_rendering_labels = True\n",
    "N = 13\n",
    "\n",
    "fig = plt.figure(figsize=(18, 2.5 * N_rows), dpi=200)\n",
    "\n",
    "row = 0\n",
    "for triplet_generator_list in triplet_generator_lists:\n",
    "    col = 0\n",
    "    for trip_gen in triplet_generator_list:\n",
    "        if trip_gen.n_target_types == 2 and trip_gen.transpose != (row % 2):\n",
    "            triplet = trip_gen(N, normalize=False)[-1]\n",
    "            for sub_col in range(3):\n",
    "                ax = plt.subplot(N_rows, 6, (row * 6) + (col * 3) + sub_col + 1)\n",
    "                ax.imshow(triplet[sub_col].permute(1, 2, 0).numpy())\n",
    "                ax.get_xaxis().set_ticks([])\n",
    "                ax.get_yaxis().set_ticks([])\n",
    "                if row == 0:\n",
    "                    if sub_col == 0:\n",
    "                        ax.set_title('Familiarization', fontsize=baseline_font_size - 6)\n",
    "                    elif sub_col == 1:\n",
    "                        ax.set_title('Same Relation', fontsize=baseline_font_size - 6)\n",
    "                    else:\n",
    "                        ax.set_title('Other Relation', fontsize=baseline_font_size - 6)\n",
    "                if side_rendering_labels:\n",
    "                    if col == 0 and sub_col == 0:\n",
    "                        ax.set_ylabel(row_labels[row], fontsize=baseline_font_size, fontweight='bold')\n",
    "                        \n",
    "            \n",
    "            col += 1\n",
    "        \n",
    "    row += 1\n",
    "        \n",
    "fig.text(0.315, .99, 'Above/Below', fontsize=baseline_font_size, fontweight='bold',\n",
    "        horizontalalignment='center', verticalalignment='center',)\n",
    "\n",
    "fig.text(0.71, .99, 'Between', fontsize=baseline_font_size, fontweight='bold',\n",
    "        horizontalalignment='center', verticalalignment='center',)\n",
    "\n",
    "fig.subplots_adjust(wspace=0.1, hspace=0.01, bottom=0, top=0.9)\n",
    "l1 = matplotlib.lines.Line2D([0.5125, 0.5125], [0, 1], transform=fig.transFigure, figure=fig, \n",
    "                         color='black', lw=3, ls='-')\n",
    "    \n",
    "\n",
    "fig.lines.append(l1)\n",
    "\n",
    "save_plot(f'exp2_example_stimuli_{side_rendering_labels and \"side_rendering_labels\" or \"top_rendering_labels\"}.pdf')\n",
    "\n",
    "plt.show()"
   ]
  },
  {
   "cell_type": "code",
   "execution_count": null,
   "metadata": {},
   "outputs": [],
   "source": []
  }
 ],
 "metadata": {
  "interpreter": {
   "hash": "c7f8e00f851a7185e5345342178c14041451eaa6562c62790473e641b6de40ed"
  },
  "kernelspec": {
   "display_name": "Python [conda env:rainbow] *",
   "language": "python",
   "name": "python3"
  },
  "language_info": {
   "codemirror_mode": {
    "name": "ipython",
    "version": 3
   },
   "file_extension": ".py",
   "mimetype": "text/x-python",
   "name": "python",
   "nbconvert_exporter": "python",
   "pygments_lexer": "ipython3",
   "version": "3.8.2"
  }
 },
 "nbformat": 4,
 "nbformat_minor": 2
}
