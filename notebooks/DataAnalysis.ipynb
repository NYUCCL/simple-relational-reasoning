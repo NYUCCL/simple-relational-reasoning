{
 "cells": [
  {
   "cell_type": "code",
   "execution_count": 1,
   "metadata": {},
   "outputs": [],
   "source": [
    "%load_ext autoreload\n",
    "%autoreload 2\n",
    "%matplotlib inline"
   ]
  },
  {
   "cell_type": "code",
   "execution_count": 2,
   "metadata": {},
   "outputs": [
    {
     "name": "stdout",
     "output_type": "stream",
     "text": [
      "\u001b[34m\u001b[1mwandb\u001b[0m: Appending key for api.wandb.ai to your netrc file: /home/gd1279/.netrc\r\n",
      "\u001b[32mSuccessfully logged in to Weights & Biases!\u001b[0m\r\n"
     ]
    }
   ],
   "source": [
    "!wandb login 9676e3cc95066e4865586082971f2653245f09b4"
   ]
  },
  {
   "cell_type": "code",
   "execution_count": 93,
   "metadata": {},
   "outputs": [],
   "source": [
    "import copy\n",
    "from collections import defaultdict, namedtuple\n",
    "from datetime import datetime\n",
    "import itertools\n",
    "import os\n",
    "import pickle\n",
    "\n",
    "import numpy as np\n",
    "import pandas as pd\n",
    "import scipy\n",
    "from scipy import stats\n",
    "from scipy.special import factorial\n",
    "\n",
    "from mpl_toolkits.mplot3d import Axes3D\n",
    "import matplotlib\n",
    "import matplotlib.pyplot as plt\n",
    "from matplotlib import patches\n",
    "from matplotlib import path as mpath\n",
    "import matplotlib.gridspec as gridspec\n",
    "\n",
    "import tabulate\n",
    "import wandb\n",
    "from tqdm.notebook import tqdm"
   ]
  },
  {
   "cell_type": "code",
   "execution_count": 4,
   "metadata": {},
   "outputs": [],
   "source": [
    "api = wandb.Api()"
   ]
  },
  {
   "cell_type": "code",
   "execution_count": 47,
   "metadata": {},
   "outputs": [],
   "source": [
    "FIGURE_TEMPLATE = r'''\\begin{{figure}}[!htb]\n",
    "% \\vspace{{-0.225in}}\n",
    "\\centering\n",
    "\\includegraphics[width=\\linewidth]{{figures/{save_path}}}\n",
    "\\caption{{ {{\\bf FIGURE TITLE.}} FIGURE DESCRIPTION.}}\n",
    "\\label{{fig:{label_name}}}\n",
    "% \\vspace{{-0.2in}}\n",
    "\\end{{figure}}\n",
    "'''\n",
    "WRAPFIGURE_TEMPLATE = r'''\\begin{{wrapfigure}}{{r}}{{0.5\\linewidth}}\n",
    "\\vspace{{-.3in}}\n",
    "\\begin{{spacing}}{{1.0}}\n",
    "\\centering\n",
    "\\includegraphics[width=0.95\\linewidth]{{figures/{save_path}}}\n",
    "\\caption{{ {{\\bf FIGURE TITLE.}} FIGURE DESCRIPTION.}}\n",
    "\\label{{fig:{label_name}}}\n",
    "\\end{{spacing}}\n",
    "% \\vspace{{-.25in}}\n",
    "\\end{{wrapfigure}}'''\n",
    "\n",
    "SAVE_PATH_PREFIX = 'figures'\n",
    "\n",
    "\n",
    "def save_plot(save_path, bbox_inches='tight'):\n",
    "    if save_path is not None:\n",
    "        save_path_no_ext = os.path.splitext(save_path)[0]\n",
    "        print('Figure:\\n')\n",
    "        print(FIGURE_TEMPLATE.format(save_path=save_path, label_name=save_path_no_ext.replace('/', '-').replace('_', '-')))\n",
    "        print('\\nWrapfigure:\\n')\n",
    "        print(WRAPFIGURE_TEMPLATE.format(save_path=save_path, label_name=save_path_no_ext.replace('/', '-').replace('_', '-')))\n",
    "        print('')\n",
    "        \n",
    "        if not save_path.startswith(SAVE_PATH_PREFIX):\n",
    "            save_path = os.path.join(SAVE_PATH_PREFIX, save_path)\n",
    "        \n",
    "        folder, filename = os.path.split(save_path)\n",
    "        os.makedirs(folder, exist_ok=True)\n",
    "        plt.savefig(save_path, bbox_inches=bbox_inches, facecolor=plt.gcf().get_facecolor(), edgecolor='none')"
   ]
  },
  {
   "cell_type": "code",
   "execution_count": 6,
   "metadata": {},
   "outputs": [],
   "source": [
    "CACHE_PATH = './results_cache.pickle'\n",
    "BACKUP_CACHE_PATH = './results_cache_{date}.pickle'\n",
    "\n",
    "\n",
    "def refresh_cache(new_values_dict=None, cache_path=CACHE_PATH):\n",
    "    if new_values_dict is None:\n",
    "        new_values_dict = {}\n",
    "    \n",
    "    if os.path.exists(cache_path):\n",
    "        with open(cache_path, 'rb') as cache_file:\n",
    "            cache = pickle.load(cache_file)\n",
    "    \n",
    "    else:\n",
    "        cache = {}\n",
    "    \n",
    "    cache.update(new_values_dict)\n",
    "    \n",
    "    if os.path.exists(cache_path):\n",
    "        os.rename(CACHE_PATH, BACKUP_CACHE_PATH.format(date=datetime.now().strftime('%Y-%m-%d_%H-%M-%S')))\n",
    "\n",
    "    with open(cache_path, 'wb') as cache_file:\n",
    "        pickle.dump(cache, cache_file)\n",
    "\n",
    "    return cache\n",
    " \n",
    "\n",
    "cache = refresh_cache()"
   ]
  },
  {
   "cell_type": "markdown",
   "metadata": {},
   "source": [
    "# Game plan\n",
    "* Iterate through projects \n",
    "* Parse each project conditions from its name\n",
    "* Aggregate each of the following statistics by model:\n",
    "    * Peak accuracy\n",
    "    * Epoch in which peak accuracy takes place\n",
    "    * Epoch above some accuracy threshold\n",
    "    * Did the model overfit (delta between train and val?)\n",
    "* Start examining the effects of different manipulations:\n",
    "    * Choice of relation\n",
    "    * Number of objects\n",
    "    * Size of the training set\n",
    "    * Size of the model (in that one condition I ran larger)\n",
    "* Probably more bar charts tables than anything else, unless we need learning curves\n",
    "\n"
   ]
  },
  {
   "cell_type": "code",
   "execution_count": 9,
   "metadata": {},
   "outputs": [
    {
     "name": "stdout",
     "output_type": "stream",
     "text": [
      "<Projects simple-relational-reasoning>\n"
     ]
    },
    {
     "data": {
      "application/vnd.jupyter.widget-view+json": {
       "model_id": "1069043573094c81803033c5d41f4196",
       "version_major": 2,
       "version_minor": 0
      },
      "text/plain": [
       "HBox(children=(FloatProgress(value=0.0, description='Projects', max=24.0, style=ProgressStyle(description_widt…"
      ]
     },
     "metadata": {},
     "output_type": "display_data"
    },
    {
     "data": {
      "application/vnd.jupyter.widget-view+json": {
       "model_id": "555ec04959394cab933242b1cda5d8cf",
       "version_major": 2,
       "version_minor": 0
      },
      "text/plain": [
       "HBox(children=(FloatProgress(value=0.0, description='Runs', max=40.0, style=ProgressStyle(description_width='i…"
      ]
     },
     "metadata": {},
     "output_type": "display_data"
    },
    {
     "name": "stdout",
     "output_type": "stream",
     "text": [
      "\n"
     ]
    },
    {
     "data": {
      "application/vnd.jupyter.widget-view+json": {
       "model_id": "421fcd595ac142a796e0ef68a7c795b0",
       "version_major": 2,
       "version_minor": 0
      },
      "text/plain": [
       "HBox(children=(FloatProgress(value=0.0, description='Runs', max=40.0, style=ProgressStyle(description_width='i…"
      ]
     },
     "metadata": {},
     "output_type": "display_data"
    },
    {
     "name": "stdout",
     "output_type": "stream",
     "text": [
      "\n"
     ]
    },
    {
     "data": {
      "application/vnd.jupyter.widget-view+json": {
       "model_id": "0048fd23c48a487b8d3be7b652db78ed",
       "version_major": 2,
       "version_minor": 0
      },
      "text/plain": [
       "HBox(children=(FloatProgress(value=0.0, description='Runs', max=40.0, style=ProgressStyle(description_width='i…"
      ]
     },
     "metadata": {},
     "output_type": "display_data"
    },
    {
     "name": "stdout",
     "output_type": "stream",
     "text": [
      "\n"
     ]
    },
    {
     "data": {
      "application/vnd.jupyter.widget-view+json": {
       "model_id": "ad225477b5ed468cafbc0fcd2b7e0904",
       "version_major": 2,
       "version_minor": 0
      },
      "text/plain": [
       "HBox(children=(FloatProgress(value=0.0, description='Runs', max=40.0, style=ProgressStyle(description_width='i…"
      ]
     },
     "metadata": {},
     "output_type": "display_data"
    },
    {
     "name": "stdout",
     "output_type": "stream",
     "text": [
      "\n"
     ]
    },
    {
     "data": {
      "application/vnd.jupyter.widget-view+json": {
       "model_id": "ea3f11cf0cb74037bdc1173576470cc6",
       "version_major": 2,
       "version_minor": 0
      },
      "text/plain": [
       "HBox(children=(FloatProgress(value=0.0, description='Runs', max=40.0, style=ProgressStyle(description_width='i…"
      ]
     },
     "metadata": {},
     "output_type": "display_data"
    },
    {
     "name": "stdout",
     "output_type": "stream",
     "text": [
      "\n"
     ]
    },
    {
     "data": {
      "application/vnd.jupyter.widget-view+json": {
       "model_id": "d9a7c3a8a2fe44e8a04393aa7843a8c9",
       "version_major": 2,
       "version_minor": 0
      },
      "text/plain": [
       "HBox(children=(FloatProgress(value=0.0, description='Runs', max=40.0, style=ProgressStyle(description_width='i…"
      ]
     },
     "metadata": {},
     "output_type": "display_data"
    },
    {
     "name": "stdout",
     "output_type": "stream",
     "text": [
      "\n"
     ]
    },
    {
     "data": {
      "application/vnd.jupyter.widget-view+json": {
       "model_id": "31a725f6922e43d0975be8b6a5845a74",
       "version_major": 2,
       "version_minor": 0
      },
      "text/plain": [
       "HBox(children=(FloatProgress(value=0.0, description='Runs', max=40.0, style=ProgressStyle(description_width='i…"
      ]
     },
     "metadata": {},
     "output_type": "display_data"
    },
    {
     "name": "stdout",
     "output_type": "stream",
     "text": [
      "\n"
     ]
    },
    {
     "data": {
      "application/vnd.jupyter.widget-view+json": {
       "model_id": "a521521f729c4bb89f38cedb9a690269",
       "version_major": 2,
       "version_minor": 0
      },
      "text/plain": [
       "HBox(children=(FloatProgress(value=0.0, description='Runs', max=40.0, style=ProgressStyle(description_width='i…"
      ]
     },
     "metadata": {},
     "output_type": "display_data"
    },
    {
     "name": "stdout",
     "output_type": "stream",
     "text": [
      "\n"
     ]
    },
    {
     "data": {
      "application/vnd.jupyter.widget-view+json": {
       "model_id": "cbd0bd38c434498481aa818c8ddd7b3b",
       "version_major": 2,
       "version_minor": 0
      },
      "text/plain": [
       "HBox(children=(FloatProgress(value=0.0, description='Runs', max=40.0, style=ProgressStyle(description_width='i…"
      ]
     },
     "metadata": {},
     "output_type": "display_data"
    },
    {
     "name": "stdout",
     "output_type": "stream",
     "text": [
      "\n"
     ]
    },
    {
     "data": {
      "application/vnd.jupyter.widget-view+json": {
       "model_id": "23471ca22d244495bfad0f5cec72dc80",
       "version_major": 2,
       "version_minor": 0
      },
      "text/plain": [
       "HBox(children=(FloatProgress(value=0.0, description='Runs', max=40.0, style=ProgressStyle(description_width='i…"
      ]
     },
     "metadata": {},
     "output_type": "display_data"
    },
    {
     "name": "stdout",
     "output_type": "stream",
     "text": [
      "\n"
     ]
    },
    {
     "data": {
      "application/vnd.jupyter.widget-view+json": {
       "model_id": "681d38b999354e5388ea0d59123b2832",
       "version_major": 2,
       "version_minor": 0
      },
      "text/plain": [
       "HBox(children=(FloatProgress(value=0.0, description='Runs', max=40.0, style=ProgressStyle(description_width='i…"
      ]
     },
     "metadata": {},
     "output_type": "display_data"
    },
    {
     "name": "stdout",
     "output_type": "stream",
     "text": [
      "\n"
     ]
    },
    {
     "data": {
      "application/vnd.jupyter.widget-view+json": {
       "model_id": "e65894ddad924ec499b8f023fbe2d543",
       "version_major": 2,
       "version_minor": 0
      },
      "text/plain": [
       "HBox(children=(FloatProgress(value=0.0, description='Runs', max=40.0, style=ProgressStyle(description_width='i…"
      ]
     },
     "metadata": {},
     "output_type": "display_data"
    },
    {
     "name": "stdout",
     "output_type": "stream",
     "text": [
      "\n"
     ]
    },
    {
     "data": {
      "application/vnd.jupyter.widget-view+json": {
       "model_id": "fe9443ec354c4d1ab37713f2eeceb50f",
       "version_major": 2,
       "version_minor": 0
      },
      "text/plain": [
       "HBox(children=(FloatProgress(value=0.0, description='Runs', max=40.0, style=ProgressStyle(description_width='i…"
      ]
     },
     "metadata": {},
     "output_type": "display_data"
    },
    {
     "name": "stdout",
     "output_type": "stream",
     "text": [
      "\n"
     ]
    },
    {
     "data": {
      "application/vnd.jupyter.widget-view+json": {
       "model_id": "995e71ab243d4880a5ab1236bd335cea",
       "version_major": 2,
       "version_minor": 0
      },
      "text/plain": [
       "HBox(children=(FloatProgress(value=0.0, description='Runs', max=40.0, style=ProgressStyle(description_width='i…"
      ]
     },
     "metadata": {},
     "output_type": "display_data"
    },
    {
     "name": "stdout",
     "output_type": "stream",
     "text": [
      "\n"
     ]
    },
    {
     "data": {
      "application/vnd.jupyter.widget-view+json": {
       "model_id": "3f623b9228e14dc28795396594825bf0",
       "version_major": 2,
       "version_minor": 0
      },
      "text/plain": [
       "HBox(children=(FloatProgress(value=0.0, description='Runs', max=40.0, style=ProgressStyle(description_width='i…"
      ]
     },
     "metadata": {},
     "output_type": "display_data"
    },
    {
     "name": "stdout",
     "output_type": "stream",
     "text": [
      "\n"
     ]
    },
    {
     "data": {
      "application/vnd.jupyter.widget-view+json": {
       "model_id": "8fffe5bae855487481f575109a8791ca",
       "version_major": 2,
       "version_minor": 0
      },
      "text/plain": [
       "HBox(children=(FloatProgress(value=0.0, description='Runs', max=40.0, style=ProgressStyle(description_width='i…"
      ]
     },
     "metadata": {},
     "output_type": "display_data"
    },
    {
     "name": "stdout",
     "output_type": "stream",
     "text": [
      "\n"
     ]
    },
    {
     "data": {
      "application/vnd.jupyter.widget-view+json": {
       "model_id": "adaf8089b66b4729bb6bb356d330e6b5",
       "version_major": 2,
       "version_minor": 0
      },
      "text/plain": [
       "HBox(children=(FloatProgress(value=0.0, description='Runs', max=40.0, style=ProgressStyle(description_width='i…"
      ]
     },
     "metadata": {},
     "output_type": "display_data"
    },
    {
     "name": "stdout",
     "output_type": "stream",
     "text": [
      "\n"
     ]
    },
    {
     "data": {
      "application/vnd.jupyter.widget-view+json": {
       "model_id": "a493479d2f224d648059c63e4faaa4b0",
       "version_major": 2,
       "version_minor": 0
      },
      "text/plain": [
       "HBox(children=(FloatProgress(value=0.0, description='Runs', max=40.0, style=ProgressStyle(description_width='i…"
      ]
     },
     "metadata": {},
     "output_type": "display_data"
    },
    {
     "name": "stdout",
     "output_type": "stream",
     "text": [
      "\n"
     ]
    },
    {
     "data": {
      "application/vnd.jupyter.widget-view+json": {
       "model_id": "f997ef0355694b9a9c14f9a235e4c5ee",
       "version_major": 2,
       "version_minor": 0
      },
      "text/plain": [
       "HBox(children=(FloatProgress(value=0.0, description='Runs', max=40.0, style=ProgressStyle(description_width='i…"
      ]
     },
     "metadata": {},
     "output_type": "display_data"
    },
    {
     "name": "stdout",
     "output_type": "stream",
     "text": [
      "\n"
     ]
    },
    {
     "data": {
      "application/vnd.jupyter.widget-view+json": {
       "model_id": "3982d9bf4d6645a2a0d3e04f3d1a8ee6",
       "version_major": 2,
       "version_minor": 0
      },
      "text/plain": [
       "HBox(children=(FloatProgress(value=0.0, description='Runs', max=40.0, style=ProgressStyle(description_width='i…"
      ]
     },
     "metadata": {},
     "output_type": "display_data"
    },
    {
     "name": "stdout",
     "output_type": "stream",
     "text": [
      "\n"
     ]
    },
    {
     "data": {
      "application/vnd.jupyter.widget-view+json": {
       "model_id": "3d554889a4cf4aa4886ea588e9320f6a",
       "version_major": 2,
       "version_minor": 0
      },
      "text/plain": [
       "HBox(children=(FloatProgress(value=0.0, description='Runs', max=40.0, style=ProgressStyle(description_width='i…"
      ]
     },
     "metadata": {},
     "output_type": "display_data"
    },
    {
     "name": "stdout",
     "output_type": "stream",
     "text": [
      "\n"
     ]
    },
    {
     "data": {
      "application/vnd.jupyter.widget-view+json": {
       "model_id": "0a07344eb4c544189081c1686ee415cd",
       "version_major": 2,
       "version_minor": 0
      },
      "text/plain": [
       "HBox(children=(FloatProgress(value=0.0, description='Runs', max=40.0, style=ProgressStyle(description_width='i…"
      ]
     },
     "metadata": {},
     "output_type": "display_data"
    },
    {
     "name": "stderr",
     "output_type": "stream",
     "text": [
      "wandb: Network error resolved after 0:00:10.439788, resuming normal operation.\n"
     ]
    },
    {
     "name": "stdout",
     "output_type": "stream",
     "text": [
      "\n"
     ]
    },
    {
     "data": {
      "application/vnd.jupyter.widget-view+json": {
       "model_id": "d631add5803f436398531c463d091269",
       "version_major": 2,
       "version_minor": 0
      },
      "text/plain": [
       "HBox(children=(FloatProgress(value=0.0, description='Runs', max=40.0, style=ProgressStyle(description_width='i…"
      ]
     },
     "metadata": {},
     "output_type": "display_data"
    },
    {
     "name": "stdout",
     "output_type": "stream",
     "text": [
      "\n"
     ]
    },
    {
     "data": {
      "application/vnd.jupyter.widget-view+json": {
       "model_id": "240ce5c266784889a85c9f1bc51bdae8",
       "version_major": 2,
       "version_minor": 0
      },
      "text/plain": [
       "HBox(children=(FloatProgress(value=0.0, description='Runs', max=40.0, style=ProgressStyle(description_width='i…"
      ]
     },
     "metadata": {},
     "output_type": "display_data"
    },
    {
     "name": "stderr",
     "output_type": "stream",
     "text": [
      "wandb: Network error resolved after 0:00:13.130396, resuming normal operation.\n"
     ]
    },
    {
     "name": "stdout",
     "output_type": "stream",
     "text": [
      "\n",
      "\n"
     ]
    }
   ],
   "source": [
    "Condition = namedtuple('Condition', ('relation', 'model_config', 'num_objects', 'dataset_size', 'dataset_power'))\n",
    "\n",
    "\n",
    "def name_to_condition(name):\n",
    "    relation, model_config, num_objects, dataset_size = name.split('-')[::2]\n",
    "    num_objects = int(num_objects)\n",
    "    dataset_size = int(dataset_size)\n",
    "    return Condition(relation=relation, model_config=model_config, num_objects=num_objects, \n",
    "                     dataset_size=dataset_size, dataset_power=int(np.log2(dataset_size)))\n",
    "\n",
    "\n",
    "def parse_run(run, num_samples=10000, accuracy_threshold=0.95):\n",
    "    history_df = run.history(samples=num_samples)\n",
    "    run_results = {}\n",
    "    \n",
    "    max_accuracy_index = history_df.val_acc.idxmax()\n",
    "    run_results['max_val_acc'] = history_df.val_acc[max_accuracy_index]\n",
    "    run_results['max_val_acc_step'] = history_df.global_step[max_accuracy_index]\n",
    "    \n",
    "    accuracy_above_treshold_index = (history_df.val_acc >= accuracy_threshold).idxmax()\n",
    "    if accuracy_above_treshold_index == 0:  # Never went above treshold\n",
    "        run_results['acc_threshold_step'] = None\n",
    "    else:\n",
    "        run_results['acc_threshold_step'] = history_df.global_step[accuracy_above_treshold_index]\n",
    "        \n",
    "    run_results['acc_diff'] = history_df.train_acc.max() - history_df.val_acc.max()\n",
    "    \n",
    "    return run_results\n",
    "    \n",
    "    \n",
    "def parse_project(project):\n",
    "    uri = f'{project.entity}/{project.name}'\n",
    "    runs = api.runs(uri)\n",
    "    results_by_model = defaultdict(list)\n",
    "    \n",
    "    for run in tqdm(runs, desc='Runs'):\n",
    "        seed_split_index = run.name.rindex('-')\n",
    "        model_name = run.name[:seed_split_index]\n",
    "        seed = int(run.name[seed_split_index + 1:])\n",
    "        \n",
    "        run_results = parse_run(run)\n",
    "        run_results['seed'] = seed\n",
    "        run_results['total_params'] = run.config['total_params']\n",
    "        \n",
    "        results_by_model[model_name].append(run_results)\n",
    "        \n",
    "    return results_by_model\n",
    "        \n",
    "        \n",
    "def parse_all_projects(entity='simple-relational-reasoning'):\n",
    "    projects = api.projects(entity)\n",
    "    results = {}\n",
    "    \n",
    "    print(projects)\n",
    "    for proj in tqdm([p for p in projects], desc='Projects'):\n",
    "        condition = name_to_condition(proj.name)\n",
    "        results[condition] = parse_project(proj)\n",
    "        \n",
    "    return results\n",
    "\n",
    "\n",
    "if 'all_results' not in cache:\n",
    "    cache['all_results'] = parse_all_projects()\n",
    "    cache = refresh_cache(cache)\n",
    "    \n",
    "all_results = cache['all_results']"
   ]
  },
  {
   "cell_type": "code",
   "execution_count": 12,
   "metadata": {},
   "outputs": [
    {
     "data": {
      "application/vnd.jupyter.widget-view+json": {
       "model_id": "4253f569b01742ce85a032da05c125d3",
       "version_major": 2,
       "version_minor": 0
      },
      "text/plain": [
       "HBox(children=(FloatProgress(value=0.0, description='Condition', max=24.0, style=ProgressStyle(description_wid…"
      ]
     },
     "metadata": {},
     "output_type": "display_data"
    },
    {
     "data": {
      "application/vnd.jupyter.widget-view+json": {
       "model_id": "d72cf879dafa46be993e05edcabd4d5b",
       "version_major": 2,
       "version_minor": 0
      },
      "text/plain": [
       "HBox(children=(FloatProgress(value=0.0, description='Result', max=4.0, style=ProgressStyle(description_width='…"
      ]
     },
     "metadata": {},
     "output_type": "display_data"
    },
    {
     "name": "stdout",
     "output_type": "stream",
     "text": [
      "\n"
     ]
    },
    {
     "data": {
      "application/vnd.jupyter.widget-view+json": {
       "model_id": "ab50338a7075495a83e95a1fa1b6ad4c",
       "version_major": 2,
       "version_minor": 0
      },
      "text/plain": [
       "HBox(children=(FloatProgress(value=0.0, description='Result', max=4.0, style=ProgressStyle(description_width='…"
      ]
     },
     "metadata": {},
     "output_type": "display_data"
    },
    {
     "name": "stdout",
     "output_type": "stream",
     "text": [
      "\n"
     ]
    },
    {
     "data": {
      "application/vnd.jupyter.widget-view+json": {
       "model_id": "2be2e4020e074ce6b6fde7d2812f1a37",
       "version_major": 2,
       "version_minor": 0
      },
      "text/plain": [
       "HBox(children=(FloatProgress(value=0.0, description='Result', max=4.0, style=ProgressStyle(description_width='…"
      ]
     },
     "metadata": {},
     "output_type": "display_data"
    },
    {
     "name": "stdout",
     "output_type": "stream",
     "text": [
      "\n"
     ]
    },
    {
     "data": {
      "application/vnd.jupyter.widget-view+json": {
       "model_id": "7e201a55a51745bea3889f820ed9910d",
       "version_major": 2,
       "version_minor": 0
      },
      "text/plain": [
       "HBox(children=(FloatProgress(value=0.0, description='Result', max=4.0, style=ProgressStyle(description_width='…"
      ]
     },
     "metadata": {},
     "output_type": "display_data"
    },
    {
     "name": "stdout",
     "output_type": "stream",
     "text": [
      "\n"
     ]
    },
    {
     "data": {
      "application/vnd.jupyter.widget-view+json": {
       "model_id": "e65b828a42894e60b439d895c5d00b35",
       "version_major": 2,
       "version_minor": 0
      },
      "text/plain": [
       "HBox(children=(FloatProgress(value=0.0, description='Result', max=4.0, style=ProgressStyle(description_width='…"
      ]
     },
     "metadata": {},
     "output_type": "display_data"
    },
    {
     "name": "stdout",
     "output_type": "stream",
     "text": [
      "\n"
     ]
    },
    {
     "data": {
      "application/vnd.jupyter.widget-view+json": {
       "model_id": "2ee9cfd5ea54467599e3584913a99c72",
       "version_major": 2,
       "version_minor": 0
      },
      "text/plain": [
       "HBox(children=(FloatProgress(value=0.0, description='Result', max=4.0, style=ProgressStyle(description_width='…"
      ]
     },
     "metadata": {},
     "output_type": "display_data"
    },
    {
     "name": "stdout",
     "output_type": "stream",
     "text": [
      "\n"
     ]
    },
    {
     "data": {
      "application/vnd.jupyter.widget-view+json": {
       "model_id": "27b641aeb3f14c57a0e40f8a80445581",
       "version_major": 2,
       "version_minor": 0
      },
      "text/plain": [
       "HBox(children=(FloatProgress(value=0.0, description='Result', max=4.0, style=ProgressStyle(description_width='…"
      ]
     },
     "metadata": {},
     "output_type": "display_data"
    },
    {
     "name": "stdout",
     "output_type": "stream",
     "text": [
      "\n"
     ]
    },
    {
     "data": {
      "application/vnd.jupyter.widget-view+json": {
       "model_id": "1cb4dfc24c364995bd756eb5a7ac7720",
       "version_major": 2,
       "version_minor": 0
      },
      "text/plain": [
       "HBox(children=(FloatProgress(value=0.0, description='Result', max=4.0, style=ProgressStyle(description_width='…"
      ]
     },
     "metadata": {},
     "output_type": "display_data"
    },
    {
     "name": "stdout",
     "output_type": "stream",
     "text": [
      "\n"
     ]
    },
    {
     "data": {
      "application/vnd.jupyter.widget-view+json": {
       "model_id": "acda297525fd4e92b5250d1697e6ec44",
       "version_major": 2,
       "version_minor": 0
      },
      "text/plain": [
       "HBox(children=(FloatProgress(value=0.0, description='Result', max=4.0, style=ProgressStyle(description_width='…"
      ]
     },
     "metadata": {},
     "output_type": "display_data"
    },
    {
     "name": "stdout",
     "output_type": "stream",
     "text": [
      "\n"
     ]
    },
    {
     "data": {
      "application/vnd.jupyter.widget-view+json": {
       "model_id": "56ecf8a598a34f4589c7f450b4e3f91f",
       "version_major": 2,
       "version_minor": 0
      },
      "text/plain": [
       "HBox(children=(FloatProgress(value=0.0, description='Result', max=4.0, style=ProgressStyle(description_width='…"
      ]
     },
     "metadata": {},
     "output_type": "display_data"
    },
    {
     "name": "stdout",
     "output_type": "stream",
     "text": [
      "\n"
     ]
    },
    {
     "data": {
      "application/vnd.jupyter.widget-view+json": {
       "model_id": "a85d758dd9b0490181aa9d4bd9e1c5b6",
       "version_major": 2,
       "version_minor": 0
      },
      "text/plain": [
       "HBox(children=(FloatProgress(value=0.0, description='Result', max=4.0, style=ProgressStyle(description_width='…"
      ]
     },
     "metadata": {},
     "output_type": "display_data"
    },
    {
     "name": "stdout",
     "output_type": "stream",
     "text": [
      "\n"
     ]
    },
    {
     "data": {
      "application/vnd.jupyter.widget-view+json": {
       "model_id": "a17346d61f9444b191bc11e4c27d3df2",
       "version_major": 2,
       "version_minor": 0
      },
      "text/plain": [
       "HBox(children=(FloatProgress(value=0.0, description='Result', max=4.0, style=ProgressStyle(description_width='…"
      ]
     },
     "metadata": {},
     "output_type": "display_data"
    },
    {
     "name": "stdout",
     "output_type": "stream",
     "text": [
      "\n"
     ]
    },
    {
     "data": {
      "application/vnd.jupyter.widget-view+json": {
       "model_id": "a674e60cd30a4edcb3d204ce4425127e",
       "version_major": 2,
       "version_minor": 0
      },
      "text/plain": [
       "HBox(children=(FloatProgress(value=0.0, description='Result', max=4.0, style=ProgressStyle(description_width='…"
      ]
     },
     "metadata": {},
     "output_type": "display_data"
    },
    {
     "name": "stdout",
     "output_type": "stream",
     "text": [
      "\n"
     ]
    },
    {
     "data": {
      "application/vnd.jupyter.widget-view+json": {
       "model_id": "c9b2674fd717484fa1704b4205be679a",
       "version_major": 2,
       "version_minor": 0
      },
      "text/plain": [
       "HBox(children=(FloatProgress(value=0.0, description='Result', max=4.0, style=ProgressStyle(description_width='…"
      ]
     },
     "metadata": {},
     "output_type": "display_data"
    },
    {
     "name": "stdout",
     "output_type": "stream",
     "text": [
      "\n"
     ]
    },
    {
     "data": {
      "application/vnd.jupyter.widget-view+json": {
       "model_id": "ba5eabac0ddb48ef86b94c3472d60f5a",
       "version_major": 2,
       "version_minor": 0
      },
      "text/plain": [
       "HBox(children=(FloatProgress(value=0.0, description='Result', max=4.0, style=ProgressStyle(description_width='…"
      ]
     },
     "metadata": {},
     "output_type": "display_data"
    },
    {
     "name": "stdout",
     "output_type": "stream",
     "text": [
      "\n"
     ]
    },
    {
     "data": {
      "application/vnd.jupyter.widget-view+json": {
       "model_id": "8ff528c734c94702a748d1c8c0fa60da",
       "version_major": 2,
       "version_minor": 0
      },
      "text/plain": [
       "HBox(children=(FloatProgress(value=0.0, description='Result', max=4.0, style=ProgressStyle(description_width='…"
      ]
     },
     "metadata": {},
     "output_type": "display_data"
    },
    {
     "name": "stdout",
     "output_type": "stream",
     "text": [
      "\n"
     ]
    },
    {
     "data": {
      "application/vnd.jupyter.widget-view+json": {
       "model_id": "f3e92f2049a34409a3a8fb09dc4b13d5",
       "version_major": 2,
       "version_minor": 0
      },
      "text/plain": [
       "HBox(children=(FloatProgress(value=0.0, description='Result', max=4.0, style=ProgressStyle(description_width='…"
      ]
     },
     "metadata": {},
     "output_type": "display_data"
    },
    {
     "name": "stdout",
     "output_type": "stream",
     "text": [
      "\n"
     ]
    },
    {
     "data": {
      "application/vnd.jupyter.widget-view+json": {
       "model_id": "8c771e0e074b49d791f851932f67691c",
       "version_major": 2,
       "version_minor": 0
      },
      "text/plain": [
       "HBox(children=(FloatProgress(value=0.0, description='Result', max=4.0, style=ProgressStyle(description_width='…"
      ]
     },
     "metadata": {},
     "output_type": "display_data"
    },
    {
     "name": "stdout",
     "output_type": "stream",
     "text": [
      "\n"
     ]
    },
    {
     "data": {
      "application/vnd.jupyter.widget-view+json": {
       "model_id": "089c53ec27e94fbd88bebb6df2c2bb09",
       "version_major": 2,
       "version_minor": 0
      },
      "text/plain": [
       "HBox(children=(FloatProgress(value=0.0, description='Result', max=4.0, style=ProgressStyle(description_width='…"
      ]
     },
     "metadata": {},
     "output_type": "display_data"
    },
    {
     "name": "stdout",
     "output_type": "stream",
     "text": [
      "\n"
     ]
    },
    {
     "data": {
      "application/vnd.jupyter.widget-view+json": {
       "model_id": "11457247cfd44cf58345b60cb816ae2f",
       "version_major": 2,
       "version_minor": 0
      },
      "text/plain": [
       "HBox(children=(FloatProgress(value=0.0, description='Result', max=4.0, style=ProgressStyle(description_width='…"
      ]
     },
     "metadata": {},
     "output_type": "display_data"
    },
    {
     "name": "stdout",
     "output_type": "stream",
     "text": [
      "\n"
     ]
    },
    {
     "data": {
      "application/vnd.jupyter.widget-view+json": {
       "model_id": "ddaff9682179465ab4b66ddb3b4b0e57",
       "version_major": 2,
       "version_minor": 0
      },
      "text/plain": [
       "HBox(children=(FloatProgress(value=0.0, description='Result', max=4.0, style=ProgressStyle(description_width='…"
      ]
     },
     "metadata": {},
     "output_type": "display_data"
    },
    {
     "name": "stdout",
     "output_type": "stream",
     "text": [
      "\n"
     ]
    },
    {
     "data": {
      "application/vnd.jupyter.widget-view+json": {
       "model_id": "639b125b5bad452f867f48b93ac76b04",
       "version_major": 2,
       "version_minor": 0
      },
      "text/plain": [
       "HBox(children=(FloatProgress(value=0.0, description='Result', max=4.0, style=ProgressStyle(description_width='…"
      ]
     },
     "metadata": {},
     "output_type": "display_data"
    },
    {
     "name": "stdout",
     "output_type": "stream",
     "text": [
      "\n"
     ]
    },
    {
     "data": {
      "application/vnd.jupyter.widget-view+json": {
       "model_id": "239afa3f6e4141f9ba553107763989b4",
       "version_major": 2,
       "version_minor": 0
      },
      "text/plain": [
       "HBox(children=(FloatProgress(value=0.0, description='Result', max=4.0, style=ProgressStyle(description_width='…"
      ]
     },
     "metadata": {},
     "output_type": "display_data"
    },
    {
     "name": "stdout",
     "output_type": "stream",
     "text": [
      "\n"
     ]
    },
    {
     "data": {
      "application/vnd.jupyter.widget-view+json": {
       "model_id": "eeb600754a2646528251a4e2a37fba67",
       "version_major": 2,
       "version_minor": 0
      },
      "text/plain": [
       "HBox(children=(FloatProgress(value=0.0, description='Result', max=4.0, style=ProgressStyle(description_width='…"
      ]
     },
     "metadata": {},
     "output_type": "display_data"
    },
    {
     "name": "stdout",
     "output_type": "stream",
     "text": [
      "\n",
      "\n"
     ]
    }
   ],
   "source": [
    "CONDITION_FIELDS = list(Condition._fields)\n",
    "RUN_RESULTS_FIELDS = ['seed', 'total_params', 'max_val_acc', 'max_val_acc_step', \n",
    "                      'acc_threshold_step', 'acc_diff']\n",
    "COLUMNS = CONDITION_FIELDS + ['model_name'] + RUN_RESULTS_FIELDS\n",
    "\n",
    "\n",
    "def results_dict_to_df(results_dict):\n",
    "    rows = []\n",
    "    for condition, results_by_model in tqdm(results_dict.items(), desc='Condition'):\n",
    "        condition_row_prefix = list(condition)\n",
    "        for model_name, results_by_seed in tqdm(results_by_model.items(), desc='Result'):\n",
    "            for run_results in results_by_seed:\n",
    "                run_result_list = [run_results[field] for field in RUN_RESULTS_FIELDS]\n",
    "                rows.append(condition_row_prefix + [model_name] + run_result_list)\n",
    "                \n",
    "    return pd.DataFrame(rows, columns=COLUMNS)\n",
    "\n",
    "\n",
    "if 'all_results_df' not in cache:\n",
    "    cache['all_results_df'] = results_dict_to_df(all_results)\n",
    "    cache = refresh_cache(cache)\n",
    "    \n",
    "all_results_df = cache['all_results_df']"
   ]
  },
  {
   "cell_type": "markdown",
   "metadata": {},
   "source": [
    "# Plotting thoughts\n",
    "* I want a single plotting function that will generate a group of bar charts\n",
    "* Steps:\n",
    "    1. Filter out particular parts of the dataframe.\n",
    "    2. Group by one or more fields.\n",
    "    3. Aggregate (mean, sd) the metric of choice.\n",
    "    4. Group the bars by one of the group-by fields. \n",
    "* I probably want some way to specify formatting by the individual groups left (for example, a color for each model, a striping for each relation, ...)\n",
    "\n",
    "**TODO:** \n",
    "* Pretitfy names\n",
    "* Model (or other field orders)"
   ]
  },
  {
   "cell_type": "code",
   "execution_count": 118,
   "metadata": {},
   "outputs": [],
   "source": [
    "DEFAULT_ORDERS = dict(\n",
    "    model_name=['combined-object-mlp', 'cnn', 'relation-net', 'transformer'],\n",
    "    relation=['adjacent', 'above', 'count']\n",
    ")\n",
    "DEFAULT_COLORMAP = plt.get_cmap('Dark2')\n",
    "DEFAULT_BAR_KWARGS_BY_FIELD = defaultdict(lambda: defaultdict(dict))\n",
    "DEFAULT_BAR_KWARGS_BY_FIELD['model_name'] = {name: dict(color=DEFAULT_COLORMAP(i))\n",
    "                                             for i, name in enumerate(DEFAULT_MODEL_ORDER)}\n",
    "DEFAULT_BAR_KWARGS_BY_FIELD['num_objects'] = {5: {'hatch': ''}, 10: {'hatch': '/'}}\n",
    "\n",
    "DEFAULT_BAR_KWARGS = dict(edgecolor='black')\n",
    "\n",
    "DEFAULT_TEXT_KWARGS = dict(fontsize=16)\n",
    "\n",
    "PRETTY_NAMES = {\n",
    "    'cnn': 'CNN',\n",
    "    'combined-object-mlp': 'MLP',\n",
    "    'relation-net': 'RelationNet',\n",
    "    'max_val_acc': 'Validation Accuracy',\n",
    "    'model_config': 'Model Configuration Set'\n",
    "}\n",
    "\n",
    "\n",
    "def prettify(text):\n",
    "    if isinstance(text, int) and text > 1000:\n",
    "        return f'{text // 1000}k ($2^{{ {int(np.log2(text))} }}$)'\n",
    "    \n",
    "    text = str(text)\n",
    "    \n",
    "    if text in PRETTY_NAMES:\n",
    "        return PRETTY_NAMES[text]\n",
    "\n",
    "    return text.lower().replace('_', ' ').title()\n",
    "\n",
    "\n",
    "def create_bar_chart(df, filter_dict, group_by_fields, metric,\n",
    "                     orders=DEFAULT_ORDERS, sem=False, title=None,\n",
    "                     bar_kwargs_by_field=DEFAULT_BAR_KWARGS_BY_FIELD,\n",
    "                     bar_width=0.2, bar_spacing=0.5, default_bar_kwargs=DEFAULT_BAR_KWARGS,\n",
    "                     text_kwargs=DEFAULT_TEXT_KWARGS, save_path=None):\n",
    "    orders = copy.deepcopy(orders)\n",
    "    major_group_by = group_by_fields[0]\n",
    "    minor_group_by = group_by_fields[1:]\n",
    "    \n",
    "    if default_bar_kwargs is None:\n",
    "        default_bar_kwargs = dict()\n",
    "    \n",
    "    filtered_df = df\n",
    "    \n",
    "    if filter_dict is not None:\n",
    "        for filter_name, filter_value in filter_dict.items():\n",
    "            if isinstance(filter_value, (list, tuple)):\n",
    "                filtered_df = filtered_df[filtered_df[filter_name].isin(filter_value)]\n",
    "                if filter_name in orders:\n",
    "                    orders[filter_name] = list(filter(lambda v: v in filter_value, orders[filter_name]))\n",
    "            else:\n",
    "                filtered_df = filtered_df[filtered_df[filter_name].eq(filter_value)]\n",
    "            \n",
    "    grouped_df = filtered_df.groupby(group_by_fields)\n",
    "    mean = grouped_df[metric].mean()\n",
    "    std = grouped_df[metric].std()\n",
    "    if sem:\n",
    "        std /= np.sqrt(grouped_df[metric].count())\n",
    "\n",
    "    if major_group_by in orders:\n",
    "        major_group_values = orders[major_group_by]\n",
    "    else:\n",
    "        major_group_values = mean.index.unique(level=major_group_by)\n",
    "        \n",
    "    minor_group_values_list = []\n",
    "    \n",
    "    for minor_field_name in minor_group_by:\n",
    "        if minor_field_name in orders:\n",
    "            minor_group_values_list.append(orders[minor_field_name])\n",
    "        else:\n",
    "            minor_group_values_list.append(mean.index.unique(level=minor_field_name))\n",
    "    \n",
    "    major_kwargs = bar_kwargs_by_field[major_group_by]\n",
    "    minor_kwargs_list = [bar_kwargs_by_field[minor_field_name] for minor_field_name in minor_group_by]\n",
    "    \n",
    "    figure = plt.figure(figsize=(8, 6))\n",
    "    x = 0\n",
    "    \n",
    "    for major_level_value in major_group_values:\n",
    "        major_level_kwargs = major_kwargs[major_level_value]\n",
    "        \n",
    "        for minor_level_value_combination in itertools.product(*minor_group_values_list):\n",
    "            combined_minor_kwargs = {}\n",
    "            for i, value in enumerate(minor_level_value_combination):\\\n",
    "                combined_minor_kwargs.update(minor_kwargs_list[i][value])\n",
    "                \n",
    "            major_and_minor_key = (major_level_value, *minor_level_value_combination)\n",
    "            \n",
    "            m = mean.loc[major_and_minor_key]\n",
    "            s = std.loc[major_and_minor_key]\n",
    "            plt.bar(x, m, yerr=s, width=bar_width, **major_level_kwargs, **combined_minor_kwargs, **default_bar_kwargs)\n",
    "            \n",
    "            x += bar_width\n",
    "        \n",
    "        x += bar_spacing\n",
    "        \n",
    "    minor_group_length = np.product([len(values) for values in minor_group_values_list])\n",
    "    x_tick_locations = np.arange(len(major_group_values)) * (bar_spacing + bar_width * minor_group_length) +\\\n",
    "                        bar_width * (minor_group_length / 2 - 0.5)\n",
    "    plt.xticks(x_tick_locations, [prettify(val) for val in major_group_values], **text_kwargs)\n",
    "    plt.gca().tick_params(axis='both', which='major', labelsize=12)\n",
    "\n",
    "    plt.xlabel(prettify(major_group_by), **text_kwargs)\n",
    "    plt.ylabel(prettify(metric), **text_kwargs)\n",
    "    plt.title(title)\n",
    "    \n",
    "    patches = []\n",
    "    ncol = 0\n",
    "    for kwarg_set in [major_kwargs] + minor_kwargs_list:\n",
    "        if any([len(val) > 0 for val in kwarg_set.values()]):\n",
    "            ncol += 1\n",
    "            for field_value in kwarg_set:\n",
    "                patch_kwargs = dict(facecolor='none', edgecolor='black')\n",
    "                patch_kwargs.update(kwarg_set[field_value])\n",
    "                patches.append(matplotlib.patches.Patch(**patch_kwargs, label=prettify(field_value)))\n",
    "    \n",
    "    if len(patches) > 0: \n",
    "        plt.legend(handles=patches, loc='best', ncol=ncol, fontsize=12)\n",
    "    \n",
    "    if save_path is not None:\n",
    "        save_plot(save_path)\n",
    "    \n",
    "    plt.show()\n",
    "    "
   ]
  },
  {
   "cell_type": "code",
   "execution_count": 98,
   "metadata": {},
   "outputs": [
    {
     "name": "stderr",
     "output_type": "stream",
     "text": [
      "/misc/vlgscratch4/LakeGroup/guy/anaconda3/envs/rainbow/lib/python3.7/site-packages/ipykernel_launcher.py:56: FutureWarning: Interpreting tuple 'by' as a list of keys, rather than a single key. Use 'by=[...]' instead of 'by=(...)'. In the future, a tuple will always mean a single key.\n"
     ]
    },
    {
     "name": "stdout",
     "output_type": "stream",
     "text": [
      "Figure:\n",
      "\n",
      "\\begin{figure}[!htb]\n",
      "% \\vspace{-0.225in}\n",
      "\\centering\n",
      "\\includegraphics[width=\\linewidth]{figures/plots/default_5_16k_group_by_relation.pdf}\n",
      "\\caption{ {\\bf FIGURE TITLE.} FIGURE DESCRIPTION.}\n",
      "\\label{fig:plots-default-5-16k-group-by-relation}\n",
      "% \\vspace{-0.2in}\n",
      "\\end{figure}\n",
      "\n",
      "\n",
      "Wrapfigure:\n",
      "\n",
      "\\begin{wrapfigure}{r}{0.5\\linewidth}\n",
      "\\vspace{-.3in}\n",
      "\\begin{spacing}{1.0}\n",
      "\\centering\n",
      "\\includegraphics[width=0.95\\linewidth]{figures/plots/default_5_16k_group_by_relation.pdf}\n",
      "\\caption{ {\\bf FIGURE TITLE.} FIGURE DESCRIPTION.}\n",
      "\\label{fig:plots-default-5-16k-group-by-relation}\n",
      "\\end{spacing}\n",
      "% \\vspace{-.25in}\n",
      "\\end{wrapfigure}\n",
      "\n"
     ]
    },
    {
     "data": {
      "image/png": "[encoded data removed]",
      "text/plain": [
       "<Figure size 576x432 with 1 Axes>"
      ]
     },
     "metadata": {
      "needs_background": "light"
     },
     "output_type": "display_data"
    }
   ],
   "source": [
    "create_bar_chart(all_results_df, \n",
    "                 filter_dict=dict(model_config='default', num_objects=5, dataset_power=14), \n",
    "                 group_by_fields=('relation', 'model_name'),\n",
    "                 metric='max_val_acc',\n",
    "                 save_path='plots/default_5_16k_group_by_relation.pdf')\n"
   ]
  },
  {
   "cell_type": "code",
   "execution_count": 85,
   "metadata": {},
   "outputs": [
    {
     "name": "stderr",
     "output_type": "stream",
     "text": [
      "/misc/vlgscratch4/LakeGroup/guy/anaconda3/envs/rainbow/lib/python3.7/site-packages/ipykernel_launcher.py:51: FutureWarning: Interpreting tuple 'by' as a list of keys, rather than a single key. Use 'by=[...]' instead of 'by=(...)'. In the future, a tuple will always mean a single key.\n"
     ]
    },
    {
     "name": "stdout",
     "output_type": "stream",
     "text": [
      "Figure:\n",
      "\n",
      "\\begin{figure}[!htb]\n",
      "% \\vspace{-0.225in}\n",
      "\\centering\n",
      "\\includegraphics[width=\\linewidth]{figures/plots/default_5_adjacent_group_by_dataset_size.pdf}\n",
      "\\caption{ {\\bf FIGURE TITLE.} FIGURE DESCRIPTION.}\n",
      "\\label{fig:plots-default-5-adjacent-group-by-dataset-size}\n",
      "% \\vspace{-0.2in}\n",
      "\\end{figure}\n",
      "\n",
      "\n",
      "Wrapfigure:\n",
      "\n",
      "\\begin{wrapfigure}{r}{0.5\\linewidth}\n",
      "\\vspace{-.3in}\n",
      "\\begin{spacing}{1.0}\n",
      "\\centering\n",
      "\\includegraphics[width=0.95\\linewidth]{figures/plots/default_5_adjacent_group_by_dataset_size.pdf}\n",
      "\\caption{ {\\bf FIGURE TITLE.} FIGURE DESCRIPTION.}\n",
      "\\label{fig:plots-default-5-adjacent-group-by-dataset-size}\n",
      "\\end{spacing}\n",
      "% \\vspace{-.25in}\n",
      "\\end{wrapfigure}\n",
      "\n"
     ]
    },
    {
     "data": {
      "image/png": "[encoded data removed]",
      "text/plain": [
       "<Figure size 576x432 with 1 Axes>"
      ]
     },
     "metadata": {
      "needs_background": "light"
     },
     "output_type": "display_data"
    }
   ],
   "source": [
    "create_bar_chart(all_results_df, \n",
    "                 filter_dict=dict(model_config='default', num_objects=5, relation='adjacent'), \n",
    "                 group_by_fields=('dataset_size', 'model_name'),\n",
    "                 metric='max_val_acc',\n",
    "                 save_path='plots/default_5_adjacent_group_by_dataset_size.pdf')\n"
   ]
  },
  {
   "cell_type": "code",
   "execution_count": 121,
   "metadata": {
    "scrolled": false
   },
   "outputs": [
    {
     "name": "stderr",
     "output_type": "stream",
     "text": [
      "/misc/vlgscratch4/LakeGroup/guy/anaconda3/envs/rainbow/lib/python3.7/site-packages/ipykernel_launcher.py:120: UserWarning: Setting the 'color' property will override the edgecolor or facecolor properties.\n"
     ]
    },
    {
     "name": "stdout",
     "output_type": "stream",
     "text": [
      "Figure:\n",
      "\n",
      "\\begin{figure}[!htb]\n",
      "% \\vspace{-0.225in}\n",
      "\\centering\n",
      "\\includegraphics[width=\\linewidth]{figures/plots/default_adjacent_group_by_dataset_size_and_num_objects.pdf}\n",
      "\\caption{ {\\bf FIGURE TITLE.} FIGURE DESCRIPTION.}\n",
      "\\label{fig:plots-default-adjacent-group-by-dataset-size-and-num-objects}\n",
      "% \\vspace{-0.2in}\n",
      "\\end{figure}\n",
      "\n",
      "\n",
      "Wrapfigure:\n",
      "\n",
      "\\begin{wrapfigure}{r}{0.5\\linewidth}\n",
      "\\vspace{-.3in}\n",
      "\\begin{spacing}{1.0}\n",
      "\\centering\n",
      "\\includegraphics[width=0.95\\linewidth]{figures/plots/default_adjacent_group_by_dataset_size_and_num_objects.pdf}\n",
      "\\caption{ {\\bf FIGURE TITLE.} FIGURE DESCRIPTION.}\n",
      "\\label{fig:plots-default-adjacent-group-by-dataset-size-and-num-objects}\n",
      "\\end{spacing}\n",
      "% \\vspace{-.25in}\n",
      "\\end{wrapfigure}\n",
      "\n"
     ]
    },
    {
     "data": {
      "image/png": "[encoded data removed]",
      "text/plain": [
       "<Figure size 576x432 with 1 Axes>"
      ]
     },
     "metadata": {
      "needs_background": "light"
     },
     "output_type": "display_data"
    }
   ],
   "source": [
    "create_bar_chart(all_results_df, \n",
    "                 filter_dict=dict(model_config='default', relation='adjacent',\n",
    "                                  model_name=['relation-net', 'transformer']), \n",
    "                 group_by_fields=['dataset_size', 'model_name', 'num_objects'],\n",
    "                 metric='max_val_acc',\n",
    "                 save_path='plots/default_adjacent_group_by_dataset_size_and_num_objects.pdf'\n",
    "                )\n"
   ]
  },
  {
   "cell_type": "code",
   "execution_count": 120,
   "metadata": {},
   "outputs": [
    {
     "name": "stderr",
     "output_type": "stream",
     "text": [
      "/misc/vlgscratch4/LakeGroup/guy/anaconda3/envs/rainbow/lib/python3.7/site-packages/ipykernel_launcher.py:120: UserWarning: Setting the 'color' property will override the edgecolor or facecolor properties.\n"
     ]
    },
    {
     "name": "stdout",
     "output_type": "stream",
     "text": [
      "Figure:\n",
      "\n",
      "\\begin{figure}[!htb]\n",
      "% \\vspace{-0.225in}\n",
      "\\centering\n",
      "\\includegraphics[width=\\linewidth]{figures/plots/adjacent_group_by_model_config_and_num_objects.pdf}\n",
      "\\caption{ {\\bf FIGURE TITLE.} FIGURE DESCRIPTION.}\n",
      "\\label{fig:plots-adjacent-group-by-model-config-and-num-objects}\n",
      "% \\vspace{-0.2in}\n",
      "\\end{figure}\n",
      "\n",
      "\n",
      "Wrapfigure:\n",
      "\n",
      "\\begin{wrapfigure}{r}{0.5\\linewidth}\n",
      "\\vspace{-.3in}\n",
      "\\begin{spacing}{1.0}\n",
      "\\centering\n",
      "\\includegraphics[width=0.95\\linewidth]{figures/plots/adjacent_group_by_model_config_and_num_objects.pdf}\n",
      "\\caption{ {\\bf FIGURE TITLE.} FIGURE DESCRIPTION.}\n",
      "\\label{fig:plots-adjacent-group-by-model-config-and-num-objects}\n",
      "\\end{spacing}\n",
      "% \\vspace{-.25in}\n",
      "\\end{wrapfigure}\n",
      "\n"
     ]
    },
    {
     "data": {
      "image/png": "[encoded data removed]",
      "text/plain": [
       "<Figure size 576x432 with 1 Axes>"
      ]
     },
     "metadata": {
      "needs_background": "light"
     },
     "output_type": "display_data"
    }
   ],
   "source": [
    "create_bar_chart(all_results_df, \n",
    "                 filter_dict=dict(relation='adjacent', dataset_power=16,\n",
    "#                                   model_name=['relation-net', 'transformer']\n",
    "                                 ), \n",
    "                 group_by_fields=['model_config', 'model_name', 'num_objects'],\n",
    "                 metric='max_val_acc',\n",
    "                 save_path='plots/adjacent_group_by_model_config_and_num_objects.pdf'\n",
    "                )\n"
   ]
  },
  {
   "cell_type": "code",
   "execution_count": null,
   "metadata": {},
   "outputs": [],
   "source": []
  },
  {
   "cell_type": "code",
   "execution_count": null,
   "metadata": {},
   "outputs": [],
   "source": [
    "all_results_df.ov"
   ]
  },
  {
   "cell_type": "code",
   "execution_count": null,
   "metadata": {},
   "outputs": [],
   "source": []
  },
  {
   "cell_type": "code",
   "execution_count": null,
   "metadata": {},
   "outputs": [],
   "source": []
  },
  {
   "cell_type": "code",
   "execution_count": 113,
   "metadata": {},
   "outputs": [
    {
     "data": {
      "text/html": [
       "<div>\n",
       "<style scoped>\n",
       "    .dataframe tbody tr th:only-of-type {\n",
       "        vertical-align: middle;\n",
       "    }\n",
       "\n",
       "    .dataframe tbody tr th {\n",
       "        vertical-align: top;\n",
       "    }\n",
       "\n",
       "    .dataframe thead th {\n",
       "        text-align: right;\n",
       "    }\n",
       "</style>\n",
       "<table border=\"1\" class=\"dataframe\">\n",
       "  <thead>\n",
       "    <tr style=\"text-align: right;\">\n",
       "      <th></th>\n",
       "      <th>relation</th>\n",
       "      <th>model_config</th>\n",
       "      <th>num_objects</th>\n",
       "      <th>dataset_size</th>\n",
       "      <th>dataset_power</th>\n",
       "      <th>model_name</th>\n",
       "      <th>seed</th>\n",
       "      <th>total_params</th>\n",
       "      <th>max_val_acc</th>\n",
       "      <th>max_val_acc_step</th>\n",
       "      <th>acc_threshold_step</th>\n",
       "      <th>acc_diff</th>\n",
       "    </tr>\n",
       "  </thead>\n",
       "  <tbody>\n",
       "    <tr>\n",
       "      <td>0</td>\n",
       "      <td>count</td>\n",
       "      <td>larger</td>\n",
       "      <td>10</td>\n",
       "      <td>65536</td>\n",
       "      <td>16</td>\n",
       "      <td>cnn</td>\n",
       "      <td>109</td>\n",
       "      <td>34386</td>\n",
       "      <td>0.505615</td>\n",
       "      <td>1279</td>\n",
       "      <td>NaN</td>\n",
       "      <td>0.270279</td>\n",
       "    </tr>\n",
       "    <tr>\n",
       "      <td>1</td>\n",
       "      <td>count</td>\n",
       "      <td>larger</td>\n",
       "      <td>10</td>\n",
       "      <td>65536</td>\n",
       "      <td>16</td>\n",
       "      <td>cnn</td>\n",
       "      <td>108</td>\n",
       "      <td>34386</td>\n",
       "      <td>0.503906</td>\n",
       "      <td>319</td>\n",
       "      <td>NaN</td>\n",
       "      <td>0.234879</td>\n",
       "    </tr>\n",
       "    <tr>\n",
       "      <td>2</td>\n",
       "      <td>count</td>\n",
       "      <td>larger</td>\n",
       "      <td>10</td>\n",
       "      <td>65536</td>\n",
       "      <td>16</td>\n",
       "      <td>cnn</td>\n",
       "      <td>103</td>\n",
       "      <td>34386</td>\n",
       "      <td>0.501831</td>\n",
       "      <td>191</td>\n",
       "      <td>NaN</td>\n",
       "      <td>0.216309</td>\n",
       "    </tr>\n",
       "    <tr>\n",
       "      <td>3</td>\n",
       "      <td>count</td>\n",
       "      <td>larger</td>\n",
       "      <td>10</td>\n",
       "      <td>65536</td>\n",
       "      <td>16</td>\n",
       "      <td>cnn</td>\n",
       "      <td>104</td>\n",
       "      <td>34386</td>\n",
       "      <td>0.503723</td>\n",
       "      <td>575</td>\n",
       "      <td>NaN</td>\n",
       "      <td>0.227295</td>\n",
       "    </tr>\n",
       "    <tr>\n",
       "      <td>4</td>\n",
       "      <td>count</td>\n",
       "      <td>larger</td>\n",
       "      <td>10</td>\n",
       "      <td>65536</td>\n",
       "      <td>16</td>\n",
       "      <td>cnn</td>\n",
       "      <td>101</td>\n",
       "      <td>34386</td>\n",
       "      <td>0.505188</td>\n",
       "      <td>575</td>\n",
       "      <td>NaN</td>\n",
       "      <td>0.227631</td>\n",
       "    </tr>\n",
       "  </tbody>\n",
       "</table>\n",
       "</div>"
      ],
      "text/plain": [
       "  relation model_config  num_objects  dataset_size  dataset_power model_name  \\\n",
       "0    count       larger           10         65536             16        cnn   \n",
       "1    count       larger           10         65536             16        cnn   \n",
       "2    count       larger           10         65536             16        cnn   \n",
       "3    count       larger           10         65536             16        cnn   \n",
       "4    count       larger           10         65536             16        cnn   \n",
       "\n",
       "   seed  total_params  max_val_acc  max_val_acc_step  acc_threshold_step  \\\n",
       "0   109         34386     0.505615              1279                 NaN   \n",
       "1   108         34386     0.503906               319                 NaN   \n",
       "2   103         34386     0.501831               191                 NaN   \n",
       "3   104         34386     0.503723               575                 NaN   \n",
       "4   101         34386     0.505188               575                 NaN   \n",
       "\n",
       "   acc_diff  \n",
       "0  0.270279  \n",
       "1  0.234879  \n",
       "2  0.216309  \n",
       "3  0.227295  \n",
       "4  0.227631  "
      ]
     },
     "execution_count": 113,
     "metadata": {},
     "output_type": "execute_result"
    }
   ],
   "source": [
    "r = all_results_df[all_results_df.model_config == 'larger']\n",
    "r.head()\n",
    "# r = r[r.model_name.is != 'cnn']\n",
    "# r = r[r.model_name != 'combined-object-mlp']\n",
    "# r.loc[r.max_val_acc.idxmin()]"
   ]
  },
  {
   "cell_type": "code",
   "execution_count": 115,
   "metadata": {},
   "outputs": [
    {
     "data": {
      "text/plain": [
       "array([10,  5])"
      ]
     },
     "execution_count": 115,
     "metadata": {},
     "output_type": "execute_result"
    }
   ],
   "source": [
    "r.num_objects.unique()"
   ]
  },
  {
   "cell_type": "code",
   "execution_count": 116,
   "metadata": {},
   "outputs": [
    {
     "data": {
      "text/plain": [
       "array([65536])"
      ]
     },
     "execution_count": 116,
     "metadata": {},
     "output_type": "execute_result"
    }
   ],
   "source": [
    "r.dataset_size.unique()"
   ]
  },
  {
   "cell_type": "code",
   "execution_count": 117,
   "metadata": {},
   "outputs": [
    {
     "data": {
      "text/plain": [
       "array(['count', 'above', 'adjacent'], dtype=object)"
      ]
     },
     "execution_count": 117,
     "metadata": {},
     "output_type": "execute_result"
    }
   ],
   "source": [
    "r.relation.unique()"
   ]
  },
  {
   "cell_type": "code",
   "execution_count": null,
   "metadata": {},
   "outputs": [],
   "source": []
  },
  {
   "cell_type": "code",
   "execution_count": null,
   "metadata": {},
   "outputs": [],
   "source": []
  },
  {
   "cell_type": "code",
   "execution_count": null,
   "metadata": {},
   "outputs": [],
   "source": []
  },
  {
   "cell_type": "code",
   "execution_count": null,
   "metadata": {},
   "outputs": [],
   "source": []
  },
  {
   "cell_type": "code",
   "execution_count": null,
   "metadata": {},
   "outputs": [],
   "source": [
    "partial_df.groupby('model_name').mean()"
   ]
  },
  {
   "cell_type": "code",
   "execution_count": null,
   "metadata": {},
   "outputs": [],
   "source": [
    "for relation in ('adjacent', 'above', 'count'):\n",
    "    d = partial_df[partial_df['relation'] == relation]\n",
    "    print(d.head())\n",
    "    print(d.groupby('model_name').max_val_acc.mean())"
   ]
  },
  {
   "cell_type": "code",
   "execution_count": null,
   "metadata": {},
   "outputs": [],
   "source": [
    "partial_df.groupby(['relation', 'model_name']).mean()"
   ]
  },
  {
   "cell_type": "code",
   "execution_count": 16,
   "metadata": {},
   "outputs": [
    {
     "data": {
      "text/plain": [
       "'Hello World'"
      ]
     },
     "execution_count": 16,
     "metadata": {},
     "output_type": "execute_result"
    }
   ],
   "source": [
    "'hello world'.title()"
   ]
  },
  {
   "cell_type": "code",
   "execution_count": null,
   "metadata": {},
   "outputs": [],
   "source": []
  },
  {
   "cell_type": "code",
   "execution_count": null,
   "metadata": {},
   "outputs": [],
   "source": [
    "partial_df.head()"
   ]
  },
  {
   "cell_type": "code",
   "execution_count": null,
   "metadata": {},
   "outputs": [],
   "source": [
    "partial_df.tail()"
   ]
  },
  {
   "cell_type": "code",
   "execution_count": null,
   "metadata": {},
   "outputs": [],
   "source": []
  },
  {
   "cell_type": "code",
   "execution_count": null,
   "metadata": {},
   "outputs": [],
   "source": [
    "d = all_results_df.copy()"
   ]
  },
  {
   "cell_type": "code",
   "execution_count": null,
   "metadata": {},
   "outputs": [],
   "source": [
    "e = d[d['relation'].eq('adjacent')]"
   ]
  },
  {
   "cell_type": "code",
   "execution_count": null,
   "metadata": {},
   "outputs": [],
   "source": [
    "d.shape, e.shape"
   ]
  },
  {
   "cell_type": "code",
   "execution_count": null,
   "metadata": {
    "scrolled": true
   },
   "outputs": [],
   "source": [
    "g = e.groupby(['num_objects', 'model_name'])"
   ]
  },
  {
   "cell_type": "code",
   "execution_count": null,
   "metadata": {},
   "outputs": [],
   "source": [
    "np.sqrt(g['relation'].count())"
   ]
  },
  {
   "cell_type": "code",
   "execution_count": null,
   "metadata": {},
   "outputs": [],
   "source": [
    "r = g.max_val_acc.mean()"
   ]
  },
  {
   "cell_type": "code",
   "execution_count": null,
   "metadata": {},
   "outputs": [],
   "source": [
    "r.index.unique()"
   ]
  },
  {
   "cell_type": "code",
   "execution_count": null,
   "metadata": {},
   "outputs": [],
   "source": [
    "r.loc[(5, 'cnn')]"
   ]
  },
  {
   "cell_type": "code",
   "execution_count": null,
   "metadata": {},
   "outputs": [],
   "source": [
    "r.index.get_level_values('num_objects')"
   ]
  },
  {
   "cell_type": "code",
   "execution_count": null,
   "metadata": {},
   "outputs": [],
   "source": [
    "history_df = r.history(samples=10000)"
   ]
  },
  {
   "cell_type": "code",
   "execution_count": null,
   "metadata": {},
   "outputs": [],
   "source": [
    "history_df.columns"
   ]
  },
  {
   "cell_type": "code",
   "execution_count": null,
   "metadata": {},
   "outputs": [],
   "source": [
    "history_df.val_acc.idxmax()"
   ]
  },
  {
   "cell_type": "code",
   "execution_count": null,
   "metadata": {},
   "outputs": [],
   "source": [
    "history_df.iloc[3545]"
   ]
  },
  {
   "cell_type": "code",
   "execution_count": null,
   "metadata": {},
   "outputs": [],
   "source": [
    "history_df.iloc[:25]"
   ]
  },
  {
   "cell_type": "code",
   "execution_count": null,
   "metadata": {},
   "outputs": [],
   "source": [
    "2 => 1\n",
    "5 => 2\n",
    "8 => 3"
   ]
  },
  {
   "cell_type": "code",
   "execution_count": null,
   "metadata": {},
   "outputs": [],
   "source": [
    "h2 = runs[28].history()\n",
    "h2[:20]"
   ]
  },
  {
   "cell_type": "code",
   "execution_count": null,
   "metadata": {},
   "outputs": [],
   "source": [
    "h2.val_acc.isnull().sum()"
   ]
  },
  {
   "cell_type": "code",
   "execution_count": null,
   "metadata": {},
   "outputs": [],
   "source": [
    "history_df.val_acc[:501].isnull().sum()"
   ]
  },
  {
   "cell_type": "code",
   "execution_count": null,
   "metadata": {},
   "outputs": [],
   "source": [
    "(h2.val_acc > 0.8).idxmax()"
   ]
  },
  {
   "cell_type": "code",
   "execution_count": null,
   "metadata": {},
   "outputs": [],
   "source": [
    "h2.train_acc.max() - h2.val_acc.max()"
   ]
  },
  {
   "cell_type": "code",
   "execution_count": null,
   "metadata": {},
   "outputs": [],
   "source": []
  }
 ],
 "metadata": {
  "kernelspec": {
   "display_name": "Python [conda env:rainbow] *",
   "language": "python",
   "name": "conda-env-rainbow-py"
  },
  "language_info": {
   "codemirror_mode": {
    "name": "ipython",
    "version": 3
   },
   "file_extension": ".py",
   "mimetype": "text/x-python",
   "name": "python",
   "nbconvert_exporter": "python",
   "pygments_lexer": "ipython3",
   "version": "3.7.4"
  }
 },
 "nbformat": 4,
 "nbformat_minor": 2
}
