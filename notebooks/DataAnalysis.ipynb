{
 "cells": [
  {
   "cell_type": "code",
   "execution_count": 1,
   "metadata": {},
   "outputs": [],
   "source": [
    "%load_ext autoreload\n",
    "%autoreload 2\n",
    "%matplotlib inline"
   ]
  },
  {
   "cell_type": "code",
   "execution_count": 2,
   "metadata": {},
   "outputs": [
    {
     "name": "stdout",
     "output_type": "stream",
     "text": [
      "\u001b[34m\u001b[1mwandb\u001b[0m: Appending key for api.wandb.ai to your netrc file: /Users/guydavidson/.netrc\r\n",
      "\u001b[32mSuccessfully logged in to Weights & Biases!\u001b[0m\r\n"
     ]
    }
   ],
   "source": [
    "!wandb login 9676e3cc95066e4865586082971f2653245f09b4"
   ]
  },
  {
   "cell_type": "code",
   "execution_count": 3,
   "metadata": {},
   "outputs": [],
   "source": [
    "import copy\n",
    "from collections import defaultdict, namedtuple\n",
    "from datetime import datetime\n",
    "import itertools\n",
    "import os\n",
    "from pathlib import Path\n",
    "import pickle\n",
    "\n",
    "import numpy as np\n",
    "import pandas as pd\n",
    "import scipy\n",
    "from scipy import stats\n",
    "from scipy.special import factorial\n",
    "\n",
    "from mpl_toolkits.mplot3d import Axes3D\n",
    "import matplotlib\n",
    "import matplotlib.pyplot as plt\n",
    "from matplotlib import patches\n",
    "from matplotlib import path as mpath\n",
    "import matplotlib.gridspec as gridspec\n",
    "\n",
    "import tabulate\n",
    "import wandb\n",
    "from tqdm.notebook import tqdm"
   ]
  },
  {
   "cell_type": "code",
   "execution_count": 4,
   "metadata": {},
   "outputs": [],
   "source": [
    "api = wandb.Api()"
   ]
  },
  {
   "cell_type": "code",
   "execution_count": 40,
   "metadata": {},
   "outputs": [],
   "source": [
    "FIGURE_TEMPLATE = r'''\\begin{{figure}}[!htb]\n",
    "% \\vspace{{-0.225in}}\n",
    "\\centering\n",
    "\\includegraphics[width=\\linewidth]{{figures/{save_path}}}\n",
    "\\caption{{ {{\\bf FIGURE TITLE.}} FIGURE DESCRIPTION.}}\n",
    "\\label{{fig:{label_name}}}\n",
    "% \\vspace{{-0.2in}}\n",
    "\\end{{figure}}\n",
    "'''\n",
    "WRAPFIGURE_TEMPLATE = r'''\\begin{{wrapfigure}}{{r}}{{0.5\\linewidth}}\n",
    "\\vspace{{-.3in}}\n",
    "\\begin{{spacing}}{{1.0}}\n",
    "\\centering\n",
    "\\includegraphics[width=0.95\\linewidth]{{figures/{save_path}}}\n",
    "\\caption{{ {{\\bf FIGURE TITLE.}} FIGURE DESCRIPTION.}}\n",
    "\\label{{fig:{label_name}}}\n",
    "\\end{{spacing}}\n",
    "% \\vspace{{-.25in}}\n",
    "\\end{{wrapfigure}}'''\n",
    "\n",
    "SAVE_PATH_PREFIX = 'figures'\n",
    "\n",
    "\n",
    "def save_plot(save_path, bbox_inches='tight', should_print=False):\n",
    "    if save_path is not None:\n",
    "        save_path_no_ext = os.path.splitext(save_path)[0]\n",
    "        if should_print:\n",
    "            print('Figure:\\n')\n",
    "            print(FIGURE_TEMPLATE.format(save_path=save_path, label_name=save_path_no_ext.replace('/', '-').replace('_', '-')))\n",
    "            print('\\nWrapfigure:\\n')\n",
    "            print(WRAPFIGURE_TEMPLATE.format(save_path=save_path, label_name=save_path_no_ext.replace('/', '-').replace('_', '-')))\n",
    "            print('')\n",
    "        \n",
    "        if not save_path.startswith(SAVE_PATH_PREFIX):\n",
    "            save_path = os.path.join(SAVE_PATH_PREFIX, save_path)\n",
    "        \n",
    "        folder, filename = os.path.split(save_path)\n",
    "        os.makedirs(folder, exist_ok=True)\n",
    "        plt.savefig(save_path, bbox_inches=bbox_inches, facecolor=plt.gcf().get_facecolor(), edgecolor='none')"
   ]
  },
  {
   "cell_type": "code",
   "execution_count": 6,
   "metadata": {},
   "outputs": [],
   "source": [
    "Condition = namedtuple('Condition', ('relation', 'model_config', 'num_objects', 'dataset_size', 'dataset_power'))"
   ]
  },
  {
   "cell_type": "code",
   "execution_count": 7,
   "metadata": {},
   "outputs": [],
   "source": [
    "CACHE_PATH = './results_cache.pickle'\n",
    "BACKUP_CACHE_PATH = './results_cache_{date}.pickle'\n",
    "\n",
    "\n",
    "def refresh_cache(new_values_dict=None, cache_path=CACHE_PATH):\n",
    "    if new_values_dict is None:\n",
    "        new_values_dict = {}\n",
    "    \n",
    "    if os.path.exists(cache_path):\n",
    "        with open(cache_path, 'rb') as cache_file:\n",
    "            cache = pickle.load(cache_file)\n",
    "    \n",
    "    else:\n",
    "        cache = {}\n",
    "    \n",
    "    cache.update(new_values_dict)\n",
    "    \n",
    "    if os.path.exists(cache_path):\n",
    "        os.rename(CACHE_PATH, BACKUP_CACHE_PATH.format(date=datetime.now().strftime('%Y-%m-%d_%H-%M-%S')))\n",
    "\n",
    "    with open(cache_path, 'wb') as cache_file:\n",
    "        pickle.dump(cache, cache_file)\n",
    "\n",
    "    return cache\n",
    " \n",
    "\n",
    "cache = refresh_cache()"
   ]
  },
  {
   "cell_type": "code",
   "execution_count": 8,
   "metadata": {},
   "outputs": [
    {
     "name": "stdout",
     "output_type": "stream",
     "text": [
      "dict_keys(['all_results', 'all_results_df', 'all_results_fixed_checkpoints', 'all_results_fixed_checkpoints_df'])\n"
     ]
    }
   ],
   "source": [
    "print(cache.keys())"
   ]
  },
  {
   "cell_type": "markdown",
   "metadata": {},
   "source": [
    "# Game plan\n",
    "* Iterate through projects \n",
    "* Parse each project conditions from its name\n",
    "* Aggregate each of the following statistics by model:\n",
    "    * Peak accuracy\n",
    "    * Epoch in which peak accuracy takes place\n",
    "    * Epoch above some accuracy threshold\n",
    "    * Did the model overfit (delta between train and val?)\n",
    "* Start examining the effects of different manipulations:\n",
    "    * Choice of relation\n",
    "    * Number of objects\n",
    "    * Size of the training set\n",
    "    * Size of the model (in that one condition I ran larger)\n",
    "* Probably more bar charts tables than anything else, unless we need learning curves\n",
    "\n"
   ]
  },
  {
   "cell_type": "code",
   "execution_count": 22,
   "metadata": {},
   "outputs": [],
   "source": [
    "def name_to_condition(name):\n",
    "    relation, model_config, num_objects, dataset_size = name.split('-')[::2]\n",
    "    num_objects = int(num_objects)\n",
    "    dataset_size = int(dataset_size)\n",
    "    return Condition(relation=relation, model_config=model_config, num_objects=num_objects, \n",
    "                     dataset_size=dataset_size, dataset_power=int(np.log2(dataset_size)))\n",
    "\n",
    "\n",
    "def parse_run(run, num_samples=10000, accuracy_threshold=0.95):\n",
    "    history_df = run.history(samples=num_samples)\n",
    "    run_results = {}\n",
    "    \n",
    "    max_accuracy_index = history_df.val_acc.idxmax()\n",
    "    run_results['max_val_acc'] = history_df.val_acc[max_accuracy_index]\n",
    "    run_results['max_val_acc_step'] = history_df.global_step[max_accuracy_index]\n",
    "    \n",
    "    accuracy_above_treshold_index = (history_df.val_acc >= accuracy_threshold).idxmax()\n",
    "    if accuracy_above_treshold_index == 0:  # Never went above treshold\n",
    "        run_results['acc_threshold_step'] = None\n",
    "    else:\n",
    "        run_results['acc_threshold_step'] = history_df.global_step[accuracy_above_treshold_index]\n",
    "        \n",
    "    run_results['acc_diff'] = history_df.train_acc.max() - history_df.val_acc.max()\n",
    "    \n",
    "    return run_results\n",
    "    \n",
    "    \n",
    "def parse_project(project):\n",
    "    uri = f'{project.entity}/{project.name}'\n",
    "    runs = api.runs(uri)\n",
    "    results_by_model = defaultdict(list)\n",
    "    \n",
    "    for run in tqdm(runs, desc='Runs'):\n",
    "        seed_split_index = run.name.rindex('-')\n",
    "        model_name = run.name[:seed_split_index]\n",
    "        seed = int(run.name[seed_split_index + 1:])\n",
    "        \n",
    "        run_results = parse_run(run)\n",
    "        run_results['seed'] = seed\n",
    "        run_results['total_params'] = run.config['total_params']\n",
    "        \n",
    "        results_by_model[model_name].append(run_results)\n",
    "        \n",
    "    return results_by_model\n",
    "        \n",
    "        \n",
    "def parse_all_projects(entity='simple-relational-reasoning'):\n",
    "    projects = api.projects(entity)\n",
    "    results = {}\n",
    "    \n",
    "    print(projects)\n",
    "    for proj in tqdm([p for p in projects], desc='Projects'):\n",
    "        condition = name_to_condition(proj.name)\n",
    "#         print(proj.name)\n",
    "#         print(condition)\n",
    "        results[condition] = parse_project(proj)\n",
    "        \n",
    "    return results\n",
    "\n",
    "\n",
    "if 'all_results' not in cache:\n",
    "    cache['all_results'] = parse_all_projects()\n",
    "    cache = refresh_cache(cache)\n",
    "    \n",
    "all_results = cache['all_results']"
   ]
  },
  {
   "cell_type": "code",
   "execution_count": 23,
   "metadata": {
    "scrolled": false
   },
   "outputs": [
    {
     "name": "stdout",
     "output_type": "stream",
     "text": [
      "<Projects simple-relational-reasoning-fixed-checkpoints>\n"
     ]
    },
    {
     "data": {
      "application/vnd.jupyter.widget-view+json": {
       "model_id": "b34501760330469d9533fd97dae26a12",
       "version_major": 2,
       "version_minor": 0
      },
      "text/plain": [
       "HBox(children=(FloatProgress(value=0.0, description='Projects', max=32.0, style=ProgressStyle(description_widt…"
      ]
     },
     "metadata": {},
     "output_type": "display_data"
    },
    {
     "name": "stdout",
     "output_type": "stream",
     "text": [
      "between-relation-larger-models-10-objects-65536-dataset\n",
      "Condition(relation='between', model_config='larger', num_objects=10, dataset_size=65536, dataset_power=16)\n"
     ]
    },
    {
     "data": {
      "application/vnd.jupyter.widget-view+json": {
       "model_id": "d03275efeade47318f5c75b8e47177a7",
       "version_major": 2,
       "version_minor": 0
      },
      "text/plain": [
       "HBox(children=(FloatProgress(value=0.0, description='Runs', max=40.0, style=ProgressStyle(description_width='i…"
      ]
     },
     "metadata": {},
     "output_type": "display_data"
    },
    {
     "name": "stdout",
     "output_type": "stream",
     "text": [
      "\n",
      "count-relation-larger-models-10-objects-65536-dataset\n",
      "Condition(relation='count', model_config='larger', num_objects=10, dataset_size=65536, dataset_power=16)\n"
     ]
    },
    {
     "data": {
      "application/vnd.jupyter.widget-view+json": {
       "model_id": "a58f210203bd48499a779fea3cae900a",
       "version_major": 2,
       "version_minor": 0
      },
      "text/plain": [
       "HBox(children=(FloatProgress(value=0.0, description='Runs', max=40.0, style=ProgressStyle(description_width='i…"
      ]
     },
     "metadata": {},
     "output_type": "display_data"
    },
    {
     "name": "stdout",
     "output_type": "stream",
     "text": [
      "\n",
      "above-relation-larger-models-10-objects-65536-dataset\n",
      "Condition(relation='above', model_config='larger', num_objects=10, dataset_size=65536, dataset_power=16)\n"
     ]
    },
    {
     "data": {
      "application/vnd.jupyter.widget-view+json": {
       "model_id": "31f50f82c72e4133a0d85563b0bca32a",
       "version_major": 2,
       "version_minor": 0
      },
      "text/plain": [
       "HBox(children=(FloatProgress(value=0.0, description='Runs', max=40.0, style=ProgressStyle(description_width='i…"
      ]
     },
     "metadata": {},
     "output_type": "display_data"
    },
    {
     "name": "stdout",
     "output_type": "stream",
     "text": [
      "\n",
      "adjacent-relation-larger-models-10-objects-65536-dataset\n",
      "Condition(relation='adjacent', model_config='larger', num_objects=10, dataset_size=65536, dataset_power=16)\n"
     ]
    },
    {
     "data": {
      "application/vnd.jupyter.widget-view+json": {
       "model_id": "97dc6f7d3d2b4f1e970c4b2f5795e99e",
       "version_major": 2,
       "version_minor": 0
      },
      "text/plain": [
       "HBox(children=(FloatProgress(value=0.0, description='Runs', max=40.0, style=ProgressStyle(description_width='i…"
      ]
     },
     "metadata": {},
     "output_type": "display_data"
    },
    {
     "name": "stdout",
     "output_type": "stream",
     "text": [
      "\n",
      "between-relation-larger-models-5-objects-65536-dataset\n",
      "Condition(relation='between', model_config='larger', num_objects=5, dataset_size=65536, dataset_power=16)\n"
     ]
    },
    {
     "data": {
      "application/vnd.jupyter.widget-view+json": {
       "model_id": "4aa5bca6739b4c4e90a637d5c7e68856",
       "version_major": 2,
       "version_minor": 0
      },
      "text/plain": [
       "HBox(children=(FloatProgress(value=0.0, description='Runs', max=40.0, style=ProgressStyle(description_width='i…"
      ]
     },
     "metadata": {},
     "output_type": "display_data"
    },
    {
     "name": "stdout",
     "output_type": "stream",
     "text": [
      "\n",
      "count-relation-larger-models-5-objects-65536-dataset\n",
      "Condition(relation='count', model_config='larger', num_objects=5, dataset_size=65536, dataset_power=16)\n"
     ]
    },
    {
     "data": {
      "application/vnd.jupyter.widget-view+json": {
       "model_id": "d786556e1708483d9e200486d7b50f88",
       "version_major": 2,
       "version_minor": 0
      },
      "text/plain": [
       "HBox(children=(FloatProgress(value=0.0, description='Runs', max=40.0, style=ProgressStyle(description_width='i…"
      ]
     },
     "metadata": {},
     "output_type": "display_data"
    },
    {
     "name": "stdout",
     "output_type": "stream",
     "text": [
      "\n",
      "above-relation-larger-models-5-objects-65536-dataset\n",
      "Condition(relation='above', model_config='larger', num_objects=5, dataset_size=65536, dataset_power=16)\n"
     ]
    },
    {
     "data": {
      "application/vnd.jupyter.widget-view+json": {
       "model_id": "3c93049529d4436f844b11ec28362fea",
       "version_major": 2,
       "version_minor": 0
      },
      "text/plain": [
       "HBox(children=(FloatProgress(value=0.0, description='Runs', max=40.0, style=ProgressStyle(description_width='i…"
      ]
     },
     "metadata": {},
     "output_type": "display_data"
    },
    {
     "name": "stdout",
     "output_type": "stream",
     "text": [
      "\n",
      "adjacent-relation-larger-models-5-objects-65536-dataset\n",
      "Condition(relation='adjacent', model_config='larger', num_objects=5, dataset_size=65536, dataset_power=16)\n"
     ]
    },
    {
     "data": {
      "application/vnd.jupyter.widget-view+json": {
       "model_id": "20608f10cd764b66975b01924756da2c",
       "version_major": 2,
       "version_minor": 0
      },
      "text/plain": [
       "HBox(children=(FloatProgress(value=0.0, description='Runs', max=40.0, style=ProgressStyle(description_width='i…"
      ]
     },
     "metadata": {},
     "output_type": "display_data"
    },
    {
     "name": "stdout",
     "output_type": "stream",
     "text": [
      "\n",
      "between-relation-default-models-10-objects-65536-dataset\n",
      "Condition(relation='between', model_config='default', num_objects=10, dataset_size=65536, dataset_power=16)\n"
     ]
    },
    {
     "data": {
      "application/vnd.jupyter.widget-view+json": {
       "model_id": "63a04634495243b1a7acc262dc29ca28",
       "version_major": 2,
       "version_minor": 0
      },
      "text/plain": [
       "HBox(children=(FloatProgress(value=0.0, description='Runs', max=40.0, style=ProgressStyle(description_width='i…"
      ]
     },
     "metadata": {},
     "output_type": "display_data"
    },
    {
     "name": "stdout",
     "output_type": "stream",
     "text": [
      "\n",
      "count-relation-default-models-10-objects-65536-dataset\n",
      "Condition(relation='count', model_config='default', num_objects=10, dataset_size=65536, dataset_power=16)\n"
     ]
    },
    {
     "data": {
      "application/vnd.jupyter.widget-view+json": {
       "model_id": "905c06ae1b384908af32f4c51f7a5058",
       "version_major": 2,
       "version_minor": 0
      },
      "text/plain": [
       "HBox(children=(FloatProgress(value=0.0, description='Runs', max=40.0, style=ProgressStyle(description_width='i…"
      ]
     },
     "metadata": {},
     "output_type": "display_data"
    },
    {
     "name": "stdout",
     "output_type": "stream",
     "text": [
      "\n",
      "above-relation-default-models-10-objects-65536-dataset\n",
      "Condition(relation='above', model_config='default', num_objects=10, dataset_size=65536, dataset_power=16)\n"
     ]
    },
    {
     "data": {
      "application/vnd.jupyter.widget-view+json": {
       "model_id": "eac1fa10b9f647319f551e295263230d",
       "version_major": 2,
       "version_minor": 0
      },
      "text/plain": [
       "HBox(children=(FloatProgress(value=0.0, description='Runs', max=40.0, style=ProgressStyle(description_width='i…"
      ]
     },
     "metadata": {},
     "output_type": "display_data"
    },
    {
     "name": "stdout",
     "output_type": "stream",
     "text": [
      "\n",
      "adjacent-relation-default-models-10-objects-65536-dataset\n",
      "Condition(relation='adjacent', model_config='default', num_objects=10, dataset_size=65536, dataset_power=16)\n"
     ]
    },
    {
     "data": {
      "application/vnd.jupyter.widget-view+json": {
       "model_id": "3b47ef740b7541d9a6244356c074f530",
       "version_major": 2,
       "version_minor": 0
      },
      "text/plain": [
       "HBox(children=(FloatProgress(value=0.0, description='Runs', max=40.0, style=ProgressStyle(description_width='i…"
      ]
     },
     "metadata": {},
     "output_type": "display_data"
    },
    {
     "name": "stdout",
     "output_type": "stream",
     "text": [
      "\n",
      "between-relation-default-models-5-objects-65536-dataset\n",
      "Condition(relation='between', model_config='default', num_objects=5, dataset_size=65536, dataset_power=16)\n"
     ]
    },
    {
     "data": {
      "application/vnd.jupyter.widget-view+json": {
       "model_id": "74aa057f48984ec1bf99ce83a160ee87",
       "version_major": 2,
       "version_minor": 0
      },
      "text/plain": [
       "HBox(children=(FloatProgress(value=0.0, description='Runs', max=40.0, style=ProgressStyle(description_width='i…"
      ]
     },
     "metadata": {},
     "output_type": "display_data"
    },
    {
     "name": "stdout",
     "output_type": "stream",
     "text": [
      "\n",
      "count-relation-default-models-5-objects-65536-dataset\n",
      "Condition(relation='count', model_config='default', num_objects=5, dataset_size=65536, dataset_power=16)\n"
     ]
    },
    {
     "data": {
      "application/vnd.jupyter.widget-view+json": {
       "model_id": "6d246655b67542e583d179f0d7392c82",
       "version_major": 2,
       "version_minor": 0
      },
      "text/plain": [
       "HBox(children=(FloatProgress(value=0.0, description='Runs', max=40.0, style=ProgressStyle(description_width='i…"
      ]
     },
     "metadata": {},
     "output_type": "display_data"
    },
    {
     "name": "stdout",
     "output_type": "stream",
     "text": [
      "\n",
      "above-relation-default-models-5-objects-65536-dataset\n",
      "Condition(relation='above', model_config='default', num_objects=5, dataset_size=65536, dataset_power=16)\n"
     ]
    },
    {
     "data": {
      "application/vnd.jupyter.widget-view+json": {
       "model_id": "f838b5d0a3f94b76b8586cf2061bf21b",
       "version_major": 2,
       "version_minor": 0
      },
      "text/plain": [
       "HBox(children=(FloatProgress(value=0.0, description='Runs', max=40.0, style=ProgressStyle(description_width='i…"
      ]
     },
     "metadata": {},
     "output_type": "display_data"
    },
    {
     "name": "stdout",
     "output_type": "stream",
     "text": [
      "\n",
      "adjacent-relation-default-models-5-objects-65536-dataset\n",
      "Condition(relation='adjacent', model_config='default', num_objects=5, dataset_size=65536, dataset_power=16)\n"
     ]
    },
    {
     "data": {
      "application/vnd.jupyter.widget-view+json": {
       "model_id": "bdb4236ab37e46a8b266a1871438874e",
       "version_major": 2,
       "version_minor": 0
      },
      "text/plain": [
       "HBox(children=(FloatProgress(value=0.0, description='Runs', max=40.0, style=ProgressStyle(description_width='i…"
      ]
     },
     "metadata": {},
     "output_type": "display_data"
    },
    {
     "name": "stdout",
     "output_type": "stream",
     "text": [
      "\n",
      "between-relation-default-models-10-objects-16384-dataset\n",
      "Condition(relation='between', model_config='default', num_objects=10, dataset_size=16384, dataset_power=14)\n"
     ]
    },
    {
     "data": {
      "application/vnd.jupyter.widget-view+json": {
       "model_id": "a8e352fa34874a39b650926392fd5565",
       "version_major": 2,
       "version_minor": 0
      },
      "text/plain": [
       "HBox(children=(FloatProgress(value=0.0, description='Runs', max=40.0, style=ProgressStyle(description_width='i…"
      ]
     },
     "metadata": {},
     "output_type": "display_data"
    },
    {
     "name": "stdout",
     "output_type": "stream",
     "text": [
      "\n",
      "count-relation-default-models-10-objects-16384-dataset\n",
      "Condition(relation='count', model_config='default', num_objects=10, dataset_size=16384, dataset_power=14)\n"
     ]
    },
    {
     "data": {
      "application/vnd.jupyter.widget-view+json": {
       "model_id": "2616d6155f3a4574b3f016506347d035",
       "version_major": 2,
       "version_minor": 0
      },
      "text/plain": [
       "HBox(children=(FloatProgress(value=0.0, description='Runs', max=40.0, style=ProgressStyle(description_width='i…"
      ]
     },
     "metadata": {},
     "output_type": "display_data"
    },
    {
     "name": "stdout",
     "output_type": "stream",
     "text": [
      "\n",
      "above-relation-default-models-10-objects-16384-dataset\n",
      "Condition(relation='above', model_config='default', num_objects=10, dataset_size=16384, dataset_power=14)\n"
     ]
    },
    {
     "data": {
      "application/vnd.jupyter.widget-view+json": {
       "model_id": "aad604026ab748969bba8e53cd03c0f6",
       "version_major": 2,
       "version_minor": 0
      },
      "text/plain": [
       "HBox(children=(FloatProgress(value=0.0, description='Runs', max=40.0, style=ProgressStyle(description_width='i…"
      ]
     },
     "metadata": {},
     "output_type": "display_data"
    },
    {
     "name": "stdout",
     "output_type": "stream",
     "text": [
      "\n",
      "adjacent-relation-default-models-10-objects-16384-dataset\n",
      "Condition(relation='adjacent', model_config='default', num_objects=10, dataset_size=16384, dataset_power=14)\n"
     ]
    },
    {
     "data": {
      "application/vnd.jupyter.widget-view+json": {
       "model_id": "6893d07bc29440c38f69768b7b2359dc",
       "version_major": 2,
       "version_minor": 0
      },
      "text/plain": [
       "HBox(children=(FloatProgress(value=0.0, description='Runs', max=40.0, style=ProgressStyle(description_width='i…"
      ]
     },
     "metadata": {},
     "output_type": "display_data"
    },
    {
     "name": "stdout",
     "output_type": "stream",
     "text": [
      "\n",
      "between-relation-default-models-5-objects-16384-dataset\n",
      "Condition(relation='between', model_config='default', num_objects=5, dataset_size=16384, dataset_power=14)\n"
     ]
    },
    {
     "data": {
      "application/vnd.jupyter.widget-view+json": {
       "model_id": "06973e8df1f54c2189784612f4f17c41",
       "version_major": 2,
       "version_minor": 0
      },
      "text/plain": [
       "HBox(children=(FloatProgress(value=0.0, description='Runs', max=40.0, style=ProgressStyle(description_width='i…"
      ]
     },
     "metadata": {},
     "output_type": "display_data"
    },
    {
     "name": "stdout",
     "output_type": "stream",
     "text": [
      "\n",
      "count-relation-default-models-5-objects-16384-dataset\n",
      "Condition(relation='count', model_config='default', num_objects=5, dataset_size=16384, dataset_power=14)\n"
     ]
    },
    {
     "data": {
      "application/vnd.jupyter.widget-view+json": {
       "model_id": "c9e22b93292c4f3abb99f8c1f231f21a",
       "version_major": 2,
       "version_minor": 0
      },
      "text/plain": [
       "HBox(children=(FloatProgress(value=0.0, description='Runs', max=40.0, style=ProgressStyle(description_width='i…"
      ]
     },
     "metadata": {},
     "output_type": "display_data"
    },
    {
     "name": "stdout",
     "output_type": "stream",
     "text": [
      "\n",
      "above-relation-default-models-5-objects-16384-dataset\n",
      "Condition(relation='above', model_config='default', num_objects=5, dataset_size=16384, dataset_power=14)\n"
     ]
    },
    {
     "data": {
      "application/vnd.jupyter.widget-view+json": {
       "model_id": "908a3c8b52c144379199cb61fa093cf6",
       "version_major": 2,
       "version_minor": 0
      },
      "text/plain": [
       "HBox(children=(FloatProgress(value=0.0, description='Runs', max=40.0, style=ProgressStyle(description_width='i…"
      ]
     },
     "metadata": {},
     "output_type": "display_data"
    },
    {
     "name": "stdout",
     "output_type": "stream",
     "text": [
      "\n",
      "adjacent-relation-default-models-5-objects-16384-dataset\n",
      "Condition(relation='adjacent', model_config='default', num_objects=5, dataset_size=16384, dataset_power=14)\n"
     ]
    },
    {
     "data": {
      "application/vnd.jupyter.widget-view+json": {
       "model_id": "ce42bebd35ab45449caa2ca10b089d97",
       "version_major": 2,
       "version_minor": 0
      },
      "text/plain": [
       "HBox(children=(FloatProgress(value=0.0, description='Runs', max=40.0, style=ProgressStyle(description_width='i…"
      ]
     },
     "metadata": {},
     "output_type": "display_data"
    },
    {
     "name": "stdout",
     "output_type": "stream",
     "text": [
      "\n",
      "between-relation-default-models-10-objects-4096-dataset\n",
      "Condition(relation='between', model_config='default', num_objects=10, dataset_size=4096, dataset_power=12)\n"
     ]
    },
    {
     "data": {
      "application/vnd.jupyter.widget-view+json": {
       "model_id": "4cacfd71ec1244b7b35aac742cee6ce1",
       "version_major": 2,
       "version_minor": 0
      },
      "text/plain": [
       "HBox(children=(FloatProgress(value=0.0, description='Runs', max=40.0, style=ProgressStyle(description_width='i…"
      ]
     },
     "metadata": {},
     "output_type": "display_data"
    },
    {
     "name": "stdout",
     "output_type": "stream",
     "text": [
      "\n",
      "count-relation-default-models-10-objects-4096-dataset\n",
      "Condition(relation='count', model_config='default', num_objects=10, dataset_size=4096, dataset_power=12)\n"
     ]
    },
    {
     "data": {
      "application/vnd.jupyter.widget-view+json": {
       "model_id": "0999c6947aa04c2f99772151274cec40",
       "version_major": 2,
       "version_minor": 0
      },
      "text/plain": [
       "HBox(children=(FloatProgress(value=0.0, description='Runs', max=40.0, style=ProgressStyle(description_width='i…"
      ]
     },
     "metadata": {},
     "output_type": "display_data"
    },
    {
     "name": "stdout",
     "output_type": "stream",
     "text": [
      "\n",
      "above-relation-default-models-10-objects-4096-dataset\n",
      "Condition(relation='above', model_config='default', num_objects=10, dataset_size=4096, dataset_power=12)\n"
     ]
    },
    {
     "data": {
      "application/vnd.jupyter.widget-view+json": {
       "model_id": "fd9d6344dd204b20b243b5f1268a2638",
       "version_major": 2,
       "version_minor": 0
      },
      "text/plain": [
       "HBox(children=(FloatProgress(value=0.0, description='Runs', max=40.0, style=ProgressStyle(description_width='i…"
      ]
     },
     "metadata": {},
     "output_type": "display_data"
    },
    {
     "name": "stdout",
     "output_type": "stream",
     "text": [
      "\n",
      "adjacent-relation-default-models-10-objects-4096-dataset\n",
      "Condition(relation='adjacent', model_config='default', num_objects=10, dataset_size=4096, dataset_power=12)\n"
     ]
    },
    {
     "data": {
      "application/vnd.jupyter.widget-view+json": {
       "model_id": "05007ca434a248ee844e9815341e5553",
       "version_major": 2,
       "version_minor": 0
      },
      "text/plain": [
       "HBox(children=(FloatProgress(value=0.0, description='Runs', max=40.0, style=ProgressStyle(description_width='i…"
      ]
     },
     "metadata": {},
     "output_type": "display_data"
    },
    {
     "name": "stdout",
     "output_type": "stream",
     "text": [
      "\n",
      "between-relation-default-models-5-objects-4096-dataset\n",
      "Condition(relation='between', model_config='default', num_objects=5, dataset_size=4096, dataset_power=12)\n"
     ]
    },
    {
     "data": {
      "application/vnd.jupyter.widget-view+json": {
       "model_id": "330c90d69bce47209cfcc3970ce2080f",
       "version_major": 2,
       "version_minor": 0
      },
      "text/plain": [
       "HBox(children=(FloatProgress(value=0.0, description='Runs', max=40.0, style=ProgressStyle(description_width='i…"
      ]
     },
     "metadata": {},
     "output_type": "display_data"
    },
    {
     "name": "stdout",
     "output_type": "stream",
     "text": [
      "\n",
      "count-relation-default-models-5-objects-4096-dataset\n",
      "Condition(relation='count', model_config='default', num_objects=5, dataset_size=4096, dataset_power=12)\n"
     ]
    },
    {
     "data": {
      "application/vnd.jupyter.widget-view+json": {
       "model_id": "1ae836fa9670473080607ec1cd41c785",
       "version_major": 2,
       "version_minor": 0
      },
      "text/plain": [
       "HBox(children=(FloatProgress(value=0.0, description='Runs', max=40.0, style=ProgressStyle(description_width='i…"
      ]
     },
     "metadata": {},
     "output_type": "display_data"
    },
    {
     "name": "stdout",
     "output_type": "stream",
     "text": [
      "\n",
      "above-relation-default-models-5-objects-4096-dataset\n",
      "Condition(relation='above', model_config='default', num_objects=5, dataset_size=4096, dataset_power=12)\n"
     ]
    },
    {
     "data": {
      "application/vnd.jupyter.widget-view+json": {
       "model_id": "389dfb2bf2e34260bb4421cf0da640ea",
       "version_major": 2,
       "version_minor": 0
      },
      "text/plain": [
       "HBox(children=(FloatProgress(value=0.0, description='Runs', max=40.0, style=ProgressStyle(description_width='i…"
      ]
     },
     "metadata": {},
     "output_type": "display_data"
    },
    {
     "name": "stdout",
     "output_type": "stream",
     "text": [
      "\n",
      "adjacent-relation-default-models-5-objects-4096-dataset\n",
      "Condition(relation='adjacent', model_config='default', num_objects=5, dataset_size=4096, dataset_power=12)\n"
     ]
    },
    {
     "data": {
      "application/vnd.jupyter.widget-view+json": {
       "model_id": "253a47a16e954c2c82bb799599e875b5",
       "version_major": 2,
       "version_minor": 0
      },
      "text/plain": [
       "HBox(children=(FloatProgress(value=0.0, description='Runs', max=40.0, style=ProgressStyle(description_width='i…"
      ]
     },
     "metadata": {},
     "output_type": "display_data"
    },
    {
     "name": "stdout",
     "output_type": "stream",
     "text": [
      "\n",
      "\n"
     ]
    }
   ],
   "source": [
    "if 'all_results_fixed_checkpoints' not in cache:\n",
    "    cache['all_results_fixed_checkpoints'] = parse_all_projects(entity='simple-relational-reasoning-fixed-checkpoints')\n",
    "    cache = refresh_cache(cache)\n",
    "    \n",
    "all_results_fixed_checkpoints = cache['all_results_fixed_checkpoints']"
   ]
  },
  {
   "cell_type": "code",
   "execution_count": 29,
   "metadata": {},
   "outputs": [],
   "source": [
    "CONDITION_FIELDS = list(Condition._fields)\n",
    "RUN_RESULTS_FIELDS = ['seed', 'total_params', 'max_val_acc', 'max_val_acc_step', \n",
    "                      'acc_threshold_step', 'acc_diff']\n",
    "COLUMNS = CONDITION_FIELDS + ['model_name'] + RUN_RESULTS_FIELDS\n",
    "\n",
    "\n",
    "def results_dict_to_df(results_dict):\n",
    "    rows = []\n",
    "    for condition, results_by_model in tqdm(results_dict.items(), desc='Condition'):\n",
    "        condition_row_prefix = list(condition)\n",
    "#         print(condition_row_prefix)\n",
    "        for model_name, results_by_seed in tqdm(results_by_model.items(), desc='Result'):\n",
    "            for run_results in results_by_seed:\n",
    "                run_result_list = [run_results[field] for field in RUN_RESULTS_FIELDS]\n",
    "                rows.append(condition_row_prefix + [model_name] + run_result_list)\n",
    "                \n",
    "    return pd.DataFrame(rows, columns=COLUMNS)\n",
    "\n",
    "\n",
    "if 'all_results_df' not in cache:\n",
    "    cache['all_results_df'] = results_dict_to_df(all_results)\n",
    "    cache = refresh_cache(cache)\n",
    "    \n",
    "all_results_df = cache['all_results_df']"
   ]
  },
  {
   "cell_type": "code",
   "execution_count": 30,
   "metadata": {
    "scrolled": false
   },
   "outputs": [
    {
     "data": {
      "application/vnd.jupyter.widget-view+json": {
       "model_id": "ab3fd9a3388e40049055eedcdc9df0f4",
       "version_major": 2,
       "version_minor": 0
      },
      "text/plain": [
       "HBox(children=(FloatProgress(value=0.0, description='Condition', max=32.0, style=ProgressStyle(description_wid…"
      ]
     },
     "metadata": {},
     "output_type": "display_data"
    },
    {
     "name": "stdout",
     "output_type": "stream",
     "text": [
      "['between', 'larger', 10, 65536, 16]\n"
     ]
    },
    {
     "data": {
      "application/vnd.jupyter.widget-view+json": {
       "model_id": "cd21e82c43c2404fb691e1a21ec43b06",
       "version_major": 2,
       "version_minor": 0
      },
      "text/plain": [
       "HBox(children=(FloatProgress(value=0.0, description='Result', max=4.0, style=ProgressStyle(description_width='…"
      ]
     },
     "metadata": {},
     "output_type": "display_data"
    },
    {
     "name": "stdout",
     "output_type": "stream",
     "text": [
      "\n",
      "['count', 'larger', 10, 65536, 16]\n"
     ]
    },
    {
     "data": {
      "application/vnd.jupyter.widget-view+json": {
       "model_id": "6195697599fe493eb2c160b9831178ab",
       "version_major": 2,
       "version_minor": 0
      },
      "text/plain": [
       "HBox(children=(FloatProgress(value=0.0, description='Result', max=4.0, style=ProgressStyle(description_width='…"
      ]
     },
     "metadata": {},
     "output_type": "display_data"
    },
    {
     "name": "stdout",
     "output_type": "stream",
     "text": [
      "\n",
      "['above', 'larger', 10, 65536, 16]\n"
     ]
    },
    {
     "data": {
      "application/vnd.jupyter.widget-view+json": {
       "model_id": "b98f56fac8414a50915bf40bcc5cf0bb",
       "version_major": 2,
       "version_minor": 0
      },
      "text/plain": [
       "HBox(children=(FloatProgress(value=0.0, description='Result', max=4.0, style=ProgressStyle(description_width='…"
      ]
     },
     "metadata": {},
     "output_type": "display_data"
    },
    {
     "name": "stdout",
     "output_type": "stream",
     "text": [
      "\n",
      "['adjacent', 'larger', 10, 65536, 16]\n"
     ]
    },
    {
     "data": {
      "application/vnd.jupyter.widget-view+json": {
       "model_id": "dea6140030b34d7f81871b8a71d1cd5a",
       "version_major": 2,
       "version_minor": 0
      },
      "text/plain": [
       "HBox(children=(FloatProgress(value=0.0, description='Result', max=4.0, style=ProgressStyle(description_width='…"
      ]
     },
     "metadata": {},
     "output_type": "display_data"
    },
    {
     "name": "stdout",
     "output_type": "stream",
     "text": [
      "\n",
      "['between', 'larger', 5, 65536, 16]\n"
     ]
    },
    {
     "data": {
      "application/vnd.jupyter.widget-view+json": {
       "model_id": "24c82010c99642518722dc2c842d8b64",
       "version_major": 2,
       "version_minor": 0
      },
      "text/plain": [
       "HBox(children=(FloatProgress(value=0.0, description='Result', max=4.0, style=ProgressStyle(description_width='…"
      ]
     },
     "metadata": {},
     "output_type": "display_data"
    },
    {
     "name": "stdout",
     "output_type": "stream",
     "text": [
      "\n",
      "['count', 'larger', 5, 65536, 16]\n"
     ]
    },
    {
     "data": {
      "application/vnd.jupyter.widget-view+json": {
       "model_id": "95a43bc9a87748c8a8445b852dc16dd9",
       "version_major": 2,
       "version_minor": 0
      },
      "text/plain": [
       "HBox(children=(FloatProgress(value=0.0, description='Result', max=4.0, style=ProgressStyle(description_width='…"
      ]
     },
     "metadata": {},
     "output_type": "display_data"
    },
    {
     "name": "stdout",
     "output_type": "stream",
     "text": [
      "\n",
      "['above', 'larger', 5, 65536, 16]\n"
     ]
    },
    {
     "data": {
      "application/vnd.jupyter.widget-view+json": {
       "model_id": "e69c47a0cdf64f0fa9cd5cc8b8cfd001",
       "version_major": 2,
       "version_minor": 0
      },
      "text/plain": [
       "HBox(children=(FloatProgress(value=0.0, description='Result', max=4.0, style=ProgressStyle(description_width='…"
      ]
     },
     "metadata": {},
     "output_type": "display_data"
    },
    {
     "name": "stdout",
     "output_type": "stream",
     "text": [
      "\n",
      "['adjacent', 'larger', 5, 65536, 16]\n"
     ]
    },
    {
     "data": {
      "application/vnd.jupyter.widget-view+json": {
       "model_id": "c81b349b548d420e8ebe3d3b58947b7d",
       "version_major": 2,
       "version_minor": 0
      },
      "text/plain": [
       "HBox(children=(FloatProgress(value=0.0, description='Result', max=4.0, style=ProgressStyle(description_width='…"
      ]
     },
     "metadata": {},
     "output_type": "display_data"
    },
    {
     "name": "stdout",
     "output_type": "stream",
     "text": [
      "\n",
      "['between', 'default', 10, 65536, 16]\n"
     ]
    },
    {
     "data": {
      "application/vnd.jupyter.widget-view+json": {
       "model_id": "639ebe9fc1854bec8d31265eb6afa470",
       "version_major": 2,
       "version_minor": 0
      },
      "text/plain": [
       "HBox(children=(FloatProgress(value=0.0, description='Result', max=4.0, style=ProgressStyle(description_width='…"
      ]
     },
     "metadata": {},
     "output_type": "display_data"
    },
    {
     "name": "stdout",
     "output_type": "stream",
     "text": [
      "\n",
      "['count', 'default', 10, 65536, 16]\n"
     ]
    },
    {
     "data": {
      "application/vnd.jupyter.widget-view+json": {
       "model_id": "7d9b94b5e9d34c11bb409f29b448f93f",
       "version_major": 2,
       "version_minor": 0
      },
      "text/plain": [
       "HBox(children=(FloatProgress(value=0.0, description='Result', max=4.0, style=ProgressStyle(description_width='…"
      ]
     },
     "metadata": {},
     "output_type": "display_data"
    },
    {
     "name": "stdout",
     "output_type": "stream",
     "text": [
      "\n",
      "['above', 'default', 10, 65536, 16]\n"
     ]
    },
    {
     "data": {
      "application/vnd.jupyter.widget-view+json": {
       "model_id": "82605a8e41d6437b841c8c57c5f5d290",
       "version_major": 2,
       "version_minor": 0
      },
      "text/plain": [
       "HBox(children=(FloatProgress(value=0.0, description='Result', max=4.0, style=ProgressStyle(description_width='…"
      ]
     },
     "metadata": {},
     "output_type": "display_data"
    },
    {
     "name": "stdout",
     "output_type": "stream",
     "text": [
      "\n",
      "['adjacent', 'default', 10, 65536, 16]\n"
     ]
    },
    {
     "data": {
      "application/vnd.jupyter.widget-view+json": {
       "model_id": "786fe1f2f3a74e649766ca3c28138b29",
       "version_major": 2,
       "version_minor": 0
      },
      "text/plain": [
       "HBox(children=(FloatProgress(value=0.0, description='Result', max=4.0, style=ProgressStyle(description_width='…"
      ]
     },
     "metadata": {},
     "output_type": "display_data"
    },
    {
     "name": "stdout",
     "output_type": "stream",
     "text": [
      "\n",
      "['between', 'default', 5, 65536, 16]\n"
     ]
    },
    {
     "data": {
      "application/vnd.jupyter.widget-view+json": {
       "model_id": "fbfd4dfdc605401a965f8f1b9ec53e5e",
       "version_major": 2,
       "version_minor": 0
      },
      "text/plain": [
       "HBox(children=(FloatProgress(value=0.0, description='Result', max=4.0, style=ProgressStyle(description_width='…"
      ]
     },
     "metadata": {},
     "output_type": "display_data"
    },
    {
     "name": "stdout",
     "output_type": "stream",
     "text": [
      "\n",
      "['count', 'default', 5, 65536, 16]\n"
     ]
    },
    {
     "data": {
      "application/vnd.jupyter.widget-view+json": {
       "model_id": "8bd57b454d02422aa6b1a73651d4f403",
       "version_major": 2,
       "version_minor": 0
      },
      "text/plain": [
       "HBox(children=(FloatProgress(value=0.0, description='Result', max=4.0, style=ProgressStyle(description_width='…"
      ]
     },
     "metadata": {},
     "output_type": "display_data"
    },
    {
     "name": "stdout",
     "output_type": "stream",
     "text": [
      "\n",
      "['above', 'default', 5, 65536, 16]\n"
     ]
    },
    {
     "data": {
      "application/vnd.jupyter.widget-view+json": {
       "model_id": "9157b9c6d155429b94c8cee4e4aa8128",
       "version_major": 2,
       "version_minor": 0
      },
      "text/plain": [
       "HBox(children=(FloatProgress(value=0.0, description='Result', max=4.0, style=ProgressStyle(description_width='…"
      ]
     },
     "metadata": {},
     "output_type": "display_data"
    },
    {
     "name": "stdout",
     "output_type": "stream",
     "text": [
      "\n",
      "['adjacent', 'default', 5, 65536, 16]\n"
     ]
    },
    {
     "data": {
      "application/vnd.jupyter.widget-view+json": {
       "model_id": "966e63e430fb480cafa15755f97d4a99",
       "version_major": 2,
       "version_minor": 0
      },
      "text/plain": [
       "HBox(children=(FloatProgress(value=0.0, description='Result', max=4.0, style=ProgressStyle(description_width='…"
      ]
     },
     "metadata": {},
     "output_type": "display_data"
    },
    {
     "name": "stdout",
     "output_type": "stream",
     "text": [
      "\n",
      "['between', 'default', 10, 16384, 14]\n"
     ]
    },
    {
     "data": {
      "application/vnd.jupyter.widget-view+json": {
       "model_id": "7b4d0d3994e846f88c48fafd6c242da6",
       "version_major": 2,
       "version_minor": 0
      },
      "text/plain": [
       "HBox(children=(FloatProgress(value=0.0, description='Result', max=4.0, style=ProgressStyle(description_width='…"
      ]
     },
     "metadata": {},
     "output_type": "display_data"
    },
    {
     "name": "stdout",
     "output_type": "stream",
     "text": [
      "\n",
      "['count', 'default', 10, 16384, 14]\n"
     ]
    },
    {
     "data": {
      "application/vnd.jupyter.widget-view+json": {
       "model_id": "4dd879e4771b4e0ba6e1e467880f2588",
       "version_major": 2,
       "version_minor": 0
      },
      "text/plain": [
       "HBox(children=(FloatProgress(value=0.0, description='Result', max=4.0, style=ProgressStyle(description_width='…"
      ]
     },
     "metadata": {},
     "output_type": "display_data"
    },
    {
     "name": "stdout",
     "output_type": "stream",
     "text": [
      "\n",
      "['above', 'default', 10, 16384, 14]\n"
     ]
    },
    {
     "data": {
      "application/vnd.jupyter.widget-view+json": {
       "model_id": "b831fc1eda87437ba2d3fab5669d6f0f",
       "version_major": 2,
       "version_minor": 0
      },
      "text/plain": [
       "HBox(children=(FloatProgress(value=0.0, description='Result', max=4.0, style=ProgressStyle(description_width='…"
      ]
     },
     "metadata": {},
     "output_type": "display_data"
    },
    {
     "name": "stdout",
     "output_type": "stream",
     "text": [
      "\n",
      "['adjacent', 'default', 10, 16384, 14]\n"
     ]
    },
    {
     "data": {
      "application/vnd.jupyter.widget-view+json": {
       "model_id": "552422754a88472584219f3acea94912",
       "version_major": 2,
       "version_minor": 0
      },
      "text/plain": [
       "HBox(children=(FloatProgress(value=0.0, description='Result', max=4.0, style=ProgressStyle(description_width='…"
      ]
     },
     "metadata": {},
     "output_type": "display_data"
    },
    {
     "name": "stdout",
     "output_type": "stream",
     "text": [
      "\n",
      "['between', 'default', 5, 16384, 14]\n"
     ]
    },
    {
     "data": {
      "application/vnd.jupyter.widget-view+json": {
       "model_id": "4345618a2d014e718d0a0ba19bb73254",
       "version_major": 2,
       "version_minor": 0
      },
      "text/plain": [
       "HBox(children=(FloatProgress(value=0.0, description='Result', max=4.0, style=ProgressStyle(description_width='…"
      ]
     },
     "metadata": {},
     "output_type": "display_data"
    },
    {
     "name": "stdout",
     "output_type": "stream",
     "text": [
      "\n",
      "['count', 'default', 5, 16384, 14]\n"
     ]
    },
    {
     "data": {
      "application/vnd.jupyter.widget-view+json": {
       "model_id": "08441e6ef3f6494fae0f2a10994c1013",
       "version_major": 2,
       "version_minor": 0
      },
      "text/plain": [
       "HBox(children=(FloatProgress(value=0.0, description='Result', max=4.0, style=ProgressStyle(description_width='…"
      ]
     },
     "metadata": {},
     "output_type": "display_data"
    },
    {
     "name": "stdout",
     "output_type": "stream",
     "text": [
      "\n",
      "['above', 'default', 5, 16384, 14]\n"
     ]
    },
    {
     "data": {
      "application/vnd.jupyter.widget-view+json": {
       "model_id": "7767ccbb4a7b4b90b03c8bcb026b58a0",
       "version_major": 2,
       "version_minor": 0
      },
      "text/plain": [
       "HBox(children=(FloatProgress(value=0.0, description='Result', max=4.0, style=ProgressStyle(description_width='…"
      ]
     },
     "metadata": {},
     "output_type": "display_data"
    },
    {
     "name": "stdout",
     "output_type": "stream",
     "text": [
      "\n",
      "['adjacent', 'default', 5, 16384, 14]\n"
     ]
    },
    {
     "data": {
      "application/vnd.jupyter.widget-view+json": {
       "model_id": "3786ef28c62c42729b1da22fa53452cb",
       "version_major": 2,
       "version_minor": 0
      },
      "text/plain": [
       "HBox(children=(FloatProgress(value=0.0, description='Result', max=4.0, style=ProgressStyle(description_width='…"
      ]
     },
     "metadata": {},
     "output_type": "display_data"
    },
    {
     "name": "stdout",
     "output_type": "stream",
     "text": [
      "\n",
      "['between', 'default', 10, 4096, 12]\n"
     ]
    },
    {
     "data": {
      "application/vnd.jupyter.widget-view+json": {
       "model_id": "daa75cb55b134f458418eee4e233e1f9",
       "version_major": 2,
       "version_minor": 0
      },
      "text/plain": [
       "HBox(children=(FloatProgress(value=0.0, description='Result', max=4.0, style=ProgressStyle(description_width='…"
      ]
     },
     "metadata": {},
     "output_type": "display_data"
    },
    {
     "name": "stdout",
     "output_type": "stream",
     "text": [
      "\n",
      "['count', 'default', 10, 4096, 12]\n"
     ]
    },
    {
     "data": {
      "application/vnd.jupyter.widget-view+json": {
       "model_id": "6fbf05cefc2849cba8b1ab1e957349a2",
       "version_major": 2,
       "version_minor": 0
      },
      "text/plain": [
       "HBox(children=(FloatProgress(value=0.0, description='Result', max=4.0, style=ProgressStyle(description_width='…"
      ]
     },
     "metadata": {},
     "output_type": "display_data"
    },
    {
     "name": "stdout",
     "output_type": "stream",
     "text": [
      "\n",
      "['above', 'default', 10, 4096, 12]\n"
     ]
    },
    {
     "data": {
      "application/vnd.jupyter.widget-view+json": {
       "model_id": "5c55194466ca431bb2281a019b594bfe",
       "version_major": 2,
       "version_minor": 0
      },
      "text/plain": [
       "HBox(children=(FloatProgress(value=0.0, description='Result', max=4.0, style=ProgressStyle(description_width='…"
      ]
     },
     "metadata": {},
     "output_type": "display_data"
    },
    {
     "name": "stdout",
     "output_type": "stream",
     "text": [
      "\n",
      "['adjacent', 'default', 10, 4096, 12]\n"
     ]
    },
    {
     "data": {
      "application/vnd.jupyter.widget-view+json": {
       "model_id": "ebc9a6947a0b4b9aa9ee64957a9cbd9d",
       "version_major": 2,
       "version_minor": 0
      },
      "text/plain": [
       "HBox(children=(FloatProgress(value=0.0, description='Result', max=4.0, style=ProgressStyle(description_width='…"
      ]
     },
     "metadata": {},
     "output_type": "display_data"
    },
    {
     "name": "stdout",
     "output_type": "stream",
     "text": [
      "\n",
      "['between', 'default', 5, 4096, 12]\n"
     ]
    },
    {
     "data": {
      "application/vnd.jupyter.widget-view+json": {
       "model_id": "8d82544018204450984cd7c1396e7464",
       "version_major": 2,
       "version_minor": 0
      },
      "text/plain": [
       "HBox(children=(FloatProgress(value=0.0, description='Result', max=4.0, style=ProgressStyle(description_width='…"
      ]
     },
     "metadata": {},
     "output_type": "display_data"
    },
    {
     "name": "stdout",
     "output_type": "stream",
     "text": [
      "\n",
      "['count', 'default', 5, 4096, 12]\n"
     ]
    },
    {
     "data": {
      "application/vnd.jupyter.widget-view+json": {
       "model_id": "d3f0072323974773b6461cdcdfdc3cc8",
       "version_major": 2,
       "version_minor": 0
      },
      "text/plain": [
       "HBox(children=(FloatProgress(value=0.0, description='Result', max=4.0, style=ProgressStyle(description_width='…"
      ]
     },
     "metadata": {},
     "output_type": "display_data"
    },
    {
     "name": "stdout",
     "output_type": "stream",
     "text": [
      "\n",
      "['above', 'default', 5, 4096, 12]\n"
     ]
    },
    {
     "data": {
      "application/vnd.jupyter.widget-view+json": {
       "model_id": "5514bcc02c3140c38c549250c08eea76",
       "version_major": 2,
       "version_minor": 0
      },
      "text/plain": [
       "HBox(children=(FloatProgress(value=0.0, description='Result', max=4.0, style=ProgressStyle(description_width='…"
      ]
     },
     "metadata": {},
     "output_type": "display_data"
    },
    {
     "name": "stdout",
     "output_type": "stream",
     "text": [
      "\n",
      "['adjacent', 'default', 5, 4096, 12]\n"
     ]
    },
    {
     "data": {
      "application/vnd.jupyter.widget-view+json": {
       "model_id": "cf71905995634a21b8f4298ab74ebcd7",
       "version_major": 2,
       "version_minor": 0
      },
      "text/plain": [
       "HBox(children=(FloatProgress(value=0.0, description='Result', max=4.0, style=ProgressStyle(description_width='…"
      ]
     },
     "metadata": {},
     "output_type": "display_data"
    },
    {
     "name": "stdout",
     "output_type": "stream",
     "text": [
      "\n",
      "\n"
     ]
    }
   ],
   "source": [
    "if 'all_results_fixed_checkpoints_df' not in cache:\n",
    "    cache['all_results_fixed_checkpoints_df'] = results_dict_to_df(all_results_fixed_checkpoints)\n",
    "    cache = refresh_cache(cache)\n",
    "    \n",
    "all_results_fixed_checkpoints_df = cache['all_results_fixed_checkpoints_df']"
   ]
  },
  {
   "cell_type": "markdown",
   "metadata": {},
   "source": [
    "# Plotting thoughts\n",
    "* I want a single plotting function that will generate a group of bar charts\n",
    "* Steps:\n",
    "    1. Filter out particular parts of the dataframe.\n",
    "    2. Group by one or more fields.\n",
    "    3. Aggregate (mean, sd) the metric of choice.\n",
    "    4. Group the bars by one of the group-by fields. \n",
    "* I probably want some way to specify formatting by the individual groups left (for example, a color for each model, a striping for each relation, ...)\n",
    "\n",
    "**TODO:** \n",
    "* Pretitfy names\n",
    "* Model (or other field orders)"
   ]
  },
  {
   "cell_type": "code",
   "execution_count": 41,
   "metadata": {},
   "outputs": [],
   "source": [
    "DEFAULT_ORDERS = dict(\n",
    "    model_name=['combined-object-mlp', 'cnn', 'relation-net', 'transformer'],\n",
    "    relation=['adjacent', 'between', 'above', 'count']\n",
    ")\n",
    "DEFAULT_COLORMAP = plt.get_cmap('Dark2')\n",
    "DEFAULT_BAR_KWARGS_BY_FIELD = defaultdict(lambda: defaultdict(dict))\n",
    "DEFAULT_BAR_KWARGS_BY_FIELD['model_name'] = {name: dict(color=DEFAULT_COLORMAP(i))\n",
    "                                             for i, name in enumerate(DEFAULT_ORDERS['model_name'])}\n",
    "DEFAULT_BAR_KWARGS_BY_FIELD['num_objects'] = {5: {'hatch': ''}, 10: {'hatch': '/'}}\n",
    "\n",
    "DEFAULT_BAR_KWARGS = dict(edgecolor='black')\n",
    "\n",
    "DEFAULT_TEXT_KWARGS = dict(fontsize=16)\n",
    "\n",
    "PRETTY_NAMES = {\n",
    "    'cnn': 'CNN',\n",
    "    'combined-object-mlp': 'MLP',\n",
    "    'relation-net': 'RelationNet',\n",
    "    'max_val_acc': 'Validation Accuracy',\n",
    "    'model_config': 'Model Configuration Set'\n",
    "}\n",
    "\n",
    "\n",
    "def prettify(text):\n",
    "    if isinstance(text, int) and text > 1000:\n",
    "        return f'{text // 1000}k ($2^{{ {int(np.log2(text))} }}$)'\n",
    "    \n",
    "    text = str(text)\n",
    "    \n",
    "    if text in PRETTY_NAMES:\n",
    "        return PRETTY_NAMES[text]\n",
    "\n",
    "    return text.lower().replace('_', ' ').title()\n",
    "\n",
    "\n",
    "def create_bar_chart(df, filter_dict, group_by_fields, metric,\n",
    "                     orders=DEFAULT_ORDERS, sem=False, title=None,\n",
    "                     bar_kwargs_by_field=DEFAULT_BAR_KWARGS_BY_FIELD,\n",
    "                     bar_width=0.2, bar_spacing=0.5, default_bar_kwargs=DEFAULT_BAR_KWARGS,\n",
    "                     text_kwargs=DEFAULT_TEXT_KWARGS, save_path=None, save_should_print=False):\n",
    "    orders = copy.deepcopy(orders)\n",
    "    major_group_by = group_by_fields[0]\n",
    "    minor_group_by = group_by_fields[1:]\n",
    "    \n",
    "    if default_bar_kwargs is None:\n",
    "        default_bar_kwargs = dict()\n",
    "    \n",
    "    filtered_df = df.copy(deep=True)\n",
    "    \n",
    "    if filter_dict is not None:\n",
    "        for filter_name, filter_value in filter_dict.items():\n",
    "            if isinstance(filter_value, (list, tuple)):\n",
    "                filtered_df = filtered_df[filtered_df[filter_name].isin(filter_value)]\n",
    "                if filter_name in orders:\n",
    "                    orders[filter_name] = list(filter(lambda v: v in filter_value, orders[filter_name]))\n",
    "            else:\n",
    "                filtered_df = filtered_df[filtered_df[filter_name].eq(filter_value)]\n",
    "            \n",
    "    grouped_df = filtered_df.groupby(group_by_fields)\n",
    "    mean = grouped_df[metric].mean()\n",
    "    std = grouped_df[metric].std()\n",
    "    if sem:\n",
    "        std /= np.sqrt(grouped_df[metric].count())\n",
    "\n",
    "    if major_group_by in orders:\n",
    "        major_group_values = orders[major_group_by]\n",
    "    else:\n",
    "        major_group_values = mean.index.unique(level=major_group_by)\n",
    "        \n",
    "    minor_group_values_list = []\n",
    "    \n",
    "    for minor_field_name in minor_group_by:\n",
    "        if minor_field_name in orders:\n",
    "            minor_group_values_list.append(orders[minor_field_name])\n",
    "        else:\n",
    "            minor_group_values_list.append(mean.index.unique(level=minor_field_name))\n",
    "    \n",
    "    major_kwargs = bar_kwargs_by_field[major_group_by]\n",
    "    minor_kwargs_list = [bar_kwargs_by_field[minor_field_name] for minor_field_name in minor_group_by]\n",
    "    \n",
    "    figure = plt.figure(figsize=(8, 6))\n",
    "    x = 0\n",
    "    \n",
    "    for major_level_value in major_group_values:\n",
    "        major_level_kwargs = major_kwargs[major_level_value]\n",
    "        \n",
    "        for minor_level_value_combination in itertools.product(*minor_group_values_list):\n",
    "            combined_minor_kwargs = {}\n",
    "            for i, value in enumerate(minor_level_value_combination):\\\n",
    "                combined_minor_kwargs.update(minor_kwargs_list[i][value])\n",
    "                \n",
    "            major_and_minor_key = (major_level_value, *minor_level_value_combination)\n",
    "            \n",
    "            m = mean.loc[major_and_minor_key]\n",
    "            s = std.loc[major_and_minor_key]\n",
    "            plt.bar(x, m, yerr=s, width=bar_width, **major_level_kwargs, **combined_minor_kwargs, **default_bar_kwargs)\n",
    "            \n",
    "            x += bar_width\n",
    "        \n",
    "        x += bar_spacing\n",
    "        \n",
    "    minor_group_length = np.product([len(values) for values in minor_group_values_list])\n",
    "    x_tick_locations = np.arange(len(major_group_values)) * (bar_spacing + bar_width * minor_group_length) +\\\n",
    "                        bar_width * (minor_group_length / 2 - 0.5)\n",
    "    plt.xticks(x_tick_locations, [prettify(val) for val in major_group_values], **text_kwargs)\n",
    "    plt.gca().tick_params(axis='both', which='major', labelsize=12)\n",
    "\n",
    "    plt.xlabel(prettify(major_group_by), **text_kwargs)\n",
    "    plt.ylabel(prettify(metric), **text_kwargs)\n",
    "    plt.title(title, fontsize=20)\n",
    "    \n",
    "    patches = []\n",
    "    ncol = 0\n",
    "    for kwarg_set, field_name in zip([major_kwargs] + minor_kwargs_list, group_by_fields):\n",
    "        if any([len(val) > 0 for val in kwarg_set.values()]):\n",
    "            ncol += 1\n",
    "            for field_value in kwarg_set:\n",
    "                if field_name in filter_dict and field_value not in filter_dict[field_name]:\n",
    "                    continue\n",
    "                \n",
    "                patch_kwargs = dict(facecolor='none', edgecolor='black')\n",
    "                patch_kwargs.update(kwarg_set[field_value])\n",
    "                patches.append(matplotlib.patches.Patch(**patch_kwargs, label=prettify(field_value)))\n",
    "    \n",
    "    if len(patches) > 0: \n",
    "        plt.legend(handles=patches, loc='best', ncol=ncol, fontsize=12)\n",
    "    \n",
    "    if save_path is not None:\n",
    "        save_plot(save_path, should_print=save_should_print)\n",
    "    \n",
    "    plt.show()\n",
    "    "
   ]
  },
  {
   "cell_type": "code",
   "execution_count": 42,
   "metadata": {},
   "outputs": [
    {
     "name": "stderr",
     "output_type": "stream",
     "text": [
      "/Users/guydavidson/opt/anaconda3/lib/python3.6/site-packages/ipykernel_launcher.py:59: FutureWarning: Interpreting tuple 'by' as a list of keys, rather than a single key. Use 'by=[...]' instead of 'by=(...)'. In the future, a tuple will always mean a single key.\n"
     ]
    },
    {
     "data": {
      "image/png": "[encoded data removed]",
      "text/plain": [
       "<Figure size 576x432 with 1 Axes>"
      ]
     },
     "metadata": {
      "needs_background": "light"
     },
     "output_type": "display_data"
    }
   ],
   "source": [
    "create_bar_chart(all_results_fixed_checkpoints_df, \n",
    "                 filter_dict=dict(model_config='default', num_objects=5, dataset_power=14), \n",
    "                 group_by_fields=('relation', 'model_name'),\n",
    "                 metric='max_val_acc',\n",
    "                 save_path='default_5_16k_group_by_relation.pdf',\n",
    "                 title='Default settings (5 objects, 16k examples) by relation and model size')\n"
   ]
  },
  {
   "cell_type": "code",
   "execution_count": 43,
   "metadata": {},
   "outputs": [
    {
     "name": "stderr",
     "output_type": "stream",
     "text": [
      "/Users/guydavidson/opt/anaconda3/lib/python3.6/site-packages/ipykernel_launcher.py:59: FutureWarning: Interpreting tuple 'by' as a list of keys, rather than a single key. Use 'by=[...]' instead of 'by=(...)'. In the future, a tuple will always mean a single key.\n"
     ]
    },
    {
     "data": {
      "image/png": "[encoded data removed]",
      "text/plain": [
       "<Figure size 576x432 with 1 Axes>"
      ]
     },
     "metadata": {
      "needs_background": "light"
     },
     "output_type": "display_data"
    }
   ],
   "source": [
    "create_bar_chart(all_results_fixed_checkpoints_df, \n",
    "                 filter_dict=dict(model_config='default', num_objects=10, dataset_power=14), \n",
    "                 group_by_fields=('relation', 'model_name'),\n",
    "                 metric='max_val_acc',\n",
    "                 save_path='default_5_16k_group_by_relation.pdf',\n",
    "                 title='Default settings (10 objects, 16k examples) by relation and model size')\n"
   ]
  },
  {
   "cell_type": "code",
   "execution_count": 44,
   "metadata": {},
   "outputs": [
    {
     "name": "stderr",
     "output_type": "stream",
     "text": [
      "/Users/guydavidson/opt/anaconda3/lib/python3.6/site-packages/ipykernel_launcher.py:59: FutureWarning: Interpreting tuple 'by' as a list of keys, rather than a single key. Use 'by=[...]' instead of 'by=(...)'. In the future, a tuple will always mean a single key.\n"
     ]
    },
    {
     "data": {
      "image/png": "[encoded data removed]",
      "text/plain": [
       "<Figure size 576x432 with 1 Axes>"
      ]
     },
     "metadata": {
      "needs_background": "light"
     },
     "output_type": "display_data"
    },
    {
     "data": {
      "image/png": "[encoded data removed]",
      "text/plain": [
       "<Figure size 576x432 with 1 Axes>"
      ]
     },
     "metadata": {
      "needs_background": "light"
     },
     "output_type": "display_data"
    }
   ],
   "source": [
    "df = create_bar_chart(all_results_fixed_checkpoints_df, \n",
    "                 filter_dict=dict(model_config='default', num_objects=5, relation='adjacent'), \n",
    "                 group_by_fields=('dataset_size', 'model_name'),\n",
    "                 metric='max_val_acc',\n",
    "#                  save_path='default_5_adjacent_group_by_dataset_size.pdf',\n",
    "                 title='Dataset size effect, adjacent relation')\n",
    "\n",
    "\n",
    "create_bar_chart(all_results_fixed_checkpoints_df, \n",
    "                 filter_dict=dict(model_config='default', num_objects=5, relation='between'), \n",
    "                 group_by_fields=('dataset_size', 'model_name'),\n",
    "                 metric='max_val_acc',\n",
    "#                  save_path='default_5_adjacent_group_by_dataset_size.pdf',\n",
    "                 title='Dataset size effect, between relation')\n"
   ]
  },
  {
   "cell_type": "code",
   "execution_count": 45,
   "metadata": {},
   "outputs": [
    {
     "data": {
      "image/png": "[encoded data removed]",
      "text/plain": [
       "<Figure size 576x432 with 1 Axes>"
      ]
     },
     "metadata": {
      "needs_background": "light"
     },
     "output_type": "display_data"
    },
    {
     "data": {
      "image/png": "[encoded data removed]",
      "text/plain": [
       "<Figure size 576x432 with 1 Axes>"
      ]
     },
     "metadata": {
      "needs_background": "light"
     },
     "output_type": "display_data"
    }
   ],
   "source": [
    "create_bar_chart(all_results_fixed_checkpoints_df, \n",
    "                 filter_dict=dict(model_config='default', relation='adjacent',\n",
    "                                  model_name=['relation-net', 'transformer']), \n",
    "                 group_by_fields=['dataset_size', 'model_name', 'num_objects'],\n",
    "                 metric='max_val_acc',\n",
    "                 save_path='default_adjacent_group_by_dataset_size_and_num_objects.pdf'\n",
    "                )\n",
    "\n",
    "\n",
    "create_bar_chart(all_results_fixed_checkpoints_df, \n",
    "                 filter_dict=dict(model_config='default', relation='between',\n",
    "                                  model_name=['relation-net', 'transformer']), \n",
    "                 group_by_fields=['dataset_size', 'model_name', 'num_objects'],\n",
    "                 metric='max_val_acc',\n",
    "                 save_path='default_between_group_by_dataset_size_and_num_objects.pdf'\n",
    "                )\n",
    "\n"
   ]
  },
  {
   "cell_type": "code",
   "execution_count": 48,
   "metadata": {},
   "outputs": [
    {
     "data": {
      "image/png": "[encoded data removed]",
      "text/plain": [
       "<Figure size 576x432 with 1 Axes>"
      ]
     },
     "metadata": {
      "needs_background": "light"
     },
     "output_type": "display_data"
    },
    {
     "data": {
      "image/png": "[encoded data removed]",
      "text/plain": [
       "<Figure size 576x432 with 1 Axes>"
      ]
     },
     "metadata": {
      "needs_background": "light"
     },
     "output_type": "display_data"
    }
   ],
   "source": [
    "create_bar_chart(all_results_fixed_checkpoints_df, \n",
    "                 filter_dict=dict(relation='adjacent', dataset_power=16,\n",
    "#                                   model_name=['relation-net', 'transformer']\n",
    "                                 ), \n",
    "                 group_by_fields=['model_config', 'model_name', 'num_objects'],\n",
    "                 metric='max_val_acc',\n",
    "                 save_path='adjacent_group_by_model_config_and_num_objects.pdf'\n",
    "                )\n",
    "\n",
    "\n",
    "create_bar_chart(all_results_fixed_checkpoints_df, \n",
    "                 filter_dict=dict(relation='between', dataset_power=16,\n",
    "#                                   model_name=['relation-net', 'transformer']\n",
    "                                 ), \n",
    "                 group_by_fields=['model_config', 'model_name', 'num_objects'],\n",
    "                 metric='max_val_acc',\n",
    "                 save_path='between_group_by_model_config_and_num_objects.pdf'\n",
    "                )\n",
    "\n"
   ]
  },
  {
   "cell_type": "markdown",
   "metadata": {},
   "source": [
    "# Make a big 'ol table"
   ]
  },
  {
   "cell_type": "code",
   "execution_count": 42,
   "metadata": {},
   "outputs": [],
   "source": [
    "table_group_by_columns = ['model_config', 'num_objects', 'dataset_size', 'relation', 'model_name']\n",
    "custom_sorted_res = all_results_df.copy()\n",
    "custom_sorted_res['model_name'] = pd.Categorical(custom_sorted_res['model_name'], \n",
    "                                                 ['combined-object-mlp', 'cnn', 'relation-net', 'transformer'])\n",
    "custom_sorted_res['relation'] = pd.Categorical(custom_sorted_res['relation'], \n",
    "                                                 ['adjacent', 'above', 'count'])\n",
    "\n",
    "custom_sorted_res = custom_sorted_res.sort_values('model_name').sort_values('relation')\n",
    "\n",
    "grouped = custom_sorted_res.groupby(table_group_by_columns, as_index=False)\n",
    "mean = grouped.mean()\n",
    "mean.to_latex('./figures/result_table.txt', \n",
    "              columns=table_group_by_columns + ['max_val_acc', 'acc_diff'],\n",
    "              float_format='%.3f', index=False, bold_rows=True)"
   ]
  },
  {
   "cell_type": "code",
   "execution_count": 21,
   "metadata": {},
   "outputs": [
    {
     "data": {
      "text/html": [
       "<div>\n",
       "<style scoped>\n",
       "    .dataframe tbody tr th:only-of-type {\n",
       "        vertical-align: middle;\n",
       "    }\n",
       "\n",
       "    .dataframe tbody tr th {\n",
       "        vertical-align: top;\n",
       "    }\n",
       "\n",
       "    .dataframe thead th {\n",
       "        text-align: right;\n",
       "    }\n",
       "</style>\n",
       "<table border=\"1\" class=\"dataframe\">\n",
       "  <thead>\n",
       "    <tr style=\"text-align: right;\">\n",
       "      <th></th>\n",
       "      <th></th>\n",
       "      <th></th>\n",
       "      <th></th>\n",
       "      <th></th>\n",
       "      <th>dataset_power</th>\n",
       "      <th>seed</th>\n",
       "      <th>total_params</th>\n",
       "      <th>max_val_acc</th>\n",
       "      <th>max_val_acc_step</th>\n",
       "      <th>acc_threshold_step</th>\n",
       "      <th>acc_diff</th>\n",
       "    </tr>\n",
       "    <tr>\n",
       "      <th>model_config</th>\n",
       "      <th>num_objects</th>\n",
       "      <th>dataset_size</th>\n",
       "      <th>relation</th>\n",
       "      <th>model_name</th>\n",
       "      <th></th>\n",
       "      <th></th>\n",
       "      <th></th>\n",
       "      <th></th>\n",
       "      <th></th>\n",
       "      <th></th>\n",
       "      <th></th>\n",
       "    </tr>\n",
       "  </thead>\n",
       "  <tbody>\n",
       "    <tr>\n",
       "      <th rowspan=\"5\" valign=\"top\">default</th>\n",
       "      <th rowspan=\"5\" valign=\"top\">5</th>\n",
       "      <th rowspan=\"5\" valign=\"top\">4096</th>\n",
       "      <th rowspan=\"4\" valign=\"top\">above</th>\n",
       "      <th>cnn</th>\n",
       "      <td>12.0</td>\n",
       "      <td>104.5</td>\n",
       "      <td>12546.0</td>\n",
       "      <td>0.506396</td>\n",
       "      <td>79.4</td>\n",
       "      <td>NaN</td>\n",
       "      <td>0.305664</td>\n",
       "    </tr>\n",
       "    <tr>\n",
       "      <th>combined-object-mlp</th>\n",
       "      <td>12.0</td>\n",
       "      <td>104.5</td>\n",
       "      <td>1466.0</td>\n",
       "      <td>0.939337</td>\n",
       "      <td>8723.0</td>\n",
       "      <td>8565.0</td>\n",
       "      <td>0.010907</td>\n",
       "    </tr>\n",
       "    <tr>\n",
       "      <th>relation-net</th>\n",
       "      <td>12.0</td>\n",
       "      <td>104.5</td>\n",
       "      <td>1722.0</td>\n",
       "      <td>0.981805</td>\n",
       "      <td>4137.8</td>\n",
       "      <td>1235.0</td>\n",
       "      <td>0.005157</td>\n",
       "    </tr>\n",
       "    <tr>\n",
       "      <th>transformer</th>\n",
       "      <td>12.0</td>\n",
       "      <td>104.5</td>\n",
       "      <td>770.0</td>\n",
       "      <td>0.986102</td>\n",
       "      <td>5120.6</td>\n",
       "      <td>1969.4</td>\n",
       "      <td>0.004034</td>\n",
       "    </tr>\n",
       "    <tr>\n",
       "      <th>adjacent</th>\n",
       "      <th>cnn</th>\n",
       "      <td>12.0</td>\n",
       "      <td>104.5</td>\n",
       "      <td>12546.0</td>\n",
       "      <td>0.503088</td>\n",
       "      <td>90.6</td>\n",
       "      <td>NaN</td>\n",
       "      <td>0.321643</td>\n",
       "    </tr>\n",
       "    <tr>\n",
       "      <th>...</th>\n",
       "      <th>...</th>\n",
       "      <th>...</th>\n",
       "      <th>...</th>\n",
       "      <th>...</th>\n",
       "      <td>...</td>\n",
       "      <td>...</td>\n",
       "      <td>...</td>\n",
       "      <td>...</td>\n",
       "      <td>...</td>\n",
       "      <td>...</td>\n",
       "      <td>...</td>\n",
       "    </tr>\n",
       "    <tr>\n",
       "      <th rowspan=\"5\" valign=\"top\">larger</th>\n",
       "      <th rowspan=\"5\" valign=\"top\">10</th>\n",
       "      <th rowspan=\"5\" valign=\"top\">65536</th>\n",
       "      <th>adjacent</th>\n",
       "      <th>transformer</th>\n",
       "      <td>16.0</td>\n",
       "      <td>104.5</td>\n",
       "      <td>7666.0</td>\n",
       "      <td>0.700916</td>\n",
       "      <td>15461.4</td>\n",
       "      <td>11071.0</td>\n",
       "      <td>0.033649</td>\n",
       "    </tr>\n",
       "    <tr>\n",
       "      <th rowspan=\"4\" valign=\"top\">count</th>\n",
       "      <th>cnn</th>\n",
       "      <td>16.0</td>\n",
       "      <td>104.5</td>\n",
       "      <td>34386.0</td>\n",
       "      <td>0.505182</td>\n",
       "      <td>984.6</td>\n",
       "      <td>NaN</td>\n",
       "      <td>0.230827</td>\n",
       "    </tr>\n",
       "    <tr>\n",
       "      <th>combined-object-mlp</th>\n",
       "      <td>16.0</td>\n",
       "      <td>104.5</td>\n",
       "      <td>3842.0</td>\n",
       "      <td>1.000000</td>\n",
       "      <td>568.6</td>\n",
       "      <td>146.2</td>\n",
       "      <td>0.000000</td>\n",
       "    </tr>\n",
       "    <tr>\n",
       "      <th>relation-net</th>\n",
       "      <td>16.0</td>\n",
       "      <td>104.5</td>\n",
       "      <td>8562.0</td>\n",
       "      <td>1.000000</td>\n",
       "      <td>722.2</td>\n",
       "      <td>203.8</td>\n",
       "      <td>-0.000481</td>\n",
       "    </tr>\n",
       "    <tr>\n",
       "      <th>transformer</th>\n",
       "      <td>16.0</td>\n",
       "      <td>104.5</td>\n",
       "      <td>7666.0</td>\n",
       "      <td>1.000000</td>\n",
       "      <td>2194.2</td>\n",
       "      <td>133.4</td>\n",
       "      <td>0.000000</td>\n",
       "    </tr>\n",
       "  </tbody>\n",
       "</table>\n",
       "<p>96 rows × 7 columns</p>\n",
       "</div>"
      ],
      "text/plain": [
       "                                                                    dataset_power  \\\n",
       "model_config num_objects dataset_size relation model_name                           \n",
       "default      5           4096         above    cnn                           12.0   \n",
       "                                               combined-object-mlp           12.0   \n",
       "                                               relation-net                  12.0   \n",
       "                                               transformer                   12.0   \n",
       "                                      adjacent cnn                           12.0   \n",
       "...                                                                           ...   \n",
       "larger       10          65536        adjacent transformer                   16.0   \n",
       "                                      count    cnn                           16.0   \n",
       "                                               combined-object-mlp           16.0   \n",
       "                                               relation-net                  16.0   \n",
       "                                               transformer                   16.0   \n",
       "\n",
       "                                                                     seed  \\\n",
       "model_config num_objects dataset_size relation model_name                   \n",
       "default      5           4096         above    cnn                  104.5   \n",
       "                                               combined-object-mlp  104.5   \n",
       "                                               relation-net         104.5   \n",
       "                                               transformer          104.5   \n",
       "                                      adjacent cnn                  104.5   \n",
       "...                                                                   ...   \n",
       "larger       10          65536        adjacent transformer          104.5   \n",
       "                                      count    cnn                  104.5   \n",
       "                                               combined-object-mlp  104.5   \n",
       "                                               relation-net         104.5   \n",
       "                                               transformer          104.5   \n",
       "\n",
       "                                                                    total_params  \\\n",
       "model_config num_objects dataset_size relation model_name                          \n",
       "default      5           4096         above    cnn                       12546.0   \n",
       "                                               combined-object-mlp        1466.0   \n",
       "                                               relation-net               1722.0   \n",
       "                                               transformer                 770.0   \n",
       "                                      adjacent cnn                       12546.0   \n",
       "...                                                                          ...   \n",
       "larger       10          65536        adjacent transformer                7666.0   \n",
       "                                      count    cnn                       34386.0   \n",
       "                                               combined-object-mlp        3842.0   \n",
       "                                               relation-net               8562.0   \n",
       "                                               transformer                7666.0   \n",
       "\n",
       "                                                                    max_val_acc  \\\n",
       "model_config num_objects dataset_size relation model_name                         \n",
       "default      5           4096         above    cnn                     0.506396   \n",
       "                                               combined-object-mlp     0.939337   \n",
       "                                               relation-net            0.981805   \n",
       "                                               transformer             0.986102   \n",
       "                                      adjacent cnn                     0.503088   \n",
       "...                                                                         ...   \n",
       "larger       10          65536        adjacent transformer             0.700916   \n",
       "                                      count    cnn                     0.505182   \n",
       "                                               combined-object-mlp     1.000000   \n",
       "                                               relation-net            1.000000   \n",
       "                                               transformer             1.000000   \n",
       "\n",
       "                                                                    max_val_acc_step  \\\n",
       "model_config num_objects dataset_size relation model_name                              \n",
       "default      5           4096         above    cnn                              79.4   \n",
       "                                               combined-object-mlp            8723.0   \n",
       "                                               relation-net                   4137.8   \n",
       "                                               transformer                    5120.6   \n",
       "                                      adjacent cnn                              90.6   \n",
       "...                                                                              ...   \n",
       "larger       10          65536        adjacent transformer                   15461.4   \n",
       "                                      count    cnn                             984.6   \n",
       "                                               combined-object-mlp             568.6   \n",
       "                                               relation-net                    722.2   \n",
       "                                               transformer                    2194.2   \n",
       "\n",
       "                                                                    acc_threshold_step  \\\n",
       "model_config num_objects dataset_size relation model_name                                \n",
       "default      5           4096         above    cnn                                 NaN   \n",
       "                                               combined-object-mlp              8565.0   \n",
       "                                               relation-net                     1235.0   \n",
       "                                               transformer                      1969.4   \n",
       "                                      adjacent cnn                                 NaN   \n",
       "...                                                                                ...   \n",
       "larger       10          65536        adjacent transformer                     11071.0   \n",
       "                                      count    cnn                                 NaN   \n",
       "                                               combined-object-mlp               146.2   \n",
       "                                               relation-net                      203.8   \n",
       "                                               transformer                       133.4   \n",
       "\n",
       "                                                                    acc_diff  \n",
       "model_config num_objects dataset_size relation model_name                     \n",
       "default      5           4096         above    cnn                  0.305664  \n",
       "                                               combined-object-mlp  0.010907  \n",
       "                                               relation-net         0.005157  \n",
       "                                               transformer          0.004034  \n",
       "                                      adjacent cnn                  0.321643  \n",
       "...                                                                      ...  \n",
       "larger       10          65536        adjacent transformer          0.033649  \n",
       "                                      count    cnn                  0.230827  \n",
       "                                               combined-object-mlp  0.000000  \n",
       "                                               relation-net        -0.000481  \n",
       "                                               transformer          0.000000  \n",
       "\n",
       "[96 rows x 7 columns]"
      ]
     },
     "execution_count": 21,
     "metadata": {},
     "output_type": "execute_result"
    }
   ],
   "source": []
  },
  {
   "cell_type": "code",
   "execution_count": null,
   "metadata": {},
   "outputs": [],
   "source": []
  },
  {
   "cell_type": "code",
   "execution_count": 16,
   "metadata": {},
   "outputs": [
    {
     "data": {
      "text/html": [
       "<div>\n",
       "<style scoped>\n",
       "    .dataframe tbody tr th:only-of-type {\n",
       "        vertical-align: middle;\n",
       "    }\n",
       "\n",
       "    .dataframe tbody tr th {\n",
       "        vertical-align: top;\n",
       "    }\n",
       "\n",
       "    .dataframe thead th {\n",
       "        text-align: right;\n",
       "    }\n",
       "</style>\n",
       "<table border=\"1\" class=\"dataframe\">\n",
       "  <thead>\n",
       "    <tr style=\"text-align: right;\">\n",
       "      <th></th>\n",
       "      <th>relation</th>\n",
       "      <th>model_config</th>\n",
       "      <th>num_objects</th>\n",
       "      <th>dataset_size</th>\n",
       "      <th>dataset_power</th>\n",
       "      <th>model_name</th>\n",
       "      <th>seed</th>\n",
       "      <th>total_params</th>\n",
       "      <th>max_val_acc</th>\n",
       "      <th>max_val_acc_step</th>\n",
       "      <th>acc_threshold_step</th>\n",
       "      <th>acc_diff</th>\n",
       "    </tr>\n",
       "  </thead>\n",
       "  <tbody>\n",
       "    <tr>\n",
       "      <th>0</th>\n",
       "      <td>count</td>\n",
       "      <td>larger</td>\n",
       "      <td>10</td>\n",
       "      <td>65536</td>\n",
       "      <td>16</td>\n",
       "      <td>cnn</td>\n",
       "      <td>109</td>\n",
       "      <td>34386</td>\n",
       "      <td>0.505615</td>\n",
       "      <td>1279</td>\n",
       "      <td>NaN</td>\n",
       "      <td>0.270279</td>\n",
       "    </tr>\n",
       "    <tr>\n",
       "      <th>1</th>\n",
       "      <td>count</td>\n",
       "      <td>larger</td>\n",
       "      <td>10</td>\n",
       "      <td>65536</td>\n",
       "      <td>16</td>\n",
       "      <td>cnn</td>\n",
       "      <td>108</td>\n",
       "      <td>34386</td>\n",
       "      <td>0.503906</td>\n",
       "      <td>319</td>\n",
       "      <td>NaN</td>\n",
       "      <td>0.234879</td>\n",
       "    </tr>\n",
       "    <tr>\n",
       "      <th>2</th>\n",
       "      <td>count</td>\n",
       "      <td>larger</td>\n",
       "      <td>10</td>\n",
       "      <td>65536</td>\n",
       "      <td>16</td>\n",
       "      <td>cnn</td>\n",
       "      <td>103</td>\n",
       "      <td>34386</td>\n",
       "      <td>0.501831</td>\n",
       "      <td>191</td>\n",
       "      <td>NaN</td>\n",
       "      <td>0.216309</td>\n",
       "    </tr>\n",
       "    <tr>\n",
       "      <th>3</th>\n",
       "      <td>count</td>\n",
       "      <td>larger</td>\n",
       "      <td>10</td>\n",
       "      <td>65536</td>\n",
       "      <td>16</td>\n",
       "      <td>cnn</td>\n",
       "      <td>104</td>\n",
       "      <td>34386</td>\n",
       "      <td>0.503723</td>\n",
       "      <td>575</td>\n",
       "      <td>NaN</td>\n",
       "      <td>0.227295</td>\n",
       "    </tr>\n",
       "    <tr>\n",
       "      <th>4</th>\n",
       "      <td>count</td>\n",
       "      <td>larger</td>\n",
       "      <td>10</td>\n",
       "      <td>65536</td>\n",
       "      <td>16</td>\n",
       "      <td>cnn</td>\n",
       "      <td>101</td>\n",
       "      <td>34386</td>\n",
       "      <td>0.505188</td>\n",
       "      <td>575</td>\n",
       "      <td>NaN</td>\n",
       "      <td>0.227631</td>\n",
       "    </tr>\n",
       "  </tbody>\n",
       "</table>\n",
       "</div>"
      ],
      "text/plain": [
       "  relation model_config  num_objects  dataset_size  dataset_power model_name  \\\n",
       "0    count       larger           10         65536             16        cnn   \n",
       "1    count       larger           10         65536             16        cnn   \n",
       "2    count       larger           10         65536             16        cnn   \n",
       "3    count       larger           10         65536             16        cnn   \n",
       "4    count       larger           10         65536             16        cnn   \n",
       "\n",
       "   seed  total_params  max_val_acc  max_val_acc_step  acc_threshold_step  \\\n",
       "0   109         34386     0.505615              1279                 NaN   \n",
       "1   108         34386     0.503906               319                 NaN   \n",
       "2   103         34386     0.501831               191                 NaN   \n",
       "3   104         34386     0.503723               575                 NaN   \n",
       "4   101         34386     0.505188               575                 NaN   \n",
       "\n",
       "   acc_diff  \n",
       "0  0.270279  \n",
       "1  0.234879  \n",
       "2  0.216309  \n",
       "3  0.227295  \n",
       "4  0.227631  "
      ]
     },
     "execution_count": 16,
     "metadata": {},
     "output_type": "execute_result"
    }
   ],
   "source": [
    "all_results_df.head()"
   ]
  },
  {
   "cell_type": "code",
   "execution_count": 18,
   "metadata": {},
   "outputs": [
    {
     "data": {
      "text/plain": [
       "0.0469818115234375"
      ]
     },
     "execution_count": 18,
     "metadata": {},
     "output_type": "execute_result"
    }
   ],
   "source": [
    "all_results_df[all_results_df.model_name != 'cnn'].acc_diff.max()"
   ]
  },
  {
   "cell_type": "code",
   "execution_count": 19,
   "metadata": {},
   "outputs": [
    {
     "data": {
      "text/plain": [
       "0.3663330078125"
      ]
     },
     "execution_count": 19,
     "metadata": {},
     "output_type": "execute_result"
    }
   ],
   "source": [
    "all_results_df.acc_diff.max()"
   ]
  },
  {
   "cell_type": "code",
   "execution_count": 57,
   "metadata": {},
   "outputs": [
    {
     "data": {
      "text/plain": [
       "0.3663330078125"
      ]
     },
     "execution_count": 57,
     "metadata": {},
     "output_type": "execute_result"
    }
   ],
   "source": [
    "all_results_df[all_results_df.model_name == 'cnn'].acc_diff.max()"
   ]
  },
  {
   "cell_type": "code",
   "execution_count": 45,
   "metadata": {},
   "outputs": [
    {
     "data": {
      "text/html": [
       "<div>\n",
       "<style scoped>\n",
       "    .dataframe tbody tr th:only-of-type {\n",
       "        vertical-align: middle;\n",
       "    }\n",
       "\n",
       "    .dataframe tbody tr th {\n",
       "        vertical-align: top;\n",
       "    }\n",
       "\n",
       "    .dataframe thead th {\n",
       "        text-align: right;\n",
       "    }\n",
       "</style>\n",
       "<table border=\"1\" class=\"dataframe\">\n",
       "  <thead>\n",
       "    <tr style=\"text-align: right;\">\n",
       "      <th></th>\n",
       "      <th>relation</th>\n",
       "      <th>model_config</th>\n",
       "      <th>num_objects</th>\n",
       "      <th>dataset_size</th>\n",
       "      <th>dataset_power</th>\n",
       "      <th>model_name</th>\n",
       "      <th>seed</th>\n",
       "      <th>total_params</th>\n",
       "      <th>max_val_acc</th>\n",
       "      <th>max_val_acc_step</th>\n",
       "      <th>acc_threshold_step</th>\n",
       "      <th>acc_diff</th>\n",
       "    </tr>\n",
       "  </thead>\n",
       "  <tbody>\n",
       "    <tr>\n",
       "      <th>0</th>\n",
       "      <td>count</td>\n",
       "      <td>larger</td>\n",
       "      <td>10</td>\n",
       "      <td>65536</td>\n",
       "      <td>16</td>\n",
       "      <td>cnn</td>\n",
       "      <td>109</td>\n",
       "      <td>34386</td>\n",
       "      <td>0.505615</td>\n",
       "      <td>1279</td>\n",
       "      <td>NaN</td>\n",
       "      <td>0.270279</td>\n",
       "    </tr>\n",
       "    <tr>\n",
       "      <th>1</th>\n",
       "      <td>count</td>\n",
       "      <td>larger</td>\n",
       "      <td>10</td>\n",
       "      <td>65536</td>\n",
       "      <td>16</td>\n",
       "      <td>cnn</td>\n",
       "      <td>108</td>\n",
       "      <td>34386</td>\n",
       "      <td>0.503906</td>\n",
       "      <td>319</td>\n",
       "      <td>NaN</td>\n",
       "      <td>0.234879</td>\n",
       "    </tr>\n",
       "    <tr>\n",
       "      <th>2</th>\n",
       "      <td>count</td>\n",
       "      <td>larger</td>\n",
       "      <td>10</td>\n",
       "      <td>65536</td>\n",
       "      <td>16</td>\n",
       "      <td>cnn</td>\n",
       "      <td>103</td>\n",
       "      <td>34386</td>\n",
       "      <td>0.501831</td>\n",
       "      <td>191</td>\n",
       "      <td>NaN</td>\n",
       "      <td>0.216309</td>\n",
       "    </tr>\n",
       "    <tr>\n",
       "      <th>3</th>\n",
       "      <td>count</td>\n",
       "      <td>larger</td>\n",
       "      <td>10</td>\n",
       "      <td>65536</td>\n",
       "      <td>16</td>\n",
       "      <td>cnn</td>\n",
       "      <td>104</td>\n",
       "      <td>34386</td>\n",
       "      <td>0.503723</td>\n",
       "      <td>575</td>\n",
       "      <td>NaN</td>\n",
       "      <td>0.227295</td>\n",
       "    </tr>\n",
       "    <tr>\n",
       "      <th>4</th>\n",
       "      <td>count</td>\n",
       "      <td>larger</td>\n",
       "      <td>10</td>\n",
       "      <td>65536</td>\n",
       "      <td>16</td>\n",
       "      <td>cnn</td>\n",
       "      <td>101</td>\n",
       "      <td>34386</td>\n",
       "      <td>0.505188</td>\n",
       "      <td>575</td>\n",
       "      <td>NaN</td>\n",
       "      <td>0.227631</td>\n",
       "    </tr>\n",
       "  </tbody>\n",
       "</table>\n",
       "</div>"
      ],
      "text/plain": [
       "  relation model_config  num_objects  dataset_size  dataset_power model_name  \\\n",
       "0    count       larger           10         65536             16        cnn   \n",
       "1    count       larger           10         65536             16        cnn   \n",
       "2    count       larger           10         65536             16        cnn   \n",
       "3    count       larger           10         65536             16        cnn   \n",
       "4    count       larger           10         65536             16        cnn   \n",
       "\n",
       "   seed  total_params  max_val_acc  max_val_acc_step  acc_threshold_step  \\\n",
       "0   109         34386     0.505615              1279                 NaN   \n",
       "1   108         34386     0.503906               319                 NaN   \n",
       "2   103         34386     0.501831               191                 NaN   \n",
       "3   104         34386     0.503723               575                 NaN   \n",
       "4   101         34386     0.505188               575                 NaN   \n",
       "\n",
       "   acc_diff  \n",
       "0  0.270279  \n",
       "1  0.234879  \n",
       "2  0.216309  \n",
       "3  0.227295  \n",
       "4  0.227631  "
      ]
     },
     "execution_count": 45,
     "metadata": {},
     "output_type": "execute_result"
    }
   ],
   "source": [
    "r = all_results_df[all_results_df.model_config == 'larger']\n",
    "r.head()\n",
    "# r = r[r.model_name.is != 'cnn']\n",
    "# r = r[r.model_name != 'combined-object-mlp']\n",
    "# r.loc[r.max_val_acc.idxmin()]"
   ]
  },
  {
   "cell_type": "code",
   "execution_count": 46,
   "metadata": {},
   "outputs": [
    {
     "data": {
      "text/plain": [
       "array([10,  5])"
      ]
     },
     "execution_count": 46,
     "metadata": {},
     "output_type": "execute_result"
    }
   ],
   "source": [
    "r.num_objects.unique()"
   ]
  },
  {
   "cell_type": "code",
   "execution_count": 47,
   "metadata": {},
   "outputs": [
    {
     "data": {
      "text/plain": [
       "array([65536])"
      ]
     },
     "execution_count": 47,
     "metadata": {},
     "output_type": "execute_result"
    }
   ],
   "source": [
    "r.dataset_size.unique()"
   ]
  },
  {
   "cell_type": "code",
   "execution_count": 48,
   "metadata": {},
   "outputs": [
    {
     "data": {
      "text/plain": [
       "array(['count', 'above', 'adjacent'], dtype=object)"
      ]
     },
     "execution_count": 48,
     "metadata": {},
     "output_type": "execute_result"
    }
   ],
   "source": [
    "r.relation.unique()"
   ]
  },
  {
   "cell_type": "code",
   "execution_count": 50,
   "metadata": {},
   "outputs": [
    {
     "data": {
      "text/plain": [
       "model_config  model_name         \n",
       "default       cnn                    12546\n",
       "              combined-object-mlp     1466\n",
       "              relation-net            1722\n",
       "              transformer              770\n",
       "larger        cnn                    34386\n",
       "              combined-object-mlp     3842\n",
       "              relation-net            8562\n",
       "              transformer             7666\n",
       "Name: total_params, dtype: int64"
      ]
     },
     "execution_count": 50,
     "metadata": {},
     "output_type": "execute_result"
    }
   ],
   "source": [
    "all_results_df.groupby(['model_config', 'model_name']).total_params.mean()"
   ]
  },
  {
   "cell_type": "code",
   "execution_count": null,
   "metadata": {},
   "outputs": [],
   "source": []
  },
  {
   "cell_type": "code",
   "execution_count": null,
   "metadata": {},
   "outputs": [],
   "source": []
  },
  {
   "cell_type": "code",
   "execution_count": null,
   "metadata": {},
   "outputs": [],
   "source": []
  },
  {
   "cell_type": "code",
   "execution_count": null,
   "metadata": {},
   "outputs": [],
   "source": [
    "partial_df.groupby('model_name').mean()"
   ]
  },
  {
   "cell_type": "code",
   "execution_count": null,
   "metadata": {},
   "outputs": [],
   "source": [
    "for relation in ('adjacent', 'above', 'count'):\n",
    "    d = partial_df[partial_df['relation'] == relation]\n",
    "    print(d.head())\n",
    "    print(d.groupby('model_name').max_val_acc.mean())"
   ]
  },
  {
   "cell_type": "code",
   "execution_count": null,
   "metadata": {},
   "outputs": [],
   "source": [
    "partial_df.groupby(['relation', 'model_name']).mean()"
   ]
  },
  {
   "cell_type": "code",
   "execution_count": null,
   "metadata": {},
   "outputs": [],
   "source": [
    "'hello world'.title()"
   ]
  },
  {
   "cell_type": "code",
   "execution_count": null,
   "metadata": {},
   "outputs": [],
   "source": []
  },
  {
   "cell_type": "code",
   "execution_count": null,
   "metadata": {},
   "outputs": [],
   "source": [
    "partial_df.head()"
   ]
  },
  {
   "cell_type": "code",
   "execution_count": null,
   "metadata": {},
   "outputs": [],
   "source": [
    "partial_df.tail()"
   ]
  },
  {
   "cell_type": "code",
   "execution_count": null,
   "metadata": {},
   "outputs": [],
   "source": []
  },
  {
   "cell_type": "code",
   "execution_count": null,
   "metadata": {},
   "outputs": [],
   "source": [
    "d = all_results_df.copy()"
   ]
  },
  {
   "cell_type": "code",
   "execution_count": null,
   "metadata": {},
   "outputs": [],
   "source": [
    "e = d[d['relation'].eq('adjacent')]"
   ]
  },
  {
   "cell_type": "code",
   "execution_count": null,
   "metadata": {},
   "outputs": [],
   "source": [
    "d.shape, e.shape"
   ]
  },
  {
   "cell_type": "code",
   "execution_count": null,
   "metadata": {
    "scrolled": true
   },
   "outputs": [],
   "source": [
    "g = e.groupby(['num_objects', 'model_name'])"
   ]
  },
  {
   "cell_type": "code",
   "execution_count": null,
   "metadata": {},
   "outputs": [],
   "source": [
    "np.sqrt(g['relation'].count())"
   ]
  },
  {
   "cell_type": "code",
   "execution_count": null,
   "metadata": {},
   "outputs": [],
   "source": [
    "r = g.max_val_acc.mean()"
   ]
  },
  {
   "cell_type": "code",
   "execution_count": null,
   "metadata": {},
   "outputs": [],
   "source": [
    "r.index.unique()"
   ]
  },
  {
   "cell_type": "code",
   "execution_count": null,
   "metadata": {},
   "outputs": [],
   "source": [
    "r.loc[(5, 'cnn')]"
   ]
  },
  {
   "cell_type": "code",
   "execution_count": null,
   "metadata": {},
   "outputs": [],
   "source": [
    "r.index.get_level_values('num_objects')"
   ]
  },
  {
   "cell_type": "code",
   "execution_count": null,
   "metadata": {},
   "outputs": [],
   "source": [
    "history_df = r.history(samples=10000)"
   ]
  },
  {
   "cell_type": "code",
   "execution_count": null,
   "metadata": {},
   "outputs": [],
   "source": [
    "history_df.columns"
   ]
  },
  {
   "cell_type": "code",
   "execution_count": null,
   "metadata": {},
   "outputs": [],
   "source": [
    "history_df.val_acc.idxmax()"
   ]
  },
  {
   "cell_type": "code",
   "execution_count": null,
   "metadata": {},
   "outputs": [],
   "source": [
    "history_df.iloc[3545]"
   ]
  },
  {
   "cell_type": "code",
   "execution_count": null,
   "metadata": {},
   "outputs": [],
   "source": [
    "history_df.iloc[:25]"
   ]
  },
  {
   "cell_type": "code",
   "execution_count": null,
   "metadata": {},
   "outputs": [],
   "source": [
    "2 => 1\n",
    "5 => 2\n",
    "8 => 3"
   ]
  },
  {
   "cell_type": "code",
   "execution_count": null,
   "metadata": {},
   "outputs": [],
   "source": [
    "h2 = runs[28].history()\n",
    "h2[:20]"
   ]
  },
  {
   "cell_type": "code",
   "execution_count": null,
   "metadata": {},
   "outputs": [],
   "source": [
    "h2.val_acc.isnull().sum()"
   ]
  },
  {
   "cell_type": "code",
   "execution_count": null,
   "metadata": {},
   "outputs": [],
   "source": [
    "history_df.val_acc[:501].isnull().sum()"
   ]
  },
  {
   "cell_type": "code",
   "execution_count": null,
   "metadata": {},
   "outputs": [],
   "source": [
    "(h2.val_acc > 0.8).idxmax()"
   ]
  },
  {
   "cell_type": "code",
   "execution_count": null,
   "metadata": {},
   "outputs": [],
   "source": [
    "h2.train_acc.max() - h2.val_acc.max()"
   ]
  },
  {
   "cell_type": "code",
   "execution_count": 51,
   "metadata": {},
   "outputs": [],
   "source": [
    "run = api.run('simple-relational-reasoning-fixed-checkpoints/adjacent-relation-larger-models-10-objects-65536-dataset/oggkyfes')"
   ]
  },
  {
   "cell_type": "code",
   "execution_count": 57,
   "metadata": {},
   "outputs": [],
   "source": [
    "files = run.files()"
   ]
  },
  {
   "cell_type": "code",
   "execution_count": 59,
   "metadata": {},
   "outputs": [
    {
     "data": {
      "text/plain": [
       "[<File config.yaml ()>,\n",
       " <File output.log (text/plain; charset=utf-8)>,\n",
       " <File relation-net-108-epoch=62-val_loss=0.000.ckpt ()>,\n",
       " <File requirements.txt (text/plain; charset=utf-8)>,\n",
       " <File wandb-metadata.json (application/json)>,\n",
       " <File wandb-summary.json (application/json)>]"
      ]
     },
     "execution_count": 59,
     "metadata": {},
     "output_type": "execute_result"
    }
   ],
   "source": [
    "[f for f in files]"
   ]
  },
  {
   "cell_type": "code",
   "execution_count": 62,
   "metadata": {},
   "outputs": [],
   "source": [
    "f = files[0]"
   ]
  },
  {
   "cell_type": "code",
   "execution_count": 68,
   "metadata": {},
   "outputs": [],
   "source": [
    "f = list(filter(lambda f: f.name.endswith('.ckpt'), files))[0]"
   ]
  },
  {
   "cell_type": "code",
   "execution_count": 71,
   "metadata": {},
   "outputs": [],
   "source": [
    "f.download?"
   ]
  },
  {
   "cell_type": "code",
   "execution_count": 72,
   "metadata": {},
   "outputs": [
    {
     "data": {
      "text/plain": [
       "'relation-net-108-epoch=62-val_loss=0.000.ckpt'"
      ]
     },
     "execution_count": 72,
     "metadata": {},
     "output_type": "execute_result"
    }
   ],
   "source": [
    "f.name"
   ]
  },
  {
   "cell_type": "code",
   "execution_count": null,
   "metadata": {},
   "outputs": [],
   "source": []
  }
 ],
 "metadata": {
  "kernelspec": {
   "display_name": "Python 3",
   "language": "python",
   "name": "python3"
  },
  "language_info": {
   "codemirror_mode": {
    "name": "ipython",
    "version": 3
   },
   "file_extension": ".py",
   "mimetype": "text/x-python",
   "name": "python",
   "nbconvert_exporter": "python",
   "pygments_lexer": "ipython3",
   "version": "3.6.7"
  }
 },
 "nbformat": 4,
 "nbformat_minor": 4
}
