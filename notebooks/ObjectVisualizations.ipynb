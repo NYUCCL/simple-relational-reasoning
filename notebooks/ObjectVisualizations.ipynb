{
 "cells": [
  {
   "cell_type": "code",
   "execution_count": 1,
   "metadata": {},
   "outputs": [],
   "source": [
    "%load_ext autoreload\n",
    "%autoreload 2\n",
    "%matplotlib inline"
   ]
  },
  {
   "cell_type": "code",
   "execution_count": 2,
   "metadata": {},
   "outputs": [],
   "source": [
    "import os\n",
    "import sys\n",
    "sys.path.append(os.path.abspath('..'))\n",
    "sys.path.append(os.path.abspath('../run'))\n",
    "import random\n",
    "from collections import defaultdict\n",
    "\n",
    "import numpy as np\n",
    "import matplotlib.pyplot as plt\n",
    "import matplotlib.patches as mpatches\n",
    "from matplotlib.collections import PatchCollection\n",
    "\n",
    "from IPython.display import display, Markdown, Latex\n",
    "\n",
    "import torch\n",
    "from torch import nn\n",
    "import torch.nn.functional as F\n",
    "\n",
    "from pytorch_lightning import Trainer\n",
    "from pytorch_lightning.callbacks import EarlyStopping"
   ]
  },
  {
   "cell_type": "code",
   "execution_count": 3,
   "metadata": {},
   "outputs": [
    {
     "data": {
      "text/plain": [
       "<torch._C.Generator at 0x119f0f6b0>"
      ]
     },
     "execution_count": 3,
     "metadata": {},
     "output_type": "execute_result"
    }
   ],
   "source": [
    "torch.manual_seed(33)"
   ]
  },
  {
   "cell_type": "code",
   "execution_count": 6,
   "metadata": {},
   "outputs": [],
   "source": [
    "from simple_relational_reasoning.datagen import *\n",
    "from simple_relational_reasoning.datagen import IdenticalObjectsRelation\n",
    "from simple_relational_reasoning.models import MLPModel, RelationNetModel\n",
    "\n",
    "import run\n",
    "from defaults import FIELD_CONFIGURATIONS"
   ]
  },
  {
   "cell_type": "code",
   "execution_count": 7,
   "metadata": {},
   "outputs": [],
   "source": [
    "FIGURE_TEMPLATE = r'''\\begin{{figure}}[!htb]\n",
    "% \\vspace{{-0.225in}}\n",
    "\\centering\n",
    "\\includegraphics[width=\\linewidth]{{figures/{save_path}}}\n",
    "\\caption{{ {{\\bf FIGURE TITLE.}} FIGURE DESCRIPTION.}}\n",
    "\\label{{fig:{label_name}}}\n",
    "% \\vspace{{-0.2in}}\n",
    "\\end{{figure}}\n",
    "'''\n",
    "WRAPFIGURE_TEMPLATE = r'''\\begin{{wrapfigure}}{{r}}{{0.5\\linewidth}}\n",
    "\\vspace{{-.3in}}\n",
    "\\begin{{spacing}}{{1.0}}\n",
    "\\centering\n",
    "\\includegraphics[width=0.95\\linewidth]{{figures/{save_path}}}\n",
    "\\caption{{ {{\\bf FIGURE TITLE.}} FIGURE DESCRIPTION.}}\n",
    "\\label{{fig:{label_name}}}\n",
    "\\end{{spacing}}\n",
    "% \\vspace{{-.25in}}\n",
    "\\end{{wrapfigure}}'''\n",
    "\n",
    "SAVE_PATH_PREFIX = 'figures'\n",
    "\n",
    "\n",
    "def save_plot(save_path, bbox_inches='tight'):\n",
    "    if save_path is not None:\n",
    "        save_path_no_ext = os.path.splitext(save_path)[0]\n",
    "        print('Figure:\\n')\n",
    "        print(FIGURE_TEMPLATE.format(save_path=save_path, label_name=save_path_no_ext.replace('/', '-').replace('_', '-')))\n",
    "        print('\\nWrapfigure:\\n')\n",
    "        print(WRAPFIGURE_TEMPLATE.format(save_path=save_path, label_name=save_path_no_ext.replace('/', '-').replace('_', '-')))\n",
    "        print('')\n",
    "        \n",
    "        if not save_path.startswith(SAVE_PATH_PREFIX):\n",
    "            save_path = os.path.join(SAVE_PATH_PREFIX, save_path)\n",
    "        \n",
    "        folder, filename = os.path.split(save_path)\n",
    "        os.makedirs(folder, exist_ok=True)\n",
    "        plt.savefig(save_path, bbox_inches=bbox_inches, facecolor=plt.gcf().get_facecolor(), edgecolor='none')"
   ]
  },
  {
   "cell_type": "code",
   "execution_count": 8,
   "metadata": {},
   "outputs": [],
   "source": [
    "from collections import namedtuple\n",
    "VisualizationDefinition = namedtuple('VisualizationDefinition', ('name', 'patch_class', 'offset', 'patch_args'))\n",
    "VISUALIZATION_DEFINITIONS = (\n",
    "    VisualizationDefinition('square', mpatches.Rectangle, np.array([0, 0]), (10, 10)),\n",
    "    VisualizationDefinition('circle', mpatches.Circle, np.array([5, 5]), (5, )),\n",
    "    VisualizationDefinition('triangle', mpatches.RegularPolygon, np.array([5, 5]), (3, 6)),\n",
    "    VisualizationDefinition('pentagon', mpatches.RegularPolygon, np.array([5, 5]), (5, 5.5)),\n",
    ")\n",
    "\n",
    "\n",
    "DEFAULT_PATCH_KWARGS = dict(ec='none')\n",
    "DEFAULT_SCALE = 10\n",
    "\n",
    "\n",
    "def object_to_patch(object_tensor, field_slices, \n",
    "                    x_field='x', y_field='y', \n",
    "                    color_field='color', shape_field='shape',\n",
    "                    scale=DEFAULT_SCALE, additional_patch_kwargs=None, \n",
    "                    visualization_definitions=VISUALIZATION_DEFINITIONS):\n",
    "    \n",
    "    patch_kwargs = DEFAULT_PATCH_KWARGS.copy()\n",
    "    if additional_patch_kwargs is not None: \n",
    "        patch_kwargs.update(additional_patch_kwargs)\n",
    "    \n",
    "    x = int(object_tensor[field_slices[x_field]])\n",
    "    y = int(object_tensor[field_slices[y_field]])\n",
    "    position = np.array([x, y]) * scale\n",
    "    shape_index = int(torch.nonzero(object_tensor[field_slices[shape_field]]).squeeze())\n",
    "    color_index = int(torch.nonzero(object_tensor[field_slices[color_field]]).squeeze())\n",
    "    \n",
    "    vis_def = visualization_definitions[shape_index]\n",
    "    patch = vis_def.patch_class(position + vis_def.offset, *vis_def.patch_args,\n",
    "                                **patch_kwargs)\n",
    "    \n",
    "    return patch, color_index\n",
    "\n",
    "\n",
    "def visualize_objects(objects, object_generator, ax=None, x_field='x',\n",
    "                      y_field='y', color_field='color', shape_field='shape',\n",
    "                      scale=DEFAULT_SCALE, figsize=(6, 6), bg_color='black', \n",
    "                      additional_patch_kwargs=None, \n",
    "                      visualization_definitions=VISUALIZATION_DEFINITIONS,\n",
    "                      cmap=plt.cm.tab10, clim=(0, 10)):\n",
    "   \n",
    "    call_show = False\n",
    "    if ax is None:\n",
    "        fig = plt.figure(figsize=figsize)\n",
    "        ax = fig.add_subplot(1, 1, 1)\n",
    "        call_show = True\n",
    "\n",
    "    x_gen = object_generator.field_generators[x_field]\n",
    "    plt.xlim(x_gen.min_coord * scale, x_gen.max_coord * scale)\n",
    "    y_gen = object_generator.field_generators[y_field]\n",
    "    plt.ylim(y_gen.min_coord * scale, y_gen.max_coord * scale)\n",
    "    ax.set_facecolor(bg_color)\n",
    "    \n",
    "    patches, colors = zip(*[object_to_patch(objects[i], object_generator.field_slices, \n",
    "                                            x_field=x_field, y_field=y_field, \n",
    "                                            color_field=color_field, shape_field=shape_field, \n",
    "                                            scale=scale, additional_patch_kwargs=additional_patch_kwargs,\n",
    "                                            visualization_definitions=visualization_definitions)\n",
    "                            for i in range(objects.shape[0])])\n",
    "    \n",
    "    collection = PatchCollection(patches, cmap=cmap) \n",
    "    collection.set_array(np.array(colors)) \n",
    "    collection.set_clim(*clim)\n",
    "    ax.add_collection(collection)\n",
    "    \n",
    "    ax.get_xaxis().set_ticks([])\n",
    "    ax.get_yaxis().set_ticks([])\n",
    "    \n",
    "    if call_show:\n",
    "        plt.show()\n",
    "    "
   ]
  },
  {
   "cell_type": "code",
   "execution_count": 9,
   "metadata": {},
   "outputs": [],
   "source": [
    "X = {}\n",
    "y = {}\n",
    "object_generators = {}\n",
    "positive_indices = {}\n",
    "negative_indices = {}\n",
    "\n",
    "for num_objects in (5, 10):\n",
    "    \n",
    "    for i, relation in enumerate(run.RELATION_NAMES_TO_CLASSES):\n",
    "        key = (num_objects, relation)\n",
    "        \n",
    "        relation_class = run.RELATION_NAMES_TO_CLASSES[relation]\n",
    "        object_generator = object_gen.SmartBalancedBatchObjectGenerator(\n",
    "            num_objects, run.FIELD_CONFIGURATIONS['default'], relation_class)\n",
    "        object_generators[key] = object_generator\n",
    "            \n",
    "        X[key], y[key] = object_generator(100)\n",
    "        y[key] = y[key].bool()\n",
    "        \n",
    "        positive_indices[key] = torch.nonzero(y[key]).squeeze()\n",
    "        negative_indices[key] = torch.nonzero(~y[key]).squeeze()\n",
    "                   \n"
   ]
  },
  {
   "cell_type": "code",
   "execution_count": 11,
   "metadata": {
    "scrolled": false
   },
   "outputs": [
    {
     "name": "stdout",
     "output_type": "stream",
     "text": [
      "Figure:\n",
      "\n",
      "\\begin{figure}[!htb]\n",
      "% \\vspace{-0.225in}\n",
      "\\centering\n",
      "\\includegraphics[width=\\linewidth]{figures/example_images_5.pdf}\n",
      "\\caption{ {\\bf FIGURE TITLE.} FIGURE DESCRIPTION.}\n",
      "\\label{fig:example-images-5}\n",
      "% \\vspace{-0.2in}\n",
      "\\end{figure}\n",
      "\n",
      "\n",
      "Wrapfigure:\n",
      "\n",
      "\\begin{wrapfigure}{r}{0.5\\linewidth}\n",
      "\\vspace{-.3in}\n",
      "\\begin{spacing}{1.0}\n",
      "\\centering\n",
      "\\includegraphics[width=0.95\\linewidth]{figures/example_images_5.pdf}\n",
      "\\caption{ {\\bf FIGURE TITLE.} FIGURE DESCRIPTION.}\n",
      "\\label{fig:example-images-5}\n",
      "\\end{spacing}\n",
      "% \\vspace{-.25in}\n",
      "\\end{wrapfigure}\n",
      "\n"
     ]
    },
    {
     "data": {
      "image/png": "[encoded data removed]",
      "text/plain": [
       "<Figure size 864x432 with 8 Axes>"
      ]
     },
     "metadata": {},
     "output_type": "display_data"
    },
    {
     "name": "stdout",
     "output_type": "stream",
     "text": [
      "Figure:\n",
      "\n",
      "\\begin{figure}[!htb]\n",
      "% \\vspace{-0.225in}\n",
      "\\centering\n",
      "\\includegraphics[width=\\linewidth]{figures/example_images_10.pdf}\n",
      "\\caption{ {\\bf FIGURE TITLE.} FIGURE DESCRIPTION.}\n",
      "\\label{fig:example-images-10}\n",
      "% \\vspace{-0.2in}\n",
      "\\end{figure}\n",
      "\n",
      "\n",
      "Wrapfigure:\n",
      "\n",
      "\\begin{wrapfigure}{r}{0.5\\linewidth}\n",
      "\\vspace{-.3in}\n",
      "\\begin{spacing}{1.0}\n",
      "\\centering\n",
      "\\includegraphics[width=0.95\\linewidth]{figures/example_images_10.pdf}\n",
      "\\caption{ {\\bf FIGURE TITLE.} FIGURE DESCRIPTION.}\n",
      "\\label{fig:example-images-10}\n",
      "\\end{spacing}\n",
      "% \\vspace{-.25in}\n",
      "\\end{wrapfigure}\n",
      "\n"
     ]
    },
    {
     "data": {
      "image/png": "[encoded data removed]",
      "text/plain": [
       "<Figure size 864x432 with 8 Axes>"
      ]
     },
     "metadata": {},
     "output_type": "display_data"
    }
   ],
   "source": [
    "NUM_ROWS = 2\n",
    "NUM_RELATIONS = len(run.RELATION_NAMES_TO_CLASSES)\n",
    "FONTSIZE = 16\n",
    "\n",
    "pos_idx_choices = defaultdict(lambda: 0)\n",
    "neg_idx_choices = defaultdict(lambda: 0)\n",
    "\n",
    "pos_idx_choices[(5, 'above')] = 1\n",
    "pos_idx_choices[(5, 'count')] = 1\n",
    "\n",
    "for num_objects in (5, 10):\n",
    "    fig = plt.figure(figsize=(12, 6))\n",
    "    plt.subplots_adjust(hspace=0.1, wspace=0.1)\n",
    "    \n",
    "    for i, relation in enumerate(run.RELATION_NAMES_TO_CLASSES):\n",
    "        key = (num_objects, relation)\n",
    "            \n",
    "        pos_idx = positive_indices[key][pos_idx_choices[key]]\n",
    "        neg_idx = negative_indices[key][neg_idx_choices[key]]\n",
    "    \n",
    "        pos_ax = plt.subplot(NUM_ROWS, NUM_RELATIONS, i + 1)\n",
    "        if i == 0:\n",
    "            pos_ax.set_ylabel('Positive Examples', fontsize=FONTSIZE)\n",
    "        visualize_objects(X[key][pos_idx], object_generators[key], pos_ax)\n",
    "        pos_ax.set_title(relation.title(), fontsize=FONTSIZE)\n",
    "    \n",
    "        neg_ax = plt.subplot(NUM_ROWS, NUM_RELATIONS, NUM_RELATIONS + i + 1)\n",
    "        if i == 0:\n",
    "            neg_ax.set_ylabel('Negative Examples', fontsize=FONTSIZE)\n",
    "        visualize_objects(X[key][neg_idx], object_generators[key], neg_ax)\n",
    "    \n",
    "    save_plot(f'example_images_{num_objects}.pdf')\n",
    "        \n",
    "    plt.show()\n"
   ]
  },
  {
   "cell_type": "raw",
   "metadata": {},
   "source": []
  },
  {
   "cell_type": "code",
   "execution_count": null,
   "metadata": {},
   "outputs": [],
   "source": []
  },
  {
   "cell_type": "code",
   "execution_count": null,
   "metadata": {},
   "outputs": [],
   "source": []
  },
  {
   "cell_type": "code",
   "execution_count": 12,
   "metadata": {},
   "outputs": [
    {
     "data": {
      "text/markdown": [
       "# BetweenRelation"
      ],
      "text/plain": [
       "<IPython.core.display.Markdown object>"
      ]
     },
     "metadata": {},
     "output_type": "display_data"
    },
    {
     "data": {
      "text/markdown": [
       "Is there an object of one color between two objects of the other color?"
      ],
      "text/plain": [
       "<IPython.core.display.Markdown object>"
      ]
     },
     "metadata": {},
     "output_type": "display_data"
    },
    {
     "data": {
      "image/png": "[encoded data removed]",
      "text/plain": [
       "<Figure size 1224x576 with 8 Axes>"
      ]
     },
     "metadata": {},
     "output_type": "display_data"
    },
    {
     "data": {
      "text/markdown": [
       "------"
      ],
      "text/plain": [
       "<IPython.core.display.Markdown object>"
      ]
     },
     "metadata": {},
     "output_type": "display_data"
    }
   ],
   "source": [
    "IMAGES_PER_LABEL = 4\n",
    "N_OBJECTS = 5\n",
    "FONTSIZE = 16\n",
    "\n",
    "descriptions = {\n",
    "    MultipleDAdjacentRelation: 'Are any two objects adjacent (L1 distance of 1)?',\n",
    "    ColorAboveColorRelation: 'Is there a blue object above (or at the same height of) all orange objects?',\n",
    "    ObjectCountRelation: 'Are there more blue objects than squares?',\n",
    "    IdenticalObjectsRelation: 'Are any two objects identical (in shape and color)?',\n",
    "    BetweenRelation: 'Is there an object of one color between two objects of the other color?'\n",
    "}\n",
    "\n",
    "X = {}\n",
    "y = {}\n",
    "\n",
    "for relation_class in (BetweenRelation, \n",
    "                       # MultipleDAdjacentRelation, ColorAboveColorRelation, ObjectCountRelation, \n",
    "#                        IdenticalObjectsRelation\n",
    "                      ):\n",
    "    fig = plt.figure(figsize=(4 * IMAGES_PER_LABEL + 1, 8))\n",
    "    display(Markdown(f'# {relation_class.__name__}'))\n",
    "    display(Markdown(descriptions[relation_class]))\n",
    "    \n",
    "    gen = object_gen.SmartBalancedBatchObjectGenerator(N_OBJECTS, run.FIELD_CONFIGURATIONS['default'], relation_class,\n",
    "                                                       object_dtype=torch.float, label_dtype=torch.long,\n",
    "                                                       max_recursion_depth=100\n",
    "                                                      )\n",
    "\n",
    "    X[relation_class], y[relation_class] = gen(1000)\n",
    "    y[relation_class] = y[relation_class].bool()\n",
    "    positive_indices = np.random.choice(torch.nonzero(y[relation_class]).squeeze(), size=4, replace=False)\n",
    "    negative_indices = np.random.choice(torch.nonzero(~y[relation_class]).squeeze(), size=4, replace=False)\n",
    "    \n",
    "    for i, idx in enumerate(positive_indices):\n",
    "        ax = plt.subplot(2, IMAGES_PER_LABEL, i + 1)\n",
    "        if i == 0:\n",
    "            ax.set_ylabel('Positive Examples', fontsize=FONTSIZE)\n",
    "            \n",
    "        visualize_objects(X[relation_class][idx], gen, ax)\n",
    "        ax.set_title(idx)\n",
    "\n",
    "        \n",
    "    for i, idx in enumerate(negative_indices):\n",
    "        ax = plt.subplot(2, IMAGES_PER_LABEL, i + IMAGES_PER_LABEL + 1)\n",
    "        if i == 0:\n",
    "            ax.set_ylabel('Negative Examples', fontsize=FONTSIZE)\n",
    "            \n",
    "        visualize_objects(X[relation_class][idx], gen, ax)\n",
    "        ax.set_title(idx)\n",
    "        \n",
    "    plt.show()\n",
    "    display(Markdown(f'------'))"
   ]
  },
  {
   "cell_type": "markdown",
   "metadata": {},
   "source": [
    "# Dataset generation details\n",
    "\n",
    "* We generate a dataset of $M$ images, each with $N$ objects to be balanced with respect to a particular relation.\n",
    "* Each relation class (see the implementations in `object_relations.py`) knows how to convert a negative example to a positive, but not vice versa. That is, we can change a collections of objects where a relation doesn't hold to one where it does.\n",
    "* First, we sample $M$ images randomly. \n",
    "* If more than $M / 2$ are positive (with respect to the given relation), we resample all of the positive ones, repeating until at least $M / 2$ are negative.\n",
    "* We now have $M_{neg} > M / 2$ negative images. We convert $M_{neg} - M / 2$ of them to be positive, guaranteeing our dataset is balanced 50/50.\n",
    "* The logic above is implemented in the `SmartBalancedBatchObjectGenerator` class in `object_gen.py`.\n"
   ]
  },
  {
   "cell_type": "code",
   "execution_count": 13,
   "metadata": {},
   "outputs": [],
   "source": [
    "gen = object_gen.SmartBalancedBatchObjectGenerator(4, run.FIELD_CONFIGURATIONS['default'], BetweenRelation,\n",
    "                                                       object_dtype=torch.float, label_dtype=torch.long,\n",
    "                                                       max_recursion_depth=100)\n",
    "\n",
    "no_constraints_gen = object_gen.SmartBalancedBatchObjectGenerator(4, run.FIELD_CONFIGURATIONS['default'], BetweenRelation,\n",
    "                                                       object_dtype=torch.float, label_dtype=torch.long, constraints=[],\n",
    "                                                       max_recursion_depth=100)"
   ]
  },
  {
   "cell_type": "code",
   "execution_count": 15,
   "metadata": {},
   "outputs": [],
   "source": [
    "DEFAULT_POSITION_FIELDS = ('x', 'y')\n",
    "\n",
    "\n",
    "def current_no_position_collision_constraint(object_batch, relevant_indices, field_slices,\n",
    "                                     position_fields=DEFAULT_POSITION_FIELDS):\n",
    "    violating_indices = []\n",
    "\n",
    "    if relevant_indices is None:\n",
    "        relevant_indices = range(object_batch.shape[0])\n",
    "\n",
    "    for idx in relevant_indices:\n",
    "        object_positions = torch.cat([object_batch[idx, :, field_slices[pos]] for pos in position_fields],\n",
    "                                     dim=1).to(torch.float)\n",
    "\n",
    "        for obj_idx in range(object_positions.shape[0] - 1):\n",
    "            if (object_positions[obj_idx + 1:] == object_positions[obj_idx]).all(dim=1).any():\n",
    "                violating_indices.append(idx)\n",
    "                break\n",
    "\n",
    "    return violating_indices"
   ]
  },
  {
   "cell_type": "code",
   "execution_count": 18,
   "metadata": {},
   "outputs": [
    {
     "data": {
      "text/plain": [
       "[68, 73, 281, 314, 359, 371, 480, 543, 832, 985]"
      ]
     },
     "execution_count": 18,
     "metadata": {},
     "output_type": "execute_result"
    }
   ],
   "source": [
    "X = no_constraints_gen(1000)[0]\n"
   ]
  },
  {
   "cell_type": "code",
   "execution_count": 20,
   "metadata": {},
   "outputs": [
    {
     "data": {
      "text/plain": [
       "tensor([[[13.,  1.,  0.,  1.,  1.,  0.],\n",
       "         [ 5.,  1.,  1.,  0.,  0.,  1.],\n",
       "         [ 5.,  1.,  0.,  1.,  1.,  0.],\n",
       "         [ 5.,  6.,  1.,  0.,  1.,  0.]],\n",
       "\n",
       "        [[10.,  0.,  0.,  1.,  0.,  1.],\n",
       "         [14.,  0.,  1.,  0.,  0.,  1.],\n",
       "         [ 8., 15.,  1.,  0.,  0.,  1.],\n",
       "         [10.,  0.,  0.,  1.,  0.,  1.]],\n",
       "\n",
       "        [[ 4., 10.,  1.,  0.,  0.,  1.],\n",
       "         [ 6., 10.,  1.,  0.,  1.,  0.],\n",
       "         [ 5., 10.,  0.,  1.,  1.,  0.],\n",
       "         [ 4., 10.,  0.,  1.,  1.,  0.]],\n",
       "\n",
       "        [[ 8., 10.,  1.,  0.,  0.,  1.],\n",
       "         [ 3.,  8.,  1.,  0.,  1.,  0.],\n",
       "         [ 3.,  8.,  1.,  0.,  0.,  1.],\n",
       "         [ 6., 12.,  0.,  1.,  1.,  0.]],\n",
       "\n",
       "        [[ 7.,  3.,  1.,  0.,  0.,  1.],\n",
       "         [ 2.,  3.,  0.,  1.,  0.,  1.],\n",
       "         [12.,  0.,  0.,  1.,  0.,  1.],\n",
       "         [12.,  0.,  1.,  0.,  0.,  1.]],\n",
       "\n",
       "        [[11.,  2.,  1.,  0.,  1.,  0.],\n",
       "         [13.,  5.,  1.,  0.,  0.,  1.],\n",
       "         [13.,  5.,  1.,  0.,  1.,  0.],\n",
       "         [10.,  0.,  1.,  0.,  1.,  0.]],\n",
       "\n",
       "        [[12., 11.,  0.,  1.,  1.,  0.],\n",
       "         [ 4.,  3.,  0.,  1.,  1.,  0.],\n",
       "         [ 2., 10.,  1.,  0.,  0.,  1.],\n",
       "         [ 2., 10.,  0.,  1.,  1.,  0.]],\n",
       "\n",
       "        [[ 8., 14.,  0.,  1.,  0.,  1.],\n",
       "         [ 8., 13.,  0.,  1.,  0.,  1.],\n",
       "         [ 8., 12.,  1.,  0.,  1.,  0.],\n",
       "         [ 8., 14.,  1.,  0.,  0.,  1.]],\n",
       "\n",
       "        [[12.,  9.,  1.,  0.,  0.,  1.],\n",
       "         [ 7.,  7.,  1.,  0.,  0.,  1.],\n",
       "         [ 7.,  7.,  0.,  1.,  0.,  1.],\n",
       "         [ 2., 13.,  1.,  0.,  1.,  0.]],\n",
       "\n",
       "        [[10.,  4.,  0.,  1.,  0.,  1.],\n",
       "         [ 3.,  0.,  0.,  1.,  0.,  1.],\n",
       "         [ 5.,  5.,  1.,  0.,  0.,  1.],\n",
       "         [ 5.,  5.,  0.,  1.,  1.,  0.]]])"
      ]
     },
     "execution_count": 20,
     "metadata": {},
     "output_type": "execute_result"
    }
   ],
   "source": [
    "X[current_no_position_collision_constraint(X, None, no_constraints_gen.field_slices)]"
   ]
  },
  {
   "cell_type": "code",
   "execution_count": 49,
   "metadata": {},
   "outputs": [],
   "source": [
    "def previous_no_position_collision_constraint(object_batch, relevant_indices, field_slices,\n",
    "                                     position_fields=DEFAULT_POSITION_FIELDS):\n",
    "    violating_indices = []\n",
    "\n",
    "    if relevant_indices is None:\n",
    "        relevant_indices = range(object_batch.shape[0])\n",
    "\n",
    "    for idx in relevant_indices:\n",
    "        object_positions = torch.cat([object_batch[idx, :, field_slices[pos]] for pos in position_fields],\n",
    "                                     dim=1).to(torch.float).unsqueeze(0)\n",
    "#         print('P', object_positions)\n",
    "        for obj_idx in range(object_positions.shape[0] - 1):\n",
    "#             print(obj_idx, object_positions[obj_idx])\n",
    "#             print(object_positions[obj_idx + 1:])\n",
    "            if (object_positions[obj_idx + 1:] == object_positions[obj_idx]).any():\n",
    "                violating_indices.append(idx)\n",
    "                break\n",
    "                \n",
    "    return violating_indices"
   ]
  },
  {
   "cell_type": "code",
   "execution_count": 40,
   "metadata": {},
   "outputs": [
    {
     "name": "stdout",
     "output_type": "stream",
     "text": [
      "P tensor([[[5., 4.],\n",
      "         [5., 3.],\n",
      "         [0., 8.],\n",
      "         [5., 5.]]])\n",
      "P tensor([[[ 4.,  6.],\n",
      "         [ 5., 12.],\n",
      "         [ 5., 13.],\n",
      "         [ 5., 11.]]])\n",
      "P tensor([[[15., 10.],\n",
      "         [ 7., 11.],\n",
      "         [ 0.,  6.],\n",
      "         [ 8., 15.]]])\n",
      "[]\n"
     ]
    },
    {
     "data": {
      "text/plain": [
       "tensor([], size=(0, 4, 6))"
      ]
     },
     "execution_count": 40,
     "metadata": {},
     "output_type": "execute_result"
    }
   ],
   "source": [
    "ind = previous_no_position_collision_constraint(X, [0, 1, 2], no_constraints_gen.field_slices)\n",
    "print(ind)\n",
    "X[ind]"
   ]
  },
  {
   "cell_type": "code",
   "execution_count": 33,
   "metadata": {},
   "outputs": [
    {
     "data": {
      "text/plain": [
       "[]"
      ]
     },
     "execution_count": 33,
     "metadata": {},
     "output_type": "execute_result"
    }
   ],
   "source": [
    "t = torch.tensor([[ 3.,  8.,  0.,  1.,  0.,  1.],\n",
    "          [ 9.,  0.,  1.,  0.,  1.,  0.],\n",
    "          [ 5.,  4.,  1.,  0.,  1.,  0.],\n",
    "          [10., 12.,  0.,  1.,  1.,  0.]]).unsqueeze(0)\n",
    "previous_no_position_collision_constraint(t, None, no_constraints_gen.field_slices)"
   ]
  },
  {
   "cell_type": "code",
   "execution_count": 48,
   "metadata": {},
   "outputs": [
    {
     "data": {
      "text/plain": [
       "tensor([[ 3.,  8.],\n",
       "        [ 5.,  4.],\n",
       "        [ 9.,  0.],\n",
       "        [10., 12.]])"
      ]
     },
     "execution_count": 48,
     "metadata": {},
     "output_type": "execute_result"
    }
   ],
   "source": [
    "t[0, :, :2].unique(dim=0)"
   ]
  },
  {
   "cell_type": "code",
   "execution_count": 58,
   "metadata": {},
   "outputs": [
    {
     "name": "stdout",
     "output_type": "stream",
     "text": [
      "With 5 objects:\n",
      "None: P(no collisions) = 0.9704 [dict_items([(5, 9704), (4, 292), (3, 4)])]\n",
      "Buggy: P(no collisions) = 0.9683 [dict_items([(5, 9683), (3, 5), (4, 312)])]\n",
      "Fixed: P(no collisions) = 1.0000 [dict_items([(5, 10000)])]\n",
      "With 10 objects:\n",
      "None: P(no collisions) = 0.8366 [dict_items([(10, 8366), (9, 1523), (8, 106), (7, 5)])]\n",
      "Buggy: P(no collisions) = 0.8387 [dict_items([(10, 8387), (9, 1504), (8, 108), (7, 1)])]\n",
      "Fixed: P(no collisions) = 1.0000 [dict_items([(10, 10000)])]\n"
     ]
    }
   ],
   "source": [
    "constraint_sets = ([], [previous_no_position_collision_constraint], [current_no_position_collision_constraint])\n",
    "names = ('None', 'Buggy', 'Fixed')\n",
    "N = 10000\n",
    "\n",
    "for n_obj in (5, 10):\n",
    "    print(f'With {n_obj} objects:')\n",
    "    for constraint_set, name in zip(constraint_sets, names):\n",
    "        gen = object_gen.SmartBalancedBatchObjectGenerator(n_obj, run.FIELD_CONFIGURATIONS['default'], \n",
    "                                                           MultipleDAdjacentRelation,\n",
    "                                                           object_dtype=torch.float, \n",
    "                                                           label_dtype=torch.long, \n",
    "                                                           constraints=constraint_set,\n",
    "                                                           max_recursion_depth=100)\n",
    "        X = gen(N)[0]\n",
    "        unique_counts = defaultdict(lambda: 0)\n",
    "        for b in range(X.shape[0]):\n",
    "            pos = X[b, :, :2]\n",
    "            unique_pos = set([tuple(x.numpy()) for x in pos])\n",
    "            unique_counts[len(unique_pos)] += 1\n",
    "\n",
    "        print(f'{name}: P(no collisions) = {unique_counts[n_obj] / N:.4f} [{unique_counts.items()}]')"
   ]
  },
  {
   "cell_type": "code",
   "execution_count": 59,
   "metadata": {},
   "outputs": [
    {
     "data": {
      "text/plain": [
       "<simple_relational_reasoning.datagen.object_relations.MultipleDAdjacentRelation at 0x1335f6b00>"
      ]
     },
     "execution_count": 59,
     "metadata": {},
     "output_type": "execute_result"
    }
   ],
   "source": [
    "gen.relation"
   ]
  },
  {
   "cell_type": "code",
   "execution_count": 63,
   "metadata": {},
   "outputs": [],
   "source": [
    "objs = t.squeeze(0)\n",
    "objs[2, :2] = torch.tensor([3, 8])"
   ]
  },
  {
   "cell_type": "code",
   "execution_count": 65,
   "metadata": {},
   "outputs": [
    {
     "data": {
      "text/plain": [
       "tensor(False)"
      ]
     },
     "execution_count": 65,
     "metadata": {},
     "output_type": "execute_result"
    }
   ],
   "source": [
    "gen.relation.evaluate(objs)"
   ]
  },
  {
   "cell_type": "code",
   "execution_count": null,
   "metadata": {},
   "outputs": [],
   "source": []
  }
 ],
 "metadata": {
  "kernelspec": {
   "display_name": "Python 3",
   "language": "python",
   "name": "python3"
  },
  "language_info": {
   "codemirror_mode": {
    "name": "ipython",
    "version": 3
   },
   "file_extension": ".py",
   "mimetype": "text/x-python",
   "name": "python",
   "nbconvert_exporter": "python",
   "pygments_lexer": "ipython3",
   "version": "3.6.7"
  }
 },
 "nbformat": 4,
 "nbformat_minor": 4
}
