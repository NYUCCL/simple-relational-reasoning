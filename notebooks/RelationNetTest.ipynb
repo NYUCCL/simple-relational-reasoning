{
 "cells": [
  {
   "cell_type": "code",
   "execution_count": 1,
   "metadata": {},
   "outputs": [],
   "source": [
    "%load_ext autoreload\n",
    "%autoreload 2\n",
    "%matplotlib inline"
   ]
  },
  {
   "cell_type": "code",
   "execution_count": 2,
   "metadata": {},
   "outputs": [],
   "source": [
    "import os\n",
    "import sys\n",
    "sys.path.append(os.path.abspath('..'))\n",
    "\n",
    "import numpy as np\n",
    "import matplotlib.pyplot as plt\n",
    "\n",
    "import torch\n",
    "from torch import nn\n",
    "import torch.nn.functional as F\n",
    "from torchsummary import summary\n",
    "\n",
    "from pytorch_lightning import Trainer\n",
    "from pytorch_lightning.callbacks import EarlyStopping"
   ]
  },
  {
   "cell_type": "code",
   "execution_count": 3,
   "metadata": {},
   "outputs": [
    {
     "data": {
      "text/plain": [
       "<torch._C.Generator at 0x7f4d27f84390>"
      ]
     },
     "execution_count": 3,
     "metadata": {},
     "output_type": "execute_result"
    }
   ],
   "source": [
    "torch.manual_seed(33)"
   ]
  },
  {
   "cell_type": "code",
   "execution_count": 4,
   "metadata": {},
   "outputs": [],
   "source": [
    "from simple_relational_reasoning.datagen import *\n",
    "from simple_relational_reasoning.models import *"
   ]
  },
  {
   "cell_type": "code",
   "execution_count": 5,
   "metadata": {},
   "outputs": [],
   "source": [
    "from pytorch_lightning.loggers import LightningLoggerBase, rank_zero_only\n",
    "from collections import defaultdict\n",
    "\n",
    "\n",
    "class PrintLogger(LightningLoggerBase):\n",
    "    \n",
    "    def __init__(self):\n",
    "        super(PrintLogger, self).__init__()\n",
    "    \n",
    "    @property\n",
    "    def name(self):\n",
    "        return 'PrintLogger'\n",
    "    \n",
    "    @property\n",
    "    def experiment(self):\n",
    "        return self.name()\n",
    "    \n",
    "    @property\n",
    "    def version(self):\n",
    "        return '0.0.1'\n",
    "    \n",
    "    @rank_zero_only\n",
    "    def log_hyperparams(self, params):\n",
    "        print(f'Hyperparameters:\\n{params}')\n",
    "\n",
    "    @rank_zero_only\n",
    "    def log_metrics(self, metrics, step):\n",
    "        if metrics is not None and len(metrics.keys()) > 0:\n",
    "            out = ', '.join([f'{key}: {metrics[key]:.4f}' for key in sorted(metrics.keys())])\n",
    "            print(f'{step}: {out}')\n",
    "\n",
    "    def save(self):\n",
    "        # Optional. Any code necessary to save logger data goes here\n",
    "        pass\n",
    "\n",
    "    @rank_zero_only\n",
    "    def finalize(self, status):\n",
    "        # Optional. Any code that needs to be run after training\n",
    "        # finishes goes here\n",
    "        pass\n",
    "    \n",
    "    \n",
    "class PlotLogger(LightningLoggerBase):\n",
    "    \n",
    "    def __init__(self, metric_groups, plot_grid=None, cmap='Dark2',\n",
    "                 ax_width=6, ax_height=4, print_final=True):\n",
    "        super(PlotLogger, self).__init__()\n",
    "        self.metric_groups = metric_groups\n",
    "        if plot_grid is None:\n",
    "            plot_grid = (1, len(self.metric_groups))\n",
    "\n",
    "        self.plot_grid = plot_grid\n",
    "        self.metrics = defaultdict(list)\n",
    "        self.cmap = plt.get_cmap(cmap)\n",
    "        self.ax_width = ax_width\n",
    "        self.ax_height = ax_height\n",
    "        self.print_final = print_final\n",
    "    \n",
    "    @property\n",
    "    def name(self):\n",
    "        return 'PlotLogger'\n",
    "    \n",
    "    @property\n",
    "    def experiment(self):\n",
    "        return self.name()\n",
    "    \n",
    "    @property\n",
    "    def version(self):\n",
    "        return '0.0.1'\n",
    "    \n",
    "    @rank_zero_only\n",
    "    def log_hyperparams(self, params):\n",
    "        pass\n",
    "\n",
    "    @rank_zero_only\n",
    "    def log_metrics(self, metrics, step):\n",
    "        if metrics is not None and len(metrics.keys()) > 0:\n",
    "            for key in metrics.keys():\n",
    "                self.metrics[key].append(metrics[key])\n",
    "\n",
    "    def save(self):\n",
    "        # Optional. Any code necessary to save logger data goes here\n",
    "        pass\n",
    "\n",
    "    @rank_zero_only\n",
    "    def finalize(self, status):\n",
    "        # Optional. Any code that needs to be run after training\n",
    "        # finishes goes here\n",
    "\n",
    "        if self.print_final:\n",
    "            out = ', '.join([f'{key}: {self.metrics[key][-1]:.4f}' for key in sorted(self.metrics.keys())])\n",
    "            print(f'Final values: {out}')\n",
    "        \n",
    "        # plot_grid is (n_rows, n_cols)\n",
    "        plt.figure(figsize=(self.ax_width * self.plot_grid[1], self.ax_height * self.plot_grid[0]))\n",
    "        \n",
    "        for i, group_or_name in enumerate(self.metric_groups):\n",
    "            if isinstance(group_or_name, str):\n",
    "                group = self.metric_groups[group_or_name]\n",
    "                name = group_or_name\n",
    "            else:\n",
    "                group = group_or_name\n",
    "                name = None\n",
    "                \n",
    "            ax = plt.subplot(*self.plot_grid, i + 1)\n",
    "            for j, key in enumerate(sorted(group)):\n",
    "                ax.plot(self.metrics[key], color=self.cmap(j), label=key)\n",
    "                \n",
    "            ax.legend(loc='best')\n",
    "            ax.set_xlabel('Epochs')\n",
    "            if name is not None:\n",
    "                ax.set_title(name.title())\n",
    "            \n",
    "        plt.show()"
   ]
  },
  {
   "cell_type": "code",
   "execution_count": 6,
   "metadata": {},
   "outputs": [
    {
     "data": {
      "text/plain": [
       "(torch.Size([16384, 8, 6]), torch.Size([16384]), tensor(8192), tensor(0.5000))"
      ]
     },
     "execution_count": 6,
     "metadata": {},
     "output_type": "execute_result"
    }
   ],
   "source": [
    "cfgs = ( \n",
    "    object_gen.FieldConfig('x', 'int_position', dict(max_coord=20)), \n",
    "    object_gen.FieldConfig('y', 'int_position', dict(max_coord=20)), \n",
    "    object_gen.FieldConfig('color', 'one_hot', dict(n_types=2)),\n",
    "    object_gen.FieldConfig('shape', 'one_hot', dict(n_types=2))\n",
    ")\n",
    "\n",
    "# gen = object_gen.ObjectGenerator(8, cfgs, \n",
    "gen = object_gen.SmartBalancedBatchObjectGenerator(8, cfgs, \n",
    "                                                   MultipleDAdjacentRelation, \n",
    "#                                                    IdenticalObjectsRelation,\n",
    "#                                                    ObjectCountRelation,\n",
    "                                                   object_dtype=torch.float, label_dtype=torch.long,\n",
    "#                                                    max_recursion_depth=100\n",
    "                                                  )\n",
    "\n",
    "X, y = gen(2 ** 14)\n",
    "X.shape, y.shape, y.sum(), y.sum().float() / y.shape[0]"
   ]
  },
  {
   "cell_type": "code",
   "execution_count": null,
   "metadata": {
    "scrolled": false
   },
   "outputs": [],
   "source": [
    "N_OBJECTS = 8\n",
    "\n",
    "for relation_class in (MultipleDAdjacentRelation, ColorAboveColorRelation, ObjectCountRelation):\n",
    "    print(relation_class.__name__)\n",
    "    gen = object_gen.SmartBalancedBatchObjectGenerator(N_OBJECTS, cfgs, relation_class,\n",
    "                                                   object_dtype=torch.float, label_dtype=torch.long,\n",
    "                                                   max_recursion_depth=100\n",
    "                                                  )\n",
    "    \"\"\"\n",
    "    model = RelationNetModel(gen, \n",
    "    #                          embedding_size=8,\n",
    "                             object_pair_layer_sizes=[32], # 32],\n",
    "    #                          object_pair_layer_sizes=[256, 256, 256],\n",
    "    #                          combined_object_layer_sizes=[256, 256],\n",
    "                             combined_object_layer_sizes=[32],\n",
    "                             # prediction_sizes=hidden_sizes, prediction_activation_class=nn.ReLU,\n",
    "                             batch_size=2**10, lr=1e-3, \n",
    "                             train_epoch_size=2**14, validation_epoch_size=2**14,\n",
    "    #                          train_epoch_size=2**10, validation_epoch_size=2**10,\n",
    "                             regenerate_every_epoch=False)\n",
    "    \"\"\"\n",
    "    \n",
    "    \"\"\"\n",
    "    model = TransformerModel(gen, \n",
    "                             embedding_size=8,\n",
    "                             mlp_sizes=[32],\n",
    "                             batch_size=2**10, lr=1e-3, \n",
    "                             train_epoch_size=2**14, validation_epoch_size=2**14,\n",
    "                             regenerate_every_epoch=False\n",
    "                            )\n",
    "    \"\"\"\n",
    "    model = CNNModel(gen,\n",
    "                     conv_output_size=16,\n",
    "                     batch_size=2**10, lr=1e-3, \n",
    "                     train_epoch_size=2**14, validation_epoch_size=2**14,\n",
    "                     regenerate_every_epoch=False\n",
    "                    )\n",
    "    \n",
    "    use_gpu = int(torch.cuda.is_available())\n",
    "    loggers = []\n",
    "#     loggers.append(PrintLogger())\n",
    "    loggers.append(PlotLogger(dict(loss=('train_loss', 'val_loss'), accuracy=('train_acc', 'val_acc'))))\n",
    "    trainer = Trainer(gpus=use_gpu, max_epochs=1000, logger=loggers,\n",
    "                      early_stop_callback=EarlyStopping('val_loss', patience=20))\n",
    "    trainer.fit(model)\n"
   ]
  },
  {
   "cell_type": "code",
   "execution_count": null,
   "metadata": {
    "scrolled": false
   },
   "outputs": [],
   "source": [
    "N_OBJECTS = 4\n",
    "\n",
    "for relation_class in (MultipleDAdjacentRelation, ColorAboveColorRelation, ObjectCountRelation):\n",
    "    print(relation_class.__name__)\n",
    "    gen = object_gen.SmartBalancedBatchObjectGenerator(N_OBJECTS, cfgs, relation_class,\n",
    "                                                   object_dtype=torch.float, label_dtype=torch.long,\n",
    "                                                   max_recursion_depth=100\n",
    "                                                  )\n",
    "    \n",
    "    \"\"\"\n",
    "    model = RelationNetModel(gen, \n",
    "    #                          embedding_size=8,\n",
    "                             object_pair_layer_sizes=[32], # 32],\n",
    "    #                          object_pair_layer_sizes=[256, 256, 256],\n",
    "    #                          combined_object_layer_sizes=[256, 256],\n",
    "                             combined_object_layer_sizes=[32],\n",
    "                             # prediction_sizes=hidden_sizes, prediction_activation_class=nn.ReLU,\n",
    "                             batch_size=2**10, lr=1e-3, \n",
    "                             train_epoch_size=2**14, validation_epoch_size=2**14,\n",
    "    #                          train_epoch_size=2**10, validation_epoch_size=2**10,\n",
    "                             regenerate_every_epoch=False)\n",
    "    \"\"\"\n",
    "    \n",
    "    \"\"\"\n",
    "    model = TransformerModel(gen, \n",
    "                             embedding_size=8,\n",
    "                             mlp_sizes=[32],\n",
    "                             batch_size=2**10, lr=1e-3, \n",
    "                             train_epoch_size=2**14, validation_epoch_size=2**14,\n",
    "                             regenerate_every_epoch=False\n",
    "                            )\n",
    "    \"\"\"\n",
    "    model = CNNModel(gen,\n",
    "                     conv_output_size=16,\n",
    "                     batch_size=2**10, lr=1e-3, \n",
    "                     train_epoch_size=2**14, validation_epoch_size=2**14,\n",
    "                     regenerate_every_epoch=False\n",
    "                    )\n",
    "    \n",
    "    use_gpu = int(torch.cuda.is_available())\n",
    "    loggers = []\n",
    "#     loggers.append(PrintLogger())\n",
    "    loggers.append(PlotLogger(dict(loss=('train_loss', 'val_loss'), accuracy=('train_acc', 'val_acc'))))\n",
    "    trainer = Trainer(gpus=use_gpu, max_epochs=1000, logger=loggers,\n",
    "                      early_stop_callback=EarlyStopping('val_loss', patience=10))\n",
    "    trainer.fit(model)\n"
   ]
  },
  {
   "cell_type": "code",
   "execution_count": null,
   "metadata": {},
   "outputs": [],
   "source": [
    "assert(False)"
   ]
  },
  {
   "cell_type": "code",
   "execution_count": null,
   "metadata": {
    "scrolled": false
   },
   "outputs": [],
   "source": [
    "for train_size_power in (10, 12, 14, 16):\n",
    "    model = RelationNetModel(gen, \n",
    "    #                          embedding_size=8,\n",
    "                             object_pair_layer_sizes=[32], # 32],\n",
    "    #                          object_pair_layer_sizes=[256, 256, 256],\n",
    "    #                          combined_object_layer_sizes=[256, 256],\n",
    "                             combined_object_layer_sizes=[32],\n",
    "                             # prediction_sizes=hidden_sizes, prediction_activation_class=nn.ReLU,\n",
    "                             batch_size=2**10, lr=1e-3, \n",
    "                             train_epoch_size=2**train_size_power, validation_epoch_size=2**14,\n",
    "    #                          train_epoch_size=2**10, validation_epoch_size=2**10,\n",
    "                             regenerate_every_epoch=False)\n",
    "    \n",
    "    use_gpu = int(torch.cuda.is_available())\n",
    "    loggers = []\n",
    "#     loggers.append(PrintLogger())\n",
    "    loggers.append(PlotLogger(dict(loss=('train_loss', 'val_loss'), accuracy=('train_acc', 'val_acc'))))\n",
    "    trainer = Trainer(gpus=use_gpu, max_epochs=1000, logger=loggers,\n",
    "                      early_stop_callback=EarlyStopping('val_loss', patience=10))\n",
    "    trainer.fit(model)"
   ]
  },
  {
   "cell_type": "code",
   "execution_count": null,
   "metadata": {
    "scrolled": false
   },
   "outputs": [],
   "source": [
    "use_gpu = int(torch.cuda.is_available())\n",
    "loggers = []\n",
    "loggers.append(PrintLogger())\n",
    "loggers.append(PlotLogger(dict(loss=('train_loss', 'val_loss'), accuracy=('train_acc', 'val_acc'))))\n",
    "trainer = Trainer(gpus=use_gpu, max_epochs=00, logger=loggers,\n",
    "                  early_stop_callback=EarlyStopping('val_loss', patience=5))\n",
    "trainer.fit(model)"
   ]
  },
  {
   "cell_type": "code",
   "execution_count": null,
   "metadata": {},
   "outputs": [],
   "source": []
  },
  {
   "cell_type": "code",
   "execution_count": null,
   "metadata": {},
   "outputs": [],
   "source": [
    "!git pull"
   ]
  },
  {
   "cell_type": "code",
   "execution_count": null,
   "metadata": {},
   "outputs": [],
   "source": []
  },
  {
   "cell_type": "code",
   "execution_count": null,
   "metadata": {},
   "outputs": [],
   "source": [
    "model"
   ]
  },
  {
   "cell_type": "code",
   "execution_count": 13,
   "metadata": {},
   "outputs": [],
   "source": [
    "N_OBJECTS = 8\n",
    "\n",
    "gen = object_gen.SmartBalancedBatchObjectGenerator(N_OBJECTS, cfgs, MultipleDAdjacentRelation,\n",
    "                                                   object_dtype=torch.float, label_dtype=torch.long,\n",
    "                                                   max_recursion_depth=100\n",
    "                                                  )\n",
    "\"\"\"\n",
    "model = RelationNetModel(gen, \n",
    "#                          embedding_size=8,\n",
    "                         object_pair_layer_sizes=[32], # 32],\n",
    "#                          object_pair_layer_sizes=[256, 256, 256],\n",
    "#                          combined_object_layer_sizes=[256, 256],\n",
    "                         combined_object_layer_sizes=[32],\n",
    "                         # prediction_sizes=hidden_sizes, prediction_activation_class=nn.ReLU,\n",
    "                         batch_size=2**10, lr=1e-3, \n",
    "                         train_epoch_size=2**14, validation_epoch_size=2**14,\n",
    "#                          train_epoch_size=2**10, validation_epoch_size=2**10,\n",
    "                         regenerate_every_epoch=False)\n",
    "\"\"\"\n",
    "\n",
    "\"\"\"\n",
    "model = TransformerModel(gen, \n",
    "                         embedding_size=8,\n",
    "                         mlp_sizes=[32],\n",
    "                         batch_size=2**10, lr=1e-3, \n",
    "                         train_epoch_size=2**14, validation_epoch_size=2**14,\n",
    "                         regenerate_every_epoch=False\n",
    "                        )\n",
    "\"\"\"\n",
    "model = CNNModel(gen,\n",
    "                 conv_sizes=[16, 32, 48], \n",
    "                 mlp_sizes=[64, 32, 16],\n",
    "                 conv_output_size=192,\n",
    "                 conv_stride=1,\n",
    "                 batch_size=2**10, lr=1e-3, \n",
    "                 train_epoch_size=2**14, validation_epoch_size=2**14,\n",
    "                 regenerate_every_epoch=False\n",
    "                )"
   ]
  },
  {
   "cell_type": "code",
   "execution_count": 14,
   "metadata": {},
   "outputs": [
    {
     "name": "stdout",
     "output_type": "stream",
     "text": [
      "----------------------------------------------------------------\n",
      "        Layer (type)               Output Shape         Param #\n",
      "================================================================\n",
      "            Conv2d-1           [-1, 16, 16, 16]             880\n",
      "              ReLU-2           [-1, 16, 16, 16]               0\n",
      "         MaxPool2d-3             [-1, 16, 8, 8]               0\n",
      "            Conv2d-4             [-1, 32, 8, 8]           4,640\n",
      "              ReLU-5             [-1, 32, 8, 8]               0\n",
      "         MaxPool2d-6             [-1, 32, 4, 4]               0\n",
      "            Conv2d-7             [-1, 48, 4, 4]          13,872\n",
      "              ReLU-8             [-1, 48, 4, 4]               0\n",
      "         MaxPool2d-9             [-1, 48, 2, 2]               0\n",
      "           Linear-10                   [-1, 64]          12,352\n",
      "             ReLU-11                   [-1, 64]               0\n",
      "           Linear-12                   [-1, 32]           2,080\n",
      "             ReLU-13                   [-1, 32]               0\n",
      "           Linear-14                   [-1, 16]             528\n",
      "             ReLU-15                   [-1, 16]               0\n",
      "           Linear-16                    [-1, 2]              34\n",
      "         Identity-17                    [-1, 2]               0\n",
      "================================================================\n",
      "Total params: 34,386\n",
      "Trainable params: 34,386\n",
      "Non-trainable params: 0\n",
      "----------------------------------------------------------------\n",
      "Input size (MB): 0.01\n",
      "Forward/backward pass size (MB): 0.12\n",
      "Params size (MB): 0.13\n",
      "Estimated Total Size (MB): 0.26\n",
      "----------------------------------------------------------------\n"
     ]
    }
   ],
   "source": [
    "model.cuda()\n",
    "summary(model, (6, 16, 16))"
   ]
  },
  {
   "cell_type": "code",
   "execution_count": 15,
   "metadata": {},
   "outputs": [
    {
     "data": {
      "text/plain": [
       "65536"
      ]
     },
     "execution_count": 15,
     "metadata": {},
     "output_type": "execute_result"
    }
   ],
   "source": [
    "2 ** 16"
   ]
  },
  {
   "cell_type": "code",
   "execution_count": null,
   "metadata": {},
   "outputs": [],
   "source": []
  },
  {
   "cell_type": "code",
   "execution_count": 12,
   "metadata": {},
   "outputs": [
    {
     "name": "stdout",
     "output_type": "stream",
     "text": [
      "----------------------------------------------------------------\n",
      "        Layer (type)               Output Shape         Param #\n",
      "================================================================\n",
      "            Conv2d-1            [-1, 8, 16, 16]             440\n",
      "              ReLU-2            [-1, 8, 16, 16]               0\n",
      "         MaxPool2d-3              [-1, 8, 8, 8]               0\n",
      "            Conv2d-4             [-1, 16, 8, 8]           1,168\n",
      "              ReLU-5             [-1, 16, 8, 8]               0\n",
      "         MaxPool2d-6             [-1, 16, 4, 4]               0\n",
      "            Linear-7                   [-1, 32]           8,224\n",
      "              ReLU-8                   [-1, 32]               0\n",
      "            Linear-9                   [-1, 32]           1,056\n",
      "             ReLU-10                   [-1, 32]               0\n",
      "           Linear-11                    [-1, 2]              66\n",
      "         Identity-12                    [-1, 2]               0\n",
      "================================================================\n",
      "Total params: 10,954\n",
      "Trainable params: 10,954\n",
      "Non-trainable params: 0\n",
      "----------------------------------------------------------------\n",
      "Input size (MB): 0.01\n",
      "Forward/backward pass size (MB): 0.05\n",
      "Params size (MB): 0.04\n",
      "Estimated Total Size (MB): 0.10\n",
      "----------------------------------------------------------------\n"
     ]
    }
   ],
   "source": [
    "model.cuda()\n",
    "summary(model, (6, 16, 16))"
   ]
  },
  {
   "cell_type": "code",
   "execution_count": null,
   "metadata": {},
   "outputs": [],
   "source": []
  }
 ],
 "metadata": {
  "kernelspec": {
   "display_name": "Python 3",
   "language": "python",
   "name": "python3"
  },
  "language_info": {
   "codemirror_mode": {
    "name": "ipython",
    "version": 3
   },
   "file_extension": ".py",
   "mimetype": "text/x-python",
   "name": "python",
   "nbconvert_exporter": "python",
   "pygments_lexer": "ipython3",
   "version": "3.6.7"
  }
 },
 "nbformat": 4,
 "nbformat_minor": 2
}
